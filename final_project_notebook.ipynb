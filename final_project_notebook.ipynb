{
 "cells": [
  {
   "cell_type": "markdown",
   "id": "032b5144",
   "metadata": {},
   "source": [
    "# Final project"
   ]
  },
  {
   "cell_type": "code",
   "execution_count": 1,
   "id": "2d7796bb",
   "metadata": {},
   "outputs": [
    {
     "data": {
      "text/html": [
       "        <script type=\"text/javascript\">\n",
       "        window.PlotlyConfig = {MathJaxConfig: 'local'};\n",
       "        if (window.MathJax && window.MathJax.Hub && window.MathJax.Hub.Config) {window.MathJax.Hub.Config({SVG: {font: \"STIX-Web\"}});}\n",
       "        </script>\n",
       "        <script type=\"module\">import \"https://cdn.plot.ly/plotly-3.0.1.min\"</script>\n",
       "        "
      ]
     },
     "metadata": {},
     "output_type": "display_data"
    }
   ],
   "source": [
    "import sqlite3 as sql\n",
    "import pandas as pd\n",
    "import plotly.express as px\n",
    "import numpy as np\n",
    "from scipy.stats import zscore\n",
    "import plotly.io as pio\n",
    "\n",
    "from plotly.offline import plot, iplot, init_notebook_mode\n",
    "init_notebook_mode(connected=True)"
   ]
  },
  {
   "cell_type": "markdown",
   "id": "e1d7fcc5",
   "metadata": {},
   "source": [
    "### Graph the number of accidents across time\n",
    "##### Get the data using sqlite3 module"
   ]
  },
  {
   "cell_type": "code",
   "execution_count": 2,
   "id": "fb55510a",
   "metadata": {},
   "outputs": [],
   "source": [
    "# get the data with sqlite\n",
    "con = sql.connect(\"switrs.sqlite\")\n",
    "cur = con.cursor()\n",
    "\n",
    "query1 = \"\"\"SELECT strftime('%Y-%m',collision_date) AS date, strftime('%Y', collision_date) as year, \n",
    "COUNT(collision_date) as count \n",
    "FROM collisions \n",
    "WHERE strftime('%Y', collision_date) != '2021' \n",
    "GROUP BY date \n",
    "ORDER BY date\"\"\"\n",
    "\n",
    "data = pd.read_sql(query1, con)"
   ]
  },
  {
   "cell_type": "markdown",
   "id": "3c58ba5a",
   "metadata": {},
   "source": [
    "##### Create the plot using plotly"
   ]
  },
  {
   "cell_type": "code",
   "execution_count": 3,
   "id": "29b5a0ef",
   "metadata": {},
   "outputs": [
    {
     "data": {
      "application/vnd.plotly.v1+json": {
       "config": {
        "plotlyServerURL": "https://plot.ly"
       },
       "data": [
        {
         "hovertemplate": "%{x|%b %Y}",
         "legendgroup": "",
         "line": {
          "color": "#636efa",
          "dash": "solid"
         },
         "marker": {
          "symbol": "circle"
         },
         "mode": "lines",
         "name": "",
         "orientation": "v",
         "showlegend": false,
         "type": "scatter",
         "x": [
          "2001-01",
          "2001-02",
          "2001-03",
          "2001-04",
          "2001-05",
          "2001-06",
          "2001-07",
          "2001-08",
          "2001-09",
          "2001-10",
          "2001-11",
          "2001-12",
          "2002-01",
          "2002-02",
          "2002-03",
          "2002-04",
          "2002-05",
          "2002-06",
          "2002-07",
          "2002-08",
          "2002-09",
          "2002-10",
          "2002-11",
          "2002-12",
          "2003-01",
          "2003-02",
          "2003-03",
          "2003-04",
          "2003-05",
          "2003-06",
          "2003-07",
          "2003-08",
          "2003-09",
          "2003-10",
          "2003-11",
          "2003-12",
          "2004-01",
          "2004-02",
          "2004-03",
          "2004-04",
          "2004-05",
          "2004-06",
          "2004-07",
          "2004-08",
          "2004-09",
          "2004-10",
          "2004-11",
          "2004-12",
          "2005-01",
          "2005-02",
          "2005-03",
          "2005-04",
          "2005-05",
          "2005-06",
          "2005-07",
          "2005-08",
          "2005-09",
          "2005-10",
          "2005-11",
          "2005-12",
          "2006-01",
          "2006-02",
          "2006-03",
          "2006-04",
          "2006-05",
          "2006-06",
          "2006-07",
          "2006-08",
          "2006-09",
          "2006-10",
          "2006-11",
          "2006-12",
          "2007-01",
          "2007-02",
          "2007-03",
          "2007-04",
          "2007-05",
          "2007-06",
          "2007-07",
          "2007-08",
          "2007-09",
          "2007-10",
          "2007-11",
          "2007-12",
          "2008-01",
          "2008-02",
          "2008-03",
          "2008-04",
          "2008-05",
          "2008-06",
          "2008-07",
          "2008-08",
          "2008-09",
          "2008-10",
          "2008-11",
          "2008-12",
          "2009-01",
          "2009-02",
          "2009-03",
          "2009-04",
          "2009-05",
          "2009-06",
          "2009-07",
          "2009-08",
          "2009-09",
          "2009-10",
          "2009-11",
          "2009-12",
          "2010-01",
          "2010-02",
          "2010-03",
          "2010-04",
          "2010-05",
          "2010-06",
          "2010-07",
          "2010-08",
          "2010-09",
          "2010-10",
          "2010-11",
          "2010-12",
          "2011-01",
          "2011-02",
          "2011-03",
          "2011-04",
          "2011-05",
          "2011-06",
          "2011-07",
          "2011-08",
          "2011-09",
          "2011-10",
          "2011-11",
          "2011-12",
          "2012-01",
          "2012-02",
          "2012-03",
          "2012-04",
          "2012-05",
          "2012-06",
          "2012-07",
          "2012-08",
          "2012-09",
          "2012-10",
          "2012-11",
          "2012-12",
          "2013-01",
          "2013-02",
          "2013-03",
          "2013-04",
          "2013-05",
          "2013-06",
          "2013-07",
          "2013-08",
          "2013-09",
          "2013-10",
          "2013-11",
          "2013-12",
          "2014-01",
          "2014-02",
          "2014-03",
          "2014-04",
          "2014-05",
          "2014-06",
          "2014-07",
          "2014-08",
          "2014-09",
          "2014-10",
          "2014-11",
          "2014-12",
          "2015-01",
          "2015-02",
          "2015-03",
          "2015-04",
          "2015-05",
          "2015-06",
          "2015-07",
          "2015-08",
          "2015-09",
          "2015-10",
          "2015-11",
          "2015-12",
          "2016-01",
          "2016-02",
          "2016-03",
          "2016-04",
          "2016-05",
          "2016-06",
          "2016-07",
          "2016-08",
          "2016-09",
          "2016-10",
          "2016-11",
          "2016-12",
          "2017-01",
          "2017-02",
          "2017-03",
          "2017-04",
          "2017-05",
          "2017-06",
          "2017-07",
          "2017-08",
          "2017-09",
          "2017-10",
          "2017-11",
          "2017-12",
          "2018-01",
          "2018-02",
          "2018-03",
          "2018-04",
          "2018-05",
          "2018-06",
          "2018-07",
          "2018-08",
          "2018-09",
          "2018-10",
          "2018-11",
          "2018-12",
          "2019-01",
          "2019-02",
          "2019-03",
          "2019-04",
          "2019-05",
          "2019-06",
          "2019-07",
          "2019-08",
          "2019-09",
          "2019-10",
          "2019-11",
          "2019-12",
          "2020-01",
          "2020-02",
          "2020-03",
          "2020-04",
          "2020-05",
          "2020-06",
          "2020-07",
          "2020-08",
          "2020-09",
          "2020-10",
          "2020-11",
          "2020-12"
         ],
         "xaxis": "x",
         "y": {
          "bdata": "16cAAGqfAABbpwAAgaQAAO6lAABdqQAATKIAAI6vAADGpAAAt7UAAEGzAABCtwAABaoAADafAACytAAAc6oAAIO3AADarQAABq8AADazAAB8tgAAeLoAANq1AAAeuQAAIKMAAEydAADLqgAA4KoAAOqxAADqqQAAYK8AAAazAAD3sQAAb8EAAP6zAACVvQAAuKcAAGSrAAAysQAAr6oAABSuAABWqAAAE7AAAHexAABOsgAAursAADWqAACJtwAAPKgAALGhAAD8sAAAIakAAAivAAC+qQAAHa0AAAmxAACNrAAARbYAAE6vAADfswAAa6gAAPigAABrsAAA558AACWnAADkpAAAWJ8AALpuAAAImwAA5bMAAPisAADprAAAM50AAFSYAAB2qwAAsZ8AACCkAAAtpAAA3KIAAGSoAADPpAAAVKwAAEygAADqogAA05oAAJ2VAABQmAAAXpIAAAiWAADYigAAq4kAAH6PAAAljgAABpkAAFyRAABFmgAA9ogAALCGAAAojwAAp4kAADSQAACahQAAWYkAAMyGAADjigAAy5MAAAKHAADcjAAAfIAAAK58AADbiwAAcIYAAC6IAABXggAAbYMAADyHAACNiAAAaJIAAISKAADOkAAA0XwAABJ9AAA8hwAAunoAAJyCAAAwfQAAdIEAAImGAAA+hgAAp48AAEGHAADlhwAANX8AAI17AABDiQAANH8AAFuDAAD5ewAA03sAAAqDAACGfgAARokAAOWCAABifgAAUncAAFdwAAACgQAAxnkAABqCAACIewAAI3oAACGAAADtfwAA/IUAAOJ+AAA+fAAAE3gAANR3AABbfwAA4XsAAJCDAABAewAAr3sAAPOFAADdiAAAL5MAAM2GAABfigAAhYIAACyBAAD7jQAA64oAABOLAAB+hgAAFYkAABWQAACsjQAAWaEAACaZAAAcoAAA8ZEAAGmVAACMowAADJwAALaeAACTmwAA4p0AAL+kAAAypQAAtq0AAF6jAABBpgAABpsAAB6NAADoowAAiJkAAEuhAAC1nAAAEZsAAGqgAABfnwAAG60AAIyiAAALngAAiJgAAHKRAAA6pQAAmZYAACicAADVmQAALpcAAJWgAAC8ngAAV6wAANehAACBmwAApZYAAAmPAAAjnAAAtZAAAIeYAAD0kQAAQZQAALagAABEnAAAT6YAAGaeAABfmgAAOIwAACiKAAAmcwAAEU4AAApiAABAawAA+HUAAKR9AAB8fQAArIgAAMd+AADleQAA",
          "dtype": "i4"
         },
         "yaxis": "y"
        }
       ],
       "layout": {
        "legend": {
         "tracegroupgap": 0
        },
        "template": {
         "data": {
          "bar": [
           {
            "error_x": {
             "color": "#2a3f5f"
            },
            "error_y": {
             "color": "#2a3f5f"
            },
            "marker": {
             "line": {
              "color": "#E5ECF6",
              "width": 0.5
             },
             "pattern": {
              "fillmode": "overlay",
              "size": 10,
              "solidity": 0.2
             }
            },
            "type": "bar"
           }
          ],
          "barpolar": [
           {
            "marker": {
             "line": {
              "color": "#E5ECF6",
              "width": 0.5
             },
             "pattern": {
              "fillmode": "overlay",
              "size": 10,
              "solidity": 0.2
             }
            },
            "type": "barpolar"
           }
          ],
          "carpet": [
           {
            "aaxis": {
             "endlinecolor": "#2a3f5f",
             "gridcolor": "white",
             "linecolor": "white",
             "minorgridcolor": "white",
             "startlinecolor": "#2a3f5f"
            },
            "baxis": {
             "endlinecolor": "#2a3f5f",
             "gridcolor": "white",
             "linecolor": "white",
             "minorgridcolor": "white",
             "startlinecolor": "#2a3f5f"
            },
            "type": "carpet"
           }
          ],
          "choropleth": [
           {
            "colorbar": {
             "outlinewidth": 0,
             "ticks": ""
            },
            "type": "choropleth"
           }
          ],
          "contour": [
           {
            "colorbar": {
             "outlinewidth": 0,
             "ticks": ""
            },
            "colorscale": [
             [
              0,
              "#0d0887"
             ],
             [
              0.1111111111111111,
              "#46039f"
             ],
             [
              0.2222222222222222,
              "#7201a8"
             ],
             [
              0.3333333333333333,
              "#9c179e"
             ],
             [
              0.4444444444444444,
              "#bd3786"
             ],
             [
              0.5555555555555556,
              "#d8576b"
             ],
             [
              0.6666666666666666,
              "#ed7953"
             ],
             [
              0.7777777777777778,
              "#fb9f3a"
             ],
             [
              0.8888888888888888,
              "#fdca26"
             ],
             [
              1,
              "#f0f921"
             ]
            ],
            "type": "contour"
           }
          ],
          "contourcarpet": [
           {
            "colorbar": {
             "outlinewidth": 0,
             "ticks": ""
            },
            "type": "contourcarpet"
           }
          ],
          "heatmap": [
           {
            "colorbar": {
             "outlinewidth": 0,
             "ticks": ""
            },
            "colorscale": [
             [
              0,
              "#0d0887"
             ],
             [
              0.1111111111111111,
              "#46039f"
             ],
             [
              0.2222222222222222,
              "#7201a8"
             ],
             [
              0.3333333333333333,
              "#9c179e"
             ],
             [
              0.4444444444444444,
              "#bd3786"
             ],
             [
              0.5555555555555556,
              "#d8576b"
             ],
             [
              0.6666666666666666,
              "#ed7953"
             ],
             [
              0.7777777777777778,
              "#fb9f3a"
             ],
             [
              0.8888888888888888,
              "#fdca26"
             ],
             [
              1,
              "#f0f921"
             ]
            ],
            "type": "heatmap"
           }
          ],
          "histogram": [
           {
            "marker": {
             "pattern": {
              "fillmode": "overlay",
              "size": 10,
              "solidity": 0.2
             }
            },
            "type": "histogram"
           }
          ],
          "histogram2d": [
           {
            "colorbar": {
             "outlinewidth": 0,
             "ticks": ""
            },
            "colorscale": [
             [
              0,
              "#0d0887"
             ],
             [
              0.1111111111111111,
              "#46039f"
             ],
             [
              0.2222222222222222,
              "#7201a8"
             ],
             [
              0.3333333333333333,
              "#9c179e"
             ],
             [
              0.4444444444444444,
              "#bd3786"
             ],
             [
              0.5555555555555556,
              "#d8576b"
             ],
             [
              0.6666666666666666,
              "#ed7953"
             ],
             [
              0.7777777777777778,
              "#fb9f3a"
             ],
             [
              0.8888888888888888,
              "#fdca26"
             ],
             [
              1,
              "#f0f921"
             ]
            ],
            "type": "histogram2d"
           }
          ],
          "histogram2dcontour": [
           {
            "colorbar": {
             "outlinewidth": 0,
             "ticks": ""
            },
            "colorscale": [
             [
              0,
              "#0d0887"
             ],
             [
              0.1111111111111111,
              "#46039f"
             ],
             [
              0.2222222222222222,
              "#7201a8"
             ],
             [
              0.3333333333333333,
              "#9c179e"
             ],
             [
              0.4444444444444444,
              "#bd3786"
             ],
             [
              0.5555555555555556,
              "#d8576b"
             ],
             [
              0.6666666666666666,
              "#ed7953"
             ],
             [
              0.7777777777777778,
              "#fb9f3a"
             ],
             [
              0.8888888888888888,
              "#fdca26"
             ],
             [
              1,
              "#f0f921"
             ]
            ],
            "type": "histogram2dcontour"
           }
          ],
          "mesh3d": [
           {
            "colorbar": {
             "outlinewidth": 0,
             "ticks": ""
            },
            "type": "mesh3d"
           }
          ],
          "parcoords": [
           {
            "line": {
             "colorbar": {
              "outlinewidth": 0,
              "ticks": ""
             }
            },
            "type": "parcoords"
           }
          ],
          "pie": [
           {
            "automargin": true,
            "type": "pie"
           }
          ],
          "scatter": [
           {
            "fillpattern": {
             "fillmode": "overlay",
             "size": 10,
             "solidity": 0.2
            },
            "type": "scatter"
           }
          ],
          "scatter3d": [
           {
            "line": {
             "colorbar": {
              "outlinewidth": 0,
              "ticks": ""
             }
            },
            "marker": {
             "colorbar": {
              "outlinewidth": 0,
              "ticks": ""
             }
            },
            "type": "scatter3d"
           }
          ],
          "scattercarpet": [
           {
            "marker": {
             "colorbar": {
              "outlinewidth": 0,
              "ticks": ""
             }
            },
            "type": "scattercarpet"
           }
          ],
          "scattergeo": [
           {
            "marker": {
             "colorbar": {
              "outlinewidth": 0,
              "ticks": ""
             }
            },
            "type": "scattergeo"
           }
          ],
          "scattergl": [
           {
            "marker": {
             "colorbar": {
              "outlinewidth": 0,
              "ticks": ""
             }
            },
            "type": "scattergl"
           }
          ],
          "scattermap": [
           {
            "marker": {
             "colorbar": {
              "outlinewidth": 0,
              "ticks": ""
             }
            },
            "type": "scattermap"
           }
          ],
          "scattermapbox": [
           {
            "marker": {
             "colorbar": {
              "outlinewidth": 0,
              "ticks": ""
             }
            },
            "type": "scattermapbox"
           }
          ],
          "scatterpolar": [
           {
            "marker": {
             "colorbar": {
              "outlinewidth": 0,
              "ticks": ""
             }
            },
            "type": "scatterpolar"
           }
          ],
          "scatterpolargl": [
           {
            "marker": {
             "colorbar": {
              "outlinewidth": 0,
              "ticks": ""
             }
            },
            "type": "scatterpolargl"
           }
          ],
          "scatterternary": [
           {
            "marker": {
             "colorbar": {
              "outlinewidth": 0,
              "ticks": ""
             }
            },
            "type": "scatterternary"
           }
          ],
          "surface": [
           {
            "colorbar": {
             "outlinewidth": 0,
             "ticks": ""
            },
            "colorscale": [
             [
              0,
              "#0d0887"
             ],
             [
              0.1111111111111111,
              "#46039f"
             ],
             [
              0.2222222222222222,
              "#7201a8"
             ],
             [
              0.3333333333333333,
              "#9c179e"
             ],
             [
              0.4444444444444444,
              "#bd3786"
             ],
             [
              0.5555555555555556,
              "#d8576b"
             ],
             [
              0.6666666666666666,
              "#ed7953"
             ],
             [
              0.7777777777777778,
              "#fb9f3a"
             ],
             [
              0.8888888888888888,
              "#fdca26"
             ],
             [
              1,
              "#f0f921"
             ]
            ],
            "type": "surface"
           }
          ],
          "table": [
           {
            "cells": {
             "fill": {
              "color": "#EBF0F8"
             },
             "line": {
              "color": "white"
             }
            },
            "header": {
             "fill": {
              "color": "#C8D4E3"
             },
             "line": {
              "color": "white"
             }
            },
            "type": "table"
           }
          ]
         },
         "layout": {
          "annotationdefaults": {
           "arrowcolor": "#2a3f5f",
           "arrowhead": 0,
           "arrowwidth": 1
          },
          "autotypenumbers": "strict",
          "coloraxis": {
           "colorbar": {
            "outlinewidth": 0,
            "ticks": ""
           }
          },
          "colorscale": {
           "diverging": [
            [
             0,
             "#8e0152"
            ],
            [
             0.1,
             "#c51b7d"
            ],
            [
             0.2,
             "#de77ae"
            ],
            [
             0.3,
             "#f1b6da"
            ],
            [
             0.4,
             "#fde0ef"
            ],
            [
             0.5,
             "#f7f7f7"
            ],
            [
             0.6,
             "#e6f5d0"
            ],
            [
             0.7,
             "#b8e186"
            ],
            [
             0.8,
             "#7fbc41"
            ],
            [
             0.9,
             "#4d9221"
            ],
            [
             1,
             "#276419"
            ]
           ],
           "sequential": [
            [
             0,
             "#0d0887"
            ],
            [
             0.1111111111111111,
             "#46039f"
            ],
            [
             0.2222222222222222,
             "#7201a8"
            ],
            [
             0.3333333333333333,
             "#9c179e"
            ],
            [
             0.4444444444444444,
             "#bd3786"
            ],
            [
             0.5555555555555556,
             "#d8576b"
            ],
            [
             0.6666666666666666,
             "#ed7953"
            ],
            [
             0.7777777777777778,
             "#fb9f3a"
            ],
            [
             0.8888888888888888,
             "#fdca26"
            ],
            [
             1,
             "#f0f921"
            ]
           ],
           "sequentialminus": [
            [
             0,
             "#0d0887"
            ],
            [
             0.1111111111111111,
             "#46039f"
            ],
            [
             0.2222222222222222,
             "#7201a8"
            ],
            [
             0.3333333333333333,
             "#9c179e"
            ],
            [
             0.4444444444444444,
             "#bd3786"
            ],
            [
             0.5555555555555556,
             "#d8576b"
            ],
            [
             0.6666666666666666,
             "#ed7953"
            ],
            [
             0.7777777777777778,
             "#fb9f3a"
            ],
            [
             0.8888888888888888,
             "#fdca26"
            ],
            [
             1,
             "#f0f921"
            ]
           ]
          },
          "colorway": [
           "#636efa",
           "#EF553B",
           "#00cc96",
           "#ab63fa",
           "#FFA15A",
           "#19d3f3",
           "#FF6692",
           "#B6E880",
           "#FF97FF",
           "#FECB52"
          ],
          "font": {
           "color": "#2a3f5f"
          },
          "geo": {
           "bgcolor": "white",
           "lakecolor": "white",
           "landcolor": "#E5ECF6",
           "showlakes": true,
           "showland": true,
           "subunitcolor": "white"
          },
          "hoverlabel": {
           "align": "left"
          },
          "hovermode": "closest",
          "mapbox": {
           "style": "light"
          },
          "paper_bgcolor": "white",
          "plot_bgcolor": "#E5ECF6",
          "polar": {
           "angularaxis": {
            "gridcolor": "white",
            "linecolor": "white",
            "ticks": ""
           },
           "bgcolor": "#E5ECF6",
           "radialaxis": {
            "gridcolor": "white",
            "linecolor": "white",
            "ticks": ""
           }
          },
          "scene": {
           "xaxis": {
            "backgroundcolor": "#E5ECF6",
            "gridcolor": "white",
            "gridwidth": 2,
            "linecolor": "white",
            "showbackground": true,
            "ticks": "",
            "zerolinecolor": "white"
           },
           "yaxis": {
            "backgroundcolor": "#E5ECF6",
            "gridcolor": "white",
            "gridwidth": 2,
            "linecolor": "white",
            "showbackground": true,
            "ticks": "",
            "zerolinecolor": "white"
           },
           "zaxis": {
            "backgroundcolor": "#E5ECF6",
            "gridcolor": "white",
            "gridwidth": 2,
            "linecolor": "white",
            "showbackground": true,
            "ticks": "",
            "zerolinecolor": "white"
           }
          },
          "shapedefaults": {
           "line": {
            "color": "#2a3f5f"
           }
          },
          "ternary": {
           "aaxis": {
            "gridcolor": "white",
            "linecolor": "white",
            "ticks": ""
           },
           "baxis": {
            "gridcolor": "white",
            "linecolor": "white",
            "ticks": ""
           },
           "bgcolor": "#E5ECF6",
           "caxis": {
            "gridcolor": "white",
            "linecolor": "white",
            "ticks": ""
           }
          },
          "title": {
           "x": 0.05
          },
          "xaxis": {
           "automargin": true,
           "gridcolor": "white",
           "linecolor": "white",
           "ticks": "",
           "title": {
            "standoff": 15
           },
           "zerolinecolor": "white",
           "zerolinewidth": 2
          },
          "yaxis": {
           "automargin": true,
           "gridcolor": "white",
           "linecolor": "white",
           "ticks": "",
           "title": {
            "standoff": 15
           },
           "zerolinecolor": "white",
           "zerolinewidth": 2
          }
         }
        },
        "title": {
         "text": "Accidents in California from 2001 to 2020"
        },
        "xaxis": {
         "anchor": "y",
         "domain": [
          0,
          1
         ],
         "rangeselector": {
          "buttons": [
           {
            "count": 6,
            "label": "6 months",
            "step": "month",
            "stepmode": "backward"
           },
           {
            "count": 1,
            "label": "1 year",
            "step": "year",
            "stepmode": "backward"
           },
           {
            "count": 5,
            "label": "5 years",
            "step": "year",
            "stepmode": "backward"
           },
           {
            "step": "all"
           }
          ]
         },
         "rangeslider": {
          "visible": true
         },
         "tickmode": "array",
         "ticktext": [
          "2001",
          "2002",
          "2003",
          "2004",
          "2005",
          "2006",
          "2007",
          "2008",
          "2009",
          "2010",
          "2011",
          "2012",
          "2013",
          "2014",
          "2015",
          "2016",
          "2017",
          "2018",
          "2019",
          "2020"
         ],
         "tickvals": [
          "2001-01",
          "2002-01",
          "2003-01",
          "2004-01",
          "2005-01",
          "2006-01",
          "2007-01",
          "2008-01",
          "2009-01",
          "2010-01",
          "2011-01",
          "2012-01",
          "2013-01",
          "2014-01",
          "2015-01",
          "2016-01",
          "2017-01",
          "2018-01",
          "2019-01",
          "2020-01"
         ],
         "title": {
          "text": "month and year of accident"
         }
        },
        "yaxis": {
         "anchor": "x",
         "domain": [
          0,
          1
         ],
         "title": {
          "text": "accident frequency"
         }
        }
       }
      }
     },
     "metadata": {},
     "output_type": "display_data"
    }
   ],
   "source": [
    "pio.renderers.default = 'plotly_mimetype'\n",
    "\n",
    "fig = px.line(data, x=\"date\", y =\"count\", title=\"Accidents in California from 2001 to 2020\",\n",
    "              labels={\n",
    "                  \"date\":\"month and year of accident\",\n",
    "                  \"count\":\"accident frequency\"\n",
    "              })\n",
    "fig.update_layout(xaxis=dict(tickmode=\"array\", tickvals=data['date'][::12], ticktext=data['year'][::12]))\n",
    "fig.update_traces(hovertemplate=\"%{x|%b %Y}\")\n",
    "fig.update_xaxes(\n",
    "    rangeslider_visible=True,\n",
    "    rangeselector=dict(\n",
    "        buttons=list([\n",
    "                      dict(count=6, step=\"month\", label=\"6 months\", stepmode=\"backward\"),\n",
    "                      dict(count=1, step=\"year\", label=\"1 year\", stepmode=\"backward\"),\n",
    "                      dict(count=5, step=\"year\", label=\"5 years\", stepmode=\"backward\"),\n",
    "                      dict(step=\"all\")\n",
    "                      \n",
    "                      ])\n",
    "    )\n",
    ")\n",
    "fig.show()"
   ]
  },
  {
   "cell_type": "markdown",
   "id": "aa20fa02",
   "metadata": {},
   "source": [
    "### Graph the frequency of collision severity\n",
    "##### Get the data using sqlite"
   ]
  },
  {
   "cell_type": "code",
   "execution_count": 4,
   "id": "a60c32ae",
   "metadata": {},
   "outputs": [
    {
     "data": {
      "text/html": [
       "<div>\n",
       "<style scoped>\n",
       "    .dataframe tbody tr th:only-of-type {\n",
       "        vertical-align: middle;\n",
       "    }\n",
       "\n",
       "    .dataframe tbody tr th {\n",
       "        vertical-align: top;\n",
       "    }\n",
       "\n",
       "    .dataframe thead th {\n",
       "        text-align: right;\n",
       "    }\n",
       "</style>\n",
       "<table border=\"1\" class=\"dataframe\">\n",
       "  <thead>\n",
       "    <tr style=\"text-align: right;\">\n",
       "      <th></th>\n",
       "      <th>year</th>\n",
       "      <th>collision_severity</th>\n",
       "      <th>severity_count</th>\n",
       "    </tr>\n",
       "  </thead>\n",
       "  <tbody>\n",
       "    <tr>\n",
       "      <th>0</th>\n",
       "      <td>2001</td>\n",
       "      <td>fatal</td>\n",
       "      <td>3517</td>\n",
       "    </tr>\n",
       "    <tr>\n",
       "      <th>1</th>\n",
       "      <td>2001</td>\n",
       "      <td>other injury</td>\n",
       "      <td>70052</td>\n",
       "    </tr>\n",
       "    <tr>\n",
       "      <th>2</th>\n",
       "      <td>2001</td>\n",
       "      <td>pain</td>\n",
       "      <td>120748</td>\n",
       "    </tr>\n",
       "    <tr>\n",
       "      <th>3</th>\n",
       "      <td>2001</td>\n",
       "      <td>property damage only</td>\n",
       "      <td>317567</td>\n",
       "    </tr>\n",
       "    <tr>\n",
       "      <th>4</th>\n",
       "      <td>2001</td>\n",
       "      <td>severe injury</td>\n",
       "      <td>10678</td>\n",
       "    </tr>\n",
       "    <tr>\n",
       "      <th>...</th>\n",
       "      <td>...</td>\n",
       "      <td>...</td>\n",
       "      <td>...</td>\n",
       "    </tr>\n",
       "    <tr>\n",
       "      <th>95</th>\n",
       "      <td>2020</td>\n",
       "      <td>fatal</td>\n",
       "      <td>3419</td>\n",
       "    </tr>\n",
       "    <tr>\n",
       "      <th>96</th>\n",
       "      <td>2020</td>\n",
       "      <td>other injury</td>\n",
       "      <td>48293</td>\n",
       "    </tr>\n",
       "    <tr>\n",
       "      <th>97</th>\n",
       "      <td>2020</td>\n",
       "      <td>pain</td>\n",
       "      <td>81694</td>\n",
       "    </tr>\n",
       "    <tr>\n",
       "      <th>98</th>\n",
       "      <td>2020</td>\n",
       "      <td>property damage only</td>\n",
       "      <td>219873</td>\n",
       "    </tr>\n",
       "    <tr>\n",
       "      <th>99</th>\n",
       "      <td>2020</td>\n",
       "      <td>severe injury</td>\n",
       "      <td>13138</td>\n",
       "    </tr>\n",
       "  </tbody>\n",
       "</table>\n",
       "<p>100 rows × 3 columns</p>\n",
       "</div>"
      ],
      "text/plain": [
       "    year    collision_severity  severity_count\n",
       "0   2001                 fatal            3517\n",
       "1   2001          other injury           70052\n",
       "2   2001                  pain          120748\n",
       "3   2001  property damage only          317567\n",
       "4   2001         severe injury           10678\n",
       "..   ...                   ...             ...\n",
       "95  2020                 fatal            3419\n",
       "96  2020          other injury           48293\n",
       "97  2020                  pain           81694\n",
       "98  2020  property damage only          219873\n",
       "99  2020         severe injury           13138\n",
       "\n",
       "[100 rows x 3 columns]"
      ]
     },
     "metadata": {},
     "output_type": "display_data"
    }
   ],
   "source": [
    "query2 = \"\"\"\n",
    "SELECT strftime('%Y', collision_date) as year, collision_severity, \n",
    "COUNT(collision_severity) as severity_count \n",
    "FROM collisions \n",
    "WHERE strftime('%Y',collision_date) != '2021' \n",
    "AND collision_severity != 'N' \n",
    "GROUP BY year, collision_severity\n",
    "\"\"\"\n",
    "\n",
    "data2 = pd.read_sql(query2,con)\n",
    "pd.options.display.max_rows=10\n",
    "display(data2)\n"
   ]
  },
  {
   "cell_type": "markdown",
   "id": "19347459",
   "metadata": {},
   "source": [
    "##### Create the histogram using plotly"
   ]
  },
  {
   "cell_type": "code",
   "execution_count": 5,
   "id": "9bab1b9f",
   "metadata": {},
   "outputs": [
    {
     "data": {
      "application/vnd.plotly.v1+json": {
       "config": {
        "plotlyServerURL": "https://plot.ly"
       },
       "data": [
        {
         "alignmentgroup": "True",
         "bingroup": "x",
         "histfunc": "sum",
         "hovertemplate": "Collision Severity=fatal<br>Year=%{x}<br>sum of Frequency=%{y}<extra></extra>",
         "legendgroup": "fatal",
         "marker": {
          "color": "#636efa",
          "pattern": {
           "shape": ""
          }
         },
         "name": "fatal",
         "offsetgroup": "fatal",
         "orientation": "v",
         "showlegend": true,
         "type": "histogram",
         "x": [
          "2001",
          "2002",
          "2003",
          "2004",
          "2005",
          "2006",
          "2007",
          "2008",
          "2009",
          "2010",
          "2011",
          "2012",
          "2013",
          "2014",
          "2015",
          "2016",
          "2017",
          "2018",
          "2019",
          "2020"
         ],
         "xaxis": "x",
         "y": {
          "bdata": "vQ1CDo4OdQ7uDh0O5Q0pDPUK2AlECsYKJQtCC2IM5g3+DZcNbQ1bDQ==",
          "dtype": "i2"
         },
         "yaxis": "y"
        },
        {
         "alignmentgroup": "True",
         "bingroup": "x",
         "histfunc": "sum",
         "hovertemplate": "Collision Severity=other injury<br>Year=%{x}<br>sum of Frequency=%{y}<extra></extra>",
         "legendgroup": "other injury",
         "marker": {
          "color": "#EF553B",
          "pattern": {
           "shape": ""
          }
         },
         "name": "other injury",
         "offsetgroup": "other injury",
         "orientation": "v",
         "showlegend": true,
         "type": "histogram",
         "x": [
          "2001",
          "2002",
          "2003",
          "2004",
          "2005",
          "2006",
          "2007",
          "2008",
          "2009",
          "2010",
          "2011",
          "2012",
          "2013",
          "2014",
          "2015",
          "2016",
          "2017",
          "2018",
          "2019",
          "2020"
         ],
         "xaxis": "x",
         "y": {
          "bdata": "pBEBAMcPAQAGDgEAogUBAPn+AABU5gAAauIAAJ7TAADUxgAAg8AAAMG9AACFwQAAy7sAAInDAADh0gAAb90AAHvkAABZ7wAA0OcAAKW8AAA=",
          "dtype": "i4"
         },
         "yaxis": "y"
        },
        {
         "alignmentgroup": "True",
         "bingroup": "x",
         "histfunc": "sum",
         "hovertemplate": "Collision Severity=pain<br>Year=%{x}<br>sum of Frequency=%{y}<extra></extra>",
         "legendgroup": "pain",
         "marker": {
          "color": "#00cc96",
          "pattern": {
           "shape": ""
          }
         },
         "name": "pain",
         "offsetgroup": "pain",
         "orientation": "v",
         "showlegend": true,
         "type": "histogram",
         "x": [
          "2001",
          "2002",
          "2003",
          "2004",
          "2005",
          "2006",
          "2007",
          "2008",
          "2009",
          "2010",
          "2011",
          "2012",
          "2013",
          "2014",
          "2015",
          "2016",
          "2017",
          "2018",
          "2019",
          "2020"
         ],
         "xaxis": "x",
         "y": {
          "bdata": "rNcBANvmAQCl5QEA+OgBAGreAQBuuAEAG8UBALCeAQBnkwEA3JEBAP2LAQCbiQEATYUBAPSSAQDXvgEA/vABAOHfAQBDyAEAULwBAB4/AQA=",
          "dtype": "i4"
         },
         "yaxis": "y"
        },
        {
         "alignmentgroup": "True",
         "bingroup": "x",
         "histfunc": "sum",
         "hovertemplate": "Collision Severity=property damage only<br>Year=%{x}<br>sum of Frequency=%{y}<extra></extra>",
         "legendgroup": "property damage only",
         "marker": {
          "color": "#ab63fa",
          "pattern": {
           "shape": ""
          }
         },
         "name": "property damage only",
         "offsetgroup": "property damage only",
         "orientation": "v",
         "showlegend": true,
         "type": "histogram",
         "x": [
          "2001",
          "2002",
          "2003",
          "2004",
          "2005",
          "2006",
          "2007",
          "2008",
          "2009",
          "2010",
          "2011",
          "2012",
          "2013",
          "2014",
          "2015",
          "2016",
          "2017",
          "2018",
          "2019",
          "2020"
         ],
         "xaxis": "x",
         "y": {
          "bdata": "f9gEAP0fBQAvDQUAyA0FANMJBQD1xgQADcgEAMpBBAA79wMAzNsDAN6wAwDnjwMATmsDANWRAwDc6AMAWHcEAAVqBAB6YAQA6kQEAOFaAwA=",
          "dtype": "i4"
         },
         "yaxis": "y"
        },
        {
         "alignmentgroup": "True",
         "bingroup": "x",
         "histfunc": "sum",
         "hovertemplate": "Collision Severity=severe injury<br>Year=%{x}<br>sum of Frequency=%{y}<extra></extra>",
         "legendgroup": "severe injury",
         "marker": {
          "color": "#FFA15A",
          "pattern": {
           "shape": ""
          }
         },
         "name": "severe injury",
         "offsetgroup": "severe injury",
         "orientation": "v",
         "showlegend": true,
         "type": "histogram",
         "x": [
          "2001",
          "2002",
          "2003",
          "2004",
          "2005",
          "2006",
          "2007",
          "2008",
          "2009",
          "2010",
          "2011",
          "2012",
          "2013",
          "2014",
          "2015",
          "2016",
          "2017",
          "2018",
          "2019",
          "2020"
         ],
         "xaxis": "x",
         "y": {
          "bdata": "tikEK+Ip4CvRKsooHSuyJ4kk5yLNI7Ak1SM5JaMouCzBL0o22TZSMw==",
          "dtype": "i2"
         },
         "yaxis": "y"
        }
       ],
       "layout": {
        "barmode": "group",
        "legend": {
         "title": {
          "text": "Collision Severity"
         },
         "tracegroupgap": 0
        },
        "template": {
         "data": {
          "bar": [
           {
            "error_x": {
             "color": "#2a3f5f"
            },
            "error_y": {
             "color": "#2a3f5f"
            },
            "marker": {
             "line": {
              "color": "#E5ECF6",
              "width": 0.5
             },
             "pattern": {
              "fillmode": "overlay",
              "size": 10,
              "solidity": 0.2
             }
            },
            "type": "bar"
           }
          ],
          "barpolar": [
           {
            "marker": {
             "line": {
              "color": "#E5ECF6",
              "width": 0.5
             },
             "pattern": {
              "fillmode": "overlay",
              "size": 10,
              "solidity": 0.2
             }
            },
            "type": "barpolar"
           }
          ],
          "carpet": [
           {
            "aaxis": {
             "endlinecolor": "#2a3f5f",
             "gridcolor": "white",
             "linecolor": "white",
             "minorgridcolor": "white",
             "startlinecolor": "#2a3f5f"
            },
            "baxis": {
             "endlinecolor": "#2a3f5f",
             "gridcolor": "white",
             "linecolor": "white",
             "minorgridcolor": "white",
             "startlinecolor": "#2a3f5f"
            },
            "type": "carpet"
           }
          ],
          "choropleth": [
           {
            "colorbar": {
             "outlinewidth": 0,
             "ticks": ""
            },
            "type": "choropleth"
           }
          ],
          "contour": [
           {
            "colorbar": {
             "outlinewidth": 0,
             "ticks": ""
            },
            "colorscale": [
             [
              0,
              "#0d0887"
             ],
             [
              0.1111111111111111,
              "#46039f"
             ],
             [
              0.2222222222222222,
              "#7201a8"
             ],
             [
              0.3333333333333333,
              "#9c179e"
             ],
             [
              0.4444444444444444,
              "#bd3786"
             ],
             [
              0.5555555555555556,
              "#d8576b"
             ],
             [
              0.6666666666666666,
              "#ed7953"
             ],
             [
              0.7777777777777778,
              "#fb9f3a"
             ],
             [
              0.8888888888888888,
              "#fdca26"
             ],
             [
              1,
              "#f0f921"
             ]
            ],
            "type": "contour"
           }
          ],
          "contourcarpet": [
           {
            "colorbar": {
             "outlinewidth": 0,
             "ticks": ""
            },
            "type": "contourcarpet"
           }
          ],
          "heatmap": [
           {
            "colorbar": {
             "outlinewidth": 0,
             "ticks": ""
            },
            "colorscale": [
             [
              0,
              "#0d0887"
             ],
             [
              0.1111111111111111,
              "#46039f"
             ],
             [
              0.2222222222222222,
              "#7201a8"
             ],
             [
              0.3333333333333333,
              "#9c179e"
             ],
             [
              0.4444444444444444,
              "#bd3786"
             ],
             [
              0.5555555555555556,
              "#d8576b"
             ],
             [
              0.6666666666666666,
              "#ed7953"
             ],
             [
              0.7777777777777778,
              "#fb9f3a"
             ],
             [
              0.8888888888888888,
              "#fdca26"
             ],
             [
              1,
              "#f0f921"
             ]
            ],
            "type": "heatmap"
           }
          ],
          "histogram": [
           {
            "marker": {
             "pattern": {
              "fillmode": "overlay",
              "size": 10,
              "solidity": 0.2
             }
            },
            "type": "histogram"
           }
          ],
          "histogram2d": [
           {
            "colorbar": {
             "outlinewidth": 0,
             "ticks": ""
            },
            "colorscale": [
             [
              0,
              "#0d0887"
             ],
             [
              0.1111111111111111,
              "#46039f"
             ],
             [
              0.2222222222222222,
              "#7201a8"
             ],
             [
              0.3333333333333333,
              "#9c179e"
             ],
             [
              0.4444444444444444,
              "#bd3786"
             ],
             [
              0.5555555555555556,
              "#d8576b"
             ],
             [
              0.6666666666666666,
              "#ed7953"
             ],
             [
              0.7777777777777778,
              "#fb9f3a"
             ],
             [
              0.8888888888888888,
              "#fdca26"
             ],
             [
              1,
              "#f0f921"
             ]
            ],
            "type": "histogram2d"
           }
          ],
          "histogram2dcontour": [
           {
            "colorbar": {
             "outlinewidth": 0,
             "ticks": ""
            },
            "colorscale": [
             [
              0,
              "#0d0887"
             ],
             [
              0.1111111111111111,
              "#46039f"
             ],
             [
              0.2222222222222222,
              "#7201a8"
             ],
             [
              0.3333333333333333,
              "#9c179e"
             ],
             [
              0.4444444444444444,
              "#bd3786"
             ],
             [
              0.5555555555555556,
              "#d8576b"
             ],
             [
              0.6666666666666666,
              "#ed7953"
             ],
             [
              0.7777777777777778,
              "#fb9f3a"
             ],
             [
              0.8888888888888888,
              "#fdca26"
             ],
             [
              1,
              "#f0f921"
             ]
            ],
            "type": "histogram2dcontour"
           }
          ],
          "mesh3d": [
           {
            "colorbar": {
             "outlinewidth": 0,
             "ticks": ""
            },
            "type": "mesh3d"
           }
          ],
          "parcoords": [
           {
            "line": {
             "colorbar": {
              "outlinewidth": 0,
              "ticks": ""
             }
            },
            "type": "parcoords"
           }
          ],
          "pie": [
           {
            "automargin": true,
            "type": "pie"
           }
          ],
          "scatter": [
           {
            "fillpattern": {
             "fillmode": "overlay",
             "size": 10,
             "solidity": 0.2
            },
            "type": "scatter"
           }
          ],
          "scatter3d": [
           {
            "line": {
             "colorbar": {
              "outlinewidth": 0,
              "ticks": ""
             }
            },
            "marker": {
             "colorbar": {
              "outlinewidth": 0,
              "ticks": ""
             }
            },
            "type": "scatter3d"
           }
          ],
          "scattercarpet": [
           {
            "marker": {
             "colorbar": {
              "outlinewidth": 0,
              "ticks": ""
             }
            },
            "type": "scattercarpet"
           }
          ],
          "scattergeo": [
           {
            "marker": {
             "colorbar": {
              "outlinewidth": 0,
              "ticks": ""
             }
            },
            "type": "scattergeo"
           }
          ],
          "scattergl": [
           {
            "marker": {
             "colorbar": {
              "outlinewidth": 0,
              "ticks": ""
             }
            },
            "type": "scattergl"
           }
          ],
          "scattermap": [
           {
            "marker": {
             "colorbar": {
              "outlinewidth": 0,
              "ticks": ""
             }
            },
            "type": "scattermap"
           }
          ],
          "scattermapbox": [
           {
            "marker": {
             "colorbar": {
              "outlinewidth": 0,
              "ticks": ""
             }
            },
            "type": "scattermapbox"
           }
          ],
          "scatterpolar": [
           {
            "marker": {
             "colorbar": {
              "outlinewidth": 0,
              "ticks": ""
             }
            },
            "type": "scatterpolar"
           }
          ],
          "scatterpolargl": [
           {
            "marker": {
             "colorbar": {
              "outlinewidth": 0,
              "ticks": ""
             }
            },
            "type": "scatterpolargl"
           }
          ],
          "scatterternary": [
           {
            "marker": {
             "colorbar": {
              "outlinewidth": 0,
              "ticks": ""
             }
            },
            "type": "scatterternary"
           }
          ],
          "surface": [
           {
            "colorbar": {
             "outlinewidth": 0,
             "ticks": ""
            },
            "colorscale": [
             [
              0,
              "#0d0887"
             ],
             [
              0.1111111111111111,
              "#46039f"
             ],
             [
              0.2222222222222222,
              "#7201a8"
             ],
             [
              0.3333333333333333,
              "#9c179e"
             ],
             [
              0.4444444444444444,
              "#bd3786"
             ],
             [
              0.5555555555555556,
              "#d8576b"
             ],
             [
              0.6666666666666666,
              "#ed7953"
             ],
             [
              0.7777777777777778,
              "#fb9f3a"
             ],
             [
              0.8888888888888888,
              "#fdca26"
             ],
             [
              1,
              "#f0f921"
             ]
            ],
            "type": "surface"
           }
          ],
          "table": [
           {
            "cells": {
             "fill": {
              "color": "#EBF0F8"
             },
             "line": {
              "color": "white"
             }
            },
            "header": {
             "fill": {
              "color": "#C8D4E3"
             },
             "line": {
              "color": "white"
             }
            },
            "type": "table"
           }
          ]
         },
         "layout": {
          "annotationdefaults": {
           "arrowcolor": "#2a3f5f",
           "arrowhead": 0,
           "arrowwidth": 1
          },
          "autotypenumbers": "strict",
          "coloraxis": {
           "colorbar": {
            "outlinewidth": 0,
            "ticks": ""
           }
          },
          "colorscale": {
           "diverging": [
            [
             0,
             "#8e0152"
            ],
            [
             0.1,
             "#c51b7d"
            ],
            [
             0.2,
             "#de77ae"
            ],
            [
             0.3,
             "#f1b6da"
            ],
            [
             0.4,
             "#fde0ef"
            ],
            [
             0.5,
             "#f7f7f7"
            ],
            [
             0.6,
             "#e6f5d0"
            ],
            [
             0.7,
             "#b8e186"
            ],
            [
             0.8,
             "#7fbc41"
            ],
            [
             0.9,
             "#4d9221"
            ],
            [
             1,
             "#276419"
            ]
           ],
           "sequential": [
            [
             0,
             "#0d0887"
            ],
            [
             0.1111111111111111,
             "#46039f"
            ],
            [
             0.2222222222222222,
             "#7201a8"
            ],
            [
             0.3333333333333333,
             "#9c179e"
            ],
            [
             0.4444444444444444,
             "#bd3786"
            ],
            [
             0.5555555555555556,
             "#d8576b"
            ],
            [
             0.6666666666666666,
             "#ed7953"
            ],
            [
             0.7777777777777778,
             "#fb9f3a"
            ],
            [
             0.8888888888888888,
             "#fdca26"
            ],
            [
             1,
             "#f0f921"
            ]
           ],
           "sequentialminus": [
            [
             0,
             "#0d0887"
            ],
            [
             0.1111111111111111,
             "#46039f"
            ],
            [
             0.2222222222222222,
             "#7201a8"
            ],
            [
             0.3333333333333333,
             "#9c179e"
            ],
            [
             0.4444444444444444,
             "#bd3786"
            ],
            [
             0.5555555555555556,
             "#d8576b"
            ],
            [
             0.6666666666666666,
             "#ed7953"
            ],
            [
             0.7777777777777778,
             "#fb9f3a"
            ],
            [
             0.8888888888888888,
             "#fdca26"
            ],
            [
             1,
             "#f0f921"
            ]
           ]
          },
          "colorway": [
           "#636efa",
           "#EF553B",
           "#00cc96",
           "#ab63fa",
           "#FFA15A",
           "#19d3f3",
           "#FF6692",
           "#B6E880",
           "#FF97FF",
           "#FECB52"
          ],
          "font": {
           "color": "#2a3f5f"
          },
          "geo": {
           "bgcolor": "white",
           "lakecolor": "white",
           "landcolor": "#E5ECF6",
           "showlakes": true,
           "showland": true,
           "subunitcolor": "white"
          },
          "hoverlabel": {
           "align": "left"
          },
          "hovermode": "closest",
          "mapbox": {
           "style": "light"
          },
          "paper_bgcolor": "white",
          "plot_bgcolor": "#E5ECF6",
          "polar": {
           "angularaxis": {
            "gridcolor": "white",
            "linecolor": "white",
            "ticks": ""
           },
           "bgcolor": "#E5ECF6",
           "radialaxis": {
            "gridcolor": "white",
            "linecolor": "white",
            "ticks": ""
           }
          },
          "scene": {
           "xaxis": {
            "backgroundcolor": "#E5ECF6",
            "gridcolor": "white",
            "gridwidth": 2,
            "linecolor": "white",
            "showbackground": true,
            "ticks": "",
            "zerolinecolor": "white"
           },
           "yaxis": {
            "backgroundcolor": "#E5ECF6",
            "gridcolor": "white",
            "gridwidth": 2,
            "linecolor": "white",
            "showbackground": true,
            "ticks": "",
            "zerolinecolor": "white"
           },
           "zaxis": {
            "backgroundcolor": "#E5ECF6",
            "gridcolor": "white",
            "gridwidth": 2,
            "linecolor": "white",
            "showbackground": true,
            "ticks": "",
            "zerolinecolor": "white"
           }
          },
          "shapedefaults": {
           "line": {
            "color": "#2a3f5f"
           }
          },
          "ternary": {
           "aaxis": {
            "gridcolor": "white",
            "linecolor": "white",
            "ticks": ""
           },
           "baxis": {
            "gridcolor": "white",
            "linecolor": "white",
            "ticks": ""
           },
           "bgcolor": "#E5ECF6",
           "caxis": {
            "gridcolor": "white",
            "linecolor": "white",
            "ticks": ""
           }
          },
          "title": {
           "x": 0.05
          },
          "xaxis": {
           "automargin": true,
           "gridcolor": "white",
           "linecolor": "white",
           "ticks": "",
           "title": {
            "standoff": 15
           },
           "zerolinecolor": "white",
           "zerolinewidth": 2
          },
          "yaxis": {
           "automargin": true,
           "gridcolor": "white",
           "linecolor": "white",
           "ticks": "",
           "title": {
            "standoff": 15
           },
           "zerolinecolor": "white",
           "zerolinewidth": 2
          }
         }
        },
        "title": {
         "text": "Severity of accidents from 2001 to 2020"
        },
        "xaxis": {
         "anchor": "y",
         "domain": [
          0,
          1
         ],
         "title": {
          "text": "Year"
         }
        },
        "yaxis": {
         "anchor": "x",
         "domain": [
          0,
          1
         ],
         "title": {
          "text": "sum of Frequency"
         }
        }
       }
      }
     },
     "metadata": {},
     "output_type": "display_data"
    }
   ],
   "source": [
    "\n",
    "pio.renderers.default = 'plotly_mimetype'\n",
    "\n",
    "fig2 = px.histogram(data2, x='year', y='severity_count', barmode=\"group\",\n",
    "              color='collision_severity', \n",
    "              title=\"Severity of accidents from 2001 to 2020\",\n",
    "              labels= {\n",
    "                  'year': 'Year',\n",
    "                  'severity_count': 'Frequency',\n",
    "                  'collision_severity': 'Collision Severity'\n",
    "              })\n",
    "fig2.show()"
   ]
  },
  {
   "cell_type": "markdown",
   "id": "d4683749",
   "metadata": {},
   "source": [
    "### Build neural network that predicts accident severity\n",
    "\n",
    "The next part of this assignment will be about building a neural network which can predict severity type.\n",
    "\n",
    "Features to include:\n",
    "- collision_time\n",
    "- day_of_week\n",
    "- chp_beat_type (location of crash)\n",
    "- distance (distance of the crash from the intersection with secondary road)\n",
    "- direction (of crash)\n",
    "- weather1\n",
    "- party_count (num of vehicle involved in crash)\n",
    "- primary_coll_factor\n",
    "- type_of_collision\n",
    "- motor_vehicle_involved_with\n",
    "- road_surface\n",
    "- road_cond_1\n",
    "- lighting\n",
    "- bicycle_accident\n",
    "- motorcycle_accident\n",
    "- truck_accident\n",
    "\n",
    "##### Get the data using sqlite\n"
   ]
  },
  {
   "cell_type": "code",
   "execution_count": 6,
   "id": "92601514",
   "metadata": {},
   "outputs": [
    {
     "data": {
      "text/html": [
       "<div>\n",
       "<style scoped>\n",
       "    .dataframe tbody tr th:only-of-type {\n",
       "        vertical-align: middle;\n",
       "    }\n",
       "\n",
       "    .dataframe tbody tr th {\n",
       "        vertical-align: top;\n",
       "    }\n",
       "\n",
       "    .dataframe thead th {\n",
       "        text-align: right;\n",
       "    }\n",
       "</style>\n",
       "<table border=\"1\" class=\"dataframe\">\n",
       "  <thead>\n",
       "    <tr style=\"text-align: right;\">\n",
       "      <th></th>\n",
       "      <th>collision_severity</th>\n",
       "      <th>collision_time</th>\n",
       "      <th>year</th>\n",
       "      <th>month</th>\n",
       "      <th>chp_beat_type</th>\n",
       "      <th>distance</th>\n",
       "      <th>weather_1</th>\n",
       "      <th>party_count</th>\n",
       "      <th>primary_collision_factor</th>\n",
       "      <th>type_of_collision</th>\n",
       "      <th>motor_vehicle_involved_with</th>\n",
       "      <th>road_surface</th>\n",
       "      <th>road_condition_1</th>\n",
       "      <th>lighting</th>\n",
       "      <th>bicycle_collision</th>\n",
       "      <th>motorcycle_collision</th>\n",
       "      <th>truck_collision</th>\n",
       "    </tr>\n",
       "  </thead>\n",
       "  <tbody>\n",
       "    <tr>\n",
       "      <th>0</th>\n",
       "      <td>property damage only</td>\n",
       "      <td>02:36:00</td>\n",
       "      <td>2015</td>\n",
       "      <td>02</td>\n",
       "      <td>not chp</td>\n",
       "      <td>50.0</td>\n",
       "      <td>clear</td>\n",
       "      <td>1</td>\n",
       "      <td>vehicle code violation</td>\n",
       "      <td>hit object</td>\n",
       "      <td>fixed object</td>\n",
       "      <td>dry</td>\n",
       "      <td>normal</td>\n",
       "      <td>dark with street lights</td>\n",
       "      <td>0</td>\n",
       "      <td>0</td>\n",
       "      <td>0</td>\n",
       "    </tr>\n",
       "    <tr>\n",
       "      <th>1</th>\n",
       "      <td>property damage only</td>\n",
       "      <td>13:10:00</td>\n",
       "      <td>2002</td>\n",
       "      <td>06</td>\n",
       "      <td>interstate</td>\n",
       "      <td>120.0</td>\n",
       "      <td>cloudy</td>\n",
       "      <td>2</td>\n",
       "      <td>vehicle code violation</td>\n",
       "      <td>sideswipe</td>\n",
       "      <td>other motor vehicle</td>\n",
       "      <td>dry</td>\n",
       "      <td>normal</td>\n",
       "      <td>daylight</td>\n",
       "      <td>0</td>\n",
       "      <td>0</td>\n",
       "      <td>0</td>\n",
       "    </tr>\n",
       "    <tr>\n",
       "      <th>2</th>\n",
       "      <td>pain</td>\n",
       "      <td>19:55:00</td>\n",
       "      <td>2018</td>\n",
       "      <td>06</td>\n",
       "      <td>county road area</td>\n",
       "      <td>500.0</td>\n",
       "      <td>clear</td>\n",
       "      <td>3</td>\n",
       "      <td>vehicle code violation</td>\n",
       "      <td>sideswipe</td>\n",
       "      <td>other motor vehicle</td>\n",
       "      <td>dry</td>\n",
       "      <td>normal</td>\n",
       "      <td>dark with street lights</td>\n",
       "      <td>0</td>\n",
       "      <td>0</td>\n",
       "      <td>0</td>\n",
       "    </tr>\n",
       "    <tr>\n",
       "      <th>3</th>\n",
       "      <td>other injury</td>\n",
       "      <td>16:25:00</td>\n",
       "      <td>2015</td>\n",
       "      <td>06</td>\n",
       "      <td>not chp</td>\n",
       "      <td>0.0</td>\n",
       "      <td>cloudy</td>\n",
       "      <td>2</td>\n",
       "      <td>vehicle code violation</td>\n",
       "      <td>broadside</td>\n",
       "      <td>other motor vehicle</td>\n",
       "      <td>dry</td>\n",
       "      <td>normal</td>\n",
       "      <td>daylight</td>\n",
       "      <td>0</td>\n",
       "      <td>0</td>\n",
       "      <td>0</td>\n",
       "    </tr>\n",
       "    <tr>\n",
       "      <th>4</th>\n",
       "      <td>property damage only</td>\n",
       "      <td>11:00:00</td>\n",
       "      <td>2011</td>\n",
       "      <td>07</td>\n",
       "      <td>not chp</td>\n",
       "      <td>85.0</td>\n",
       "      <td>clear</td>\n",
       "      <td>2</td>\n",
       "      <td>vehicle code violation</td>\n",
       "      <td>sideswipe</td>\n",
       "      <td>other motor vehicle</td>\n",
       "      <td>dry</td>\n",
       "      <td>normal</td>\n",
       "      <td>daylight</td>\n",
       "      <td>0</td>\n",
       "      <td>0</td>\n",
       "      <td>0</td>\n",
       "    </tr>\n",
       "    <tr>\n",
       "      <th>...</th>\n",
       "      <td>...</td>\n",
       "      <td>...</td>\n",
       "      <td>...</td>\n",
       "      <td>...</td>\n",
       "      <td>...</td>\n",
       "      <td>...</td>\n",
       "      <td>...</td>\n",
       "      <td>...</td>\n",
       "      <td>...</td>\n",
       "      <td>...</td>\n",
       "      <td>...</td>\n",
       "      <td>...</td>\n",
       "      <td>...</td>\n",
       "      <td>...</td>\n",
       "      <td>...</td>\n",
       "      <td>...</td>\n",
       "      <td>...</td>\n",
       "    </tr>\n",
       "    <tr>\n",
       "      <th>9995</th>\n",
       "      <td>property damage only</td>\n",
       "      <td>18:10:00</td>\n",
       "      <td>2007</td>\n",
       "      <td>07</td>\n",
       "      <td>not chp</td>\n",
       "      <td>15.0</td>\n",
       "      <td>clear</td>\n",
       "      <td>2</td>\n",
       "      <td>vehicle code violation</td>\n",
       "      <td>sideswipe</td>\n",
       "      <td>other motor vehicle</td>\n",
       "      <td>dry</td>\n",
       "      <td>normal</td>\n",
       "      <td>dusk or dawn</td>\n",
       "      <td>0</td>\n",
       "      <td>0</td>\n",
       "      <td>0</td>\n",
       "    </tr>\n",
       "    <tr>\n",
       "      <th>9996</th>\n",
       "      <td>property damage only</td>\n",
       "      <td>12:10:00</td>\n",
       "      <td>2014</td>\n",
       "      <td>12</td>\n",
       "      <td>state route</td>\n",
       "      <td>2600.0</td>\n",
       "      <td>clear</td>\n",
       "      <td>2</td>\n",
       "      <td>vehicle code violation</td>\n",
       "      <td>sideswipe</td>\n",
       "      <td>other motor vehicle</td>\n",
       "      <td>dry</td>\n",
       "      <td>normal</td>\n",
       "      <td>daylight</td>\n",
       "      <td>0</td>\n",
       "      <td>0</td>\n",
       "      <td>1</td>\n",
       "    </tr>\n",
       "    <tr>\n",
       "      <th>9997</th>\n",
       "      <td>pain</td>\n",
       "      <td>08:20:00</td>\n",
       "      <td>2004</td>\n",
       "      <td>12</td>\n",
       "      <td>not chp</td>\n",
       "      <td>141.0</td>\n",
       "      <td>clear</td>\n",
       "      <td>2</td>\n",
       "      <td>vehicle code violation</td>\n",
       "      <td>rear end</td>\n",
       "      <td>other motor vehicle</td>\n",
       "      <td>dry</td>\n",
       "      <td>normal</td>\n",
       "      <td>daylight</td>\n",
       "      <td>0</td>\n",
       "      <td>0</td>\n",
       "      <td>0</td>\n",
       "    </tr>\n",
       "    <tr>\n",
       "      <th>9998</th>\n",
       "      <td>pain</td>\n",
       "      <td>07:35:00</td>\n",
       "      <td>2004</td>\n",
       "      <td>01</td>\n",
       "      <td>county road line</td>\n",
       "      <td>53.0</td>\n",
       "      <td>clear</td>\n",
       "      <td>1</td>\n",
       "      <td>other than driver</td>\n",
       "      <td>hit object</td>\n",
       "      <td>fixed object</td>\n",
       "      <td>snowy</td>\n",
       "      <td>normal</td>\n",
       "      <td>daylight</td>\n",
       "      <td>0</td>\n",
       "      <td>0</td>\n",
       "      <td>0</td>\n",
       "    </tr>\n",
       "    <tr>\n",
       "      <th>9999</th>\n",
       "      <td>property damage only</td>\n",
       "      <td>20:50:00</td>\n",
       "      <td>2012</td>\n",
       "      <td>03</td>\n",
       "      <td>interstate</td>\n",
       "      <td>2640.0</td>\n",
       "      <td>cloudy</td>\n",
       "      <td>1</td>\n",
       "      <td>vehicle code violation</td>\n",
       "      <td>hit object</td>\n",
       "      <td>fixed object</td>\n",
       "      <td>wet</td>\n",
       "      <td>normal</td>\n",
       "      <td>dark with no street lights</td>\n",
       "      <td>0</td>\n",
       "      <td>0</td>\n",
       "      <td>0</td>\n",
       "    </tr>\n",
       "  </tbody>\n",
       "</table>\n",
       "<p>10000 rows × 17 columns</p>\n",
       "</div>"
      ],
      "text/plain": [
       "        collision_severity collision_time  year month     chp_beat_type  \\\n",
       "0     property damage only       02:36:00  2015    02           not chp   \n",
       "1     property damage only       13:10:00  2002    06        interstate   \n",
       "2                     pain       19:55:00  2018    06  county road area   \n",
       "3             other injury       16:25:00  2015    06           not chp   \n",
       "4     property damage only       11:00:00  2011    07           not chp   \n",
       "...                    ...            ...   ...   ...               ...   \n",
       "9995  property damage only       18:10:00  2007    07           not chp   \n",
       "9996  property damage only       12:10:00  2014    12       state route   \n",
       "9997                  pain       08:20:00  2004    12           not chp   \n",
       "9998                  pain       07:35:00  2004    01  county road line   \n",
       "9999  property damage only       20:50:00  2012    03        interstate   \n",
       "\n",
       "      distance weather_1  party_count primary_collision_factor  \\\n",
       "0         50.0     clear            1   vehicle code violation   \n",
       "1        120.0    cloudy            2   vehicle code violation   \n",
       "2        500.0     clear            3   vehicle code violation   \n",
       "3          0.0    cloudy            2   vehicle code violation   \n",
       "4         85.0     clear            2   vehicle code violation   \n",
       "...        ...       ...          ...                      ...   \n",
       "9995      15.0     clear            2   vehicle code violation   \n",
       "9996    2600.0     clear            2   vehicle code violation   \n",
       "9997     141.0     clear            2   vehicle code violation   \n",
       "9998      53.0     clear            1        other than driver   \n",
       "9999    2640.0    cloudy            1   vehicle code violation   \n",
       "\n",
       "     type_of_collision motor_vehicle_involved_with road_surface  \\\n",
       "0           hit object                fixed object          dry   \n",
       "1            sideswipe         other motor vehicle          dry   \n",
       "2            sideswipe         other motor vehicle          dry   \n",
       "3            broadside         other motor vehicle          dry   \n",
       "4            sideswipe         other motor vehicle          dry   \n",
       "...                ...                         ...          ...   \n",
       "9995         sideswipe         other motor vehicle          dry   \n",
       "9996         sideswipe         other motor vehicle          dry   \n",
       "9997          rear end         other motor vehicle          dry   \n",
       "9998        hit object                fixed object        snowy   \n",
       "9999        hit object                fixed object          wet   \n",
       "\n",
       "     road_condition_1                    lighting  bicycle_collision  \\\n",
       "0              normal     dark with street lights                  0   \n",
       "1              normal                    daylight                  0   \n",
       "2              normal     dark with street lights                  0   \n",
       "3              normal                    daylight                  0   \n",
       "4              normal                    daylight                  0   \n",
       "...               ...                         ...                ...   \n",
       "9995           normal                dusk or dawn                  0   \n",
       "9996           normal                    daylight                  0   \n",
       "9997           normal                    daylight                  0   \n",
       "9998           normal                    daylight                  0   \n",
       "9999           normal  dark with no street lights                  0   \n",
       "\n",
       "      motorcycle_collision  truck_collision  \n",
       "0                        0                0  \n",
       "1                        0                0  \n",
       "2                        0                0  \n",
       "3                        0                0  \n",
       "4                        0                0  \n",
       "...                    ...              ...  \n",
       "9995                     0                0  \n",
       "9996                     0                1  \n",
       "9997                     0                0  \n",
       "9998                     0                0  \n",
       "9999                     0                0  \n",
       "\n",
       "[10000 rows x 17 columns]"
      ]
     },
     "metadata": {},
     "output_type": "display_data"
    }
   ],
   "source": [
    "queryNN = \"\"\"\n",
    "SELECT collision_severity,\n",
    "collision_time,\n",
    "strftime('%Y', collision_date) as year,\n",
    "strftime('%m', collision_date)as month,\n",
    "chp_beat_type,\n",
    "distance,\n",
    "weather_1,\n",
    "party_count,\n",
    "primary_collision_factor,\n",
    "type_of_collision,\n",
    "motor_vehicle_involved_with,\n",
    "road_surface,\n",
    "road_condition_1,\n",
    "lighting,\n",
    "bicycle_collision,\n",
    "motorcycle_collision,\n",
    "truck_collision\n",
    "FROM collisions\n",
    "ORDER BY RANDOM()\n",
    "LIMIT 10000\n",
    "\"\"\"\n",
    "\n",
    "dataNN = pd.read_sql(queryNN,con)\n",
    "#dataNN_use = dataNN.sample(frac=1)\n",
    "display(dataNN)"
   ]
  },
  {
   "cell_type": "markdown",
   "id": "318882d7",
   "metadata": {},
   "source": [
    "##### Shuffle the data and pick the number of data points to use"
   ]
  },
  {
   "cell_type": "code",
   "execution_count": 7,
   "id": "7d2f8ecb",
   "metadata": {},
   "outputs": [],
   "source": [
    "# dataNN_use = dataNN.sample(frac=1, random_state=1)[:500]\n",
    "# display(dataNN_use)"
   ]
  },
  {
   "cell_type": "code",
   "execution_count": 8,
   "id": "c4c1177f",
   "metadata": {},
   "outputs": [],
   "source": [
    "# Clean the data\n",
    "# dataNN_use.isnull().sum()"
   ]
  },
  {
   "cell_type": "markdown",
   "id": "d14bd0cd",
   "metadata": {},
   "source": [
    "##### Get the hour of the day and transform to float"
   ]
  },
  {
   "cell_type": "code",
   "execution_count": 9,
   "id": "2b366965",
   "metadata": {},
   "outputs": [],
   "source": [
    "# get hour of day\n",
    "dataNN[\"collision_time\"] = dataNN[\"collision_time\"].str.split(\":\").str[0].astype(float)\n",
    "# dataNN_use[\"collision_time\"] = dataNN_use[\"collision_time\"].str.split(\":\").str[0].astype(float)\n",
    "#dataNN[\"collision_time\"][1][0:2]\n",
    "# make year "
   ]
  },
  {
   "cell_type": "code",
   "execution_count": 10,
   "id": "2b2db054",
   "metadata": {},
   "outputs": [
    {
     "name": "stdout",
     "output_type": "stream",
     "text": [
      "collision_severity       object\n",
      "collision_time          float64\n",
      "year                     object\n",
      "month                    object\n",
      "chp_beat_type            object\n",
      "                         ...   \n",
      "road_condition_1         object\n",
      "lighting                 object\n",
      "bicycle_collision         int64\n",
      "motorcycle_collision      int64\n",
      "truck_collision           int64\n",
      "Length: 17, dtype: object\n"
     ]
    }
   ],
   "source": [
    "\n",
    "print(dataNN.dtypes)\n",
    "pd.options.display.max_rows=20"
   ]
  },
  {
   "cell_type": "markdown",
   "id": "b4c43a65",
   "metadata": {},
   "source": [
    "##### One hot encode categorical variables"
   ]
  },
  {
   "cell_type": "code",
   "execution_count": 11,
   "id": "18ef7757",
   "metadata": {},
   "outputs": [
    {
     "data": {
      "text/html": [
       "<div>\n",
       "<style scoped>\n",
       "    .dataframe tbody tr th:only-of-type {\n",
       "        vertical-align: middle;\n",
       "    }\n",
       "\n",
       "    .dataframe tbody tr th {\n",
       "        vertical-align: top;\n",
       "    }\n",
       "\n",
       "    .dataframe thead th {\n",
       "        text-align: right;\n",
       "    }\n",
       "</style>\n",
       "<table border=\"1\" class=\"dataframe\">\n",
       "  <thead>\n",
       "    <tr style=\"text-align: right;\">\n",
       "      <th></th>\n",
       "      <th>year_2001</th>\n",
       "      <th>year_2002</th>\n",
       "      <th>year_2003</th>\n",
       "      <th>year_2004</th>\n",
       "      <th>year_2005</th>\n",
       "      <th>year_2006</th>\n",
       "      <th>year_2007</th>\n",
       "      <th>year_2008</th>\n",
       "      <th>year_2009</th>\n",
       "      <th>year_2010</th>\n",
       "      <th>...</th>\n",
       "      <th>road_condition_1_loose material</th>\n",
       "      <th>road_condition_1_normal</th>\n",
       "      <th>road_condition_1_obstruction</th>\n",
       "      <th>road_condition_1_other</th>\n",
       "      <th>road_condition_1_reduced width</th>\n",
       "      <th>lighting_dark with no street lights</th>\n",
       "      <th>lighting_dark with street lights</th>\n",
       "      <th>lighting_dark with street lights not functioning</th>\n",
       "      <th>lighting_daylight</th>\n",
       "      <th>lighting_dusk or dawn</th>\n",
       "    </tr>\n",
       "  </thead>\n",
       "  <tbody>\n",
       "    <tr>\n",
       "      <th>0</th>\n",
       "      <td>False</td>\n",
       "      <td>False</td>\n",
       "      <td>False</td>\n",
       "      <td>False</td>\n",
       "      <td>False</td>\n",
       "      <td>False</td>\n",
       "      <td>False</td>\n",
       "      <td>False</td>\n",
       "      <td>False</td>\n",
       "      <td>False</td>\n",
       "      <td>...</td>\n",
       "      <td>False</td>\n",
       "      <td>True</td>\n",
       "      <td>False</td>\n",
       "      <td>False</td>\n",
       "      <td>False</td>\n",
       "      <td>False</td>\n",
       "      <td>True</td>\n",
       "      <td>False</td>\n",
       "      <td>False</td>\n",
       "      <td>False</td>\n",
       "    </tr>\n",
       "    <tr>\n",
       "      <th>1</th>\n",
       "      <td>False</td>\n",
       "      <td>True</td>\n",
       "      <td>False</td>\n",
       "      <td>False</td>\n",
       "      <td>False</td>\n",
       "      <td>False</td>\n",
       "      <td>False</td>\n",
       "      <td>False</td>\n",
       "      <td>False</td>\n",
       "      <td>False</td>\n",
       "      <td>...</td>\n",
       "      <td>False</td>\n",
       "      <td>True</td>\n",
       "      <td>False</td>\n",
       "      <td>False</td>\n",
       "      <td>False</td>\n",
       "      <td>False</td>\n",
       "      <td>False</td>\n",
       "      <td>False</td>\n",
       "      <td>True</td>\n",
       "      <td>False</td>\n",
       "    </tr>\n",
       "    <tr>\n",
       "      <th>2</th>\n",
       "      <td>False</td>\n",
       "      <td>False</td>\n",
       "      <td>False</td>\n",
       "      <td>False</td>\n",
       "      <td>False</td>\n",
       "      <td>False</td>\n",
       "      <td>False</td>\n",
       "      <td>False</td>\n",
       "      <td>False</td>\n",
       "      <td>False</td>\n",
       "      <td>...</td>\n",
       "      <td>False</td>\n",
       "      <td>True</td>\n",
       "      <td>False</td>\n",
       "      <td>False</td>\n",
       "      <td>False</td>\n",
       "      <td>False</td>\n",
       "      <td>True</td>\n",
       "      <td>False</td>\n",
       "      <td>False</td>\n",
       "      <td>False</td>\n",
       "    </tr>\n",
       "    <tr>\n",
       "      <th>3</th>\n",
       "      <td>False</td>\n",
       "      <td>False</td>\n",
       "      <td>False</td>\n",
       "      <td>False</td>\n",
       "      <td>False</td>\n",
       "      <td>False</td>\n",
       "      <td>False</td>\n",
       "      <td>False</td>\n",
       "      <td>False</td>\n",
       "      <td>False</td>\n",
       "      <td>...</td>\n",
       "      <td>False</td>\n",
       "      <td>True</td>\n",
       "      <td>False</td>\n",
       "      <td>False</td>\n",
       "      <td>False</td>\n",
       "      <td>False</td>\n",
       "      <td>False</td>\n",
       "      <td>False</td>\n",
       "      <td>True</td>\n",
       "      <td>False</td>\n",
       "    </tr>\n",
       "    <tr>\n",
       "      <th>4</th>\n",
       "      <td>False</td>\n",
       "      <td>False</td>\n",
       "      <td>False</td>\n",
       "      <td>False</td>\n",
       "      <td>False</td>\n",
       "      <td>False</td>\n",
       "      <td>False</td>\n",
       "      <td>False</td>\n",
       "      <td>False</td>\n",
       "      <td>False</td>\n",
       "      <td>...</td>\n",
       "      <td>False</td>\n",
       "      <td>True</td>\n",
       "      <td>False</td>\n",
       "      <td>False</td>\n",
       "      <td>False</td>\n",
       "      <td>False</td>\n",
       "      <td>False</td>\n",
       "      <td>False</td>\n",
       "      <td>True</td>\n",
       "      <td>False</td>\n",
       "    </tr>\n",
       "    <tr>\n",
       "      <th>...</th>\n",
       "      <td>...</td>\n",
       "      <td>...</td>\n",
       "      <td>...</td>\n",
       "      <td>...</td>\n",
       "      <td>...</td>\n",
       "      <td>...</td>\n",
       "      <td>...</td>\n",
       "      <td>...</td>\n",
       "      <td>...</td>\n",
       "      <td>...</td>\n",
       "      <td>...</td>\n",
       "      <td>...</td>\n",
       "      <td>...</td>\n",
       "      <td>...</td>\n",
       "      <td>...</td>\n",
       "      <td>...</td>\n",
       "      <td>...</td>\n",
       "      <td>...</td>\n",
       "      <td>...</td>\n",
       "      <td>...</td>\n",
       "      <td>...</td>\n",
       "    </tr>\n",
       "    <tr>\n",
       "      <th>9995</th>\n",
       "      <td>False</td>\n",
       "      <td>False</td>\n",
       "      <td>False</td>\n",
       "      <td>False</td>\n",
       "      <td>False</td>\n",
       "      <td>False</td>\n",
       "      <td>True</td>\n",
       "      <td>False</td>\n",
       "      <td>False</td>\n",
       "      <td>False</td>\n",
       "      <td>...</td>\n",
       "      <td>False</td>\n",
       "      <td>True</td>\n",
       "      <td>False</td>\n",
       "      <td>False</td>\n",
       "      <td>False</td>\n",
       "      <td>False</td>\n",
       "      <td>False</td>\n",
       "      <td>False</td>\n",
       "      <td>False</td>\n",
       "      <td>True</td>\n",
       "    </tr>\n",
       "    <tr>\n",
       "      <th>9996</th>\n",
       "      <td>False</td>\n",
       "      <td>False</td>\n",
       "      <td>False</td>\n",
       "      <td>False</td>\n",
       "      <td>False</td>\n",
       "      <td>False</td>\n",
       "      <td>False</td>\n",
       "      <td>False</td>\n",
       "      <td>False</td>\n",
       "      <td>False</td>\n",
       "      <td>...</td>\n",
       "      <td>False</td>\n",
       "      <td>True</td>\n",
       "      <td>False</td>\n",
       "      <td>False</td>\n",
       "      <td>False</td>\n",
       "      <td>False</td>\n",
       "      <td>False</td>\n",
       "      <td>False</td>\n",
       "      <td>True</td>\n",
       "      <td>False</td>\n",
       "    </tr>\n",
       "    <tr>\n",
       "      <th>9997</th>\n",
       "      <td>False</td>\n",
       "      <td>False</td>\n",
       "      <td>False</td>\n",
       "      <td>True</td>\n",
       "      <td>False</td>\n",
       "      <td>False</td>\n",
       "      <td>False</td>\n",
       "      <td>False</td>\n",
       "      <td>False</td>\n",
       "      <td>False</td>\n",
       "      <td>...</td>\n",
       "      <td>False</td>\n",
       "      <td>True</td>\n",
       "      <td>False</td>\n",
       "      <td>False</td>\n",
       "      <td>False</td>\n",
       "      <td>False</td>\n",
       "      <td>False</td>\n",
       "      <td>False</td>\n",
       "      <td>True</td>\n",
       "      <td>False</td>\n",
       "    </tr>\n",
       "    <tr>\n",
       "      <th>9998</th>\n",
       "      <td>False</td>\n",
       "      <td>False</td>\n",
       "      <td>False</td>\n",
       "      <td>True</td>\n",
       "      <td>False</td>\n",
       "      <td>False</td>\n",
       "      <td>False</td>\n",
       "      <td>False</td>\n",
       "      <td>False</td>\n",
       "      <td>False</td>\n",
       "      <td>...</td>\n",
       "      <td>False</td>\n",
       "      <td>True</td>\n",
       "      <td>False</td>\n",
       "      <td>False</td>\n",
       "      <td>False</td>\n",
       "      <td>False</td>\n",
       "      <td>False</td>\n",
       "      <td>False</td>\n",
       "      <td>True</td>\n",
       "      <td>False</td>\n",
       "    </tr>\n",
       "    <tr>\n",
       "      <th>9999</th>\n",
       "      <td>False</td>\n",
       "      <td>False</td>\n",
       "      <td>False</td>\n",
       "      <td>False</td>\n",
       "      <td>False</td>\n",
       "      <td>False</td>\n",
       "      <td>False</td>\n",
       "      <td>False</td>\n",
       "      <td>False</td>\n",
       "      <td>False</td>\n",
       "      <td>...</td>\n",
       "      <td>False</td>\n",
       "      <td>True</td>\n",
       "      <td>False</td>\n",
       "      <td>False</td>\n",
       "      <td>False</td>\n",
       "      <td>True</td>\n",
       "      <td>False</td>\n",
       "      <td>False</td>\n",
       "      <td>False</td>\n",
       "      <td>False</td>\n",
       "    </tr>\n",
       "  </tbody>\n",
       "</table>\n",
       "<p>10000 rows × 89 columns</p>\n",
       "</div>"
      ],
      "text/plain": [
       "      year_2001  year_2002  year_2003  year_2004  year_2005  year_2006  \\\n",
       "0         False      False      False      False      False      False   \n",
       "1         False       True      False      False      False      False   \n",
       "2         False      False      False      False      False      False   \n",
       "3         False      False      False      False      False      False   \n",
       "4         False      False      False      False      False      False   \n",
       "...         ...        ...        ...        ...        ...        ...   \n",
       "9995      False      False      False      False      False      False   \n",
       "9996      False      False      False      False      False      False   \n",
       "9997      False      False      False       True      False      False   \n",
       "9998      False      False      False       True      False      False   \n",
       "9999      False      False      False      False      False      False   \n",
       "\n",
       "      year_2007  year_2008  year_2009  year_2010  ...  \\\n",
       "0         False      False      False      False  ...   \n",
       "1         False      False      False      False  ...   \n",
       "2         False      False      False      False  ...   \n",
       "3         False      False      False      False  ...   \n",
       "4         False      False      False      False  ...   \n",
       "...         ...        ...        ...        ...  ...   \n",
       "9995       True      False      False      False  ...   \n",
       "9996      False      False      False      False  ...   \n",
       "9997      False      False      False      False  ...   \n",
       "9998      False      False      False      False  ...   \n",
       "9999      False      False      False      False  ...   \n",
       "\n",
       "      road_condition_1_loose material  road_condition_1_normal  \\\n",
       "0                               False                     True   \n",
       "1                               False                     True   \n",
       "2                               False                     True   \n",
       "3                               False                     True   \n",
       "4                               False                     True   \n",
       "...                               ...                      ...   \n",
       "9995                            False                     True   \n",
       "9996                            False                     True   \n",
       "9997                            False                     True   \n",
       "9998                            False                     True   \n",
       "9999                            False                     True   \n",
       "\n",
       "      road_condition_1_obstruction  road_condition_1_other  \\\n",
       "0                            False                   False   \n",
       "1                            False                   False   \n",
       "2                            False                   False   \n",
       "3                            False                   False   \n",
       "4                            False                   False   \n",
       "...                            ...                     ...   \n",
       "9995                         False                   False   \n",
       "9996                         False                   False   \n",
       "9997                         False                   False   \n",
       "9998                         False                   False   \n",
       "9999                         False                   False   \n",
       "\n",
       "      road_condition_1_reduced width  lighting_dark with no street lights  \\\n",
       "0                              False                                False   \n",
       "1                              False                                False   \n",
       "2                              False                                False   \n",
       "3                              False                                False   \n",
       "4                              False                                False   \n",
       "...                              ...                                  ...   \n",
       "9995                           False                                False   \n",
       "9996                           False                                False   \n",
       "9997                           False                                False   \n",
       "9998                           False                                False   \n",
       "9999                           False                                 True   \n",
       "\n",
       "      lighting_dark with street lights  \\\n",
       "0                                 True   \n",
       "1                                False   \n",
       "2                                 True   \n",
       "3                                False   \n",
       "4                                False   \n",
       "...                                ...   \n",
       "9995                             False   \n",
       "9996                             False   \n",
       "9997                             False   \n",
       "9998                             False   \n",
       "9999                             False   \n",
       "\n",
       "      lighting_dark with street lights not functioning  lighting_daylight  \\\n",
       "0                                                False              False   \n",
       "1                                                False               True   \n",
       "2                                                False              False   \n",
       "3                                                False               True   \n",
       "4                                                False               True   \n",
       "...                                                ...                ...   \n",
       "9995                                             False              False   \n",
       "9996                                             False               True   \n",
       "9997                                             False               True   \n",
       "9998                                             False               True   \n",
       "9999                                             False              False   \n",
       "\n",
       "      lighting_dusk or dawn  \n",
       "0                     False  \n",
       "1                     False  \n",
       "2                     False  \n",
       "3                     False  \n",
       "4                     False  \n",
       "...                     ...  \n",
       "9995                   True  \n",
       "9996                  False  \n",
       "9997                  False  \n",
       "9998                  False  \n",
       "9999                  False  \n",
       "\n",
       "[10000 rows x 89 columns]"
      ]
     },
     "metadata": {},
     "output_type": "display_data"
    },
    {
     "data": {
      "text/html": [
       "<div>\n",
       "<style scoped>\n",
       "    .dataframe tbody tr th:only-of-type {\n",
       "        vertical-align: middle;\n",
       "    }\n",
       "\n",
       "    .dataframe tbody tr th {\n",
       "        vertical-align: top;\n",
       "    }\n",
       "\n",
       "    .dataframe thead th {\n",
       "        text-align: right;\n",
       "    }\n",
       "</style>\n",
       "<table border=\"1\" class=\"dataframe\">\n",
       "  <thead>\n",
       "    <tr style=\"text-align: right;\">\n",
       "      <th></th>\n",
       "      <th>fatal</th>\n",
       "      <th>other injury</th>\n",
       "      <th>pain</th>\n",
       "      <th>property damage only</th>\n",
       "      <th>severe injury</th>\n",
       "    </tr>\n",
       "  </thead>\n",
       "  <tbody>\n",
       "    <tr>\n",
       "      <th>0</th>\n",
       "      <td>False</td>\n",
       "      <td>False</td>\n",
       "      <td>False</td>\n",
       "      <td>True</td>\n",
       "      <td>False</td>\n",
       "    </tr>\n",
       "    <tr>\n",
       "      <th>1</th>\n",
       "      <td>False</td>\n",
       "      <td>False</td>\n",
       "      <td>False</td>\n",
       "      <td>True</td>\n",
       "      <td>False</td>\n",
       "    </tr>\n",
       "    <tr>\n",
       "      <th>2</th>\n",
       "      <td>False</td>\n",
       "      <td>False</td>\n",
       "      <td>True</td>\n",
       "      <td>False</td>\n",
       "      <td>False</td>\n",
       "    </tr>\n",
       "    <tr>\n",
       "      <th>3</th>\n",
       "      <td>False</td>\n",
       "      <td>True</td>\n",
       "      <td>False</td>\n",
       "      <td>False</td>\n",
       "      <td>False</td>\n",
       "    </tr>\n",
       "    <tr>\n",
       "      <th>4</th>\n",
       "      <td>False</td>\n",
       "      <td>False</td>\n",
       "      <td>False</td>\n",
       "      <td>True</td>\n",
       "      <td>False</td>\n",
       "    </tr>\n",
       "    <tr>\n",
       "      <th>...</th>\n",
       "      <td>...</td>\n",
       "      <td>...</td>\n",
       "      <td>...</td>\n",
       "      <td>...</td>\n",
       "      <td>...</td>\n",
       "    </tr>\n",
       "    <tr>\n",
       "      <th>9995</th>\n",
       "      <td>False</td>\n",
       "      <td>False</td>\n",
       "      <td>False</td>\n",
       "      <td>True</td>\n",
       "      <td>False</td>\n",
       "    </tr>\n",
       "    <tr>\n",
       "      <th>9996</th>\n",
       "      <td>False</td>\n",
       "      <td>False</td>\n",
       "      <td>False</td>\n",
       "      <td>True</td>\n",
       "      <td>False</td>\n",
       "    </tr>\n",
       "    <tr>\n",
       "      <th>9997</th>\n",
       "      <td>False</td>\n",
       "      <td>False</td>\n",
       "      <td>True</td>\n",
       "      <td>False</td>\n",
       "      <td>False</td>\n",
       "    </tr>\n",
       "    <tr>\n",
       "      <th>9998</th>\n",
       "      <td>False</td>\n",
       "      <td>False</td>\n",
       "      <td>True</td>\n",
       "      <td>False</td>\n",
       "      <td>False</td>\n",
       "    </tr>\n",
       "    <tr>\n",
       "      <th>9999</th>\n",
       "      <td>False</td>\n",
       "      <td>False</td>\n",
       "      <td>False</td>\n",
       "      <td>True</td>\n",
       "      <td>False</td>\n",
       "    </tr>\n",
       "  </tbody>\n",
       "</table>\n",
       "<p>10000 rows × 5 columns</p>\n",
       "</div>"
      ],
      "text/plain": [
       "      fatal  other injury   pain  property damage only  severe injury\n",
       "0     False         False  False                  True          False\n",
       "1     False         False  False                  True          False\n",
       "2     False         False   True                 False          False\n",
       "3     False          True  False                 False          False\n",
       "4     False         False  False                  True          False\n",
       "...     ...           ...    ...                   ...            ...\n",
       "9995  False         False  False                  True          False\n",
       "9996  False         False  False                  True          False\n",
       "9997  False         False   True                 False          False\n",
       "9998  False         False   True                 False          False\n",
       "9999  False         False  False                  True          False\n",
       "\n",
       "[10000 rows x 5 columns]"
      ]
     },
     "metadata": {},
     "output_type": "display_data"
    }
   ],
   "source": [
    "# one hot encode variables\n",
    "data_rows_encode = [\"year\",\"month\",\"chp_beat_type\", \"weather_1\",\"primary_collision_factor\", \n",
    "               \"type_of_collision\", \"motor_vehicle_involved_with\", \"road_surface\",\n",
    "               \"road_condition_1\",\"lighting\"]\n",
    "\n",
    "\n",
    "data_dummies = pd.get_dummies(dataNN[data_rows_encode])\n",
    "label_dummies = pd.get_dummies(dataNN[\"collision_severity\"])\n",
    "\n",
    "display(data_dummies)\n",
    "display(label_dummies)"
   ]
  },
  {
   "cell_type": "markdown",
   "id": "de9bf2af",
   "metadata": {},
   "source": [
    "##### Create df with data to use and transform into matrix"
   ]
  },
  {
   "cell_type": "code",
   "execution_count": 12,
   "id": "68801c89",
   "metadata": {},
   "outputs": [
    {
     "name": "stdout",
     "output_type": "stream",
     "text": [
      "(10000, 5)\n",
      "(10000, 95)\n"
     ]
    }
   ],
   "source": [
    "# frop rows that were one hot encoded and the labels and merge df with dummie variables\n",
    "final_data = dataNN.drop(data_rows_encode + [\"collision_severity\"],axis=1).merge(data_dummies,left_index=True, right_index=True)\n",
    "\n",
    "# fill na's for collision time with the mean\n",
    "final_data[\"collision_time\"] = final_data[\"collision_time\"].fillna(value=np.mean(final_data[\"collision_time\"]))\n",
    "\n",
    "# normalize the numeric variables (collision_time, distance, party_count)\n",
    "numerical = [\"collision_time\", \"distance\", \"party_count\"]\n",
    "final_data[numerical] = final_data[numerical].apply(zscore)\n",
    "\n",
    "#print(final_data[:10])\n",
    "\n",
    "# transform df to array\n",
    "data_array_NN = final_data.to_numpy()\n",
    "labels_array_NN = label_dummies.to_numpy()\n",
    "print(labels_array_NN.shape)\n",
    "print(data_array_NN.shape)"
   ]
  },
  {
   "cell_type": "markdown",
   "id": "5dbce099",
   "metadata": {},
   "source": [
    "##### Build neural network"
   ]
  },
  {
   "cell_type": "code",
   "execution_count": 13,
   "id": "49ff44e2",
   "metadata": {},
   "outputs": [
    {
     "name": "stdout",
     "output_type": "stream",
     "text": [
      "(7000, 95)\n"
     ]
    }
   ],
   "source": [
    "# get testing and training set\n",
    "from sklearn.model_selection import train_test_split\n",
    "data_array_NN = np.array(data_array_NN).astype(np.float32)\n",
    "labels_array_NN = np.array(labels_array_NN).astype(np.float32)\n",
    "X_train, X_test, y_train, y_test = train_test_split(data_array_NN, labels_array_NN, train_size=0.7)\n",
    "\n",
    "print(X_train.shape)"
   ]
  },
  {
   "cell_type": "code",
   "execution_count": 14,
   "id": "56e3d9f4",
   "metadata": {},
   "outputs": [],
   "source": [
    "from tensorflow import keras\n",
    "from tensorflow.keras import layers, models\n",
    "from keras import regularizers\n",
    "\n",
    "# def build_neural_net(input_size, hidden_nodes, num_classes):\n",
    "#     # Create a sequential model object\n",
    "#     model = models.Sequential()\n",
    "\n",
    "#     # Create the hidden layer with sigmoid activations\n",
    "#     model.add(layers.Dense(units=hidden_nodes, activation='sigmoid', input_shape=(input_size,)))\n",
    "    \n",
    "#     # Create the output layer with softmax activations\n",
    "#     model.add(layers.Dense(units=num_classes, activation='softmax'))\n",
    "    \n",
    "#     # Compile the network with the appropriate loss function and keep track of accuracy\n",
    "#     model.compile(loss='categorical_crossentropy', metrics=['accuracy'])\n",
    "    \n",
    "#     return model"
   ]
  },
  {
   "cell_type": "code",
   "execution_count": 15,
   "id": "b15b2279",
   "metadata": {},
   "outputs": [],
   "source": [
    "# model = build_neural_net(X_train.shape, 64, num_classes)\n",
    "\n",
    "# # Flat\n",
    "# x_train_flat = x_train.reshape(x_train.shape[0], image_size)\n",
    "# x_test_flat = x_test.reshape(x_test.shape[0], image_size)\n",
    "\n",
    "# # Train our model\n",
    "# history = model.fit(x_train_flat, y_train, batch_size=128, epochs=10, validation_split=.1)\n",
    "\n",
    "# # See how the model scored!\n",
    "# loss, accuracy  = model.evaluate(x_test_flat, y_test)\n",
    "\n",
    "# # Print to 3 decimals\n",
    "# print(f'Test loss: {loss:.3}')\n",
    "# print(f'Test accuracy: {accuracy:.3}')"
   ]
  },
  {
   "cell_type": "code",
   "execution_count": 16,
   "id": "33e3c81f",
   "metadata": {},
   "outputs": [
    {
     "name": "stdout",
     "output_type": "stream",
     "text": [
      "(7000, 95)\n"
     ]
    },
    {
     "name": "stderr",
     "output_type": "stream",
     "text": [
      "c:\\Users\\miade\\miniconda3\\envs\\SP\\Lib\\site-packages\\keras\\src\\layers\\core\\dense.py:93: UserWarning:\n",
      "\n",
      "Do not pass an `input_shape`/`input_dim` argument to a layer. When using Sequential models, prefer using an `Input(shape)` object as the first layer in the model instead.\n",
      "\n"
     ]
    },
    {
     "name": "stdout",
     "output_type": "stream",
     "text": [
      "Epoch 1/80\n",
      "\u001b[1m63/63\u001b[0m \u001b[32m━━━━━━━━━━━━━━━━━━━━\u001b[0m\u001b[37m\u001b[0m \u001b[1m2s\u001b[0m 9ms/step - accuracy: 0.3437 - loss: 6.2536 - val_accuracy: 0.6214 - val_loss: 5.2669\n",
      "Epoch 2/80\n",
      "\u001b[1m63/63\u001b[0m \u001b[32m━━━━━━━━━━━━━━━━━━━━\u001b[0m\u001b[37m\u001b[0m \u001b[1m0s\u001b[0m 5ms/step - accuracy: 0.5512 - loss: 5.1879 - val_accuracy: 0.6186 - val_loss: 4.6348\n",
      "Epoch 3/80\n",
      "\u001b[1m63/63\u001b[0m \u001b[32m━━━━━━━━━━━━━━━━━━━━\u001b[0m\u001b[37m\u001b[0m \u001b[1m0s\u001b[0m 5ms/step - accuracy: 0.5951 - loss: 4.5417 - val_accuracy: 0.6200 - val_loss: 4.1308\n",
      "Epoch 4/80\n",
      "\u001b[1m63/63\u001b[0m \u001b[32m━━━━━━━━━━━━━━━━━━━━\u001b[0m\u001b[37m\u001b[0m \u001b[1m0s\u001b[0m 5ms/step - accuracy: 0.6181 - loss: 4.0259 - val_accuracy: 0.6229 - val_loss: 3.7128\n",
      "Epoch 5/80\n",
      "\u001b[1m63/63\u001b[0m \u001b[32m━━━━━━━━━━━━━━━━━━━━\u001b[0m\u001b[37m\u001b[0m \u001b[1m0s\u001b[0m 4ms/step - accuracy: 0.6122 - loss: 3.6235 - val_accuracy: 0.6286 - val_loss: 3.3129\n",
      "Epoch 6/80\n",
      "\u001b[1m63/63\u001b[0m \u001b[32m━━━━━━━━━━━━━━━━━━━━\u001b[0m\u001b[37m\u001b[0m \u001b[1m0s\u001b[0m 5ms/step - accuracy: 0.6144 - loss: 3.2147 - val_accuracy: 0.6300 - val_loss: 2.9615\n",
      "Epoch 7/80\n",
      "\u001b[1m63/63\u001b[0m \u001b[32m━━━━━━━━━━━━━━━━━━━━\u001b[0m\u001b[37m\u001b[0m \u001b[1m0s\u001b[0m 4ms/step - accuracy: 0.6209 - loss: 2.8796 - val_accuracy: 0.6371 - val_loss: 2.6376\n",
      "Epoch 8/80\n",
      "\u001b[1m63/63\u001b[0m \u001b[32m━━━━━━━━━━━━━━━━━━━━\u001b[0m\u001b[37m\u001b[0m \u001b[1m0s\u001b[0m 5ms/step - accuracy: 0.6310 - loss: 2.5691 - val_accuracy: 0.6414 - val_loss: 2.3600\n",
      "Epoch 9/80\n",
      "\u001b[1m63/63\u001b[0m \u001b[32m━━━━━━━━━━━━━━━━━━━━\u001b[0m\u001b[37m\u001b[0m \u001b[1m0s\u001b[0m 5ms/step - accuracy: 0.6174 - loss: 2.3181 - val_accuracy: 0.6500 - val_loss: 2.1138\n",
      "Epoch 10/80\n",
      "\u001b[1m63/63\u001b[0m \u001b[32m━━━━━━━━━━━━━━━━━━━━\u001b[0m\u001b[37m\u001b[0m \u001b[1m0s\u001b[0m 5ms/step - accuracy: 0.6215 - loss: 2.0873 - val_accuracy: 0.6443 - val_loss: 1.9482\n",
      "Epoch 11/80\n",
      "\u001b[1m63/63\u001b[0m \u001b[32m━━━━━━━━━━━━━━━━━━━━\u001b[0m\u001b[37m\u001b[0m \u001b[1m0s\u001b[0m 5ms/step - accuracy: 0.6112 - loss: 1.9308 - val_accuracy: 0.6371 - val_loss: 1.7785\n",
      "Epoch 12/80\n",
      "\u001b[1m63/63\u001b[0m \u001b[32m━━━━━━━━━━━━━━━━━━━━\u001b[0m\u001b[37m\u001b[0m \u001b[1m0s\u001b[0m 5ms/step - accuracy: 0.6135 - loss: 1.7764 - val_accuracy: 0.6357 - val_loss: 1.6582\n",
      "Epoch 13/80\n",
      "\u001b[1m63/63\u001b[0m \u001b[32m━━━━━━━━━━━━━━━━━━━━\u001b[0m\u001b[37m\u001b[0m \u001b[1m0s\u001b[0m 5ms/step - accuracy: 0.6074 - loss: 1.6425 - val_accuracy: 0.6371 - val_loss: 1.5476\n",
      "Epoch 14/80\n",
      "\u001b[1m63/63\u001b[0m \u001b[32m━━━━━━━━━━━━━━━━━━━━\u001b[0m\u001b[37m\u001b[0m \u001b[1m0s\u001b[0m 5ms/step - accuracy: 0.6020 - loss: 1.5652 - val_accuracy: 0.6329 - val_loss: 1.4651\n",
      "Epoch 15/80\n",
      "\u001b[1m63/63\u001b[0m \u001b[32m━━━━━━━━━━━━━━━━━━━━\u001b[0m\u001b[37m\u001b[0m \u001b[1m0s\u001b[0m 5ms/step - accuracy: 0.6211 - loss: 1.4512 - val_accuracy: 0.6371 - val_loss: 1.3899\n",
      "Epoch 16/80\n",
      "\u001b[1m63/63\u001b[0m \u001b[32m━━━━━━━━━━━━━━━━━━━━\u001b[0m\u001b[37m\u001b[0m \u001b[1m0s\u001b[0m 5ms/step - accuracy: 0.6336 - loss: 1.3811 - val_accuracy: 0.6357 - val_loss: 1.3361\n",
      "Epoch 17/80\n",
      "\u001b[1m63/63\u001b[0m \u001b[32m━━━━━━━━━━━━━━━━━━━━\u001b[0m\u001b[37m\u001b[0m \u001b[1m0s\u001b[0m 5ms/step - accuracy: 0.6169 - loss: 1.3325 - val_accuracy: 0.6343 - val_loss: 1.3009\n",
      "Epoch 18/80\n",
      "\u001b[1m63/63\u001b[0m \u001b[32m━━━━━━━━━━━━━━━━━━━━\u001b[0m\u001b[37m\u001b[0m \u001b[1m0s\u001b[0m 5ms/step - accuracy: 0.6162 - loss: 1.3063 - val_accuracy: 0.6243 - val_loss: 1.3000\n",
      "Epoch 19/80\n",
      "\u001b[1m63/63\u001b[0m \u001b[32m━━━━━━━━━━━━━━━━━━━━\u001b[0m\u001b[37m\u001b[0m \u001b[1m0s\u001b[0m 5ms/step - accuracy: 0.6175 - loss: 1.2863 - val_accuracy: 0.6314 - val_loss: 1.2481\n",
      "Epoch 20/80\n",
      "\u001b[1m63/63\u001b[0m \u001b[32m━━━━━━━━━━━━━━━━━━━━\u001b[0m\u001b[37m\u001b[0m \u001b[1m0s\u001b[0m 5ms/step - accuracy: 0.6142 - loss: 1.2581 - val_accuracy: 0.6329 - val_loss: 1.2446\n",
      "Epoch 21/80\n",
      "\u001b[1m63/63\u001b[0m \u001b[32m━━━━━━━━━━━━━━━━━━━━\u001b[0m\u001b[37m\u001b[0m \u001b[1m0s\u001b[0m 5ms/step - accuracy: 0.6258 - loss: 1.2316 - val_accuracy: 0.6371 - val_loss: 1.1791\n",
      "Epoch 22/80\n",
      "\u001b[1m63/63\u001b[0m \u001b[32m━━━━━━━━━━━━━━━━━━━━\u001b[0m\u001b[37m\u001b[0m \u001b[1m0s\u001b[0m 4ms/step - accuracy: 0.6309 - loss: 1.1858 - val_accuracy: 0.6314 - val_loss: 1.2152\n",
      "Epoch 23/80\n",
      "\u001b[1m63/63\u001b[0m \u001b[32m━━━━━━━━━━━━━━━━━━━━\u001b[0m\u001b[37m\u001b[0m \u001b[1m0s\u001b[0m 5ms/step - accuracy: 0.6267 - loss: 1.1718 - val_accuracy: 0.6271 - val_loss: 1.1694\n",
      "Epoch 24/80\n",
      "\u001b[1m63/63\u001b[0m \u001b[32m━━━━━━━━━━━━━━━━━━━━\u001b[0m\u001b[37m\u001b[0m \u001b[1m0s\u001b[0m 4ms/step - accuracy: 0.6277 - loss: 1.1594 - val_accuracy: 0.6400 - val_loss: 1.1687\n",
      "Epoch 25/80\n",
      "\u001b[1m63/63\u001b[0m \u001b[32m━━━━━━━━━━━━━━━━━━━━\u001b[0m\u001b[37m\u001b[0m \u001b[1m0s\u001b[0m 5ms/step - accuracy: 0.6301 - loss: 1.1409 - val_accuracy: 0.6471 - val_loss: 1.1789\n",
      "Epoch 26/80\n",
      "\u001b[1m63/63\u001b[0m \u001b[32m━━━━━━━━━━━━━━━━━━━━\u001b[0m\u001b[37m\u001b[0m \u001b[1m0s\u001b[0m 5ms/step - accuracy: 0.6214 - loss: 1.1595 - val_accuracy: 0.6329 - val_loss: 1.1303\n",
      "Epoch 27/80\n",
      "\u001b[1m63/63\u001b[0m \u001b[32m━━━━━━━━━━━━━━━━━━━━\u001b[0m\u001b[37m\u001b[0m \u001b[1m0s\u001b[0m 5ms/step - accuracy: 0.6055 - loss: 1.1502 - val_accuracy: 0.6400 - val_loss: 1.1291\n",
      "Epoch 28/80\n",
      "\u001b[1m63/63\u001b[0m \u001b[32m━━━━━━━━━━━━━━━━━━━━\u001b[0m\u001b[37m\u001b[0m \u001b[1m0s\u001b[0m 4ms/step - accuracy: 0.6211 - loss: 1.1407 - val_accuracy: 0.6386 - val_loss: 1.1345\n",
      "Epoch 29/80\n",
      "\u001b[1m63/63\u001b[0m \u001b[32m━━━━━━━━━━━━━━━━━━━━\u001b[0m\u001b[37m\u001b[0m \u001b[1m0s\u001b[0m 5ms/step - accuracy: 0.6236 - loss: 1.1301 - val_accuracy: 0.6329 - val_loss: 1.0926\n",
      "Epoch 30/80\n",
      "\u001b[1m63/63\u001b[0m \u001b[32m━━━━━━━━━━━━━━━━━━━━\u001b[0m\u001b[37m\u001b[0m \u001b[1m0s\u001b[0m 5ms/step - accuracy: 0.6221 - loss: 1.1162 - val_accuracy: 0.6357 - val_loss: 1.1231\n",
      "Epoch 31/80\n",
      "\u001b[1m63/63\u001b[0m \u001b[32m━━━━━━━━━━━━━━━━━━━━\u001b[0m\u001b[37m\u001b[0m \u001b[1m0s\u001b[0m 5ms/step - accuracy: 0.6148 - loss: 1.1274 - val_accuracy: 0.6300 - val_loss: 1.1316\n",
      "Epoch 32/80\n",
      "\u001b[1m63/63\u001b[0m \u001b[32m━━━━━━━━━━━━━━━━━━━━\u001b[0m\u001b[37m\u001b[0m \u001b[1m0s\u001b[0m 4ms/step - accuracy: 0.6320 - loss: 1.0874 - val_accuracy: 0.6300 - val_loss: 1.0972\n",
      "Epoch 33/80\n",
      "\u001b[1m63/63\u001b[0m \u001b[32m━━━━━━━━━━━━━━━━━━━━\u001b[0m\u001b[37m\u001b[0m \u001b[1m0s\u001b[0m 5ms/step - accuracy: 0.6196 - loss: 1.0947 - val_accuracy: 0.6400 - val_loss: 1.1104\n",
      "Epoch 34/80\n",
      "\u001b[1m63/63\u001b[0m \u001b[32m━━━━━━━━━━━━━━━━━━━━\u001b[0m\u001b[37m\u001b[0m \u001b[1m0s\u001b[0m 5ms/step - accuracy: 0.6350 - loss: 1.0759 - val_accuracy: 0.6243 - val_loss: 1.0911\n",
      "Epoch 35/80\n",
      "\u001b[1m63/63\u001b[0m \u001b[32m━━━━━━━━━━━━━━━━━━━━\u001b[0m\u001b[37m\u001b[0m \u001b[1m0s\u001b[0m 5ms/step - accuracy: 0.6260 - loss: 1.0841 - val_accuracy: 0.6157 - val_loss: 1.0687\n",
      "Epoch 36/80\n",
      "\u001b[1m63/63\u001b[0m \u001b[32m━━━━━━━━━━━━━━━━━━━━\u001b[0m\u001b[37m\u001b[0m \u001b[1m0s\u001b[0m 5ms/step - accuracy: 0.6284 - loss: 1.0560 - val_accuracy: 0.6414 - val_loss: 1.0757\n",
      "Epoch 37/80\n",
      "\u001b[1m63/63\u001b[0m \u001b[32m━━━━━━━━━━━━━━━━━━━━\u001b[0m\u001b[37m\u001b[0m \u001b[1m0s\u001b[0m 4ms/step - accuracy: 0.6317 - loss: 1.0598 - val_accuracy: 0.6371 - val_loss: 1.0656\n",
      "Epoch 38/80\n",
      "\u001b[1m63/63\u001b[0m \u001b[32m━━━━━━━━━━━━━━━━━━━━\u001b[0m\u001b[37m\u001b[0m \u001b[1m0s\u001b[0m 4ms/step - accuracy: 0.6346 - loss: 1.0427 - val_accuracy: 0.6386 - val_loss: 1.0568\n",
      "Epoch 39/80\n",
      "\u001b[1m63/63\u001b[0m \u001b[32m━━━━━━━━━━━━━━━━━━━━\u001b[0m\u001b[37m\u001b[0m \u001b[1m0s\u001b[0m 5ms/step - accuracy: 0.6335 - loss: 1.0315 - val_accuracy: 0.6443 - val_loss: 1.0733\n",
      "Epoch 40/80\n",
      "\u001b[1m63/63\u001b[0m \u001b[32m━━━━━━━━━━━━━━━━━━━━\u001b[0m\u001b[37m\u001b[0m \u001b[1m0s\u001b[0m 5ms/step - accuracy: 0.6250 - loss: 1.0430 - val_accuracy: 0.6400 - val_loss: 1.0577\n",
      "Epoch 41/80\n",
      "\u001b[1m63/63\u001b[0m \u001b[32m━━━━━━━━━━━━━━━━━━━━\u001b[0m\u001b[37m\u001b[0m \u001b[1m0s\u001b[0m 5ms/step - accuracy: 0.6308 - loss: 1.0293 - val_accuracy: 0.6486 - val_loss: 1.0313\n",
      "Epoch 42/80\n",
      "\u001b[1m63/63\u001b[0m \u001b[32m━━━━━━━━━━━━━━━━━━━━\u001b[0m\u001b[37m\u001b[0m \u001b[1m0s\u001b[0m 5ms/step - accuracy: 0.6316 - loss: 1.0236 - val_accuracy: 0.6500 - val_loss: 1.0462\n",
      "Epoch 43/80\n",
      "\u001b[1m63/63\u001b[0m \u001b[32m━━━━━━━━━━━━━━━━━━━━\u001b[0m\u001b[37m\u001b[0m \u001b[1m0s\u001b[0m 5ms/step - accuracy: 0.6369 - loss: 1.0073 - val_accuracy: 0.6357 - val_loss: 1.0275\n",
      "Epoch 44/80\n",
      "\u001b[1m63/63\u001b[0m \u001b[32m━━━━━━━━━━━━━━━━━━━━\u001b[0m\u001b[37m\u001b[0m \u001b[1m0s\u001b[0m 5ms/step - accuracy: 0.6424 - loss: 1.0146 - val_accuracy: 0.6357 - val_loss: 1.0332\n",
      "Epoch 45/80\n",
      "\u001b[1m63/63\u001b[0m \u001b[32m━━━━━━━━━━━━━━━━━━━━\u001b[0m\u001b[37m\u001b[0m \u001b[1m0s\u001b[0m 4ms/step - accuracy: 0.6414 - loss: 0.9960 - val_accuracy: 0.6343 - val_loss: 1.0335\n",
      "Epoch 46/80\n",
      "\u001b[1m63/63\u001b[0m \u001b[32m━━━━━━━━━━━━━━━━━━━━\u001b[0m\u001b[37m\u001b[0m \u001b[1m0s\u001b[0m 4ms/step - accuracy: 0.6300 - loss: 1.0071 - val_accuracy: 0.6243 - val_loss: 1.0353\n",
      "Epoch 47/80\n",
      "\u001b[1m63/63\u001b[0m \u001b[32m━━━━━━━━━━━━━━━━━━━━\u001b[0m\u001b[37m\u001b[0m \u001b[1m0s\u001b[0m 4ms/step - accuracy: 0.6195 - loss: 1.0019 - val_accuracy: 0.6429 - val_loss: 1.0349\n",
      "Epoch 48/80\n",
      "\u001b[1m63/63\u001b[0m \u001b[32m━━━━━━━━━━━━━━━━━━━━\u001b[0m\u001b[37m\u001b[0m \u001b[1m0s\u001b[0m 5ms/step - accuracy: 0.6151 - loss: 1.0277 - val_accuracy: 0.6214 - val_loss: 1.0210\n",
      "Epoch 49/80\n",
      "\u001b[1m63/63\u001b[0m \u001b[32m━━━━━━━━━━━━━━━━━━━━\u001b[0m\u001b[37m\u001b[0m \u001b[1m0s\u001b[0m 5ms/step - accuracy: 0.6193 - loss: 1.0032 - val_accuracy: 0.6343 - val_loss: 1.0209\n",
      "Epoch 50/80\n",
      "\u001b[1m63/63\u001b[0m \u001b[32m━━━━━━━━━━━━━━━━━━━━\u001b[0m\u001b[37m\u001b[0m \u001b[1m0s\u001b[0m 4ms/step - accuracy: 0.6336 - loss: 1.0019 - val_accuracy: 0.6357 - val_loss: 1.0290\n",
      "Epoch 51/80\n",
      "\u001b[1m63/63\u001b[0m \u001b[32m━━━━━━━━━━━━━━━━━━━━\u001b[0m\u001b[37m\u001b[0m \u001b[1m0s\u001b[0m 5ms/step - accuracy: 0.6222 - loss: 0.9959 - val_accuracy: 0.6414 - val_loss: 1.0070\n",
      "Epoch 52/80\n",
      "\u001b[1m63/63\u001b[0m \u001b[32m━━━━━━━━━━━━━━━━━━━━\u001b[0m\u001b[37m\u001b[0m \u001b[1m0s\u001b[0m 4ms/step - accuracy: 0.6251 - loss: 0.9970 - val_accuracy: 0.6514 - val_loss: 1.0115\n",
      "Epoch 53/80\n",
      "\u001b[1m63/63\u001b[0m \u001b[32m━━━━━━━━━━━━━━━━━━━━\u001b[0m\u001b[37m\u001b[0m \u001b[1m0s\u001b[0m 5ms/step - accuracy: 0.6428 - loss: 0.9865 - val_accuracy: 0.6100 - val_loss: 1.0237\n",
      "Epoch 54/80\n",
      "\u001b[1m63/63\u001b[0m \u001b[32m━━━━━━━━━━━━━━━━━━━━\u001b[0m\u001b[37m\u001b[0m \u001b[1m0s\u001b[0m 5ms/step - accuracy: 0.6381 - loss: 0.9745 - val_accuracy: 0.6471 - val_loss: 1.0326\n",
      "Epoch 55/80\n",
      "\u001b[1m63/63\u001b[0m \u001b[32m━━━━━━━━━━━━━━━━━━━━\u001b[0m\u001b[37m\u001b[0m \u001b[1m0s\u001b[0m 4ms/step - accuracy: 0.6314 - loss: 0.9867 - val_accuracy: 0.6257 - val_loss: 1.0260\n",
      "Epoch 56/80\n",
      "\u001b[1m63/63\u001b[0m \u001b[32m━━━━━━━━━━━━━━━━━━━━\u001b[0m\u001b[37m\u001b[0m \u001b[1m0s\u001b[0m 5ms/step - accuracy: 0.6366 - loss: 0.9991 - val_accuracy: 0.6300 - val_loss: 1.0145\n",
      "Epoch 57/80\n",
      "\u001b[1m63/63\u001b[0m \u001b[32m━━━━━━━━━━━━━━━━━━━━\u001b[0m\u001b[37m\u001b[0m \u001b[1m0s\u001b[0m 4ms/step - accuracy: 0.6373 - loss: 0.9909 - val_accuracy: 0.6343 - val_loss: 1.0071\n",
      "Epoch 58/80\n",
      "\u001b[1m63/63\u001b[0m \u001b[32m━━━━━━━━━━━━━━━━━━━━\u001b[0m\u001b[37m\u001b[0m \u001b[1m0s\u001b[0m 4ms/step - accuracy: 0.6395 - loss: 0.9804 - val_accuracy: 0.6357 - val_loss: 1.0079\n",
      "Epoch 59/80\n",
      "\u001b[1m63/63\u001b[0m \u001b[32m━━━━━━━━━━━━━━━━━━━━\u001b[0m\u001b[37m\u001b[0m \u001b[1m0s\u001b[0m 5ms/step - accuracy: 0.6350 - loss: 0.9871 - val_accuracy: 0.6386 - val_loss: 0.9963\n",
      "Epoch 60/80\n",
      "\u001b[1m63/63\u001b[0m \u001b[32m━━━━━━━━━━━━━━━━━━━━\u001b[0m\u001b[37m\u001b[0m \u001b[1m0s\u001b[0m 5ms/step - accuracy: 0.6344 - loss: 0.9685 - val_accuracy: 0.6257 - val_loss: 1.0114\n",
      "Epoch 61/80\n",
      "\u001b[1m63/63\u001b[0m \u001b[32m━━━━━━━━━━━━━━━━━━━━\u001b[0m\u001b[37m\u001b[0m \u001b[1m0s\u001b[0m 5ms/step - accuracy: 0.6307 - loss: 0.9746 - val_accuracy: 0.6143 - val_loss: 1.0364\n",
      "Epoch 62/80\n",
      "\u001b[1m63/63\u001b[0m \u001b[32m━━━━━━━━━━━━━━━━━━━━\u001b[0m\u001b[37m\u001b[0m \u001b[1m0s\u001b[0m 5ms/step - accuracy: 0.6358 - loss: 0.9662 - val_accuracy: 0.6214 - val_loss: 1.0081\n",
      "Epoch 63/80\n",
      "\u001b[1m63/63\u001b[0m \u001b[32m━━━━━━━━━━━━━━━━━━━━\u001b[0m\u001b[37m\u001b[0m \u001b[1m0s\u001b[0m 5ms/step - accuracy: 0.6317 - loss: 0.9727 - val_accuracy: 0.6286 - val_loss: 0.9986\n",
      "Epoch 64/80\n",
      "\u001b[1m63/63\u001b[0m \u001b[32m━━━━━━━━━━━━━━━━━━━━\u001b[0m\u001b[37m\u001b[0m \u001b[1m0s\u001b[0m 4ms/step - accuracy: 0.6373 - loss: 0.9732 - val_accuracy: 0.6329 - val_loss: 0.9979\n",
      "Epoch 65/80\n",
      "\u001b[1m63/63\u001b[0m \u001b[32m━━━━━━━━━━━━━━━━━━━━\u001b[0m\u001b[37m\u001b[0m \u001b[1m0s\u001b[0m 5ms/step - accuracy: 0.6315 - loss: 0.9769 - val_accuracy: 0.6171 - val_loss: 1.0101\n",
      "Epoch 66/80\n",
      "\u001b[1m63/63\u001b[0m \u001b[32m━━━━━━━━━━━━━━━━━━━━\u001b[0m\u001b[37m\u001b[0m \u001b[1m0s\u001b[0m 5ms/step - accuracy: 0.6371 - loss: 0.9767 - val_accuracy: 0.6357 - val_loss: 1.0090\n",
      "Epoch 67/80\n",
      "\u001b[1m63/63\u001b[0m \u001b[32m━━━━━━━━━━━━━━━━━━━━\u001b[0m\u001b[37m\u001b[0m \u001b[1m0s\u001b[0m 5ms/step - accuracy: 0.6452 - loss: 0.9635 - val_accuracy: 0.6343 - val_loss: 1.0003\n",
      "Epoch 68/80\n",
      "\u001b[1m63/63\u001b[0m \u001b[32m━━━━━━━━━━━━━━━━━━━━\u001b[0m\u001b[37m\u001b[0m \u001b[1m0s\u001b[0m 5ms/step - accuracy: 0.6328 - loss: 0.9756 - val_accuracy: 0.6414 - val_loss: 1.0078\n",
      "Epoch 69/80\n",
      "\u001b[1m63/63\u001b[0m \u001b[32m━━━━━━━━━━━━━━━━━━━━\u001b[0m\u001b[37m\u001b[0m \u001b[1m0s\u001b[0m 4ms/step - accuracy: 0.6482 - loss: 0.9607 - val_accuracy: 0.6114 - val_loss: 1.0125\n",
      "Epoch 70/80\n",
      "\u001b[1m63/63\u001b[0m \u001b[32m━━━━━━━━━━━━━━━━━━━━\u001b[0m\u001b[37m\u001b[0m \u001b[1m0s\u001b[0m 5ms/step - accuracy: 0.6353 - loss: 0.9804 - val_accuracy: 0.6300 - val_loss: 1.0113\n",
      "Epoch 71/80\n",
      "\u001b[1m63/63\u001b[0m \u001b[32m━━━━━━━━━━━━━━━━━━━━\u001b[0m\u001b[37m\u001b[0m \u001b[1m0s\u001b[0m 5ms/step - accuracy: 0.6403 - loss: 0.9622 - val_accuracy: 0.6329 - val_loss: 1.0217\n",
      "Epoch 72/80\n",
      "\u001b[1m63/63\u001b[0m \u001b[32m━━━━━━━━━━━━━━━━━━━━\u001b[0m\u001b[37m\u001b[0m \u001b[1m0s\u001b[0m 4ms/step - accuracy: 0.6470 - loss: 0.9545 - val_accuracy: 0.6243 - val_loss: 1.0164\n",
      "Epoch 73/80\n",
      "\u001b[1m63/63\u001b[0m \u001b[32m━━━━━━━━━━━━━━━━━━━━\u001b[0m\u001b[37m\u001b[0m \u001b[1m0s\u001b[0m 5ms/step - accuracy: 0.6476 - loss: 0.9714 - val_accuracy: 0.6200 - val_loss: 1.0069\n",
      "Epoch 74/80\n",
      "\u001b[1m63/63\u001b[0m \u001b[32m━━━━━━━━━━━━━━━━━━━━\u001b[0m\u001b[37m\u001b[0m \u001b[1m0s\u001b[0m 5ms/step - accuracy: 0.6341 - loss: 0.9768 - val_accuracy: 0.6371 - val_loss: 1.0092\n",
      "Epoch 75/80\n",
      "\u001b[1m63/63\u001b[0m \u001b[32m━━━━━━━━━━━━━━━━━━━━\u001b[0m\u001b[37m\u001b[0m \u001b[1m0s\u001b[0m 4ms/step - accuracy: 0.6362 - loss: 0.9740 - val_accuracy: 0.6200 - val_loss: 1.0183\n",
      "Epoch 76/80\n",
      "\u001b[1m63/63\u001b[0m \u001b[32m━━━━━━━━━━━━━━━━━━━━\u001b[0m\u001b[37m\u001b[0m \u001b[1m0s\u001b[0m 5ms/step - accuracy: 0.6396 - loss: 0.9699 - val_accuracy: 0.6443 - val_loss: 1.0083\n",
      "Epoch 77/80\n",
      "\u001b[1m63/63\u001b[0m \u001b[32m━━━━━━━━━━━━━━━━━━━━\u001b[0m\u001b[37m\u001b[0m \u001b[1m0s\u001b[0m 5ms/step - accuracy: 0.6345 - loss: 0.9622 - val_accuracy: 0.6414 - val_loss: 1.0100\n",
      "Epoch 78/80\n",
      "\u001b[1m63/63\u001b[0m \u001b[32m━━━━━━━━━━━━━━━━━━━━\u001b[0m\u001b[37m\u001b[0m \u001b[1m0s\u001b[0m 5ms/step - accuracy: 0.6366 - loss: 0.9598 - val_accuracy: 0.6429 - val_loss: 1.0143\n",
      "Epoch 79/80\n",
      "\u001b[1m63/63\u001b[0m \u001b[32m━━━━━━━━━━━━━━━━━━━━\u001b[0m\u001b[37m\u001b[0m \u001b[1m0s\u001b[0m 5ms/step - accuracy: 0.6317 - loss: 0.9708 - val_accuracy: 0.6343 - val_loss: 1.0125\n",
      "Epoch 80/80\n",
      "\u001b[1m63/63\u001b[0m \u001b[32m━━━━━━━━━━━━━━━━━━━━\u001b[0m\u001b[37m\u001b[0m \u001b[1m0s\u001b[0m 5ms/step - accuracy: 0.6432 - loss: 0.9769 - val_accuracy: 0.6186 - val_loss: 1.0210\n",
      "\u001b[1m94/94\u001b[0m \u001b[32m━━━━━━━━━━━━━━━━━━━━\u001b[0m\u001b[37m\u001b[0m \u001b[1m0s\u001b[0m 2ms/step - accuracy: 0.6188 - loss: 1.0131\n",
      "Test loss: 1.02\n",
      "Test accuracy: 0.624\n"
     ]
    },
    {
     "data": {
      "image/png": "[encoded data removed]",
      "text/plain": [
       "<Figure size 640x480 with 1 Axes>"
      ]
     },
     "metadata": {},
     "output_type": "display_data"
    },
    {
     "data": {
      "image/png": "[encoded data removed]",
      "text/plain": [
       "<Figure size 640x480 with 1 Axes>"
      ]
     },
     "metadata": {},
     "output_type": "display_data"
    }
   ],
   "source": [
    "print(X_train.shape)\n",
    "model = models.Sequential()\n",
    "\n",
    "# Create the hidden layer with sigmoid activations\n",
    "model.add(layers.Dense(units=100, kernel_regularizer=regularizers.L1(0.001),\n",
    "                     activation='relu', input_shape=(X_train.shape[1],)))\n",
    "model.add(layers.BatchNormalization())\n",
    "model.add(layers.Dropout(rate=0.4))\n",
    "model.add(layers.Dense(units=200, kernel_regularizer=regularizers.L1(0.001),\n",
    "                     activation='relu'))\n",
    "model.add(layers.BatchNormalization())\n",
    "model.add(layers.Dropout(rate=0.2))\n",
    "model.add(layers.Dense(units=200, kernel_regularizer=regularizers.L1(0.001),\n",
    "                     activation='relu'))\n",
    "model.add(layers.BatchNormalization())\n",
    "\n",
    "# Create the output layer with softmax activations\n",
    "model.add(layers.Dense(units=5, activation='softmax'))\n",
    "\n",
    "# Compile the network with the appropriate loss function and keep track of accuracy\n",
    "model.compile(loss='categorical_crossentropy', metrics=['accuracy'])\n",
    "\n",
    "# Train our model\n",
    "history = model.fit(X_train, y_train, batch_size=100, epochs=80, validation_split=.1)\n",
    "\n",
    "# See how the model scored!\n",
    "loss, accuracy  = model.evaluate(X_test, y_test)\n",
    "\n",
    "# Print to 3 decimals\n",
    "print(f'Test loss: {loss:.3}')\n",
    "print(f'Test accuracy: {accuracy:.3}')\n",
    "\n",
    "\n",
    "import matplotlib.pyplot as plt\n",
    "\n",
    "# Plot training & validation loss\n",
    "plt.plot(history.history['loss'], label='Training Loss')\n",
    "plt.plot(history.history['val_loss'], label='Validation Loss')\n",
    "plt.title('Training vs Validation Loss')\n",
    "plt.xlabel('Epoch')\n",
    "plt.ylabel('Loss')\n",
    "plt.legend()\n",
    "plt.grid(True)\n",
    "plt.show()\n",
    "\n",
    "\n",
    "# Plot training and validation accuracy\n",
    "plt.plot(history.history['accuracy'], label='Training Accuracy')\n",
    "plt.plot(history.history['val_accuracy'], label='Validation Accuracy')\n",
    "plt.title('Training vs Validation Accuracy')\n",
    "plt.xlabel('Epoch')\n",
    "plt.ylabel('Accuracy')\n",
    "plt.legend()\n",
    "plt.grid(True)\n",
    "plt.show()"
   ]
  }
 ],
 "metadata": {
  "kernelspec": {
   "display_name": "SP",
   "language": "python",
   "name": "python3"
  },
  "language_info": {
   "codemirror_mode": {
    "name": "ipython",
    "version": 3
   },
   "file_extension": ".py",
   "mimetype": "text/x-python",
   "name": "python",
   "nbconvert_exporter": "python",
   "pygments_lexer": "ipython3",
   "version": "3.11.9"
  }
 },
 "nbformat": 4,
 "nbformat_minor": 5
}
