{
 "cells": [
  {
   "cell_type": "markdown",
   "id": "6b005293",
   "metadata": {},
   "source": [
    "# Process Book"
   ]
  },
  {
   "cell_type": "markdown",
   "id": "8d02b000",
   "metadata": {},
   "source": [
    "### 13/05\n",
    "\n",
    "What I worked on:\n",
    "- understanding the database by exploring the collumns in the table\n",
    "- querying data about the frequency of car accidents over the years\n",
    "\n",
    "What problems I encountered:\n",
    "- It took a long time to find a good research question based on the data and then to query the data and get it into the needed format\n",
    "\n",
    "What I leanrt:\n",
    "- How to use sql queries with python using the sqlite3 module\n",
    "- integrating sql with python and converting to pandas dataframes\n",
    "- I specifically learnt the funtion strftime() to extract dates from a database with form dd-mm-yyyy\n",
    "\n",
    "Ressources used:\n",
    "- https://docs.python.org/3/library/sqlite3.html\n",
    "- https://www.w3resource.com/sqlite/sqlite-strftime.php "
   ]
  },
  {
   "cell_type": "markdown",
   "id": "1b919f7e",
   "metadata": {},
   "source": [
    "### 15/05\n",
    "\n",
    "What I worked on:\n",
    "- queryed the data fruther to find the simplest notation\n",
    "\n",
    "What problems I encountered:\n",
    "- It took me a little tile to understand how all the elements of the interactive time series plot worked. But it was not too much trouble\n",
    "\n",
    "What I learnt:\n",
    "- How to use plotly to make an interactive time series plot\n",
    "\n",
    "Ressources used:\n",
    "- https://plotly.com/python/time-series/"
   ]
  },
  {
   "cell_type": "markdown",
   "id": "fea32147",
   "metadata": {},
   "source": [
    "### 19/05\n",
    "\n",
    "What I worked on:\n",
    "- Further exploring the data to find what I could predict in the ML part of my project\n",
    "- Created an interactive histogram\n",
    "\n",
    "What problems I encountered:\n",
    "- Some of the collumns had a lot of missing data, particuarly alcohol use, so I had to change what I wanted to plot\n",
    "\n",
    "What I learnt:\n",
    "- How to use ploty to make interactive histograms\n",
    "\n",
    "Ressources used:\n",
    "- https://plotly.com/python/bar-charts/\n"
   ]
  },
  {
   "cell_type": "markdown",
   "id": "8f2687a1",
   "metadata": {},
   "source": [
    "### 20/05\n",
    "\n",
    "What I worked on:\n",
    "- Extracting the feature for the neural network from the sqlite file\n",
    "- Cleaning the data and putting it in a format for the neural network (numpy array)\n",
    "\n",
    "What problems I encountered:\n",
    "- My data file was too large for my computer to handle, so I have to make choices about which data to use for my analysis\n",
    "\n",
    "What I learnt:\n",
    "- Putting data into the right format\n",
    "- randomly selecting rows in sql\n",
    "\n",
    "Ressources used:\n",
    "- https://pandas.pydata.org/docs/reference/api/pandas.get_dummies.html\n",
    "- https://docs.scipy.org/doc/scipy/reference/generated/scipy.stats.zscore.html\n",
    "- https://stackoverflow.com/questions/1117761/return-rows-in-random-order\n",
    "\n",
    "\n",
    "\n"
   ]
  },
  {
   "cell_type": "markdown",
   "id": "0341a8ae",
   "metadata": {},
   "source": [
    "### 21/05\n",
    "\n",
    "What I worked on:\n",
    "- Building the neural network\n",
    "- Reducing overfitting\n",
    "\n",
    "What problems I encountered:\n",
    "- My neural network overfit a lot \n",
    "- Even after reducing overfitting it did not predict well\n",
    "\n",
    "What I learnt:\n",
    "- I learnt to build a neural network with keras and tensor flow\n",
    "- I learnt to stop the model from overfitting\n",
    "\n",
    "Ressources used:\n",
    "- https://www.geeksforgeeks.org/adding-regularizations-in-tensorflow/\n",
    "- https://www.tensorflow.org/guide/keras/sequential_model\n"
   ]
  },
  {
   "cell_type": "markdown",
   "id": "a93c80df",
   "metadata": {},
   "source": [
    "### 22/05\n",
    "\n",
    "What I worked on:\n",
    "- Putting the project on Github\n",
    "\n",
    "\n",
    "What problems I encountered:\n",
    "- The graphs made with ploty are not visible in Github as well as nbviewer\n",
    "\n",
    "\n",
    "What I learnt:\n",
    "- Github can not display interractive plots, but plaforms to visualize notebooks from Github such as nbviewer can (but I still have managed to make this work)\n",
    "\n",
    "\n",
    "Ressources used:\n",
    "- https://stackoverflow.com/questions/73297100/how-to-display-plotly-graph-in-github-from-jupyter-notebook\n"
   ]
  },
  {
   "cell_type": "markdown",
   "id": "dff9303f",
   "metadata": {},
   "source": [
    "### 23/05\n",
    "\n",
    "What I worked on:\n",
    "- Adding comments and descritptions to the notebook\n",
    "- Writing the read me file\n",
    "- Writing the project descritpion\n",
    "\n",
    "\n",
    "What problems I encountered:\n",
    "- I was still not able to vizualize my plots. Instead I wrote a descritpion on hpw to run the notebook so the graphs can be viewed\n",
    "\n",
    "\n",
    "What I learnt:\n",
    "- How to write a read me and how it is different from the project description\n"
   ]
  }
 ],
 "metadata": {
  "language_info": {
   "name": "python"
  }
 },
 "nbformat": 4,
 "nbformat_minor": 5
}
