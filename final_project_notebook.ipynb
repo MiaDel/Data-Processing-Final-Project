{
 "cells": [
  {
   "cell_type": "markdown",
   "id": "032b5144",
   "metadata": {},
   "source": [
    "# Final project"
   ]
  },
  {
   "cell_type": "code",
   "execution_count": 17,
   "id": "2d7796bb",
   "metadata": {},
   "outputs": [],
   "source": [
    "import sqlite3 as sql\n",
    "import pandas as pd\n",
    "import plotly.express as px\n",
    "import numpy as np\n",
    "from scipy.stats import zscore\n",
    "import plotly.io as pio\n",
    "from tensorflow import keras\n",
    "from tensorflow.keras import layers, models\n",
    "from keras import regularizers\n",
    "import seaborn as sns\n",
    "import tensorflow as tf\n",
    "from tensorflow import math as tfmath\n",
    "import matplotlib.pyplot as plt\n",
    "from sklearn.metrics import confusion_matrix"
   ]
  },
  {
   "cell_type": "markdown",
   "id": "e1d7fcc5",
   "metadata": {},
   "source": [
    "# Part 1\n",
    "### Graph the number of accidents across time\n",
    "##### Get the data using sqlite3 module"
   ]
  },
  {
   "cell_type": "code",
   "execution_count": 18,
   "id": "fb55510a",
   "metadata": {},
   "outputs": [],
   "source": [
    "# get the data with sqlite\n",
    "# remove entries from 2021 because there is a lot of missing data from that year\n",
    "con = sql.connect(\"switrs.sqlite\")\n",
    "cur = con.cursor()\n",
    "\n",
    "query1 = \"\"\"SELECT strftime('%Y-%m',collision_date) AS date, strftime('%Y', collision_date) as year, \n",
    "COUNT(collision_date) as count \n",
    "FROM collisions \n",
    "WHERE strftime('%Y', collision_date) != '2021' \n",
    "GROUP BY date \n",
    "ORDER BY date\"\"\"\n",
    "\n",
    "data = pd.read_sql(query1, con)"
   ]
  },
  {
   "cell_type": "markdown",
   "id": "3c58ba5a",
   "metadata": {},
   "source": [
    "##### Create the plot using plotly"
   ]
  },
  {
   "cell_type": "code",
   "execution_count": 19,
   "id": "29b5a0ef",
   "metadata": {},
   "outputs": [
    {
     "data": {
      "application/vnd.plotly.v1+json": {
       "config": {
        "plotlyServerURL": "https://plot.ly"
       },
       "data": [
        {
         "hovertemplate": "%{x|%b %Y}",
         "legendgroup": "",
         "line": {
          "color": "#636efa",
          "dash": "solid"
         },
         "marker": {
          "symbol": "circle"
         },
         "mode": "lines",
         "name": "",
         "orientation": "v",
         "showlegend": false,
         "type": "scatter",
         "x": [
          "2001-01",
          "2001-02",
          "2001-03",
          "2001-04",
          "2001-05",
          "2001-06",
          "2001-07",
          "2001-08",
          "2001-09",
          "2001-10",
          "2001-11",
          "2001-12",
          "2002-01",
          "2002-02",
          "2002-03",
          "2002-04",
          "2002-05",
          "2002-06",
          "2002-07",
          "2002-08",
          "2002-09",
          "2002-10",
          "2002-11",
          "2002-12",
          "2003-01",
          "2003-02",
          "2003-03",
          "2003-04",
          "2003-05",
          "2003-06",
          "2003-07",
          "2003-08",
          "2003-09",
          "2003-10",
          "2003-11",
          "2003-12",
          "2004-01",
          "2004-02",
          "2004-03",
          "2004-04",
          "2004-05",
          "2004-06",
          "2004-07",
          "2004-08",
          "2004-09",
          "2004-10",
          "2004-11",
          "2004-12",
          "2005-01",
          "2005-02",
          "2005-03",
          "2005-04",
          "2005-05",
          "2005-06",
          "2005-07",
          "2005-08",
          "2005-09",
          "2005-10",
          "2005-11",
          "2005-12",
          "2006-01",
          "2006-02",
          "2006-03",
          "2006-04",
          "2006-05",
          "2006-06",
          "2006-07",
          "2006-08",
          "2006-09",
          "2006-10",
          "2006-11",
          "2006-12",
          "2007-01",
          "2007-02",
          "2007-03",
          "2007-04",
          "2007-05",
          "2007-06",
          "2007-07",
          "2007-08",
          "2007-09",
          "2007-10",
          "2007-11",
          "2007-12",
          "2008-01",
          "2008-02",
          "2008-03",
          "2008-04",
          "2008-05",
          "2008-06",
          "2008-07",
          "2008-08",
          "2008-09",
          "2008-10",
          "2008-11",
          "2008-12",
          "2009-01",
          "2009-02",
          "2009-03",
          "2009-04",
          "2009-05",
          "2009-06",
          "2009-07",
          "2009-08",
          "2009-09",
          "2009-10",
          "2009-11",
          "2009-12",
          "2010-01",
          "2010-02",
          "2010-03",
          "2010-04",
          "2010-05",
          "2010-06",
          "2010-07",
          "2010-08",
          "2010-09",
          "2010-10",
          "2010-11",
          "2010-12",
          "2011-01",
          "2011-02",
          "2011-03",
          "2011-04",
          "2011-05",
          "2011-06",
          "2011-07",
          "2011-08",
          "2011-09",
          "2011-10",
          "2011-11",
          "2011-12",
          "2012-01",
          "2012-02",
          "2012-03",
          "2012-04",
          "2012-05",
          "2012-06",
          "2012-07",
          "2012-08",
          "2012-09",
          "2012-10",
          "2012-11",
          "2012-12",
          "2013-01",
          "2013-02",
          "2013-03",
          "2013-04",
          "2013-05",
          "2013-06",
          "2013-07",
          "2013-08",
          "2013-09",
          "2013-10",
          "2013-11",
          "2013-12",
          "2014-01",
          "2014-02",
          "2014-03",
          "2014-04",
          "2014-05",
          "2014-06",
          "2014-07",
          "2014-08",
          "2014-09",
          "2014-10",
          "2014-11",
          "2014-12",
          "2015-01",
          "2015-02",
          "2015-03",
          "2015-04",
          "2015-05",
          "2015-06",
          "2015-07",
          "2015-08",
          "2015-09",
          "2015-10",
          "2015-11",
          "2015-12",
          "2016-01",
          "2016-02",
          "2016-03",
          "2016-04",
          "2016-05",
          "2016-06",
          "2016-07",
          "2016-08",
          "2016-09",
          "2016-10",
          "2016-11",
          "2016-12",
          "2017-01",
          "2017-02",
          "2017-03",
          "2017-04",
          "2017-05",
          "2017-06",
          "2017-07",
          "2017-08",
          "2017-09",
          "2017-10",
          "2017-11",
          "2017-12",
          "2018-01",
          "2018-02",
          "2018-03",
          "2018-04",
          "2018-05",
          "2018-06",
          "2018-07",
          "2018-08",
          "2018-09",
          "2018-10",
          "2018-11",
          "2018-12",
          "2019-01",
          "2019-02",
          "2019-03",
          "2019-04",
          "2019-05",
          "2019-06",
          "2019-07",
          "2019-08",
          "2019-09",
          "2019-10",
          "2019-11",
          "2019-12",
          "2020-01",
          "2020-02",
          "2020-03",
          "2020-04",
          "2020-05",
          "2020-06",
          "2020-07",
          "2020-08",
          "2020-09",
          "2020-10",
          "2020-11",
          "2020-12"
         ],
         "xaxis": "x",
         "y": {
          "bdata": "16cAAGqfAABbpwAAgaQAAO6lAABdqQAATKIAAI6vAADGpAAAt7UAAEGzAABCtwAABaoAADafAACytAAAc6oAAIO3AADarQAABq8AADazAAB8tgAAeLoAANq1AAAeuQAAIKMAAEydAADLqgAA4KoAAOqxAADqqQAAYK8AAAazAAD3sQAAb8EAAP6zAACVvQAAuKcAAGSrAAAysQAAr6oAABSuAABWqAAAE7AAAHexAABOsgAAursAADWqAACJtwAAPKgAALGhAAD8sAAAIakAAAivAAC+qQAAHa0AAAmxAACNrAAARbYAAE6vAADfswAAa6gAAPigAABrsAAA558AACWnAADkpAAAWJ8AALpuAAAImwAA5bMAAPisAADprAAAM50AAFSYAAB2qwAAsZ8AACCkAAAtpAAA3KIAAGSoAADPpAAAVKwAAEygAADqogAA05oAAJ2VAABQmAAAXpIAAAiWAADYigAAq4kAAH6PAAAljgAABpkAAFyRAABFmgAA9ogAALCGAAAojwAAp4kAADSQAACahQAAWYkAAMyGAADjigAAy5MAAAKHAADcjAAAfIAAAK58AADbiwAAcIYAAC6IAABXggAAbYMAADyHAACNiAAAaJIAAISKAADOkAAA0XwAABJ9AAA8hwAAunoAAJyCAAAwfQAAdIEAAImGAAA+hgAAp48AAEGHAADlhwAANX8AAI17AABDiQAANH8AAFuDAAD5ewAA03sAAAqDAACGfgAARokAAOWCAABifgAAUncAAFdwAAACgQAAxnkAABqCAACIewAAI3oAACGAAADtfwAA/IUAAOJ+AAA+fAAAE3gAANR3AABbfwAA4XsAAJCDAABAewAAr3sAAPOFAADdiAAAL5MAAM2GAABfigAAhYIAACyBAAD7jQAA64oAABOLAAB+hgAAFYkAABWQAACsjQAAWaEAACaZAAAcoAAA8ZEAAGmVAACMowAADJwAALaeAACTmwAA4p0AAL+kAAAypQAAtq0AAF6jAABBpgAABpsAAB6NAADoowAAiJkAAEuhAAC1nAAAEZsAAGqgAABfnwAAG60AAIyiAAALngAAiJgAAHKRAAA6pQAAmZYAACicAADVmQAALpcAAJWgAAC8ngAAV6wAANehAACBmwAApZYAAAmPAAAjnAAAtZAAAIeYAAD0kQAAQZQAALagAABEnAAAT6YAAGaeAABfmgAAOIwAACiKAAAmcwAAEU4AAApiAABAawAA+HUAAKR9AAB8fQAArIgAAMd+AADleQAA",
          "dtype": "i4"
         },
         "yaxis": "y"
        }
       ],
       "layout": {
        "legend": {
         "tracegroupgap": 0
        },
        "template": {
         "data": {
          "bar": [
           {
            "error_x": {
             "color": "#2a3f5f"
            },
            "error_y": {
             "color": "#2a3f5f"
            },
            "marker": {
             "line": {
              "color": "#E5ECF6",
              "width": 0.5
             },
             "pattern": {
              "fillmode": "overlay",
              "size": 10,
              "solidity": 0.2
             }
            },
            "type": "bar"
           }
          ],
          "barpolar": [
           {
            "marker": {
             "line": {
              "color": "#E5ECF6",
              "width": 0.5
             },
             "pattern": {
              "fillmode": "overlay",
              "size": 10,
              "solidity": 0.2
             }
            },
            "type": "barpolar"
           }
          ],
          "carpet": [
           {
            "aaxis": {
             "endlinecolor": "#2a3f5f",
             "gridcolor": "white",
             "linecolor": "white",
             "minorgridcolor": "white",
             "startlinecolor": "#2a3f5f"
            },
            "baxis": {
             "endlinecolor": "#2a3f5f",
             "gridcolor": "white",
             "linecolor": "white",
             "minorgridcolor": "white",
             "startlinecolor": "#2a3f5f"
            },
            "type": "carpet"
           }
          ],
          "choropleth": [
           {
            "colorbar": {
             "outlinewidth": 0,
             "ticks": ""
            },
            "type": "choropleth"
           }
          ],
          "contour": [
           {
            "colorbar": {
             "outlinewidth": 0,
             "ticks": ""
            },
            "colorscale": [
             [
              0,
              "#0d0887"
             ],
             [
              0.1111111111111111,
              "#46039f"
             ],
             [
              0.2222222222222222,
              "#7201a8"
             ],
             [
              0.3333333333333333,
              "#9c179e"
             ],
             [
              0.4444444444444444,
              "#bd3786"
             ],
             [
              0.5555555555555556,
              "#d8576b"
             ],
             [
              0.6666666666666666,
              "#ed7953"
             ],
             [
              0.7777777777777778,
              "#fb9f3a"
             ],
             [
              0.8888888888888888,
              "#fdca26"
             ],
             [
              1,
              "#f0f921"
             ]
            ],
            "type": "contour"
           }
          ],
          "contourcarpet": [
           {
            "colorbar": {
             "outlinewidth": 0,
             "ticks": ""
            },
            "type": "contourcarpet"
           }
          ],
          "heatmap": [
           {
            "colorbar": {
             "outlinewidth": 0,
             "ticks": ""
            },
            "colorscale": [
             [
              0,
              "#0d0887"
             ],
             [
              0.1111111111111111,
              "#46039f"
             ],
             [
              0.2222222222222222,
              "#7201a8"
             ],
             [
              0.3333333333333333,
              "#9c179e"
             ],
             [
              0.4444444444444444,
              "#bd3786"
             ],
             [
              0.5555555555555556,
              "#d8576b"
             ],
             [
              0.6666666666666666,
              "#ed7953"
             ],
             [
              0.7777777777777778,
              "#fb9f3a"
             ],
             [
              0.8888888888888888,
              "#fdca26"
             ],
             [
              1,
              "#f0f921"
             ]
            ],
            "type": "heatmap"
           }
          ],
          "histogram": [
           {
            "marker": {
             "pattern": {
              "fillmode": "overlay",
              "size": 10,
              "solidity": 0.2
             }
            },
            "type": "histogram"
           }
          ],
          "histogram2d": [
           {
            "colorbar": {
             "outlinewidth": 0,
             "ticks": ""
            },
            "colorscale": [
             [
              0,
              "#0d0887"
             ],
             [
              0.1111111111111111,
              "#46039f"
             ],
             [
              0.2222222222222222,
              "#7201a8"
             ],
             [
              0.3333333333333333,
              "#9c179e"
             ],
             [
              0.4444444444444444,
              "#bd3786"
             ],
             [
              0.5555555555555556,
              "#d8576b"
             ],
             [
              0.6666666666666666,
              "#ed7953"
             ],
             [
              0.7777777777777778,
              "#fb9f3a"
             ],
             [
              0.8888888888888888,
              "#fdca26"
             ],
             [
              1,
              "#f0f921"
             ]
            ],
            "type": "histogram2d"
           }
          ],
          "histogram2dcontour": [
           {
            "colorbar": {
             "outlinewidth": 0,
             "ticks": ""
            },
            "colorscale": [
             [
              0,
              "#0d0887"
             ],
             [
              0.1111111111111111,
              "#46039f"
             ],
             [
              0.2222222222222222,
              "#7201a8"
             ],
             [
              0.3333333333333333,
              "#9c179e"
             ],
             [
              0.4444444444444444,
              "#bd3786"
             ],
             [
              0.5555555555555556,
              "#d8576b"
             ],
             [
              0.6666666666666666,
              "#ed7953"
             ],
             [
              0.7777777777777778,
              "#fb9f3a"
             ],
             [
              0.8888888888888888,
              "#fdca26"
             ],
             [
              1,
              "#f0f921"
             ]
            ],
            "type": "histogram2dcontour"
           }
          ],
          "mesh3d": [
           {
            "colorbar": {
             "outlinewidth": 0,
             "ticks": ""
            },
            "type": "mesh3d"
           }
          ],
          "parcoords": [
           {
            "line": {
             "colorbar": {
              "outlinewidth": 0,
              "ticks": ""
             }
            },
            "type": "parcoords"
           }
          ],
          "pie": [
           {
            "automargin": true,
            "type": "pie"
           }
          ],
          "scatter": [
           {
            "fillpattern": {
             "fillmode": "overlay",
             "size": 10,
             "solidity": 0.2
            },
            "type": "scatter"
           }
          ],
          "scatter3d": [
           {
            "line": {
             "colorbar": {
              "outlinewidth": 0,
              "ticks": ""
             }
            },
            "marker": {
             "colorbar": {
              "outlinewidth": 0,
              "ticks": ""
             }
            },
            "type": "scatter3d"
           }
          ],
          "scattercarpet": [
           {
            "marker": {
             "colorbar": {
              "outlinewidth": 0,
              "ticks": ""
             }
            },
            "type": "scattercarpet"
           }
          ],
          "scattergeo": [
           {
            "marker": {
             "colorbar": {
              "outlinewidth": 0,
              "ticks": ""
             }
            },
            "type": "scattergeo"
           }
          ],
          "scattergl": [
           {
            "marker": {
             "colorbar": {
              "outlinewidth": 0,
              "ticks": ""
             }
            },
            "type": "scattergl"
           }
          ],
          "scattermap": [
           {
            "marker": {
             "colorbar": {
              "outlinewidth": 0,
              "ticks": ""
             }
            },
            "type": "scattermap"
           }
          ],
          "scattermapbox": [
           {
            "marker": {
             "colorbar": {
              "outlinewidth": 0,
              "ticks": ""
             }
            },
            "type": "scattermapbox"
           }
          ],
          "scatterpolar": [
           {
            "marker": {
             "colorbar": {
              "outlinewidth": 0,
              "ticks": ""
             }
            },
            "type": "scatterpolar"
           }
          ],
          "scatterpolargl": [
           {
            "marker": {
             "colorbar": {
              "outlinewidth": 0,
              "ticks": ""
             }
            },
            "type": "scatterpolargl"
           }
          ],
          "scatterternary": [
           {
            "marker": {
             "colorbar": {
              "outlinewidth": 0,
              "ticks": ""
             }
            },
            "type": "scatterternary"
           }
          ],
          "surface": [
           {
            "colorbar": {
             "outlinewidth": 0,
             "ticks": ""
            },
            "colorscale": [
             [
              0,
              "#0d0887"
             ],
             [
              0.1111111111111111,
              "#46039f"
             ],
             [
              0.2222222222222222,
              "#7201a8"
             ],
             [
              0.3333333333333333,
              "#9c179e"
             ],
             [
              0.4444444444444444,
              "#bd3786"
             ],
             [
              0.5555555555555556,
              "#d8576b"
             ],
             [
              0.6666666666666666,
              "#ed7953"
             ],
             [
              0.7777777777777778,
              "#fb9f3a"
             ],
             [
              0.8888888888888888,
              "#fdca26"
             ],
             [
              1,
              "#f0f921"
             ]
            ],
            "type": "surface"
           }
          ],
          "table": [
           {
            "cells": {
             "fill": {
              "color": "#EBF0F8"
             },
             "line": {
              "color": "white"
             }
            },
            "header": {
             "fill": {
              "color": "#C8D4E3"
             },
             "line": {
              "color": "white"
             }
            },
            "type": "table"
           }
          ]
         },
         "layout": {
          "annotationdefaults": {
           "arrowcolor": "#2a3f5f",
           "arrowhead": 0,
           "arrowwidth": 1
          },
          "autotypenumbers": "strict",
          "coloraxis": {
           "colorbar": {
            "outlinewidth": 0,
            "ticks": ""
           }
          },
          "colorscale": {
           "diverging": [
            [
             0,
             "#8e0152"
            ],
            [
             0.1,
             "#c51b7d"
            ],
            [
             0.2,
             "#de77ae"
            ],
            [
             0.3,
             "#f1b6da"
            ],
            [
             0.4,
             "#fde0ef"
            ],
            [
             0.5,
             "#f7f7f7"
            ],
            [
             0.6,
             "#e6f5d0"
            ],
            [
             0.7,
             "#b8e186"
            ],
            [
             0.8,
             "#7fbc41"
            ],
            [
             0.9,
             "#4d9221"
            ],
            [
             1,
             "#276419"
            ]
           ],
           "sequential": [
            [
             0,
             "#0d0887"
            ],
            [
             0.1111111111111111,
             "#46039f"
            ],
            [
             0.2222222222222222,
             "#7201a8"
            ],
            [
             0.3333333333333333,
             "#9c179e"
            ],
            [
             0.4444444444444444,
             "#bd3786"
            ],
            [
             0.5555555555555556,
             "#d8576b"
            ],
            [
             0.6666666666666666,
             "#ed7953"
            ],
            [
             0.7777777777777778,
             "#fb9f3a"
            ],
            [
             0.8888888888888888,
             "#fdca26"
            ],
            [
             1,
             "#f0f921"
            ]
           ],
           "sequentialminus": [
            [
             0,
             "#0d0887"
            ],
            [
             0.1111111111111111,
             "#46039f"
            ],
            [
             0.2222222222222222,
             "#7201a8"
            ],
            [
             0.3333333333333333,
             "#9c179e"
            ],
            [
             0.4444444444444444,
             "#bd3786"
            ],
            [
             0.5555555555555556,
             "#d8576b"
            ],
            [
             0.6666666666666666,
             "#ed7953"
            ],
            [
             0.7777777777777778,
             "#fb9f3a"
            ],
            [
             0.8888888888888888,
             "#fdca26"
            ],
            [
             1,
             "#f0f921"
            ]
           ]
          },
          "colorway": [
           "#636efa",
           "#EF553B",
           "#00cc96",
           "#ab63fa",
           "#FFA15A",
           "#19d3f3",
           "#FF6692",
           "#B6E880",
           "#FF97FF",
           "#FECB52"
          ],
          "font": {
           "color": "#2a3f5f"
          },
          "geo": {
           "bgcolor": "white",
           "lakecolor": "white",
           "landcolor": "#E5ECF6",
           "showlakes": true,
           "showland": true,
           "subunitcolor": "white"
          },
          "hoverlabel": {
           "align": "left"
          },
          "hovermode": "closest",
          "mapbox": {
           "style": "light"
          },
          "paper_bgcolor": "white",
          "plot_bgcolor": "#E5ECF6",
          "polar": {
           "angularaxis": {
            "gridcolor": "white",
            "linecolor": "white",
            "ticks": ""
           },
           "bgcolor": "#E5ECF6",
           "radialaxis": {
            "gridcolor": "white",
            "linecolor": "white",
            "ticks": ""
           }
          },
          "scene": {
           "xaxis": {
            "backgroundcolor": "#E5ECF6",
            "gridcolor": "white",
            "gridwidth": 2,
            "linecolor": "white",
            "showbackground": true,
            "ticks": "",
            "zerolinecolor": "white"
           },
           "yaxis": {
            "backgroundcolor": "#E5ECF6",
            "gridcolor": "white",
            "gridwidth": 2,
            "linecolor": "white",
            "showbackground": true,
            "ticks": "",
            "zerolinecolor": "white"
           },
           "zaxis": {
            "backgroundcolor": "#E5ECF6",
            "gridcolor": "white",
            "gridwidth": 2,
            "linecolor": "white",
            "showbackground": true,
            "ticks": "",
            "zerolinecolor": "white"
           }
          },
          "shapedefaults": {
           "line": {
            "color": "#2a3f5f"
           }
          },
          "ternary": {
           "aaxis": {
            "gridcolor": "white",
            "linecolor": "white",
            "ticks": ""
           },
           "baxis": {
            "gridcolor": "white",
            "linecolor": "white",
            "ticks": ""
           },
           "bgcolor": "#E5ECF6",
           "caxis": {
            "gridcolor": "white",
            "linecolor": "white",
            "ticks": ""
           }
          },
          "title": {
           "x": 0.05
          },
          "xaxis": {
           "automargin": true,
           "gridcolor": "white",
           "linecolor": "white",
           "ticks": "",
           "title": {
            "standoff": 15
           },
           "zerolinecolor": "white",
           "zerolinewidth": 2
          },
          "yaxis": {
           "automargin": true,
           "gridcolor": "white",
           "linecolor": "white",
           "ticks": "",
           "title": {
            "standoff": 15
           },
           "zerolinecolor": "white",
           "zerolinewidth": 2
          }
         }
        },
        "title": {
         "text": "Accidents in California from 2001 to 2020"
        },
        "xaxis": {
         "anchor": "y",
         "domain": [
          0,
          1
         ],
         "rangeselector": {
          "buttons": [
           {
            "count": 6,
            "label": "6 months",
            "step": "month",
            "stepmode": "backward"
           },
           {
            "count": 1,
            "label": "1 year",
            "step": "year",
            "stepmode": "backward"
           },
           {
            "count": 5,
            "label": "5 years",
            "step": "year",
            "stepmode": "backward"
           },
           {
            "step": "all"
           }
          ]
         },
         "rangeslider": {
          "visible": true
         },
         "tickmode": "array",
         "ticktext": [
          "2001",
          "2002",
          "2003",
          "2004",
          "2005",
          "2006",
          "2007",
          "2008",
          "2009",
          "2010",
          "2011",
          "2012",
          "2013",
          "2014",
          "2015",
          "2016",
          "2017",
          "2018",
          "2019",
          "2020"
         ],
         "tickvals": [
          "2001-01",
          "2002-01",
          "2003-01",
          "2004-01",
          "2005-01",
          "2006-01",
          "2007-01",
          "2008-01",
          "2009-01",
          "2010-01",
          "2011-01",
          "2012-01",
          "2013-01",
          "2014-01",
          "2015-01",
          "2016-01",
          "2017-01",
          "2018-01",
          "2019-01",
          "2020-01"
         ],
         "title": {
          "text": "month and year of accident"
         }
        },
        "yaxis": {
         "anchor": "x",
         "domain": [
          0,
          1
         ],
         "title": {
          "text": "accident frequency"
         }
        }
       }
      }
     },
     "metadata": {},
     "output_type": "display_data"
    },
    {
     "name": "stdout",
     "output_type": "stream",
     "text": [
      "The interactive graph can be found in the file time_plot.html\n"
     ]
    }
   ],
   "source": [
    "fig = px.line(data, x=\"date\", y =\"count\", title=\"Accidents in California from 2001 to 2020\",\n",
    "              labels={\n",
    "                  \"date\":\"month and year of accident\",\n",
    "                  \"count\":\"accident frequency\"\n",
    "              })\n",
    "\n",
    "# Change the xsticks with years\n",
    "fig.update_layout(xaxis=dict(tickmode=\"array\", tickvals=data['date'][::12], ticktext=data['year'][::12]))\n",
    "fig.update_traces(hovertemplate=\"%{x|%b %Y}\")\n",
    "\n",
    "# add a slider and buttons\n",
    "fig.update_xaxes(\n",
    "    rangeslider_visible=True,\n",
    "    rangeselector=dict(\n",
    "        buttons=list([\n",
    "                      dict(count=6, step=\"month\", label=\"6 months\", stepmode=\"backward\"),\n",
    "                      dict(count=1, step=\"year\", label=\"1 year\", stepmode=\"backward\"),\n",
    "                      dict(count=5, step=\"year\", label=\"5 years\", stepmode=\"backward\"),\n",
    "                      dict(step=\"all\")\n",
    "                      \n",
    "                      ])\n",
    "    )\n",
    ")\n",
    "fig.show()\n",
    "fig.write_html(\"time_plot\")\n",
    "\n",
    "print(\"The interactive graph can be found in the file time_plot.html\")"
   ]
  },
  {
   "cell_type": "markdown",
   "id": "bd36b514",
   "metadata": {},
   "source": [
    "The plot shows us that there have been oscilations with periods of more (e.g., 2004) and less (e.g., 2012) accidents across time."
   ]
  },
  {
   "cell_type": "markdown",
   "id": "aa20fa02",
   "metadata": {},
   "source": [
    "### Graph the frequency of collision severity\n",
    "##### Get the data using sqlite"
   ]
  },
  {
   "cell_type": "code",
   "execution_count": 20,
   "id": "a60c32ae",
   "metadata": {},
   "outputs": [],
   "source": [
    "query2 = \"\"\"\n",
    "SELECT strftime('%Y', collision_date) as year, collision_severity, \n",
    "COUNT(collision_severity) as severity_count \n",
    "FROM collisions \n",
    "WHERE strftime('%Y',collision_date) != '2021' \n",
    "AND collision_severity != 'N' \n",
    "GROUP BY year, collision_severity\n",
    "\"\"\"\n",
    "\n",
    "data2 = pd.read_sql(query2,con)\n",
    "pd.options.display.max_rows=10\n"
   ]
  },
  {
   "cell_type": "markdown",
   "id": "19347459",
   "metadata": {},
   "source": [
    "##### Create the histogram using plotly"
   ]
  },
  {
   "cell_type": "code",
   "execution_count": 21,
   "id": "9bab1b9f",
   "metadata": {},
   "outputs": [
    {
     "data": {
      "application/vnd.plotly.v1+json": {
       "config": {
        "plotlyServerURL": "https://plot.ly"
       },
       "data": [
        {
         "alignmentgroup": "True",
         "bingroup": "x",
         "histfunc": "sum",
         "hovertemplate": "Collision Severity=fatal<br>Year=%{x}<br>sum of Frequency=%{y}<extra></extra>",
         "legendgroup": "fatal",
         "marker": {
          "color": "#636efa",
          "pattern": {
           "shape": ""
          }
         },
         "name": "fatal",
         "offsetgroup": "fatal",
         "orientation": "v",
         "showlegend": true,
         "type": "histogram",
         "x": [
          "2001",
          "2002",
          "2003",
          "2004",
          "2005",
          "2006",
          "2007",
          "2008",
          "2009",
          "2010",
          "2011",
          "2012",
          "2013",
          "2014",
          "2015",
          "2016",
          "2017",
          "2018",
          "2019",
          "2020"
         ],
         "xaxis": "x",
         "y": {
          "bdata": "vQ1CDo4OdQ7uDh0O5Q0pDPUK2AlECsYKJQtCC2IM5g3+DZcNbQ1bDQ==",
          "dtype": "i2"
         },
         "yaxis": "y"
        },
        {
         "alignmentgroup": "True",
         "bingroup": "x",
         "histfunc": "sum",
         "hovertemplate": "Collision Severity=other injury<br>Year=%{x}<br>sum of Frequency=%{y}<extra></extra>",
         "legendgroup": "other injury",
         "marker": {
          "color": "#EF553B",
          "pattern": {
           "shape": ""
          }
         },
         "name": "other injury",
         "offsetgroup": "other injury",
         "orientation": "v",
         "showlegend": true,
         "type": "histogram",
         "x": [
          "2001",
          "2002",
          "2003",
          "2004",
          "2005",
          "2006",
          "2007",
          "2008",
          "2009",
          "2010",
          "2011",
          "2012",
          "2013",
          "2014",
          "2015",
          "2016",
          "2017",
          "2018",
          "2019",
          "2020"
         ],
         "xaxis": "x",
         "y": {
          "bdata": "pBEBAMcPAQAGDgEAogUBAPn+AABU5gAAauIAAJ7TAADUxgAAg8AAAMG9AACFwQAAy7sAAInDAADh0gAAb90AAHvkAABZ7wAA0OcAAKW8AAA=",
          "dtype": "i4"
         },
         "yaxis": "y"
        },
        {
         "alignmentgroup": "True",
         "bingroup": "x",
         "histfunc": "sum",
         "hovertemplate": "Collision Severity=pain<br>Year=%{x}<br>sum of Frequency=%{y}<extra></extra>",
         "legendgroup": "pain",
         "marker": {
          "color": "#00cc96",
          "pattern": {
           "shape": ""
          }
         },
         "name": "pain",
         "offsetgroup": "pain",
         "orientation": "v",
         "showlegend": true,
         "type": "histogram",
         "x": [
          "2001",
          "2002",
          "2003",
          "2004",
          "2005",
          "2006",
          "2007",
          "2008",
          "2009",
          "2010",
          "2011",
          "2012",
          "2013",
          "2014",
          "2015",
          "2016",
          "2017",
          "2018",
          "2019",
          "2020"
         ],
         "xaxis": "x",
         "y": {
          "bdata": "rNcBANvmAQCl5QEA+OgBAGreAQBuuAEAG8UBALCeAQBnkwEA3JEBAP2LAQCbiQEATYUBAPSSAQDXvgEA/vABAOHfAQBDyAEAULwBAB4/AQA=",
          "dtype": "i4"
         },
         "yaxis": "y"
        },
        {
         "alignmentgroup": "True",
         "bingroup": "x",
         "histfunc": "sum",
         "hovertemplate": "Collision Severity=property damage only<br>Year=%{x}<br>sum of Frequency=%{y}<extra></extra>",
         "legendgroup": "property damage only",
         "marker": {
          "color": "#ab63fa",
          "pattern": {
           "shape": ""
          }
         },
         "name": "property damage only",
         "offsetgroup": "property damage only",
         "orientation": "v",
         "showlegend": true,
         "type": "histogram",
         "x": [
          "2001",
          "2002",
          "2003",
          "2004",
          "2005",
          "2006",
          "2007",
          "2008",
          "2009",
          "2010",
          "2011",
          "2012",
          "2013",
          "2014",
          "2015",
          "2016",
          "2017",
          "2018",
          "2019",
          "2020"
         ],
         "xaxis": "x",
         "y": {
          "bdata": "f9gEAP0fBQAvDQUAyA0FANMJBQD1xgQADcgEAMpBBAA79wMAzNsDAN6wAwDnjwMATmsDANWRAwDc6AMAWHcEAAVqBAB6YAQA6kQEAOFaAwA=",
          "dtype": "i4"
         },
         "yaxis": "y"
        },
        {
         "alignmentgroup": "True",
         "bingroup": "x",
         "histfunc": "sum",
         "hovertemplate": "Collision Severity=severe injury<br>Year=%{x}<br>sum of Frequency=%{y}<extra></extra>",
         "legendgroup": "severe injury",
         "marker": {
          "color": "#FFA15A",
          "pattern": {
           "shape": ""
          }
         },
         "name": "severe injury",
         "offsetgroup": "severe injury",
         "orientation": "v",
         "showlegend": true,
         "type": "histogram",
         "x": [
          "2001",
          "2002",
          "2003",
          "2004",
          "2005",
          "2006",
          "2007",
          "2008",
          "2009",
          "2010",
          "2011",
          "2012",
          "2013",
          "2014",
          "2015",
          "2016",
          "2017",
          "2018",
          "2019",
          "2020"
         ],
         "xaxis": "x",
         "y": {
          "bdata": "tikEK+Ip4CvRKsooHSuyJ4kk5yLNI7Ak1SM5JaMouCzBL0o22TZSMw==",
          "dtype": "i2"
         },
         "yaxis": "y"
        }
       ],
       "layout": {
        "barmode": "group",
        "legend": {
         "title": {
          "text": "Collision Severity"
         },
         "tracegroupgap": 0
        },
        "template": {
         "data": {
          "bar": [
           {
            "error_x": {
             "color": "#2a3f5f"
            },
            "error_y": {
             "color": "#2a3f5f"
            },
            "marker": {
             "line": {
              "color": "#E5ECF6",
              "width": 0.5
             },
             "pattern": {
              "fillmode": "overlay",
              "size": 10,
              "solidity": 0.2
             }
            },
            "type": "bar"
           }
          ],
          "barpolar": [
           {
            "marker": {
             "line": {
              "color": "#E5ECF6",
              "width": 0.5
             },
             "pattern": {
              "fillmode": "overlay",
              "size": 10,
              "solidity": 0.2
             }
            },
            "type": "barpolar"
           }
          ],
          "carpet": [
           {
            "aaxis": {
             "endlinecolor": "#2a3f5f",
             "gridcolor": "white",
             "linecolor": "white",
             "minorgridcolor": "white",
             "startlinecolor": "#2a3f5f"
            },
            "baxis": {
             "endlinecolor": "#2a3f5f",
             "gridcolor": "white",
             "linecolor": "white",
             "minorgridcolor": "white",
             "startlinecolor": "#2a3f5f"
            },
            "type": "carpet"
           }
          ],
          "choropleth": [
           {
            "colorbar": {
             "outlinewidth": 0,
             "ticks": ""
            },
            "type": "choropleth"
           }
          ],
          "contour": [
           {
            "colorbar": {
             "outlinewidth": 0,
             "ticks": ""
            },
            "colorscale": [
             [
              0,
              "#0d0887"
             ],
             [
              0.1111111111111111,
              "#46039f"
             ],
             [
              0.2222222222222222,
              "#7201a8"
             ],
             [
              0.3333333333333333,
              "#9c179e"
             ],
             [
              0.4444444444444444,
              "#bd3786"
             ],
             [
              0.5555555555555556,
              "#d8576b"
             ],
             [
              0.6666666666666666,
              "#ed7953"
             ],
             [
              0.7777777777777778,
              "#fb9f3a"
             ],
             [
              0.8888888888888888,
              "#fdca26"
             ],
             [
              1,
              "#f0f921"
             ]
            ],
            "type": "contour"
           }
          ],
          "contourcarpet": [
           {
            "colorbar": {
             "outlinewidth": 0,
             "ticks": ""
            },
            "type": "contourcarpet"
           }
          ],
          "heatmap": [
           {
            "colorbar": {
             "outlinewidth": 0,
             "ticks": ""
            },
            "colorscale": [
             [
              0,
              "#0d0887"
             ],
             [
              0.1111111111111111,
              "#46039f"
             ],
             [
              0.2222222222222222,
              "#7201a8"
             ],
             [
              0.3333333333333333,
              "#9c179e"
             ],
             [
              0.4444444444444444,
              "#bd3786"
             ],
             [
              0.5555555555555556,
              "#d8576b"
             ],
             [
              0.6666666666666666,
              "#ed7953"
             ],
             [
              0.7777777777777778,
              "#fb9f3a"
             ],
             [
              0.8888888888888888,
              "#fdca26"
             ],
             [
              1,
              "#f0f921"
             ]
            ],
            "type": "heatmap"
           }
          ],
          "histogram": [
           {
            "marker": {
             "pattern": {
              "fillmode": "overlay",
              "size": 10,
              "solidity": 0.2
             }
            },
            "type": "histogram"
           }
          ],
          "histogram2d": [
           {
            "colorbar": {
             "outlinewidth": 0,
             "ticks": ""
            },
            "colorscale": [
             [
              0,
              "#0d0887"
             ],
             [
              0.1111111111111111,
              "#46039f"
             ],
             [
              0.2222222222222222,
              "#7201a8"
             ],
             [
              0.3333333333333333,
              "#9c179e"
             ],
             [
              0.4444444444444444,
              "#bd3786"
             ],
             [
              0.5555555555555556,
              "#d8576b"
             ],
             [
              0.6666666666666666,
              "#ed7953"
             ],
             [
              0.7777777777777778,
              "#fb9f3a"
             ],
             [
              0.8888888888888888,
              "#fdca26"
             ],
             [
              1,
              "#f0f921"
             ]
            ],
            "type": "histogram2d"
           }
          ],
          "histogram2dcontour": [
           {
            "colorbar": {
             "outlinewidth": 0,
             "ticks": ""
            },
            "colorscale": [
             [
              0,
              "#0d0887"
             ],
             [
              0.1111111111111111,
              "#46039f"
             ],
             [
              0.2222222222222222,
              "#7201a8"
             ],
             [
              0.3333333333333333,
              "#9c179e"
             ],
             [
              0.4444444444444444,
              "#bd3786"
             ],
             [
              0.5555555555555556,
              "#d8576b"
             ],
             [
              0.6666666666666666,
              "#ed7953"
             ],
             [
              0.7777777777777778,
              "#fb9f3a"
             ],
             [
              0.8888888888888888,
              "#fdca26"
             ],
             [
              1,
              "#f0f921"
             ]
            ],
            "type": "histogram2dcontour"
           }
          ],
          "mesh3d": [
           {
            "colorbar": {
             "outlinewidth": 0,
             "ticks": ""
            },
            "type": "mesh3d"
           }
          ],
          "parcoords": [
           {
            "line": {
             "colorbar": {
              "outlinewidth": 0,
              "ticks": ""
             }
            },
            "type": "parcoords"
           }
          ],
          "pie": [
           {
            "automargin": true,
            "type": "pie"
           }
          ],
          "scatter": [
           {
            "fillpattern": {
             "fillmode": "overlay",
             "size": 10,
             "solidity": 0.2
            },
            "type": "scatter"
           }
          ],
          "scatter3d": [
           {
            "line": {
             "colorbar": {
              "outlinewidth": 0,
              "ticks": ""
             }
            },
            "marker": {
             "colorbar": {
              "outlinewidth": 0,
              "ticks": ""
             }
            },
            "type": "scatter3d"
           }
          ],
          "scattercarpet": [
           {
            "marker": {
             "colorbar": {
              "outlinewidth": 0,
              "ticks": ""
             }
            },
            "type": "scattercarpet"
           }
          ],
          "scattergeo": [
           {
            "marker": {
             "colorbar": {
              "outlinewidth": 0,
              "ticks": ""
             }
            },
            "type": "scattergeo"
           }
          ],
          "scattergl": [
           {
            "marker": {
             "colorbar": {
              "outlinewidth": 0,
              "ticks": ""
             }
            },
            "type": "scattergl"
           }
          ],
          "scattermap": [
           {
            "marker": {
             "colorbar": {
              "outlinewidth": 0,
              "ticks": ""
             }
            },
            "type": "scattermap"
           }
          ],
          "scattermapbox": [
           {
            "marker": {
             "colorbar": {
              "outlinewidth": 0,
              "ticks": ""
             }
            },
            "type": "scattermapbox"
           }
          ],
          "scatterpolar": [
           {
            "marker": {
             "colorbar": {
              "outlinewidth": 0,
              "ticks": ""
             }
            },
            "type": "scatterpolar"
           }
          ],
          "scatterpolargl": [
           {
            "marker": {
             "colorbar": {
              "outlinewidth": 0,
              "ticks": ""
             }
            },
            "type": "scatterpolargl"
           }
          ],
          "scatterternary": [
           {
            "marker": {
             "colorbar": {
              "outlinewidth": 0,
              "ticks": ""
             }
            },
            "type": "scatterternary"
           }
          ],
          "surface": [
           {
            "colorbar": {
             "outlinewidth": 0,
             "ticks": ""
            },
            "colorscale": [
             [
              0,
              "#0d0887"
             ],
             [
              0.1111111111111111,
              "#46039f"
             ],
             [
              0.2222222222222222,
              "#7201a8"
             ],
             [
              0.3333333333333333,
              "#9c179e"
             ],
             [
              0.4444444444444444,
              "#bd3786"
             ],
             [
              0.5555555555555556,
              "#d8576b"
             ],
             [
              0.6666666666666666,
              "#ed7953"
             ],
             [
              0.7777777777777778,
              "#fb9f3a"
             ],
             [
              0.8888888888888888,
              "#fdca26"
             ],
             [
              1,
              "#f0f921"
             ]
            ],
            "type": "surface"
           }
          ],
          "table": [
           {
            "cells": {
             "fill": {
              "color": "#EBF0F8"
             },
             "line": {
              "color": "white"
             }
            },
            "header": {
             "fill": {
              "color": "#C8D4E3"
             },
             "line": {
              "color": "white"
             }
            },
            "type": "table"
           }
          ]
         },
         "layout": {
          "annotationdefaults": {
           "arrowcolor": "#2a3f5f",
           "arrowhead": 0,
           "arrowwidth": 1
          },
          "autotypenumbers": "strict",
          "coloraxis": {
           "colorbar": {
            "outlinewidth": 0,
            "ticks": ""
           }
          },
          "colorscale": {
           "diverging": [
            [
             0,
             "#8e0152"
            ],
            [
             0.1,
             "#c51b7d"
            ],
            [
             0.2,
             "#de77ae"
            ],
            [
             0.3,
             "#f1b6da"
            ],
            [
             0.4,
             "#fde0ef"
            ],
            [
             0.5,
             "#f7f7f7"
            ],
            [
             0.6,
             "#e6f5d0"
            ],
            [
             0.7,
             "#b8e186"
            ],
            [
             0.8,
             "#7fbc41"
            ],
            [
             0.9,
             "#4d9221"
            ],
            [
             1,
             "#276419"
            ]
           ],
           "sequential": [
            [
             0,
             "#0d0887"
            ],
            [
             0.1111111111111111,
             "#46039f"
            ],
            [
             0.2222222222222222,
             "#7201a8"
            ],
            [
             0.3333333333333333,
             "#9c179e"
            ],
            [
             0.4444444444444444,
             "#bd3786"
            ],
            [
             0.5555555555555556,
             "#d8576b"
            ],
            [
             0.6666666666666666,
             "#ed7953"
            ],
            [
             0.7777777777777778,
             "#fb9f3a"
            ],
            [
             0.8888888888888888,
             "#fdca26"
            ],
            [
             1,
             "#f0f921"
            ]
           ],
           "sequentialminus": [
            [
             0,
             "#0d0887"
            ],
            [
             0.1111111111111111,
             "#46039f"
            ],
            [
             0.2222222222222222,
             "#7201a8"
            ],
            [
             0.3333333333333333,
             "#9c179e"
            ],
            [
             0.4444444444444444,
             "#bd3786"
            ],
            [
             0.5555555555555556,
             "#d8576b"
            ],
            [
             0.6666666666666666,
             "#ed7953"
            ],
            [
             0.7777777777777778,
             "#fb9f3a"
            ],
            [
             0.8888888888888888,
             "#fdca26"
            ],
            [
             1,
             "#f0f921"
            ]
           ]
          },
          "colorway": [
           "#636efa",
           "#EF553B",
           "#00cc96",
           "#ab63fa",
           "#FFA15A",
           "#19d3f3",
           "#FF6692",
           "#B6E880",
           "#FF97FF",
           "#FECB52"
          ],
          "font": {
           "color": "#2a3f5f"
          },
          "geo": {
           "bgcolor": "white",
           "lakecolor": "white",
           "landcolor": "#E5ECF6",
           "showlakes": true,
           "showland": true,
           "subunitcolor": "white"
          },
          "hoverlabel": {
           "align": "left"
          },
          "hovermode": "closest",
          "mapbox": {
           "style": "light"
          },
          "paper_bgcolor": "white",
          "plot_bgcolor": "#E5ECF6",
          "polar": {
           "angularaxis": {
            "gridcolor": "white",
            "linecolor": "white",
            "ticks": ""
           },
           "bgcolor": "#E5ECF6",
           "radialaxis": {
            "gridcolor": "white",
            "linecolor": "white",
            "ticks": ""
           }
          },
          "scene": {
           "xaxis": {
            "backgroundcolor": "#E5ECF6",
            "gridcolor": "white",
            "gridwidth": 2,
            "linecolor": "white",
            "showbackground": true,
            "ticks": "",
            "zerolinecolor": "white"
           },
           "yaxis": {
            "backgroundcolor": "#E5ECF6",
            "gridcolor": "white",
            "gridwidth": 2,
            "linecolor": "white",
            "showbackground": true,
            "ticks": "",
            "zerolinecolor": "white"
           },
           "zaxis": {
            "backgroundcolor": "#E5ECF6",
            "gridcolor": "white",
            "gridwidth": 2,
            "linecolor": "white",
            "showbackground": true,
            "ticks": "",
            "zerolinecolor": "white"
           }
          },
          "shapedefaults": {
           "line": {
            "color": "#2a3f5f"
           }
          },
          "ternary": {
           "aaxis": {
            "gridcolor": "white",
            "linecolor": "white",
            "ticks": ""
           },
           "baxis": {
            "gridcolor": "white",
            "linecolor": "white",
            "ticks": ""
           },
           "bgcolor": "#E5ECF6",
           "caxis": {
            "gridcolor": "white",
            "linecolor": "white",
            "ticks": ""
           }
          },
          "title": {
           "x": 0.05
          },
          "xaxis": {
           "automargin": true,
           "gridcolor": "white",
           "linecolor": "white",
           "ticks": "",
           "title": {
            "standoff": 15
           },
           "zerolinecolor": "white",
           "zerolinewidth": 2
          },
          "yaxis": {
           "automargin": true,
           "gridcolor": "white",
           "linecolor": "white",
           "ticks": "",
           "title": {
            "standoff": 15
           },
           "zerolinecolor": "white",
           "zerolinewidth": 2
          }
         }
        },
        "title": {
         "text": "Severity of accidents from 2001 to 2020"
        },
        "xaxis": {
         "anchor": "y",
         "domain": [
          0,
          1
         ],
         "title": {
          "text": "Year"
         }
        },
        "yaxis": {
         "anchor": "x",
         "domain": [
          0,
          1
         ],
         "title": {
          "text": "sum of Frequency"
         }
        }
       }
      }
     },
     "metadata": {},
     "output_type": "display_data"
    },
    {
     "name": "stdout",
     "output_type": "stream",
     "text": [
      "The interactive graph can be found in the file severity_graph.html\n"
     ]
    }
   ],
   "source": [
    "fig2 = px.histogram(data2, x='year', y='severity_count', barmode=\"group\",\n",
    "              color='collision_severity', \n",
    "              title=\"Severity of accidents from 2001 to 2020\",\n",
    "              labels= {\n",
    "                  'year': 'Year',\n",
    "                  'severity_count': 'Frequency',\n",
    "                  'collision_severity': 'Collision Severity'\n",
    "              })\n",
    "fig2.show()\n",
    "fig2.write_html(\"severity_graph\")\n",
    "print(\"The interactive graph can be found in the file severity_graph.html\")"
   ]
  },
  {
   "cell_type": "markdown",
   "id": "0a576a68",
   "metadata": {},
   "source": [
    "From the graph displaying the severity of accidents we can see that accidents where there is only damage of property are by far the most common accidents. The second most common is accidents resulting in pain. The third most common are accidents resulting in non severe injury (called other injury in the data). The fourth most commno is severe injusry and the fifth is fatal collisions."
   ]
  },
  {
   "cell_type": "markdown",
   "id": "d4683749",
   "metadata": {},
   "source": [
    "# Part 2\n",
    "### Build neural network that predicts accident severity\n",
    "\n",
    "The next part of this assignment will be about building a neural network which can predict collision severity type.\n",
    "\n",
    "Included features:\n",
    "- collision_time: Time crash occured (only used hour of day, processed as numerical)\n",
    "- year: Year accident took place (categorical)\n",
    "-month: Month the accident took place (categorical)\n",
    "- chp_beat_type: Location of crash (categorical)\n",
    "- distance: Distance of the crash from the intersection with secondary road (numerical)\n",
    "- direction: Direction of the crash from the intersection with the secondary roadway (categorical)\n",
    "- weather1: Weather condition at the time of the crash (categorical)\n",
    "- party_count: Number of vehicles involved in crash (numerical)\n",
    "- primary_coll_factor: Primary collision factor (categorical)\n",
    "- type_of_collision: The general type of crash (categorical)\n",
    "- motor_vehicle_involved_with: Describes what, in conjunction with a motor vehicle in-transport, produced the first injury or damage-causing event, on or off the road (categorical)\n",
    "- road_surface: Roadway surface condition at the time of the crash (categorical)\n",
    "- road_cond_1: Roadway condition at the time of the crash (categorical)\n",
    "- lighting: Lighting conditions at the crash location and the time of the crash (categorical)\n",
    "- bicycle_accident: Indicates whether the crash involved a bicycle (binary)\n",
    "- motorcycle_accident: Indicates whether the crash involved a motorcycle (binary)\n",
    "- truck_accident: \tIndicates whether the crash involved a big truck (binary)\n",
    "\n",
    "##### Get the data using sqlite\n"
   ]
  },
  {
   "cell_type": "code",
   "execution_count": 22,
   "id": "92601514",
   "metadata": {},
   "outputs": [
    {
     "data": {
      "text/html": [
       "<div>\n",
       "<style scoped>\n",
       "    .dataframe tbody tr th:only-of-type {\n",
       "        vertical-align: middle;\n",
       "    }\n",
       "\n",
       "    .dataframe tbody tr th {\n",
       "        vertical-align: top;\n",
       "    }\n",
       "\n",
       "    .dataframe thead th {\n",
       "        text-align: right;\n",
       "    }\n",
       "</style>\n",
       "<table border=\"1\" class=\"dataframe\">\n",
       "  <thead>\n",
       "    <tr style=\"text-align: right;\">\n",
       "      <th></th>\n",
       "      <th>collision_severity</th>\n",
       "      <th>collision_time</th>\n",
       "      <th>year</th>\n",
       "      <th>month</th>\n",
       "      <th>chp_beat_type</th>\n",
       "      <th>distance</th>\n",
       "      <th>weather_1</th>\n",
       "      <th>party_count</th>\n",
       "      <th>primary_collision_factor</th>\n",
       "      <th>type_of_collision</th>\n",
       "      <th>motor_vehicle_involved_with</th>\n",
       "      <th>road_surface</th>\n",
       "      <th>road_condition_1</th>\n",
       "      <th>lighting</th>\n",
       "      <th>bicycle_collision</th>\n",
       "      <th>motorcycle_collision</th>\n",
       "      <th>truck_collision</th>\n",
       "    </tr>\n",
       "  </thead>\n",
       "  <tbody>\n",
       "    <tr>\n",
       "      <th>0</th>\n",
       "      <td>property damage only</td>\n",
       "      <td>01:11:00</td>\n",
       "      <td>2003</td>\n",
       "      <td>01</td>\n",
       "      <td>not chp</td>\n",
       "      <td>0.0</td>\n",
       "      <td>clear</td>\n",
       "      <td>2</td>\n",
       "      <td>vehicle code violation</td>\n",
       "      <td>sideswipe</td>\n",
       "      <td>other motor vehicle</td>\n",
       "      <td>dry</td>\n",
       "      <td>normal</td>\n",
       "      <td>dark with street lights</td>\n",
       "      <td>0</td>\n",
       "      <td>0</td>\n",
       "      <td>0</td>\n",
       "    </tr>\n",
       "    <tr>\n",
       "      <th>1</th>\n",
       "      <td>property damage only</td>\n",
       "      <td>17:46:00</td>\n",
       "      <td>2008</td>\n",
       "      <td>07</td>\n",
       "      <td>not chp</td>\n",
       "      <td>600.0</td>\n",
       "      <td>clear</td>\n",
       "      <td>1</td>\n",
       "      <td>unknown</td>\n",
       "      <td>hit object</td>\n",
       "      <td>fixed object</td>\n",
       "      <td>dry</td>\n",
       "      <td>normal</td>\n",
       "      <td>daylight</td>\n",
       "      <td>0</td>\n",
       "      <td>0</td>\n",
       "      <td>0</td>\n",
       "    </tr>\n",
       "    <tr>\n",
       "      <th>2</th>\n",
       "      <td>property damage only</td>\n",
       "      <td>14:20:00</td>\n",
       "      <td>2017</td>\n",
       "      <td>05</td>\n",
       "      <td>interstate</td>\n",
       "      <td>2640.0</td>\n",
       "      <td>clear</td>\n",
       "      <td>2</td>\n",
       "      <td>vehicle code violation</td>\n",
       "      <td>rear end</td>\n",
       "      <td>other motor vehicle</td>\n",
       "      <td>dry</td>\n",
       "      <td>normal</td>\n",
       "      <td>daylight</td>\n",
       "      <td>0</td>\n",
       "      <td>0</td>\n",
       "      <td>1</td>\n",
       "    </tr>\n",
       "    <tr>\n",
       "      <th>3</th>\n",
       "      <td>other injury</td>\n",
       "      <td>16:17:00</td>\n",
       "      <td>2015</td>\n",
       "      <td>07</td>\n",
       "      <td>not chp</td>\n",
       "      <td>37.0</td>\n",
       "      <td>clear</td>\n",
       "      <td>2</td>\n",
       "      <td>vehicle code violation</td>\n",
       "      <td>rear end</td>\n",
       "      <td>other motor vehicle</td>\n",
       "      <td>dry</td>\n",
       "      <td>normal</td>\n",
       "      <td>daylight</td>\n",
       "      <td>0</td>\n",
       "      <td>0</td>\n",
       "      <td>0</td>\n",
       "    </tr>\n",
       "    <tr>\n",
       "      <th>4</th>\n",
       "      <td>other injury</td>\n",
       "      <td>01:41:00</td>\n",
       "      <td>2008</td>\n",
       "      <td>01</td>\n",
       "      <td>interstate</td>\n",
       "      <td>50.0</td>\n",
       "      <td>clear</td>\n",
       "      <td>1</td>\n",
       "      <td>vehicle code violation</td>\n",
       "      <td>overturned</td>\n",
       "      <td>non-collision</td>\n",
       "      <td>dry</td>\n",
       "      <td>normal</td>\n",
       "      <td>dark with street lights</td>\n",
       "      <td>0</td>\n",
       "      <td>0</td>\n",
       "      <td>0</td>\n",
       "    </tr>\n",
       "    <tr>\n",
       "      <th>5</th>\n",
       "      <td>pain</td>\n",
       "      <td>16:20:00</td>\n",
       "      <td>2010</td>\n",
       "      <td>08</td>\n",
       "      <td>not chp</td>\n",
       "      <td>101.0</td>\n",
       "      <td>raining</td>\n",
       "      <td>2</td>\n",
       "      <td>vehicle code violation</td>\n",
       "      <td>pedestrian</td>\n",
       "      <td>pedestrian</td>\n",
       "      <td>wet</td>\n",
       "      <td>flooded</td>\n",
       "      <td>dusk or dawn</td>\n",
       "      <td>0</td>\n",
       "      <td>0</td>\n",
       "      <td>0</td>\n",
       "    </tr>\n",
       "    <tr>\n",
       "      <th>6</th>\n",
       "      <td>other injury</td>\n",
       "      <td>14:55:00</td>\n",
       "      <td>2006</td>\n",
       "      <td>09</td>\n",
       "      <td>county road area</td>\n",
       "      <td>4.0</td>\n",
       "      <td>clear</td>\n",
       "      <td>2</td>\n",
       "      <td>vehicle code violation</td>\n",
       "      <td>other</td>\n",
       "      <td>bicycle</td>\n",
       "      <td>dry</td>\n",
       "      <td>normal</td>\n",
       "      <td>daylight</td>\n",
       "      <td>1</td>\n",
       "      <td>0</td>\n",
       "      <td>0</td>\n",
       "    </tr>\n",
       "    <tr>\n",
       "      <th>7</th>\n",
       "      <td>property damage only</td>\n",
       "      <td>22:17:00</td>\n",
       "      <td>2005</td>\n",
       "      <td>12</td>\n",
       "      <td>not chp</td>\n",
       "      <td>15.0</td>\n",
       "      <td>clear</td>\n",
       "      <td>2</td>\n",
       "      <td>vehicle code violation</td>\n",
       "      <td>rear end</td>\n",
       "      <td>other motor vehicle</td>\n",
       "      <td>dry</td>\n",
       "      <td>normal</td>\n",
       "      <td>dark with street lights</td>\n",
       "      <td>0</td>\n",
       "      <td>0</td>\n",
       "      <td>0</td>\n",
       "    </tr>\n",
       "    <tr>\n",
       "      <th>8</th>\n",
       "      <td>property damage only</td>\n",
       "      <td>13:00:00</td>\n",
       "      <td>2001</td>\n",
       "      <td>10</td>\n",
       "      <td>county road line</td>\n",
       "      <td>500.0</td>\n",
       "      <td>clear</td>\n",
       "      <td>2</td>\n",
       "      <td>unknown</td>\n",
       "      <td>sideswipe</td>\n",
       "      <td>other motor vehicle</td>\n",
       "      <td>dry</td>\n",
       "      <td>normal</td>\n",
       "      <td>daylight</td>\n",
       "      <td>0</td>\n",
       "      <td>0</td>\n",
       "      <td>0</td>\n",
       "    </tr>\n",
       "    <tr>\n",
       "      <th>9</th>\n",
       "      <td>property damage only</td>\n",
       "      <td>08:15:00</td>\n",
       "      <td>2011</td>\n",
       "      <td>02</td>\n",
       "      <td>not chp</td>\n",
       "      <td>15.0</td>\n",
       "      <td>clear</td>\n",
       "      <td>2</td>\n",
       "      <td>vehicle code violation</td>\n",
       "      <td>other</td>\n",
       "      <td>fixed object</td>\n",
       "      <td>dry</td>\n",
       "      <td>normal</td>\n",
       "      <td>daylight</td>\n",
       "      <td>0</td>\n",
       "      <td>0</td>\n",
       "      <td>0</td>\n",
       "    </tr>\n",
       "  </tbody>\n",
       "</table>\n",
       "</div>"
      ],
      "text/plain": [
       "     collision_severity collision_time  year month     chp_beat_type  \\\n",
       "0  property damage only       01:11:00  2003    01           not chp   \n",
       "1  property damage only       17:46:00  2008    07           not chp   \n",
       "2  property damage only       14:20:00  2017    05        interstate   \n",
       "3          other injury       16:17:00  2015    07           not chp   \n",
       "4          other injury       01:41:00  2008    01        interstate   \n",
       "5                  pain       16:20:00  2010    08           not chp   \n",
       "6          other injury       14:55:00  2006    09  county road area   \n",
       "7  property damage only       22:17:00  2005    12           not chp   \n",
       "8  property damage only       13:00:00  2001    10  county road line   \n",
       "9  property damage only       08:15:00  2011    02           not chp   \n",
       "\n",
       "   distance weather_1  party_count primary_collision_factor type_of_collision  \\\n",
       "0       0.0     clear            2   vehicle code violation         sideswipe   \n",
       "1     600.0     clear            1                  unknown        hit object   \n",
       "2    2640.0     clear            2   vehicle code violation          rear end   \n",
       "3      37.0     clear            2   vehicle code violation          rear end   \n",
       "4      50.0     clear            1   vehicle code violation        overturned   \n",
       "5     101.0   raining            2   vehicle code violation        pedestrian   \n",
       "6       4.0     clear            2   vehicle code violation             other   \n",
       "7      15.0     clear            2   vehicle code violation          rear end   \n",
       "8     500.0     clear            2                  unknown         sideswipe   \n",
       "9      15.0     clear            2   vehicle code violation             other   \n",
       "\n",
       "  motor_vehicle_involved_with road_surface road_condition_1  \\\n",
       "0         other motor vehicle          dry           normal   \n",
       "1                fixed object          dry           normal   \n",
       "2         other motor vehicle          dry           normal   \n",
       "3         other motor vehicle          dry           normal   \n",
       "4               non-collision          dry           normal   \n",
       "5                  pedestrian          wet          flooded   \n",
       "6                     bicycle          dry           normal   \n",
       "7         other motor vehicle          dry           normal   \n",
       "8         other motor vehicle          dry           normal   \n",
       "9                fixed object          dry           normal   \n",
       "\n",
       "                  lighting  bicycle_collision  motorcycle_collision  \\\n",
       "0  dark with street lights                  0                     0   \n",
       "1                 daylight                  0                     0   \n",
       "2                 daylight                  0                     0   \n",
       "3                 daylight                  0                     0   \n",
       "4  dark with street lights                  0                     0   \n",
       "5             dusk or dawn                  0                     0   \n",
       "6                 daylight                  1                     0   \n",
       "7  dark with street lights                  0                     0   \n",
       "8                 daylight                  0                     0   \n",
       "9                 daylight                  0                     0   \n",
       "\n",
       "   truck_collision  \n",
       "0                0  \n",
       "1                0  \n",
       "2                1  \n",
       "3                0  \n",
       "4                0  \n",
       "5                0  \n",
       "6                0  \n",
       "7                0  \n",
       "8                0  \n",
       "9                0  "
      ]
     },
     "metadata": {},
     "output_type": "display_data"
    }
   ],
   "source": [
    "# select all columns, randomly order the data and select 10,000 data points (using all data points is too much to process)\n",
    "queryNN = \"\"\"\n",
    "SELECT collision_severity,\n",
    "collision_time,\n",
    "strftime('%Y', collision_date) as year,\n",
    "strftime('%m', collision_date)as month,\n",
    "chp_beat_type,\n",
    "distance,\n",
    "weather_1,\n",
    "party_count,\n",
    "primary_collision_factor,\n",
    "type_of_collision,\n",
    "motor_vehicle_involved_with,\n",
    "road_surface,\n",
    "road_condition_1,\n",
    "lighting,\n",
    "bicycle_collision,\n",
    "motorcycle_collision,\n",
    "truck_collision\n",
    "FROM collisions\n",
    "ORDER BY RANDOM()\n",
    "LIMIT 10000\n",
    "\"\"\"\n",
    "\n",
    "dataNN = pd.read_sql(queryNN,con)\n",
    "display(dataNN.iloc[:10])"
   ]
  },
  {
   "cell_type": "markdown",
   "id": "d14bd0cd",
   "metadata": {},
   "source": [
    "### Clean the data\n",
    "##### Get the hour of the day and transform to float"
   ]
  },
  {
   "cell_type": "code",
   "execution_count": 23,
   "id": "2b366965",
   "metadata": {},
   "outputs": [],
   "source": [
    "# get hour of day from the time column\n",
    "dataNN[\"collision_time\"] = dataNN[\"collision_time\"].str.split(\":\").str[0].astype(float)"
   ]
  },
  {
   "cell_type": "markdown",
   "id": "b4c43a65",
   "metadata": {},
   "source": [
    "##### One hot encode categorical variables"
   ]
  },
  {
   "cell_type": "code",
   "execution_count": 24,
   "id": "18ef7757",
   "metadata": {},
   "outputs": [],
   "source": [
    "# one hot encode variables\n",
    "data_rows_encode = [\"year\",\"month\",\"chp_beat_type\", \"weather_1\",\"primary_collision_factor\", \n",
    "               \"type_of_collision\", \"motor_vehicle_involved_with\", \"road_surface\",\n",
    "               \"road_condition_1\",\"lighting\"]\n",
    "\n",
    "\n",
    "data_dummies = pd.get_dummies(dataNN[data_rows_encode])\n",
    "label_dummies = pd.get_dummies(dataNN[\"collision_severity\"])\n",
    "\n",
    "#display(data_dummies)\n",
    "#display(label_dummies)\n"
   ]
  },
  {
   "cell_type": "markdown",
   "id": "de9bf2af",
   "metadata": {},
   "source": [
    "##### Create df with the data to use in the neural network and transform into a numpy array"
   ]
  },
  {
   "cell_type": "code",
   "execution_count": 25,
   "id": "68801c89",
   "metadata": {},
   "outputs": [
    {
     "name": "stdout",
     "output_type": "stream",
     "text": [
      "(10000, 5)\n",
      "(10000, 95)\n"
     ]
    }
   ],
   "source": [
    "# drop rows that were one hot encoded and the labels and merge df with dummie variables\n",
    "final_data = dataNN.drop(data_rows_encode + [\"collision_severity\"],axis=1).merge(data_dummies,left_index=True, right_index=True)\n",
    "\n",
    "# fill na's for collision time with the mean collision time\n",
    "final_data[\"collision_time\"] = final_data[\"collision_time\"].fillna(value=np.mean(final_data[\"collision_time\"]))\n",
    "\n",
    "# normalize the numeric variables (collision_time, distance, party_count)\n",
    "numerical = [\"collision_time\", \"distance\", \"party_count\"]\n",
    "final_data[numerical] = final_data[numerical].apply(zscore)\n",
    "\n",
    "# transform df to array\n",
    "data_array_NN = final_data.to_numpy()\n",
    "labels_array_NN = label_dummies.to_numpy()\n",
    "print(labels_array_NN.shape)\n",
    "print(data_array_NN.shape)"
   ]
  },
  {
   "cell_type": "markdown",
   "id": "5dbce099",
   "metadata": {},
   "source": [
    "##### Build neural network"
   ]
  },
  {
   "cell_type": "code",
   "execution_count": 26,
   "id": "49ff44e2",
   "metadata": {},
   "outputs": [],
   "source": [
    "# get testing and training set\n",
    "from sklearn.model_selection import train_test_split\n",
    "\n",
    "# Make sure all numbers in the array are floats\n",
    "data_array_NN = np.array(data_array_NN).astype(np.float32)\n",
    "labels_array_NN = np.array(labels_array_NN).astype(np.float32)\n",
    "\n",
    "# split the data using train_test_split with a training set of 70% of the data and a testing set containing 30%\n",
    "X_train, X_test, y_train, y_test = train_test_split(data_array_NN, labels_array_NN, train_size=0.7)\n"
   ]
  },
  {
   "cell_type": "markdown",
   "id": "dcf25561",
   "metadata": {},
   "source": [
    "##### Version 1\n",
    "This model contains two dense layers which use a ReLu activation function, the first containing 100 nodes and the second with 200 nodes. The model contains an output layer using a softmax activation function.\n",
    "\n",
    "From the plots showing the loss and the accuracy between the training and testing data we can see that the model is overfitting the training data."
   ]
  },
  {
   "cell_type": "code",
   "execution_count": 27,
   "id": "f0b4d779",
   "metadata": {},
   "outputs": [
    {
     "name": "stdout",
     "output_type": "stream",
     "text": [
      "Epoch 1/80\n"
     ]
    },
    {
     "name": "stderr",
     "output_type": "stream",
     "text": [
      "c:\\Users\\miade\\miniconda3\\envs\\SP\\Lib\\site-packages\\keras\\src\\layers\\core\\dense.py:93: UserWarning:\n",
      "\n",
      "Do not pass an `input_shape`/`input_dim` argument to a layer. When using Sequential models, prefer using an `Input(shape)` object as the first layer in the model instead.\n",
      "\n"
     ]
    },
    {
     "name": "stdout",
     "output_type": "stream",
     "text": [
      "\u001b[1m63/63\u001b[0m \u001b[32m━━━━━━━━━━━━━━━━━━━━\u001b[0m\u001b[37m\u001b[0m \u001b[1m1s\u001b[0m 5ms/step - accuracy: 0.5825 - loss: 1.1056 - val_accuracy: 0.6043 - val_loss: 0.9453\n",
      "Epoch 2/80\n",
      "\u001b[1m63/63\u001b[0m \u001b[32m━━━━━━━━━━━━━━━━━━━━\u001b[0m\u001b[37m\u001b[0m \u001b[1m0s\u001b[0m 3ms/step - accuracy: 0.6370 - loss: 0.9049 - val_accuracy: 0.6157 - val_loss: 0.9380\n",
      "Epoch 3/80\n",
      "\u001b[1m63/63\u001b[0m \u001b[32m━━━━━━━━━━━━━━━━━━━━\u001b[0m\u001b[37m\u001b[0m \u001b[1m0s\u001b[0m 3ms/step - accuracy: 0.6499 - loss: 0.8740 - val_accuracy: 0.6243 - val_loss: 0.9061\n",
      "Epoch 4/80\n",
      "\u001b[1m63/63\u001b[0m \u001b[32m━━━━━━━━━━━━━━━━━━━━\u001b[0m\u001b[37m\u001b[0m \u001b[1m0s\u001b[0m 3ms/step - accuracy: 0.6513 - loss: 0.8653 - val_accuracy: 0.6186 - val_loss: 0.9182\n",
      "Epoch 5/80\n",
      "\u001b[1m63/63\u001b[0m \u001b[32m━━━━━━━━━━━━━━━━━━━━\u001b[0m\u001b[37m\u001b[0m \u001b[1m0s\u001b[0m 3ms/step - accuracy: 0.6451 - loss: 0.8457 - val_accuracy: 0.6186 - val_loss: 0.9151\n",
      "Epoch 6/80\n",
      "\u001b[1m63/63\u001b[0m \u001b[32m━━━━━━━━━━━━━━━━━━━━\u001b[0m\u001b[37m\u001b[0m \u001b[1m0s\u001b[0m 3ms/step - accuracy: 0.6502 - loss: 0.8502 - val_accuracy: 0.5914 - val_loss: 0.9193\n",
      "Epoch 7/80\n",
      "\u001b[1m63/63\u001b[0m \u001b[32m━━━━━━━━━━━━━━━━━━━━\u001b[0m\u001b[37m\u001b[0m \u001b[1m0s\u001b[0m 3ms/step - accuracy: 0.6555 - loss: 0.8296 - val_accuracy: 0.6157 - val_loss: 0.9066\n",
      "Epoch 8/80\n",
      "\u001b[1m63/63\u001b[0m \u001b[32m━━━━━━━━━━━━━━━━━━━━\u001b[0m\u001b[37m\u001b[0m \u001b[1m0s\u001b[0m 3ms/step - accuracy: 0.6606 - loss: 0.8248 - val_accuracy: 0.5943 - val_loss: 0.9107\n",
      "Epoch 9/80\n",
      "\u001b[1m63/63\u001b[0m \u001b[32m━━━━━━━━━━━━━━━━━━━━\u001b[0m\u001b[37m\u001b[0m \u001b[1m0s\u001b[0m 3ms/step - accuracy: 0.6613 - loss: 0.8185 - val_accuracy: 0.6186 - val_loss: 0.9093\n",
      "Epoch 10/80\n",
      "\u001b[1m63/63\u001b[0m \u001b[32m━━━━━━━━━━━━━━━━━━━━\u001b[0m\u001b[37m\u001b[0m \u001b[1m0s\u001b[0m 3ms/step - accuracy: 0.6558 - loss: 0.8226 - val_accuracy: 0.6229 - val_loss: 0.9101\n",
      "Epoch 11/80\n",
      "\u001b[1m63/63\u001b[0m \u001b[32m━━━━━━━━━━━━━━━━━━━━\u001b[0m\u001b[37m\u001b[0m \u001b[1m0s\u001b[0m 3ms/step - accuracy: 0.6685 - loss: 0.7822 - val_accuracy: 0.6057 - val_loss: 0.9215\n",
      "Epoch 12/80\n",
      "\u001b[1m63/63\u001b[0m \u001b[32m━━━━━━━━━━━━━━━━━━━━\u001b[0m\u001b[37m\u001b[0m \u001b[1m0s\u001b[0m 3ms/step - accuracy: 0.6786 - loss: 0.7841 - val_accuracy: 0.6157 - val_loss: 0.9237\n",
      "Epoch 13/80\n",
      "\u001b[1m63/63\u001b[0m \u001b[32m━━━━━━━━━━━━━━━━━━━━\u001b[0m\u001b[37m\u001b[0m \u001b[1m0s\u001b[0m 3ms/step - accuracy: 0.6878 - loss: 0.7693 - val_accuracy: 0.6186 - val_loss: 0.9334\n",
      "Epoch 14/80\n",
      "\u001b[1m63/63\u001b[0m \u001b[32m━━━━━━━━━━━━━━━━━━━━\u001b[0m\u001b[37m\u001b[0m \u001b[1m0s\u001b[0m 3ms/step - accuracy: 0.6872 - loss: 0.7630 - val_accuracy: 0.6186 - val_loss: 0.9292\n",
      "Epoch 15/80\n",
      "\u001b[1m63/63\u001b[0m \u001b[32m━━━━━━━━━━━━━━━━━━━━\u001b[0m\u001b[37m\u001b[0m \u001b[1m0s\u001b[0m 3ms/step - accuracy: 0.6856 - loss: 0.7528 - val_accuracy: 0.6000 - val_loss: 0.9413\n",
      "Epoch 16/80\n",
      "\u001b[1m63/63\u001b[0m \u001b[32m━━━━━━━━━━━━━━━━━━━━\u001b[0m\u001b[37m\u001b[0m \u001b[1m0s\u001b[0m 3ms/step - accuracy: 0.6855 - loss: 0.7514 - val_accuracy: 0.6043 - val_loss: 0.9423\n",
      "Epoch 17/80\n",
      "\u001b[1m63/63\u001b[0m \u001b[32m━━━━━━━━━━━━━━━━━━━━\u001b[0m\u001b[37m\u001b[0m \u001b[1m0s\u001b[0m 3ms/step - accuracy: 0.6927 - loss: 0.7323 - val_accuracy: 0.6100 - val_loss: 0.9739\n",
      "Epoch 18/80\n",
      "\u001b[1m63/63\u001b[0m \u001b[32m━━━━━━━━━━━━━━━━━━━━\u001b[0m\u001b[37m\u001b[0m \u001b[1m0s\u001b[0m 3ms/step - accuracy: 0.6985 - loss: 0.7285 - val_accuracy: 0.5886 - val_loss: 0.9588\n",
      "Epoch 19/80\n",
      "\u001b[1m63/63\u001b[0m \u001b[32m━━━━━━━━━━━━━━━━━━━━\u001b[0m\u001b[37m\u001b[0m \u001b[1m0s\u001b[0m 3ms/step - accuracy: 0.7135 - loss: 0.7046 - val_accuracy: 0.6157 - val_loss: 0.9706\n",
      "Epoch 20/80\n",
      "\u001b[1m63/63\u001b[0m \u001b[32m━━━━━━━━━━━━━━━━━━━━\u001b[0m\u001b[37m\u001b[0m \u001b[1m0s\u001b[0m 3ms/step - accuracy: 0.7032 - loss: 0.6970 - val_accuracy: 0.6143 - val_loss: 0.9727\n",
      "Epoch 21/80\n",
      "\u001b[1m63/63\u001b[0m \u001b[32m━━━━━━━━━━━━━━━━━━━━\u001b[0m\u001b[37m\u001b[0m \u001b[1m0s\u001b[0m 3ms/step - accuracy: 0.7164 - loss: 0.6930 - val_accuracy: 0.6029 - val_loss: 0.9758\n",
      "Epoch 22/80\n",
      "\u001b[1m63/63\u001b[0m \u001b[32m━━━━━━━━━━━━━━━━━━━━\u001b[0m\u001b[37m\u001b[0m \u001b[1m0s\u001b[0m 3ms/step - accuracy: 0.7143 - loss: 0.6771 - val_accuracy: 0.5829 - val_loss: 0.9896\n",
      "Epoch 23/80\n",
      "\u001b[1m63/63\u001b[0m \u001b[32m━━━━━━━━━━━━━━━━━━━━\u001b[0m\u001b[37m\u001b[0m \u001b[1m0s\u001b[0m 3ms/step - accuracy: 0.7185 - loss: 0.6762 - val_accuracy: 0.6000 - val_loss: 0.9918\n",
      "Epoch 24/80\n",
      "\u001b[1m63/63\u001b[0m \u001b[32m━━━━━━━━━━━━━━━━━━━━\u001b[0m\u001b[37m\u001b[0m \u001b[1m0s\u001b[0m 3ms/step - accuracy: 0.7358 - loss: 0.6519 - val_accuracy: 0.5900 - val_loss: 0.9968\n",
      "Epoch 25/80\n",
      "\u001b[1m63/63\u001b[0m \u001b[32m━━━━━━━━━━━━━━━━━━━━\u001b[0m\u001b[37m\u001b[0m \u001b[1m0s\u001b[0m 3ms/step - accuracy: 0.7372 - loss: 0.6554 - val_accuracy: 0.5943 - val_loss: 1.0182\n",
      "Epoch 26/80\n",
      "\u001b[1m63/63\u001b[0m \u001b[32m━━━━━━━━━━━━━━━━━━━━\u001b[0m\u001b[37m\u001b[0m \u001b[1m0s\u001b[0m 3ms/step - accuracy: 0.7431 - loss: 0.6460 - val_accuracy: 0.5629 - val_loss: 1.0220\n",
      "Epoch 27/80\n",
      "\u001b[1m63/63\u001b[0m \u001b[32m━━━━━━━━━━━━━━━━━━━━\u001b[0m\u001b[37m\u001b[0m \u001b[1m0s\u001b[0m 3ms/step - accuracy: 0.7422 - loss: 0.6318 - val_accuracy: 0.5743 - val_loss: 1.0201\n",
      "Epoch 28/80\n",
      "\u001b[1m63/63\u001b[0m \u001b[32m━━━━━━━━━━━━━━━━━━━━\u001b[0m\u001b[37m\u001b[0m \u001b[1m0s\u001b[0m 3ms/step - accuracy: 0.7602 - loss: 0.6076 - val_accuracy: 0.5671 - val_loss: 1.0353\n",
      "Epoch 29/80\n",
      "\u001b[1m63/63\u001b[0m \u001b[32m━━━━━━━━━━━━━━━━━━━━\u001b[0m\u001b[37m\u001b[0m \u001b[1m0s\u001b[0m 3ms/step - accuracy: 0.7600 - loss: 0.6152 - val_accuracy: 0.5729 - val_loss: 1.0330\n",
      "Epoch 30/80\n",
      "\u001b[1m63/63\u001b[0m \u001b[32m━━━━━━━━━━━━━━━━━━━━\u001b[0m\u001b[37m\u001b[0m \u001b[1m0s\u001b[0m 3ms/step - accuracy: 0.7597 - loss: 0.5977 - val_accuracy: 0.5571 - val_loss: 1.0671\n",
      "Epoch 31/80\n",
      "\u001b[1m63/63\u001b[0m \u001b[32m━━━━━━━━━━━━━━━━━━━━\u001b[0m\u001b[37m\u001b[0m \u001b[1m0s\u001b[0m 3ms/step - accuracy: 0.7596 - loss: 0.5853 - val_accuracy: 0.5586 - val_loss: 1.0624\n",
      "Epoch 32/80\n",
      "\u001b[1m63/63\u001b[0m \u001b[32m━━━━━━━━━━━━━━━━━━━━\u001b[0m\u001b[37m\u001b[0m \u001b[1m0s\u001b[0m 3ms/step - accuracy: 0.7797 - loss: 0.5644 - val_accuracy: 0.5871 - val_loss: 1.0950\n",
      "Epoch 33/80\n",
      "\u001b[1m63/63\u001b[0m \u001b[32m━━━━━━━━━━━━━━━━━━━━\u001b[0m\u001b[37m\u001b[0m \u001b[1m0s\u001b[0m 3ms/step - accuracy: 0.7656 - loss: 0.5829 - val_accuracy: 0.5714 - val_loss: 1.1137\n",
      "Epoch 34/80\n",
      "\u001b[1m63/63\u001b[0m \u001b[32m━━━━━━━━━━━━━━━━━━━━\u001b[0m\u001b[37m\u001b[0m \u001b[1m0s\u001b[0m 3ms/step - accuracy: 0.7764 - loss: 0.5589 - val_accuracy: 0.5743 - val_loss: 1.1170\n",
      "Epoch 35/80\n",
      "\u001b[1m63/63\u001b[0m \u001b[32m━━━━━━━━━━━━━━━━━━━━\u001b[0m\u001b[37m\u001b[0m \u001b[1m0s\u001b[0m 3ms/step - accuracy: 0.7919 - loss: 0.5449 - val_accuracy: 0.5500 - val_loss: 1.1245\n",
      "Epoch 36/80\n",
      "\u001b[1m63/63\u001b[0m \u001b[32m━━━━━━━━━━━━━━━━━━━━\u001b[0m\u001b[37m\u001b[0m \u001b[1m0s\u001b[0m 3ms/step - accuracy: 0.7764 - loss: 0.5424 - val_accuracy: 0.5700 - val_loss: 1.1316\n",
      "Epoch 37/80\n",
      "\u001b[1m63/63\u001b[0m \u001b[32m━━━━━━━━━━━━━━━━━━━━\u001b[0m\u001b[37m\u001b[0m \u001b[1m0s\u001b[0m 3ms/step - accuracy: 0.7945 - loss: 0.5161 - val_accuracy: 0.5471 - val_loss: 1.1504\n",
      "Epoch 38/80\n",
      "\u001b[1m63/63\u001b[0m \u001b[32m━━━━━━━━━━━━━━━━━━━━\u001b[0m\u001b[37m\u001b[0m \u001b[1m0s\u001b[0m 3ms/step - accuracy: 0.8079 - loss: 0.5005 - val_accuracy: 0.5486 - val_loss: 1.1505\n",
      "Epoch 39/80\n",
      "\u001b[1m63/63\u001b[0m \u001b[32m━━━━━━━━━━━━━━━━━━━━\u001b[0m\u001b[37m\u001b[0m \u001b[1m0s\u001b[0m 3ms/step - accuracy: 0.8049 - loss: 0.4975 - val_accuracy: 0.5757 - val_loss: 1.1816\n",
      "Epoch 40/80\n",
      "\u001b[1m63/63\u001b[0m \u001b[32m━━━━━━━━━━━━━━━━━━━━\u001b[0m\u001b[37m\u001b[0m \u001b[1m0s\u001b[0m 3ms/step - accuracy: 0.7988 - loss: 0.5057 - val_accuracy: 0.5457 - val_loss: 1.1811\n",
      "Epoch 41/80\n",
      "\u001b[1m63/63\u001b[0m \u001b[32m━━━━━━━━━━━━━━━━━━━━\u001b[0m\u001b[37m\u001b[0m \u001b[1m0s\u001b[0m 3ms/step - accuracy: 0.8132 - loss: 0.4797 - val_accuracy: 0.5514 - val_loss: 1.1985\n",
      "Epoch 42/80\n",
      "\u001b[1m63/63\u001b[0m \u001b[32m━━━━━━━━━━━━━━━━━━━━\u001b[0m\u001b[37m\u001b[0m \u001b[1m0s\u001b[0m 3ms/step - accuracy: 0.8110 - loss: 0.4857 - val_accuracy: 0.5657 - val_loss: 1.1986\n",
      "Epoch 43/80\n",
      "\u001b[1m63/63\u001b[0m \u001b[32m━━━━━━━━━━━━━━━━━━━━\u001b[0m\u001b[37m\u001b[0m \u001b[1m0s\u001b[0m 3ms/step - accuracy: 0.8222 - loss: 0.4720 - val_accuracy: 0.5543 - val_loss: 1.2197\n",
      "Epoch 44/80\n",
      "\u001b[1m63/63\u001b[0m \u001b[32m━━━━━━━━━━━━━━━━━━━━\u001b[0m\u001b[37m\u001b[0m \u001b[1m0s\u001b[0m 3ms/step - accuracy: 0.8179 - loss: 0.4625 - val_accuracy: 0.5414 - val_loss: 1.2386\n",
      "Epoch 45/80\n",
      "\u001b[1m63/63\u001b[0m \u001b[32m━━━━━━━━━━━━━━━━━━━━\u001b[0m\u001b[37m\u001b[0m \u001b[1m0s\u001b[0m 3ms/step - accuracy: 0.8218 - loss: 0.4600 - val_accuracy: 0.5843 - val_loss: 1.3001\n",
      "Epoch 46/80\n",
      "\u001b[1m63/63\u001b[0m \u001b[32m━━━━━━━━━━━━━━━━━━━━\u001b[0m\u001b[37m\u001b[0m \u001b[1m0s\u001b[0m 3ms/step - accuracy: 0.8280 - loss: 0.4456 - val_accuracy: 0.5257 - val_loss: 1.2529\n",
      "Epoch 47/80\n",
      "\u001b[1m63/63\u001b[0m \u001b[32m━━━━━━━━━━━━━━━━━━━━\u001b[0m\u001b[37m\u001b[0m \u001b[1m0s\u001b[0m 3ms/step - accuracy: 0.8274 - loss: 0.4378 - val_accuracy: 0.5514 - val_loss: 1.2679\n",
      "Epoch 48/80\n",
      "\u001b[1m63/63\u001b[0m \u001b[32m━━━━━━━━━━━━━━━━━━━━\u001b[0m\u001b[37m\u001b[0m \u001b[1m0s\u001b[0m 3ms/step - accuracy: 0.8301 - loss: 0.4395 - val_accuracy: 0.5600 - val_loss: 1.2986\n",
      "Epoch 49/80\n",
      "\u001b[1m63/63\u001b[0m \u001b[32m━━━━━━━━━━━━━━━━━━━━\u001b[0m\u001b[37m\u001b[0m \u001b[1m0s\u001b[0m 3ms/step - accuracy: 0.8387 - loss: 0.4186 - val_accuracy: 0.5486 - val_loss: 1.3221\n",
      "Epoch 50/80\n",
      "\u001b[1m63/63\u001b[0m \u001b[32m━━━━━━━━━━━━━━━━━━━━\u001b[0m\u001b[37m\u001b[0m \u001b[1m0s\u001b[0m 3ms/step - accuracy: 0.8467 - loss: 0.4060 - val_accuracy: 0.5843 - val_loss: 1.4139\n",
      "Epoch 51/80\n",
      "\u001b[1m63/63\u001b[0m \u001b[32m━━━━━━━━━━━━━━━━━━━━\u001b[0m\u001b[37m\u001b[0m \u001b[1m0s\u001b[0m 3ms/step - accuracy: 0.8536 - loss: 0.3914 - val_accuracy: 0.5543 - val_loss: 1.3543\n",
      "Epoch 52/80\n",
      "\u001b[1m63/63\u001b[0m \u001b[32m━━━━━━━━━━━━━━━━━━━━\u001b[0m\u001b[37m\u001b[0m \u001b[1m0s\u001b[0m 3ms/step - accuracy: 0.8518 - loss: 0.3939 - val_accuracy: 0.5571 - val_loss: 1.3642\n",
      "Epoch 53/80\n",
      "\u001b[1m63/63\u001b[0m \u001b[32m━━━━━━━━━━━━━━━━━━━━\u001b[0m\u001b[37m\u001b[0m \u001b[1m0s\u001b[0m 3ms/step - accuracy: 0.8496 - loss: 0.3914 - val_accuracy: 0.5671 - val_loss: 1.4084\n",
      "Epoch 54/80\n",
      "\u001b[1m63/63\u001b[0m \u001b[32m━━━━━━━━━━━━━━━━━━━━\u001b[0m\u001b[37m\u001b[0m \u001b[1m0s\u001b[0m 3ms/step - accuracy: 0.8544 - loss: 0.3794 - val_accuracy: 0.5486 - val_loss: 1.4277\n",
      "Epoch 55/80\n",
      "\u001b[1m63/63\u001b[0m \u001b[32m━━━━━━━━━━━━━━━━━━━━\u001b[0m\u001b[37m\u001b[0m \u001b[1m0s\u001b[0m 3ms/step - accuracy: 0.8579 - loss: 0.3804 - val_accuracy: 0.5657 - val_loss: 1.4392\n",
      "Epoch 56/80\n",
      "\u001b[1m63/63\u001b[0m \u001b[32m━━━━━━━━━━━━━━━━━━━━\u001b[0m\u001b[37m\u001b[0m \u001b[1m0s\u001b[0m 3ms/step - accuracy: 0.8597 - loss: 0.3720 - val_accuracy: 0.5686 - val_loss: 1.4403\n",
      "Epoch 57/80\n",
      "\u001b[1m63/63\u001b[0m \u001b[32m━━━━━━━━━━━━━━━━━━━━\u001b[0m\u001b[37m\u001b[0m \u001b[1m0s\u001b[0m 3ms/step - accuracy: 0.8631 - loss: 0.3616 - val_accuracy: 0.5400 - val_loss: 1.4701\n",
      "Epoch 58/80\n",
      "\u001b[1m63/63\u001b[0m \u001b[32m━━━━━━━━━━━━━━━━━━━━\u001b[0m\u001b[37m\u001b[0m \u001b[1m0s\u001b[0m 3ms/step - accuracy: 0.8612 - loss: 0.3620 - val_accuracy: 0.5429 - val_loss: 1.4544\n",
      "Epoch 59/80\n",
      "\u001b[1m63/63\u001b[0m \u001b[32m━━━━━━━━━━━━━━━━━━━━\u001b[0m\u001b[37m\u001b[0m \u001b[1m0s\u001b[0m 3ms/step - accuracy: 0.8794 - loss: 0.3410 - val_accuracy: 0.5271 - val_loss: 1.4772\n",
      "Epoch 60/80\n",
      "\u001b[1m63/63\u001b[0m \u001b[32m━━━━━━━━━━━━━━━━━━━━\u001b[0m\u001b[37m\u001b[0m \u001b[1m0s\u001b[0m 3ms/step - accuracy: 0.8720 - loss: 0.3448 - val_accuracy: 0.5657 - val_loss: 1.5330\n",
      "Epoch 61/80\n",
      "\u001b[1m63/63\u001b[0m \u001b[32m━━━━━━━━━━━━━━━━━━━━\u001b[0m\u001b[37m\u001b[0m \u001b[1m0s\u001b[0m 3ms/step - accuracy: 0.8768 - loss: 0.3331 - val_accuracy: 0.5500 - val_loss: 1.5230\n",
      "Epoch 62/80\n",
      "\u001b[1m63/63\u001b[0m \u001b[32m━━━━━━━━━━━━━━━━━━━━\u001b[0m\u001b[37m\u001b[0m \u001b[1m0s\u001b[0m 3ms/step - accuracy: 0.8778 - loss: 0.3277 - val_accuracy: 0.5671 - val_loss: 1.5419\n",
      "Epoch 63/80\n",
      "\u001b[1m63/63\u001b[0m \u001b[32m━━━━━━━━━━━━━━━━━━━━\u001b[0m\u001b[37m\u001b[0m \u001b[1m0s\u001b[0m 3ms/step - accuracy: 0.8701 - loss: 0.3332 - val_accuracy: 0.5571 - val_loss: 1.5551\n",
      "Epoch 64/80\n",
      "\u001b[1m63/63\u001b[0m \u001b[32m━━━━━━━━━━━━━━━━━━━━\u001b[0m\u001b[37m\u001b[0m \u001b[1m0s\u001b[0m 3ms/step - accuracy: 0.8834 - loss: 0.3124 - val_accuracy: 0.5529 - val_loss: 1.5751\n",
      "Epoch 65/80\n",
      "\u001b[1m63/63\u001b[0m \u001b[32m━━━━━━━━━━━━━━━━━━━━\u001b[0m\u001b[37m\u001b[0m \u001b[1m0s\u001b[0m 3ms/step - accuracy: 0.8929 - loss: 0.2928 - val_accuracy: 0.5429 - val_loss: 1.6007\n",
      "Epoch 66/80\n",
      "\u001b[1m63/63\u001b[0m \u001b[32m━━━━━━━━━━━━━━━━━━━━\u001b[0m\u001b[37m\u001b[0m \u001b[1m0s\u001b[0m 3ms/step - accuracy: 0.8971 - loss: 0.2916 - val_accuracy: 0.5657 - val_loss: 1.6178\n",
      "Epoch 67/80\n",
      "\u001b[1m63/63\u001b[0m \u001b[32m━━━━━━━━━━━━━━━━━━━━\u001b[0m\u001b[37m\u001b[0m \u001b[1m0s\u001b[0m 3ms/step - accuracy: 0.8937 - loss: 0.2962 - val_accuracy: 0.5457 - val_loss: 1.6190\n",
      "Epoch 68/80\n",
      "\u001b[1m63/63\u001b[0m \u001b[32m━━━━━━━━━━━━━━━━━━━━\u001b[0m\u001b[37m\u001b[0m \u001b[1m0s\u001b[0m 3ms/step - accuracy: 0.8931 - loss: 0.2899 - val_accuracy: 0.5614 - val_loss: 1.6225\n",
      "Epoch 69/80\n",
      "\u001b[1m63/63\u001b[0m \u001b[32m━━━━━━━━━━━━━━━━━━━━\u001b[0m\u001b[37m\u001b[0m \u001b[1m0s\u001b[0m 3ms/step - accuracy: 0.9010 - loss: 0.2823 - val_accuracy: 0.5086 - val_loss: 1.6959\n",
      "Epoch 70/80\n",
      "\u001b[1m63/63\u001b[0m \u001b[32m━━━━━━━━━━━━━━━━━━━━\u001b[0m\u001b[37m\u001b[0m \u001b[1m0s\u001b[0m 3ms/step - accuracy: 0.9004 - loss: 0.2699 - val_accuracy: 0.5457 - val_loss: 1.6984\n",
      "Epoch 71/80\n",
      "\u001b[1m63/63\u001b[0m \u001b[32m━━━━━━━━━━━━━━━━━━━━\u001b[0m\u001b[37m\u001b[0m \u001b[1m0s\u001b[0m 3ms/step - accuracy: 0.8980 - loss: 0.2789 - val_accuracy: 0.5614 - val_loss: 1.7306\n",
      "Epoch 72/80\n",
      "\u001b[1m63/63\u001b[0m \u001b[32m━━━━━━━━━━━━━━━━━━━━\u001b[0m\u001b[37m\u001b[0m \u001b[1m0s\u001b[0m 3ms/step - accuracy: 0.9099 - loss: 0.2564 - val_accuracy: 0.5443 - val_loss: 1.7264\n",
      "Epoch 73/80\n",
      "\u001b[1m63/63\u001b[0m \u001b[32m━━━━━━━━━━━━━━━━━━━━\u001b[0m\u001b[37m\u001b[0m \u001b[1m0s\u001b[0m 3ms/step - accuracy: 0.9055 - loss: 0.2636 - val_accuracy: 0.5814 - val_loss: 1.8431\n",
      "Epoch 74/80\n",
      "\u001b[1m63/63\u001b[0m \u001b[32m━━━━━━━━━━━━━━━━━━━━\u001b[0m\u001b[37m\u001b[0m \u001b[1m0s\u001b[0m 3ms/step - accuracy: 0.9020 - loss: 0.2720 - val_accuracy: 0.5529 - val_loss: 1.7727\n",
      "Epoch 75/80\n",
      "\u001b[1m63/63\u001b[0m \u001b[32m━━━━━━━━━━━━━━━━━━━━\u001b[0m\u001b[37m\u001b[0m \u001b[1m0s\u001b[0m 3ms/step - accuracy: 0.9123 - loss: 0.2450 - val_accuracy: 0.5914 - val_loss: 1.9073\n",
      "Epoch 76/80\n",
      "\u001b[1m63/63\u001b[0m \u001b[32m━━━━━━━━━━━━━━━━━━━━\u001b[0m\u001b[37m\u001b[0m \u001b[1m0s\u001b[0m 3ms/step - accuracy: 0.9114 - loss: 0.2478 - val_accuracy: 0.5486 - val_loss: 1.7715\n",
      "Epoch 77/80\n",
      "\u001b[1m63/63\u001b[0m \u001b[32m━━━━━━━━━━━━━━━━━━━━\u001b[0m\u001b[37m\u001b[0m \u001b[1m0s\u001b[0m 3ms/step - accuracy: 0.9117 - loss: 0.2507 - val_accuracy: 0.5214 - val_loss: 1.8320\n",
      "Epoch 78/80\n",
      "\u001b[1m63/63\u001b[0m \u001b[32m━━━━━━━━━━━━━━━━━━━━\u001b[0m\u001b[37m\u001b[0m \u001b[1m0s\u001b[0m 3ms/step - accuracy: 0.9124 - loss: 0.2436 - val_accuracy: 0.5129 - val_loss: 1.8397\n",
      "Epoch 79/80\n",
      "\u001b[1m63/63\u001b[0m \u001b[32m━━━━━━━━━━━━━━━━━━━━\u001b[0m\u001b[37m\u001b[0m \u001b[1m0s\u001b[0m 3ms/step - accuracy: 0.9145 - loss: 0.2408 - val_accuracy: 0.5300 - val_loss: 1.8783\n",
      "Epoch 80/80\n",
      "\u001b[1m63/63\u001b[0m \u001b[32m━━━━━━━━━━━━━━━━━━━━\u001b[0m\u001b[37m\u001b[0m \u001b[1m0s\u001b[0m 3ms/step - accuracy: 0.9180 - loss: 0.2317 - val_accuracy: 0.5657 - val_loss: 1.9117\n",
      "\u001b[1m94/94\u001b[0m \u001b[32m━━━━━━━━━━━━━━━━━━━━\u001b[0m\u001b[37m\u001b[0m \u001b[1m0s\u001b[0m 2ms/step - accuracy: 0.5691 - loss: 1.9699\n",
      "Test loss: 1.88\n",
      "Test accuracy: 0.566\n"
     ]
    },
    {
     "data": {
      "image/png": "[encoded data removed]",
      "text/plain": [
       "<Figure size 640x480 with 1 Axes>"
      ]
     },
     "metadata": {},
     "output_type": "display_data"
    },
    {
     "data": {
      "image/png": "[encoded data removed]",
      "text/plain": [
       "<Figure size 640x480 with 1 Axes>"
      ]
     },
     "metadata": {},
     "output_type": "display_data"
    }
   ],
   "source": [
    "\n",
    "# Make a fully connected network\n",
    "model = models.Sequential()\n",
    "\n",
    "# Create the hidden layer with relu activations\n",
    "model.add(layers.Dense(units=100, activation='relu', input_shape=(X_train.shape[1],)))\n",
    "\n",
    "model.add(layers.Dense(units=200, activation='relu'))\n",
    "\n",
    "model.add(layers.Dense(units=5, activation='softmax'))\n",
    "\n",
    "# Compile the network with the appropriate loss function and keep track of accuracy\n",
    "model.compile(loss='categorical_crossentropy', metrics=['accuracy'])\n",
    "\n",
    "# Train model\n",
    "history = model.fit(X_train, y_train, batch_size=100, epochs=80, validation_split=.1)\n",
    "\n",
    "# See how the model scored\n",
    "loss, accuracy  = model.evaluate(X_test, y_test)\n",
    "\n",
    "print(f'Test loss: {loss:.3}')\n",
    "print(f'Test accuracy: {accuracy:.3}')\n",
    "\n",
    "# Plot training & validation loss\n",
    "plt.plot(history.history['loss'], label='Training Loss')\n",
    "plt.plot(history.history['val_loss'], label='Validation Loss')\n",
    "plt.title('Training vs Validation Loss')\n",
    "plt.xlabel('Epoch')\n",
    "plt.ylabel('Loss')\n",
    "plt.legend()\n",
    "plt.grid(True)\n",
    "plt.show()\n",
    "\n",
    "\n",
    "# Plot training and validation accuracy\n",
    "plt.plot(history.history['accuracy'], label='Training Accuracy')\n",
    "plt.plot(history.history['val_accuracy'], label='Validation Accuracy')\n",
    "plt.title('Training vs Validation Accuracy')\n",
    "plt.xlabel('Epoch')\n",
    "plt.ylabel('Accuracy')\n",
    "plt.legend()\n",
    "plt.grid(True)\n",
    "plt.show()"
   ]
  },
  {
   "cell_type": "markdown",
   "id": "e97b4e66",
   "metadata": {},
   "source": [
    "##### Version 2\n",
    "\n",
    "In the second version, to reduce the amount of overfitting from the model I added a dropout layer of 40% before the second dense layer. \n",
    "\n",
    "After this implmentation the model still overfit but after more iterrations than in the first model."
   ]
  },
  {
   "cell_type": "code",
   "execution_count": 28,
   "id": "ff3cd5b2",
   "metadata": {},
   "outputs": [
    {
     "name": "stdout",
     "output_type": "stream",
     "text": [
      "Epoch 1/80\n",
      "\u001b[1m63/63\u001b[0m \u001b[32m━━━━━━━━━━━━━━━━━━━━\u001b[0m\u001b[37m\u001b[0m \u001b[1m1s\u001b[0m 6ms/step - accuracy: 0.5932 - loss: 1.0780 - val_accuracy: 0.6043 - val_loss: 0.9642\n",
      "Epoch 2/80\n",
      "\u001b[1m63/63\u001b[0m \u001b[32m━━━━━━━━━━━━━━━━━━━━\u001b[0m\u001b[37m\u001b[0m \u001b[1m0s\u001b[0m 3ms/step - accuracy: 0.6219 - loss: 0.9575 - val_accuracy: 0.6257 - val_loss: 0.9190\n",
      "Epoch 3/80\n",
      "\u001b[1m63/63\u001b[0m \u001b[32m━━━━━━━━━━━━━━━━━━━━\u001b[0m\u001b[37m\u001b[0m \u001b[1m0s\u001b[0m 3ms/step - accuracy: 0.6163 - loss: 0.9328 - val_accuracy: 0.6100 - val_loss: 0.9160\n",
      "Epoch 4/80\n",
      "\u001b[1m63/63\u001b[0m \u001b[32m━━━━━━━━━━━━━━━━━━━━\u001b[0m\u001b[37m\u001b[0m \u001b[1m0s\u001b[0m 3ms/step - accuracy: 0.6333 - loss: 0.9092 - val_accuracy: 0.6200 - val_loss: 0.9013\n",
      "Epoch 5/80\n",
      "\u001b[1m63/63\u001b[0m \u001b[32m━━━━━━━━━━━━━━━━━━━━\u001b[0m\u001b[37m\u001b[0m \u001b[1m0s\u001b[0m 3ms/step - accuracy: 0.6320 - loss: 0.8895 - val_accuracy: 0.6157 - val_loss: 0.9094\n",
      "Epoch 6/80\n",
      "\u001b[1m63/63\u001b[0m \u001b[32m━━━━━━━━━━━━━━━━━━━━\u001b[0m\u001b[37m\u001b[0m \u001b[1m0s\u001b[0m 3ms/step - accuracy: 0.6296 - loss: 0.8978 - val_accuracy: 0.6257 - val_loss: 0.8953\n",
      "Epoch 7/80\n",
      "\u001b[1m63/63\u001b[0m \u001b[32m━━━━━━━━━━━━━━━━━━━━\u001b[0m\u001b[37m\u001b[0m \u001b[1m0s\u001b[0m 3ms/step - accuracy: 0.6466 - loss: 0.8608 - val_accuracy: 0.6300 - val_loss: 0.9047\n",
      "Epoch 8/80\n",
      "\u001b[1m63/63\u001b[0m \u001b[32m━━━━━━━━━━━━━━━━━━━━\u001b[0m\u001b[37m\u001b[0m \u001b[1m0s\u001b[0m 3ms/step - accuracy: 0.6454 - loss: 0.8638 - val_accuracy: 0.6286 - val_loss: 0.9000\n",
      "Epoch 9/80\n",
      "\u001b[1m63/63\u001b[0m \u001b[32m━━━━━━━━━━━━━━━━━━━━\u001b[0m\u001b[37m\u001b[0m \u001b[1m0s\u001b[0m 3ms/step - accuracy: 0.6339 - loss: 0.8633 - val_accuracy: 0.6271 - val_loss: 0.8988\n",
      "Epoch 10/80\n",
      "\u001b[1m63/63\u001b[0m \u001b[32m━━━━━━━━━━━━━━━━━━━━\u001b[0m\u001b[37m\u001b[0m \u001b[1m0s\u001b[0m 3ms/step - accuracy: 0.6401 - loss: 0.8730 - val_accuracy: 0.6214 - val_loss: 0.9054\n",
      "Epoch 11/80\n",
      "\u001b[1m63/63\u001b[0m \u001b[32m━━━━━━━━━━━━━━━━━━━━\u001b[0m\u001b[37m\u001b[0m \u001b[1m0s\u001b[0m 3ms/step - accuracy: 0.6480 - loss: 0.8597 - val_accuracy: 0.6214 - val_loss: 0.8979\n",
      "Epoch 12/80\n",
      "\u001b[1m63/63\u001b[0m \u001b[32m━━━━━━━━━━━━━━━━━━━━\u001b[0m\u001b[37m\u001b[0m \u001b[1m0s\u001b[0m 3ms/step - accuracy: 0.6565 - loss: 0.8435 - val_accuracy: 0.6014 - val_loss: 0.9087\n",
      "Epoch 13/80\n",
      "\u001b[1m63/63\u001b[0m \u001b[32m━━━━━━━━━━━━━━━━━━━━\u001b[0m\u001b[37m\u001b[0m \u001b[1m0s\u001b[0m 3ms/step - accuracy: 0.6493 - loss: 0.8515 - val_accuracy: 0.5957 - val_loss: 0.9107\n",
      "Epoch 14/80\n",
      "\u001b[1m63/63\u001b[0m \u001b[32m━━━━━━━━━━━━━━━━━━━━\u001b[0m\u001b[37m\u001b[0m \u001b[1m0s\u001b[0m 3ms/step - accuracy: 0.6542 - loss: 0.8591 - val_accuracy: 0.6314 - val_loss: 0.9077\n",
      "Epoch 15/80\n",
      "\u001b[1m63/63\u001b[0m \u001b[32m━━━━━━━━━━━━━━━━━━━━\u001b[0m\u001b[37m\u001b[0m \u001b[1m0s\u001b[0m 3ms/step - accuracy: 0.6453 - loss: 0.8527 - val_accuracy: 0.6257 - val_loss: 0.9024\n",
      "Epoch 16/80\n",
      "\u001b[1m63/63\u001b[0m \u001b[32m━━━━━━━━━━━━━━━━━━━━\u001b[0m\u001b[37m\u001b[0m \u001b[1m0s\u001b[0m 3ms/step - accuracy: 0.6711 - loss: 0.8167 - val_accuracy: 0.6243 - val_loss: 0.9036\n",
      "Epoch 17/80\n",
      "\u001b[1m63/63\u001b[0m \u001b[32m━━━━━━━━━━━━━━━━━━━━\u001b[0m\u001b[37m\u001b[0m \u001b[1m0s\u001b[0m 3ms/step - accuracy: 0.6642 - loss: 0.8308 - val_accuracy: 0.6229 - val_loss: 0.9029\n",
      "Epoch 18/80\n",
      "\u001b[1m63/63\u001b[0m \u001b[32m━━━━━━━━━━━━━━━━━━━━\u001b[0m\u001b[37m\u001b[0m \u001b[1m0s\u001b[0m 3ms/step - accuracy: 0.6516 - loss: 0.8425 - val_accuracy: 0.6129 - val_loss: 0.9075\n",
      "Epoch 19/80\n",
      "\u001b[1m63/63\u001b[0m \u001b[32m━━━━━━━━━━━━━━━━━━━━\u001b[0m\u001b[37m\u001b[0m \u001b[1m0s\u001b[0m 3ms/step - accuracy: 0.6586 - loss: 0.8239 - val_accuracy: 0.5957 - val_loss: 0.9107\n",
      "Epoch 20/80\n",
      "\u001b[1m63/63\u001b[0m \u001b[32m━━━━━━━━━━━━━━━━━━━━\u001b[0m\u001b[37m\u001b[0m \u001b[1m0s\u001b[0m 3ms/step - accuracy: 0.6670 - loss: 0.8208 - val_accuracy: 0.6057 - val_loss: 0.9091\n",
      "Epoch 21/80\n",
      "\u001b[1m63/63\u001b[0m \u001b[32m━━━━━━━━━━━━━━━━━━━━\u001b[0m\u001b[37m\u001b[0m \u001b[1m0s\u001b[0m 3ms/step - accuracy: 0.6635 - loss: 0.8178 - val_accuracy: 0.6186 - val_loss: 0.9068\n",
      "Epoch 22/80\n",
      "\u001b[1m63/63\u001b[0m \u001b[32m━━━━━━━━━━━━━━━━━━━━\u001b[0m\u001b[37m\u001b[0m \u001b[1m0s\u001b[0m 3ms/step - accuracy: 0.6609 - loss: 0.8130 - val_accuracy: 0.6071 - val_loss: 0.9093\n",
      "Epoch 23/80\n",
      "\u001b[1m63/63\u001b[0m \u001b[32m━━━━━━━━━━━━━━━━━━━━\u001b[0m\u001b[37m\u001b[0m \u001b[1m0s\u001b[0m 3ms/step - accuracy: 0.6643 - loss: 0.8168 - val_accuracy: 0.6000 - val_loss: 0.9100\n",
      "Epoch 24/80\n",
      "\u001b[1m63/63\u001b[0m \u001b[32m━━━━━━━━━━━━━━━━━━━━\u001b[0m\u001b[37m\u001b[0m \u001b[1m0s\u001b[0m 3ms/step - accuracy: 0.6489 - loss: 0.8299 - val_accuracy: 0.6086 - val_loss: 0.9100\n",
      "Epoch 25/80\n",
      "\u001b[1m63/63\u001b[0m \u001b[32m━━━━━━━━━━━━━━━━━━━━\u001b[0m\u001b[37m\u001b[0m \u001b[1m0s\u001b[0m 3ms/step - accuracy: 0.6647 - loss: 0.8183 - val_accuracy: 0.6243 - val_loss: 0.9078\n",
      "Epoch 26/80\n",
      "\u001b[1m63/63\u001b[0m \u001b[32m━━━━━━━━━━━━━━━━━━━━\u001b[0m\u001b[37m\u001b[0m \u001b[1m0s\u001b[0m 3ms/step - accuracy: 0.6609 - loss: 0.8099 - val_accuracy: 0.6071 - val_loss: 0.9110\n",
      "Epoch 27/80\n",
      "\u001b[1m63/63\u001b[0m \u001b[32m━━━━━━━━━━━━━━━━━━━━\u001b[0m\u001b[37m\u001b[0m \u001b[1m0s\u001b[0m 3ms/step - accuracy: 0.6589 - loss: 0.8126 - val_accuracy: 0.5986 - val_loss: 0.9140\n",
      "Epoch 28/80\n",
      "\u001b[1m63/63\u001b[0m \u001b[32m━━━━━━━━━━━━━━━━━━━━\u001b[0m\u001b[37m\u001b[0m \u001b[1m0s\u001b[0m 3ms/step - accuracy: 0.6645 - loss: 0.8248 - val_accuracy: 0.6114 - val_loss: 0.9135\n",
      "Epoch 29/80\n",
      "\u001b[1m63/63\u001b[0m \u001b[32m━━━━━━━━━━━━━━━━━━━━\u001b[0m\u001b[37m\u001b[0m \u001b[1m0s\u001b[0m 3ms/step - accuracy: 0.6677 - loss: 0.8023 - val_accuracy: 0.6114 - val_loss: 0.9247\n",
      "Epoch 30/80\n",
      "\u001b[1m63/63\u001b[0m \u001b[32m━━━━━━━━━━━━━━━━━━━━\u001b[0m\u001b[37m\u001b[0m \u001b[1m0s\u001b[0m 3ms/step - accuracy: 0.6657 - loss: 0.7930 - val_accuracy: 0.6043 - val_loss: 0.9154\n",
      "Epoch 31/80\n",
      "\u001b[1m63/63\u001b[0m \u001b[32m━━━━━━━━━━━━━━━━━━━━\u001b[0m\u001b[37m\u001b[0m \u001b[1m0s\u001b[0m 3ms/step - accuracy: 0.6700 - loss: 0.7852 - val_accuracy: 0.6129 - val_loss: 0.9187\n",
      "Epoch 32/80\n",
      "\u001b[1m63/63\u001b[0m \u001b[32m━━━━━━━━━━━━━━━━━━━━\u001b[0m\u001b[37m\u001b[0m \u001b[1m0s\u001b[0m 3ms/step - accuracy: 0.6579 - loss: 0.8111 - val_accuracy: 0.6029 - val_loss: 0.9236\n",
      "Epoch 33/80\n",
      "\u001b[1m63/63\u001b[0m \u001b[32m━━━━━━━━━━━━━━━━━━━━\u001b[0m\u001b[37m\u001b[0m \u001b[1m0s\u001b[0m 3ms/step - accuracy: 0.6814 - loss: 0.7822 - val_accuracy: 0.6000 - val_loss: 0.9225\n",
      "Epoch 34/80\n",
      "\u001b[1m63/63\u001b[0m \u001b[32m━━━━━━━━━━━━━━━━━━━━\u001b[0m\u001b[37m\u001b[0m \u001b[1m0s\u001b[0m 3ms/step - accuracy: 0.6679 - loss: 0.7853 - val_accuracy: 0.6057 - val_loss: 0.9272\n",
      "Epoch 35/80\n",
      "\u001b[1m63/63\u001b[0m \u001b[32m━━━━━━━━━━━━━━━━━━━━\u001b[0m\u001b[37m\u001b[0m \u001b[1m0s\u001b[0m 3ms/step - accuracy: 0.6865 - loss: 0.7760 - val_accuracy: 0.6000 - val_loss: 0.9294\n",
      "Epoch 36/80\n",
      "\u001b[1m63/63\u001b[0m \u001b[32m━━━━━━━━━━━━━━━━━━━━\u001b[0m\u001b[37m\u001b[0m \u001b[1m0s\u001b[0m 3ms/step - accuracy: 0.6891 - loss: 0.7546 - val_accuracy: 0.6014 - val_loss: 0.9316\n",
      "Epoch 37/80\n",
      "\u001b[1m63/63\u001b[0m \u001b[32m━━━━━━━━━━━━━━━━━━━━\u001b[0m\u001b[37m\u001b[0m \u001b[1m0s\u001b[0m 3ms/step - accuracy: 0.6791 - loss: 0.7715 - val_accuracy: 0.6029 - val_loss: 0.9311\n",
      "Epoch 38/80\n",
      "\u001b[1m63/63\u001b[0m \u001b[32m━━━━━━━━━━━━━━━━━━━━\u001b[0m\u001b[37m\u001b[0m \u001b[1m0s\u001b[0m 3ms/step - accuracy: 0.6900 - loss: 0.7566 - val_accuracy: 0.5986 - val_loss: 0.9378\n",
      "Epoch 39/80\n",
      "\u001b[1m63/63\u001b[0m \u001b[32m━━━━━━━━━━━━━━━━━━━━\u001b[0m\u001b[37m\u001b[0m \u001b[1m0s\u001b[0m 3ms/step - accuracy: 0.6811 - loss: 0.7709 - val_accuracy: 0.6057 - val_loss: 0.9433\n",
      "Epoch 40/80\n",
      "\u001b[1m63/63\u001b[0m \u001b[32m━━━━━━━━━━━━━━━━━━━━\u001b[0m\u001b[37m\u001b[0m \u001b[1m0s\u001b[0m 3ms/step - accuracy: 0.6858 - loss: 0.7623 - val_accuracy: 0.5986 - val_loss: 0.9366\n",
      "Epoch 41/80\n",
      "\u001b[1m63/63\u001b[0m \u001b[32m━━━━━━━━━━━━━━━━━━━━\u001b[0m\u001b[37m\u001b[0m \u001b[1m0s\u001b[0m 3ms/step - accuracy: 0.6867 - loss: 0.7526 - val_accuracy: 0.6000 - val_loss: 0.9391\n",
      "Epoch 42/80\n",
      "\u001b[1m63/63\u001b[0m \u001b[32m━━━━━━━━━━━━━━━━━━━━\u001b[0m\u001b[37m\u001b[0m \u001b[1m0s\u001b[0m 3ms/step - accuracy: 0.6973 - loss: 0.7463 - val_accuracy: 0.6014 - val_loss: 0.9493\n",
      "Epoch 43/80\n",
      "\u001b[1m63/63\u001b[0m \u001b[32m━━━━━━━━━━━━━━━━━━━━\u001b[0m\u001b[37m\u001b[0m \u001b[1m0s\u001b[0m 3ms/step - accuracy: 0.6786 - loss: 0.7644 - val_accuracy: 0.5914 - val_loss: 0.9485\n",
      "Epoch 44/80\n",
      "\u001b[1m63/63\u001b[0m \u001b[32m━━━━━━━━━━━━━━━━━━━━\u001b[0m\u001b[37m\u001b[0m \u001b[1m0s\u001b[0m 3ms/step - accuracy: 0.6853 - loss: 0.7678 - val_accuracy: 0.5929 - val_loss: 0.9462\n",
      "Epoch 45/80\n",
      "\u001b[1m63/63\u001b[0m \u001b[32m━━━━━━━━━━━━━━━━━━━━\u001b[0m\u001b[37m\u001b[0m \u001b[1m0s\u001b[0m 3ms/step - accuracy: 0.7059 - loss: 0.7339 - val_accuracy: 0.5943 - val_loss: 0.9555\n",
      "Epoch 46/80\n",
      "\u001b[1m63/63\u001b[0m \u001b[32m━━━━━━━━━━━━━━━━━━━━\u001b[0m\u001b[37m\u001b[0m \u001b[1m0s\u001b[0m 3ms/step - accuracy: 0.6868 - loss: 0.7514 - val_accuracy: 0.6029 - val_loss: 0.9545\n",
      "Epoch 47/80\n",
      "\u001b[1m63/63\u001b[0m \u001b[32m━━━━━━━━━━━━━━━━━━━━\u001b[0m\u001b[37m\u001b[0m \u001b[1m0s\u001b[0m 3ms/step - accuracy: 0.6878 - loss: 0.7517 - val_accuracy: 0.6000 - val_loss: 0.9545\n",
      "Epoch 48/80\n",
      "\u001b[1m63/63\u001b[0m \u001b[32m━━━━━━━━━━━━━━━━━━━━\u001b[0m\u001b[37m\u001b[0m \u001b[1m0s\u001b[0m 3ms/step - accuracy: 0.6906 - loss: 0.7457 - val_accuracy: 0.5943 - val_loss: 0.9532\n",
      "Epoch 49/80\n",
      "\u001b[1m63/63\u001b[0m \u001b[32m━━━━━━━━━━━━━━━━━━━━\u001b[0m\u001b[37m\u001b[0m \u001b[1m0s\u001b[0m 3ms/step - accuracy: 0.6934 - loss: 0.7313 - val_accuracy: 0.5814 - val_loss: 0.9646\n",
      "Epoch 50/80\n",
      "\u001b[1m63/63\u001b[0m \u001b[32m━━━━━━━━━━━━━━━━━━━━\u001b[0m\u001b[37m\u001b[0m \u001b[1m0s\u001b[0m 3ms/step - accuracy: 0.6893 - loss: 0.7383 - val_accuracy: 0.5857 - val_loss: 0.9609\n",
      "Epoch 51/80\n",
      "\u001b[1m63/63\u001b[0m \u001b[32m━━━━━━━━━━━━━━━━━━━━\u001b[0m\u001b[37m\u001b[0m \u001b[1m0s\u001b[0m 3ms/step - accuracy: 0.6988 - loss: 0.7214 - val_accuracy: 0.5929 - val_loss: 0.9562\n",
      "Epoch 52/80\n",
      "\u001b[1m63/63\u001b[0m \u001b[32m━━━━━━━━━━━━━━━━━━━━\u001b[0m\u001b[37m\u001b[0m \u001b[1m0s\u001b[0m 3ms/step - accuracy: 0.7027 - loss: 0.7351 - val_accuracy: 0.5914 - val_loss: 0.9578\n",
      "Epoch 53/80\n",
      "\u001b[1m63/63\u001b[0m \u001b[32m━━━━━━━━━━━━━━━━━━━━\u001b[0m\u001b[37m\u001b[0m \u001b[1m0s\u001b[0m 3ms/step - accuracy: 0.7049 - loss: 0.7096 - val_accuracy: 0.5986 - val_loss: 0.9582\n",
      "Epoch 54/80\n",
      "\u001b[1m63/63\u001b[0m \u001b[32m━━━━━━━━━━━━━━━━━━━━\u001b[0m\u001b[37m\u001b[0m \u001b[1m0s\u001b[0m 3ms/step - accuracy: 0.7046 - loss: 0.7217 - val_accuracy: 0.5871 - val_loss: 0.9633\n",
      "Epoch 55/80\n",
      "\u001b[1m63/63\u001b[0m \u001b[32m━━━━━━━━━━━━━━━━━━━━\u001b[0m\u001b[37m\u001b[0m \u001b[1m0s\u001b[0m 3ms/step - accuracy: 0.7014 - loss: 0.7300 - val_accuracy: 0.5971 - val_loss: 0.9707\n",
      "Epoch 56/80\n",
      "\u001b[1m63/63\u001b[0m \u001b[32m━━━━━━━━━━━━━━━━━━━━\u001b[0m\u001b[37m\u001b[0m \u001b[1m0s\u001b[0m 3ms/step - accuracy: 0.7042 - loss: 0.7198 - val_accuracy: 0.5943 - val_loss: 0.9735\n",
      "Epoch 57/80\n",
      "\u001b[1m63/63\u001b[0m \u001b[32m━━━━━━━━━━━━━━━━━━━━\u001b[0m\u001b[37m\u001b[0m \u001b[1m0s\u001b[0m 3ms/step - accuracy: 0.7061 - loss: 0.7169 - val_accuracy: 0.5871 - val_loss: 0.9814\n",
      "Epoch 58/80\n",
      "\u001b[1m63/63\u001b[0m \u001b[32m━━━━━━━━━━━━━━━━━━━━\u001b[0m\u001b[37m\u001b[0m \u001b[1m0s\u001b[0m 3ms/step - accuracy: 0.7093 - loss: 0.7127 - val_accuracy: 0.5829 - val_loss: 0.9810\n",
      "Epoch 59/80\n",
      "\u001b[1m63/63\u001b[0m \u001b[32m━━━━━━━━━━━━━━━━━━━━\u001b[0m\u001b[37m\u001b[0m \u001b[1m0s\u001b[0m 3ms/step - accuracy: 0.7062 - loss: 0.7174 - val_accuracy: 0.5857 - val_loss: 0.9779\n",
      "Epoch 60/80\n",
      "\u001b[1m63/63\u001b[0m \u001b[32m━━━━━━━━━━━━━━━━━━━━\u001b[0m\u001b[37m\u001b[0m \u001b[1m0s\u001b[0m 3ms/step - accuracy: 0.7086 - loss: 0.7119 - val_accuracy: 0.5929 - val_loss: 0.9688\n",
      "Epoch 61/80\n",
      "\u001b[1m63/63\u001b[0m \u001b[32m━━━━━━━━━━━━━━━━━━━━\u001b[0m\u001b[37m\u001b[0m \u001b[1m0s\u001b[0m 3ms/step - accuracy: 0.7074 - loss: 0.7118 - val_accuracy: 0.6043 - val_loss: 0.9792\n",
      "Epoch 62/80\n",
      "\u001b[1m63/63\u001b[0m \u001b[32m━━━━━━━━━━━━━━━━━━━━\u001b[0m\u001b[37m\u001b[0m \u001b[1m0s\u001b[0m 3ms/step - accuracy: 0.7191 - loss: 0.6910 - val_accuracy: 0.5886 - val_loss: 0.9831\n",
      "Epoch 63/80\n",
      "\u001b[1m63/63\u001b[0m \u001b[32m━━━━━━━━━━━━━━━━━━━━\u001b[0m\u001b[37m\u001b[0m \u001b[1m0s\u001b[0m 3ms/step - accuracy: 0.7179 - loss: 0.6968 - val_accuracy: 0.5943 - val_loss: 0.9729\n",
      "Epoch 64/80\n",
      "\u001b[1m63/63\u001b[0m \u001b[32m━━━━━━━━━━━━━━━━━━━━\u001b[0m\u001b[37m\u001b[0m \u001b[1m0s\u001b[0m 3ms/step - accuracy: 0.7091 - loss: 0.6957 - val_accuracy: 0.5871 - val_loss: 0.9772\n",
      "Epoch 65/80\n",
      "\u001b[1m63/63\u001b[0m \u001b[32m━━━━━━━━━━━━━━━━━━━━\u001b[0m\u001b[37m\u001b[0m \u001b[1m0s\u001b[0m 3ms/step - accuracy: 0.7109 - loss: 0.7078 - val_accuracy: 0.5943 - val_loss: 0.9960\n",
      "Epoch 66/80\n",
      "\u001b[1m63/63\u001b[0m \u001b[32m━━━━━━━━━━━━━━━━━━━━\u001b[0m\u001b[37m\u001b[0m \u001b[1m0s\u001b[0m 3ms/step - accuracy: 0.7185 - loss: 0.6972 - val_accuracy: 0.5786 - val_loss: 0.9918\n",
      "Epoch 67/80\n",
      "\u001b[1m63/63\u001b[0m \u001b[32m━━━━━━━━━━━━━━━━━━━━\u001b[0m\u001b[37m\u001b[0m \u001b[1m0s\u001b[0m 3ms/step - accuracy: 0.7160 - loss: 0.7045 - val_accuracy: 0.5843 - val_loss: 0.9894\n",
      "Epoch 68/80\n",
      "\u001b[1m63/63\u001b[0m \u001b[32m━━━━━━━━━━━━━━━━━━━━\u001b[0m\u001b[37m\u001b[0m \u001b[1m0s\u001b[0m 3ms/step - accuracy: 0.7080 - loss: 0.7015 - val_accuracy: 0.5886 - val_loss: 1.0000\n",
      "Epoch 69/80\n",
      "\u001b[1m63/63\u001b[0m \u001b[32m━━━━━━━━━━━━━━━━━━━━\u001b[0m\u001b[37m\u001b[0m \u001b[1m0s\u001b[0m 3ms/step - accuracy: 0.7213 - loss: 0.6943 - val_accuracy: 0.5900 - val_loss: 1.0024\n",
      "Epoch 70/80\n",
      "\u001b[1m63/63\u001b[0m \u001b[32m━━━━━━━━━━━━━━━━━━━━\u001b[0m\u001b[37m\u001b[0m \u001b[1m0s\u001b[0m 3ms/step - accuracy: 0.7138 - loss: 0.6826 - val_accuracy: 0.5957 - val_loss: 0.9937\n",
      "Epoch 71/80\n",
      "\u001b[1m63/63\u001b[0m \u001b[32m━━━━━━━━━━━━━━━━━━━━\u001b[0m\u001b[37m\u001b[0m \u001b[1m0s\u001b[0m 3ms/step - accuracy: 0.7194 - loss: 0.6690 - val_accuracy: 0.5971 - val_loss: 1.0173\n",
      "Epoch 72/80\n",
      "\u001b[1m63/63\u001b[0m \u001b[32m━━━━━━━━━━━━━━━━━━━━\u001b[0m\u001b[37m\u001b[0m \u001b[1m0s\u001b[0m 3ms/step - accuracy: 0.7263 - loss: 0.6735 - val_accuracy: 0.5914 - val_loss: 1.0024\n",
      "Epoch 73/80\n",
      "\u001b[1m63/63\u001b[0m \u001b[32m━━━━━━━━━━━━━━━━━━━━\u001b[0m\u001b[37m\u001b[0m \u001b[1m0s\u001b[0m 3ms/step - accuracy: 0.7152 - loss: 0.6798 - val_accuracy: 0.5686 - val_loss: 1.0103\n",
      "Epoch 74/80\n",
      "\u001b[1m63/63\u001b[0m \u001b[32m━━━━━━━━━━━━━━━━━━━━\u001b[0m\u001b[37m\u001b[0m \u001b[1m0s\u001b[0m 3ms/step - accuracy: 0.7227 - loss: 0.6727 - val_accuracy: 0.5714 - val_loss: 1.0097\n",
      "Epoch 75/80\n",
      "\u001b[1m63/63\u001b[0m \u001b[32m━━━━━━━━━━━━━━━━━━━━\u001b[0m\u001b[37m\u001b[0m \u001b[1m0s\u001b[0m 3ms/step - accuracy: 0.7236 - loss: 0.6596 - val_accuracy: 0.5729 - val_loss: 1.0070\n",
      "Epoch 76/80\n",
      "\u001b[1m63/63\u001b[0m \u001b[32m━━━━━━━━━━━━━━━━━━━━\u001b[0m\u001b[37m\u001b[0m \u001b[1m0s\u001b[0m 3ms/step - accuracy: 0.7274 - loss: 0.6622 - val_accuracy: 0.5829 - val_loss: 1.0111\n",
      "Epoch 77/80\n",
      "\u001b[1m63/63\u001b[0m \u001b[32m━━━━━━━━━━━━━━━━━━━━\u001b[0m\u001b[37m\u001b[0m \u001b[1m0s\u001b[0m 3ms/step - accuracy: 0.7418 - loss: 0.6508 - val_accuracy: 0.5914 - val_loss: 1.0199\n",
      "Epoch 78/80\n",
      "\u001b[1m63/63\u001b[0m \u001b[32m━━━━━━━━━━━━━━━━━━━━\u001b[0m\u001b[37m\u001b[0m \u001b[1m0s\u001b[0m 3ms/step - accuracy: 0.7236 - loss: 0.6713 - val_accuracy: 0.5929 - val_loss: 1.0172\n",
      "Epoch 79/80\n",
      "\u001b[1m63/63\u001b[0m \u001b[32m━━━━━━━━━━━━━━━━━━━━\u001b[0m\u001b[37m\u001b[0m \u001b[1m0s\u001b[0m 3ms/step - accuracy: 0.7360 - loss: 0.6653 - val_accuracy: 0.5900 - val_loss: 1.0230\n",
      "Epoch 80/80\n",
      "\u001b[1m63/63\u001b[0m \u001b[32m━━━━━━━━━━━━━━━━━━━━\u001b[0m\u001b[37m\u001b[0m \u001b[1m0s\u001b[0m 3ms/step - accuracy: 0.7267 - loss: 0.6586 - val_accuracy: 0.5557 - val_loss: 1.0435\n",
      "\u001b[1m94/94\u001b[0m \u001b[32m━━━━━━━━━━━━━━━━━━━━\u001b[0m\u001b[37m\u001b[0m \u001b[1m0s\u001b[0m 2ms/step - accuracy: 0.5609 - loss: 1.0566\n",
      "Test loss: 1.02\n",
      "Test accuracy: 0.568\n"
     ]
    },
    {
     "data": {
      "image/png": "[encoded data removed]",
      "text/plain": [
       "<Figure size 640x480 with 1 Axes>"
      ]
     },
     "metadata": {},
     "output_type": "display_data"
    },
    {
     "data": {
      "image/png": "[encoded data removed]",
      "text/plain": [
       "<Figure size 640x480 with 1 Axes>"
      ]
     },
     "metadata": {},
     "output_type": "display_data"
    }
   ],
   "source": [
    "\n",
    "# Make a fully connected network\n",
    "model = models.Sequential()\n",
    "\n",
    "# Create the hidden layer with relu activations\n",
    "model.add(layers.Dense(units=100, activation='relu', input_shape=(X_train.shape[1],)))\n",
    "\n",
    "# To further avoid overfitting add a dropout layer before the dense layers\n",
    "model.add(layers.Dropout(rate=0.4))\n",
    "\n",
    "model.add(layers.Dense(units=200, activation='relu'))\n",
    "\n",
    "model.add(layers.Dense(units=5, activation='softmax'))\n",
    "\n",
    "# Compile the network with the appropriate loss function and keep track of accuracy\n",
    "model.compile(loss='categorical_crossentropy', metrics=['accuracy'])\n",
    "\n",
    "# Train model\n",
    "history = model.fit(X_train, y_train, batch_size=100, epochs=80, validation_split=.1)\n",
    "\n",
    "# See how the model scored\n",
    "loss, accuracy  = model.evaluate(X_test, y_test)\n",
    "\n",
    "print(f'Test loss: {loss:.3}')\n",
    "print(f'Test accuracy: {accuracy:.3}')\n",
    "\n",
    "# Plot training & validation loss\n",
    "plt.plot(history.history['loss'], label='Training Loss')\n",
    "plt.plot(history.history['val_loss'], label='Validation Loss')\n",
    "plt.title('Training vs Validation Loss')\n",
    "plt.xlabel('Epoch')\n",
    "plt.ylabel('Loss')\n",
    "plt.legend()\n",
    "plt.grid(True)\n",
    "plt.show()\n",
    "\n",
    "\n",
    "# Plot training and validation accuracy\n",
    "plt.plot(history.history['accuracy'], label='Training Accuracy')\n",
    "plt.plot(history.history['val_accuracy'], label='Validation Accuracy')\n",
    "plt.title('Training vs Validation Accuracy')\n",
    "plt.xlabel('Epoch')\n",
    "plt.ylabel('Accuracy')\n",
    "plt.legend()\n",
    "plt.grid(True)\n",
    "plt.show()"
   ]
  },
  {
   "cell_type": "markdown",
   "id": "e2986737",
   "metadata": {},
   "source": [
    "##### Version 3\n",
    "\n",
    "To further reduce overfitting, I added L1 regulariszation to the weights in the dense layer.\n",
    "\n",
    "This greatly reduced overfitting in the model."
   ]
  },
  {
   "cell_type": "code",
   "execution_count": 29,
   "id": "9a4b51a0",
   "metadata": {},
   "outputs": [
    {
     "name": "stdout",
     "output_type": "stream",
     "text": [
      "Epoch 1/80\n",
      "\u001b[1m63/63\u001b[0m \u001b[32m━━━━━━━━━━━━━━━━━━━━\u001b[0m\u001b[37m\u001b[0m \u001b[1m1s\u001b[0m 6ms/step - accuracy: 0.5938 - loss: 3.0112 - val_accuracy: 0.6043 - val_loss: 2.1956\n",
      "Epoch 2/80\n",
      "\u001b[1m63/63\u001b[0m \u001b[32m━━━━━━━━━━━━━━━━━━━━\u001b[0m\u001b[37m\u001b[0m \u001b[1m0s\u001b[0m 3ms/step - accuracy: 0.6101 - loss: 2.0238 - val_accuracy: 0.6057 - val_loss: 1.5777\n",
      "Epoch 3/80\n",
      "\u001b[1m63/63\u001b[0m \u001b[32m━━━━━━━━━━━━━━━━━━━━\u001b[0m\u001b[37m\u001b[0m \u001b[1m0s\u001b[0m 3ms/step - accuracy: 0.6186 - loss: 1.4958 - val_accuracy: 0.6057 - val_loss: 1.2974\n",
      "Epoch 4/80\n",
      "\u001b[1m63/63\u001b[0m \u001b[32m━━━━━━━━━━━━━━━━━━━━\u001b[0m\u001b[37m\u001b[0m \u001b[1m0s\u001b[0m 3ms/step - accuracy: 0.6225 - loss: 1.2649 - val_accuracy: 0.6129 - val_loss: 1.1883\n",
      "Epoch 5/80\n",
      "\u001b[1m63/63\u001b[0m \u001b[32m━━━━━━━━━━━━━━━━━━━━\u001b[0m\u001b[37m\u001b[0m \u001b[1m0s\u001b[0m 3ms/step - accuracy: 0.6221 - loss: 1.1697 - val_accuracy: 0.6143 - val_loss: 1.1096\n",
      "Epoch 6/80\n",
      "\u001b[1m63/63\u001b[0m \u001b[32m━━━━━━━━━━━━━━━━━━━━\u001b[0m\u001b[37m\u001b[0m \u001b[1m0s\u001b[0m 3ms/step - accuracy: 0.6218 - loss: 1.1016 - val_accuracy: 0.6129 - val_loss: 1.0742\n",
      "Epoch 7/80\n",
      "\u001b[1m63/63\u001b[0m \u001b[32m━━━━━━━━━━━━━━━━━━━━\u001b[0m\u001b[37m\u001b[0m \u001b[1m0s\u001b[0m 3ms/step - accuracy: 0.6235 - loss: 1.0688 - val_accuracy: 0.6100 - val_loss: 1.0646\n",
      "Epoch 8/80\n",
      "\u001b[1m63/63\u001b[0m \u001b[32m━━━━━━━━━━━━━━━━━━━━\u001b[0m\u001b[37m\u001b[0m \u001b[1m0s\u001b[0m 3ms/step - accuracy: 0.6236 - loss: 1.0599 - val_accuracy: 0.6214 - val_loss: 1.0380\n",
      "Epoch 9/80\n",
      "\u001b[1m63/63\u001b[0m \u001b[32m━━━━━━━━━━━━━━━━━━━━\u001b[0m\u001b[37m\u001b[0m \u001b[1m0s\u001b[0m 3ms/step - accuracy: 0.6335 - loss: 1.0216 - val_accuracy: 0.6243 - val_loss: 1.0213\n",
      "Epoch 10/80\n",
      "\u001b[1m63/63\u001b[0m \u001b[32m━━━━━━━━━━━━━━━━━━━━\u001b[0m\u001b[37m\u001b[0m \u001b[1m0s\u001b[0m 3ms/step - accuracy: 0.6344 - loss: 1.0187 - val_accuracy: 0.6186 - val_loss: 1.0106\n",
      "Epoch 11/80\n",
      "\u001b[1m63/63\u001b[0m \u001b[32m━━━━━━━━━━━━━━━━━━━━\u001b[0m\u001b[37m\u001b[0m \u001b[1m0s\u001b[0m 3ms/step - accuracy: 0.6200 - loss: 1.0178 - val_accuracy: 0.6186 - val_loss: 1.0048\n",
      "Epoch 12/80\n",
      "\u001b[1m63/63\u001b[0m \u001b[32m━━━━━━━━━━━━━━━━━━━━\u001b[0m\u001b[37m\u001b[0m \u001b[1m0s\u001b[0m 3ms/step - accuracy: 0.6287 - loss: 1.0017 - val_accuracy: 0.6286 - val_loss: 0.9921\n",
      "Epoch 13/80\n",
      "\u001b[1m63/63\u001b[0m \u001b[32m━━━━━━━━━━━━━━━━━━━━\u001b[0m\u001b[37m\u001b[0m \u001b[1m0s\u001b[0m 3ms/step - accuracy: 0.6271 - loss: 0.9939 - val_accuracy: 0.6271 - val_loss: 0.9851\n",
      "Epoch 14/80\n",
      "\u001b[1m63/63\u001b[0m \u001b[32m━━━━━━━━━━━━━━━━━━━━\u001b[0m\u001b[37m\u001b[0m \u001b[1m0s\u001b[0m 3ms/step - accuracy: 0.6402 - loss: 0.9960 - val_accuracy: 0.6157 - val_loss: 0.9881\n",
      "Epoch 15/80\n",
      "\u001b[1m63/63\u001b[0m \u001b[32m━━━━━━━━━━━━━━━━━━━━\u001b[0m\u001b[37m\u001b[0m \u001b[1m0s\u001b[0m 3ms/step - accuracy: 0.6305 - loss: 0.9939 - val_accuracy: 0.6271 - val_loss: 0.9786\n",
      "Epoch 16/80\n",
      "\u001b[1m63/63\u001b[0m \u001b[32m━━━━━━━━━━━━━━━━━━━━\u001b[0m\u001b[37m\u001b[0m \u001b[1m0s\u001b[0m 3ms/step - accuracy: 0.6288 - loss: 0.9738 - val_accuracy: 0.6286 - val_loss: 0.9800\n",
      "Epoch 17/80\n",
      "\u001b[1m63/63\u001b[0m \u001b[32m━━━━━━━━━━━━━━━━━━━━\u001b[0m\u001b[37m\u001b[0m \u001b[1m0s\u001b[0m 3ms/step - accuracy: 0.6403 - loss: 0.9625 - val_accuracy: 0.6286 - val_loss: 0.9842\n",
      "Epoch 18/80\n",
      "\u001b[1m63/63\u001b[0m \u001b[32m━━━━━━━━━━━━━━━━━━━━\u001b[0m\u001b[37m\u001b[0m \u001b[1m0s\u001b[0m 3ms/step - accuracy: 0.6297 - loss: 0.9750 - val_accuracy: 0.6243 - val_loss: 0.9707\n",
      "Epoch 19/80\n",
      "\u001b[1m63/63\u001b[0m \u001b[32m━━━━━━━━━━━━━━━━━━━━\u001b[0m\u001b[37m\u001b[0m \u001b[1m0s\u001b[0m 3ms/step - accuracy: 0.6338 - loss: 0.9839 - val_accuracy: 0.6129 - val_loss: 0.9711\n",
      "Epoch 20/80\n",
      "\u001b[1m63/63\u001b[0m \u001b[32m━━━━━━━━━━━━━━━━━━━━\u001b[0m\u001b[37m\u001b[0m \u001b[1m0s\u001b[0m 3ms/step - accuracy: 0.6247 - loss: 0.9913 - val_accuracy: 0.6286 - val_loss: 0.9738\n",
      "Epoch 21/80\n",
      "\u001b[1m63/63\u001b[0m \u001b[32m━━━━━━━━━━━━━━━━━━━━\u001b[0m\u001b[37m\u001b[0m \u001b[1m0s\u001b[0m 3ms/step - accuracy: 0.6402 - loss: 0.9634 - val_accuracy: 0.6314 - val_loss: 0.9644\n",
      "Epoch 22/80\n",
      "\u001b[1m63/63\u001b[0m \u001b[32m━━━━━━━━━━━━━━━━━━━━\u001b[0m\u001b[37m\u001b[0m \u001b[1m0s\u001b[0m 3ms/step - accuracy: 0.6394 - loss: 0.9575 - val_accuracy: 0.6271 - val_loss: 0.9607\n",
      "Epoch 23/80\n",
      "\u001b[1m63/63\u001b[0m \u001b[32m━━━━━━━━━━━━━━━━━━━━\u001b[0m\u001b[37m\u001b[0m \u001b[1m0s\u001b[0m 3ms/step - accuracy: 0.6402 - loss: 0.9589 - val_accuracy: 0.6257 - val_loss: 0.9629\n",
      "Epoch 24/80\n",
      "\u001b[1m63/63\u001b[0m \u001b[32m━━━━━━━━━━━━━━━━━━━━\u001b[0m\u001b[37m\u001b[0m \u001b[1m0s\u001b[0m 3ms/step - accuracy: 0.6290 - loss: 0.9741 - val_accuracy: 0.6271 - val_loss: 0.9621\n",
      "Epoch 25/80\n",
      "\u001b[1m63/63\u001b[0m \u001b[32m━━━━━━━━━━━━━━━━━━━━\u001b[0m\u001b[37m\u001b[0m \u001b[1m0s\u001b[0m 3ms/step - accuracy: 0.6448 - loss: 0.9465 - val_accuracy: 0.6257 - val_loss: 0.9588\n",
      "Epoch 26/80\n",
      "\u001b[1m63/63\u001b[0m \u001b[32m━━━━━━━━━━━━━━━━━━━━\u001b[0m\u001b[37m\u001b[0m \u001b[1m0s\u001b[0m 3ms/step - accuracy: 0.6340 - loss: 0.9609 - val_accuracy: 0.6200 - val_loss: 0.9592\n",
      "Epoch 27/80\n",
      "\u001b[1m63/63\u001b[0m \u001b[32m━━━━━━━━━━━━━━━━━━━━\u001b[0m\u001b[37m\u001b[0m \u001b[1m0s\u001b[0m 3ms/step - accuracy: 0.6405 - loss: 0.9528 - val_accuracy: 0.6271 - val_loss: 0.9561\n",
      "Epoch 28/80\n",
      "\u001b[1m63/63\u001b[0m \u001b[32m━━━━━━━━━━━━━━━━━━━━\u001b[0m\u001b[37m\u001b[0m \u001b[1m0s\u001b[0m 3ms/step - accuracy: 0.6394 - loss: 0.9562 - val_accuracy: 0.6229 - val_loss: 0.9605\n",
      "Epoch 29/80\n",
      "\u001b[1m63/63\u001b[0m \u001b[32m━━━━━━━━━━━━━━━━━━━━\u001b[0m\u001b[37m\u001b[0m \u001b[1m0s\u001b[0m 3ms/step - accuracy: 0.6390 - loss: 0.9551 - val_accuracy: 0.6300 - val_loss: 0.9566\n",
      "Epoch 30/80\n",
      "\u001b[1m63/63\u001b[0m \u001b[32m━━━━━━━━━━━━━━━━━━━━\u001b[0m\u001b[37m\u001b[0m \u001b[1m0s\u001b[0m 3ms/step - accuracy: 0.6298 - loss: 0.9720 - val_accuracy: 0.6214 - val_loss: 0.9549\n",
      "Epoch 31/80\n",
      "\u001b[1m63/63\u001b[0m \u001b[32m━━━━━━━━━━━━━━━━━━━━\u001b[0m\u001b[37m\u001b[0m \u001b[1m0s\u001b[0m 3ms/step - accuracy: 0.6436 - loss: 0.9489 - val_accuracy: 0.6257 - val_loss: 0.9550\n",
      "Epoch 32/80\n",
      "\u001b[1m63/63\u001b[0m \u001b[32m━━━━━━━━━━━━━━━━━━━━\u001b[0m\u001b[37m\u001b[0m \u001b[1m0s\u001b[0m 3ms/step - accuracy: 0.6303 - loss: 0.9742 - val_accuracy: 0.6329 - val_loss: 0.9544\n",
      "Epoch 33/80\n",
      "\u001b[1m63/63\u001b[0m \u001b[32m━━━━━━━━━━━━━━━━━━━━\u001b[0m\u001b[37m\u001b[0m \u001b[1m0s\u001b[0m 3ms/step - accuracy: 0.6412 - loss: 0.9468 - val_accuracy: 0.6286 - val_loss: 0.9551\n",
      "Epoch 34/80\n",
      "\u001b[1m63/63\u001b[0m \u001b[32m━━━━━━━━━━━━━━━━━━━━\u001b[0m\u001b[37m\u001b[0m \u001b[1m0s\u001b[0m 3ms/step - accuracy: 0.6258 - loss: 0.9615 - val_accuracy: 0.6286 - val_loss: 0.9562\n",
      "Epoch 35/80\n",
      "\u001b[1m63/63\u001b[0m \u001b[32m━━━━━━━━━━━━━━━━━━━━\u001b[0m\u001b[37m\u001b[0m \u001b[1m0s\u001b[0m 3ms/step - accuracy: 0.6313 - loss: 0.9637 - val_accuracy: 0.6229 - val_loss: 0.9556\n",
      "Epoch 36/80\n",
      "\u001b[1m63/63\u001b[0m \u001b[32m━━━━━━━━━━━━━━━━━━━━\u001b[0m\u001b[37m\u001b[0m \u001b[1m0s\u001b[0m 3ms/step - accuracy: 0.6357 - loss: 0.9470 - val_accuracy: 0.6314 - val_loss: 0.9544\n",
      "Epoch 37/80\n",
      "\u001b[1m63/63\u001b[0m \u001b[32m━━━━━━━━━━━━━━━━━━━━\u001b[0m\u001b[37m\u001b[0m \u001b[1m0s\u001b[0m 3ms/step - accuracy: 0.6371 - loss: 0.9438 - val_accuracy: 0.6329 - val_loss: 0.9513\n",
      "Epoch 38/80\n",
      "\u001b[1m63/63\u001b[0m \u001b[32m━━━━━━━━━━━━━━━━━━━━\u001b[0m\u001b[37m\u001b[0m \u001b[1m0s\u001b[0m 3ms/step - accuracy: 0.6354 - loss: 0.9532 - val_accuracy: 0.6286 - val_loss: 0.9514\n",
      "Epoch 39/80\n",
      "\u001b[1m63/63\u001b[0m \u001b[32m━━━━━━━━━━━━━━━━━━━━\u001b[0m\u001b[37m\u001b[0m \u001b[1m0s\u001b[0m 3ms/step - accuracy: 0.6359 - loss: 0.9613 - val_accuracy: 0.6200 - val_loss: 0.9533\n",
      "Epoch 40/80\n",
      "\u001b[1m63/63\u001b[0m \u001b[32m━━━━━━━━━━━━━━━━━━━━\u001b[0m\u001b[37m\u001b[0m \u001b[1m0s\u001b[0m 3ms/step - accuracy: 0.6397 - loss: 0.9398 - val_accuracy: 0.6214 - val_loss: 0.9495\n",
      "Epoch 41/80\n",
      "\u001b[1m63/63\u001b[0m \u001b[32m━━━━━━━━━━━━━━━━━━━━\u001b[0m\u001b[37m\u001b[0m \u001b[1m0s\u001b[0m 3ms/step - accuracy: 0.6347 - loss: 0.9473 - val_accuracy: 0.6300 - val_loss: 0.9495\n",
      "Epoch 42/80\n",
      "\u001b[1m63/63\u001b[0m \u001b[32m━━━━━━━━━━━━━━━━━━━━\u001b[0m\u001b[37m\u001b[0m \u001b[1m0s\u001b[0m 3ms/step - accuracy: 0.6413 - loss: 0.9475 - val_accuracy: 0.6257 - val_loss: 0.9526\n",
      "Epoch 43/80\n",
      "\u001b[1m63/63\u001b[0m \u001b[32m━━━━━━━━━━━━━━━━━━━━\u001b[0m\u001b[37m\u001b[0m \u001b[1m0s\u001b[0m 3ms/step - accuracy: 0.6255 - loss: 0.9501 - val_accuracy: 0.6257 - val_loss: 0.9537\n",
      "Epoch 44/80\n",
      "\u001b[1m63/63\u001b[0m \u001b[32m━━━━━━━━━━━━━━━━━━━━\u001b[0m\u001b[37m\u001b[0m \u001b[1m0s\u001b[0m 3ms/step - accuracy: 0.6367 - loss: 0.9494 - val_accuracy: 0.6329 - val_loss: 0.9481\n",
      "Epoch 45/80\n",
      "\u001b[1m63/63\u001b[0m \u001b[32m━━━━━━━━━━━━━━━━━━━━\u001b[0m\u001b[37m\u001b[0m \u001b[1m0s\u001b[0m 3ms/step - accuracy: 0.6300 - loss: 0.9545 - val_accuracy: 0.6271 - val_loss: 0.9490\n",
      "Epoch 46/80\n",
      "\u001b[1m63/63\u001b[0m \u001b[32m━━━━━━━━━━━━━━━━━━━━\u001b[0m\u001b[37m\u001b[0m \u001b[1m0s\u001b[0m 3ms/step - accuracy: 0.6273 - loss: 0.9572 - val_accuracy: 0.6286 - val_loss: 0.9527\n",
      "Epoch 47/80\n",
      "\u001b[1m63/63\u001b[0m \u001b[32m━━━━━━━━━━━━━━━━━━━━\u001b[0m\u001b[37m\u001b[0m \u001b[1m0s\u001b[0m 3ms/step - accuracy: 0.6402 - loss: 0.9579 - val_accuracy: 0.6186 - val_loss: 0.9492\n",
      "Epoch 48/80\n",
      "\u001b[1m63/63\u001b[0m \u001b[32m━━━━━━━━━━━━━━━━━━━━\u001b[0m\u001b[37m\u001b[0m \u001b[1m0s\u001b[0m 3ms/step - accuracy: 0.6281 - loss: 0.9519 - val_accuracy: 0.6286 - val_loss: 0.9530\n",
      "Epoch 49/80\n",
      "\u001b[1m63/63\u001b[0m \u001b[32m━━━━━━━━━━━━━━━━━━━━\u001b[0m\u001b[37m\u001b[0m \u001b[1m0s\u001b[0m 3ms/step - accuracy: 0.6288 - loss: 0.9733 - val_accuracy: 0.6214 - val_loss: 0.9473\n",
      "Epoch 50/80\n",
      "\u001b[1m63/63\u001b[0m \u001b[32m━━━━━━━━━━━━━━━━━━━━\u001b[0m\u001b[37m\u001b[0m \u001b[1m0s\u001b[0m 3ms/step - accuracy: 0.6302 - loss: 0.9615 - val_accuracy: 0.6229 - val_loss: 0.9517\n",
      "Epoch 51/80\n",
      "\u001b[1m63/63\u001b[0m \u001b[32m━━━━━━━━━━━━━━━━━━━━\u001b[0m\u001b[37m\u001b[0m \u001b[1m0s\u001b[0m 3ms/step - accuracy: 0.6397 - loss: 0.9476 - val_accuracy: 0.6300 - val_loss: 0.9469\n",
      "Epoch 52/80\n",
      "\u001b[1m63/63\u001b[0m \u001b[32m━━━━━━━━━━━━━━━━━━━━\u001b[0m\u001b[37m\u001b[0m \u001b[1m0s\u001b[0m 3ms/step - accuracy: 0.6376 - loss: 0.9492 - val_accuracy: 0.6329 - val_loss: 0.9459\n",
      "Epoch 53/80\n",
      "\u001b[1m63/63\u001b[0m \u001b[32m━━━━━━━━━━━━━━━━━━━━\u001b[0m\u001b[37m\u001b[0m \u001b[1m0s\u001b[0m 3ms/step - accuracy: 0.6362 - loss: 0.9497 - val_accuracy: 0.6300 - val_loss: 0.9476\n",
      "Epoch 54/80\n",
      "\u001b[1m63/63\u001b[0m \u001b[32m━━━━━━━━━━━━━━━━━━━━\u001b[0m\u001b[37m\u001b[0m \u001b[1m0s\u001b[0m 3ms/step - accuracy: 0.6361 - loss: 0.9557 - val_accuracy: 0.6186 - val_loss: 0.9485\n",
      "Epoch 55/80\n",
      "\u001b[1m63/63\u001b[0m \u001b[32m━━━━━━━━━━━━━━━━━━━━\u001b[0m\u001b[37m\u001b[0m \u001b[1m0s\u001b[0m 3ms/step - accuracy: 0.6336 - loss: 0.9436 - val_accuracy: 0.6257 - val_loss: 0.9494\n",
      "Epoch 56/80\n",
      "\u001b[1m63/63\u001b[0m \u001b[32m━━━━━━━━━━━━━━━━━━━━\u001b[0m\u001b[37m\u001b[0m \u001b[1m0s\u001b[0m 3ms/step - accuracy: 0.6472 - loss: 0.9376 - val_accuracy: 0.6214 - val_loss: 0.9502\n",
      "Epoch 57/80\n",
      "\u001b[1m63/63\u001b[0m \u001b[32m━━━━━━━━━━━━━━━━━━━━\u001b[0m\u001b[37m\u001b[0m \u001b[1m0s\u001b[0m 3ms/step - accuracy: 0.6342 - loss: 0.9584 - val_accuracy: 0.6300 - val_loss: 0.9495\n",
      "Epoch 58/80\n",
      "\u001b[1m63/63\u001b[0m \u001b[32m━━━━━━━━━━━━━━━━━━━━\u001b[0m\u001b[37m\u001b[0m \u001b[1m0s\u001b[0m 3ms/step - accuracy: 0.6429 - loss: 0.9412 - val_accuracy: 0.6243 - val_loss: 0.9465\n",
      "Epoch 59/80\n",
      "\u001b[1m63/63\u001b[0m \u001b[32m━━━━━━━━━━━━━━━━━━━━\u001b[0m\u001b[37m\u001b[0m \u001b[1m0s\u001b[0m 3ms/step - accuracy: 0.6382 - loss: 0.9421 - val_accuracy: 0.6329 - val_loss: 0.9482\n",
      "Epoch 60/80\n",
      "\u001b[1m63/63\u001b[0m \u001b[32m━━━━━━━━━━━━━━━━━━━━\u001b[0m\u001b[37m\u001b[0m \u001b[1m0s\u001b[0m 3ms/step - accuracy: 0.6428 - loss: 0.9374 - val_accuracy: 0.6286 - val_loss: 0.9478\n",
      "Epoch 61/80\n",
      "\u001b[1m63/63\u001b[0m \u001b[32m━━━━━━━━━━━━━━━━━━━━\u001b[0m\u001b[37m\u001b[0m \u001b[1m0s\u001b[0m 3ms/step - accuracy: 0.6374 - loss: 0.9392 - val_accuracy: 0.6329 - val_loss: 0.9486\n",
      "Epoch 62/80\n",
      "\u001b[1m63/63\u001b[0m \u001b[32m━━━━━━━━━━━━━━━━━━━━\u001b[0m\u001b[37m\u001b[0m \u001b[1m0s\u001b[0m 3ms/step - accuracy: 0.6434 - loss: 0.9348 - val_accuracy: 0.6300 - val_loss: 0.9452\n",
      "Epoch 63/80\n",
      "\u001b[1m63/63\u001b[0m \u001b[32m━━━━━━━━━━━━━━━━━━━━\u001b[0m\u001b[37m\u001b[0m \u001b[1m0s\u001b[0m 3ms/step - accuracy: 0.6340 - loss: 0.9564 - val_accuracy: 0.6286 - val_loss: 0.9493\n",
      "Epoch 64/80\n",
      "\u001b[1m63/63\u001b[0m \u001b[32m━━━━━━━━━━━━━━━━━━━━\u001b[0m\u001b[37m\u001b[0m \u001b[1m0s\u001b[0m 3ms/step - accuracy: 0.6306 - loss: 0.9472 - val_accuracy: 0.6257 - val_loss: 0.9484\n",
      "Epoch 65/80\n",
      "\u001b[1m63/63\u001b[0m \u001b[32m━━━━━━━━━━━━━━━━━━━━\u001b[0m\u001b[37m\u001b[0m \u001b[1m0s\u001b[0m 3ms/step - accuracy: 0.6422 - loss: 0.9368 - val_accuracy: 0.6257 - val_loss: 0.9477\n",
      "Epoch 66/80\n",
      "\u001b[1m63/63\u001b[0m \u001b[32m━━━━━━━━━━━━━━━━━━━━\u001b[0m\u001b[37m\u001b[0m \u001b[1m0s\u001b[0m 3ms/step - accuracy: 0.6319 - loss: 0.9423 - val_accuracy: 0.6300 - val_loss: 0.9472\n",
      "Epoch 67/80\n",
      "\u001b[1m63/63\u001b[0m \u001b[32m━━━━━━━━━━━━━━━━━━━━\u001b[0m\u001b[37m\u001b[0m \u001b[1m0s\u001b[0m 3ms/step - accuracy: 0.6419 - loss: 0.9415 - val_accuracy: 0.6271 - val_loss: 0.9471\n",
      "Epoch 68/80\n",
      "\u001b[1m63/63\u001b[0m \u001b[32m━━━━━━━━━━━━━━━━━━━━\u001b[0m\u001b[37m\u001b[0m \u001b[1m0s\u001b[0m 3ms/step - accuracy: 0.6361 - loss: 0.9432 - val_accuracy: 0.6314 - val_loss: 0.9481\n",
      "Epoch 69/80\n",
      "\u001b[1m63/63\u001b[0m \u001b[32m━━━━━━━━━━━━━━━━━━━━\u001b[0m\u001b[37m\u001b[0m \u001b[1m0s\u001b[0m 3ms/step - accuracy: 0.6492 - loss: 0.9378 - val_accuracy: 0.6200 - val_loss: 0.9495\n",
      "Epoch 70/80\n",
      "\u001b[1m63/63\u001b[0m \u001b[32m━━━━━━━━━━━━━━━━━━━━\u001b[0m\u001b[37m\u001b[0m \u001b[1m0s\u001b[0m 3ms/step - accuracy: 0.6262 - loss: 0.9542 - val_accuracy: 0.6243 - val_loss: 0.9519\n",
      "Epoch 71/80\n",
      "\u001b[1m63/63\u001b[0m \u001b[32m━━━━━━━━━━━━━━━━━━━━\u001b[0m\u001b[37m\u001b[0m \u001b[1m0s\u001b[0m 3ms/step - accuracy: 0.6344 - loss: 0.9474 - val_accuracy: 0.6271 - val_loss: 0.9489\n",
      "Epoch 72/80\n",
      "\u001b[1m63/63\u001b[0m \u001b[32m━━━━━━━━━━━━━━━━━━━━\u001b[0m\u001b[37m\u001b[0m \u001b[1m0s\u001b[0m 3ms/step - accuracy: 0.6231 - loss: 0.9653 - val_accuracy: 0.6271 - val_loss: 0.9508\n",
      "Epoch 73/80\n",
      "\u001b[1m63/63\u001b[0m \u001b[32m━━━━━━━━━━━━━━━━━━━━\u001b[0m\u001b[37m\u001b[0m \u001b[1m0s\u001b[0m 3ms/step - accuracy: 0.6416 - loss: 0.9416 - val_accuracy: 0.6271 - val_loss: 0.9474\n",
      "Epoch 74/80\n",
      "\u001b[1m63/63\u001b[0m \u001b[32m━━━━━━━━━━━━━━━━━━━━\u001b[0m\u001b[37m\u001b[0m \u001b[1m0s\u001b[0m 3ms/step - accuracy: 0.6337 - loss: 0.9439 - val_accuracy: 0.6300 - val_loss: 0.9467\n",
      "Epoch 75/80\n",
      "\u001b[1m63/63\u001b[0m \u001b[32m━━━━━━━━━━━━━━━━━━━━\u001b[0m\u001b[37m\u001b[0m \u001b[1m0s\u001b[0m 3ms/step - accuracy: 0.6447 - loss: 0.9390 - val_accuracy: 0.6314 - val_loss: 0.9460\n",
      "Epoch 76/80\n",
      "\u001b[1m63/63\u001b[0m \u001b[32m━━━━━━━━━━━━━━━━━━━━\u001b[0m\u001b[37m\u001b[0m \u001b[1m0s\u001b[0m 3ms/step - accuracy: 0.6358 - loss: 0.9441 - val_accuracy: 0.6300 - val_loss: 0.9486\n",
      "Epoch 77/80\n",
      "\u001b[1m63/63\u001b[0m \u001b[32m━━━━━━━━━━━━━━━━━━━━\u001b[0m\u001b[37m\u001b[0m \u001b[1m0s\u001b[0m 3ms/step - accuracy: 0.6277 - loss: 0.9527 - val_accuracy: 0.6257 - val_loss: 0.9490\n",
      "Epoch 78/80\n",
      "\u001b[1m63/63\u001b[0m \u001b[32m━━━━━━━━━━━━━━━━━━━━\u001b[0m\u001b[37m\u001b[0m \u001b[1m0s\u001b[0m 3ms/step - accuracy: 0.6366 - loss: 0.9364 - val_accuracy: 0.6286 - val_loss: 0.9470\n",
      "Epoch 79/80\n",
      "\u001b[1m63/63\u001b[0m \u001b[32m━━━━━━━━━━━━━━━━━━━━\u001b[0m\u001b[37m\u001b[0m \u001b[1m0s\u001b[0m 3ms/step - accuracy: 0.6280 - loss: 0.9528 - val_accuracy: 0.6243 - val_loss: 0.9479\n",
      "Epoch 80/80\n",
      "\u001b[1m63/63\u001b[0m \u001b[32m━━━━━━━━━━━━━━━━━━━━\u001b[0m\u001b[37m\u001b[0m \u001b[1m0s\u001b[0m 3ms/step - accuracy: 0.6415 - loss: 0.9422 - val_accuracy: 0.6286 - val_loss: 0.9496\n",
      "\u001b[1m94/94\u001b[0m \u001b[32m━━━━━━━━━━━━━━━━━━━━\u001b[0m\u001b[37m\u001b[0m \u001b[1m0s\u001b[0m 2ms/step - accuracy: 0.6330 - loss: 0.9577\n",
      "Test loss: 0.944\n",
      "Test accuracy: 0.637\n"
     ]
    },
    {
     "data": {
      "image/png": "[encoded data removed]",
      "text/plain": [
       "<Figure size 640x480 with 1 Axes>"
      ]
     },
     "metadata": {},
     "output_type": "display_data"
    },
    {
     "data": {
      "image/png": "[encoded data removed]",
      "text/plain": [
       "<Figure size 640x480 with 1 Axes>"
      ]
     },
     "metadata": {},
     "output_type": "display_data"
    }
   ],
   "source": [
    "\n",
    "# Make a fully connected network\n",
    "model = models.Sequential()\n",
    "\n",
    "# Create the hidden layer with sigmoid activations\n",
    "# to stop the model from overfitting add L1 regularization to the weights of the dense layers\n",
    "model.add(layers.Dense(units=100, kernel_regularizer=regularizers.L1(0.001),\n",
    "                     activation='relu', input_shape=(X_train.shape[1],)))\n",
    "\n",
    "# To further avoid overfitting add a dropout layer before the dense layers\n",
    "model.add(layers.Dropout(rate=0.4))\n",
    "model.add(layers.Dense(units=200, kernel_regularizer=regularizers.L1(0.001),\n",
    "                     activation='relu'))\n",
    "\n",
    "model.add(layers.Dense(units=5, activation='softmax'))\n",
    "\n",
    "# Compile the network with the appropriate loss function and keep track of accuracy\n",
    "model.compile(loss='categorical_crossentropy', metrics=['accuracy'])\n",
    "\n",
    "# Train model\n",
    "history = model.fit(X_train, y_train, batch_size=100, epochs=80, validation_split=.1)\n",
    "\n",
    "# See how the model scored\n",
    "loss, accuracy  = model.evaluate(X_test, y_test)\n",
    "\n",
    "print(f'Test loss: {loss:.3}')\n",
    "print(f'Test accuracy: {accuracy:.3}')\n",
    "\n",
    "# Plot training & validation loss\n",
    "plt.plot(history.history['loss'], label='Training Loss')\n",
    "plt.plot(history.history['val_loss'], label='Validation Loss')\n",
    "plt.title('Training vs Validation Loss')\n",
    "plt.xlabel('Epoch')\n",
    "plt.ylabel('Loss')\n",
    "plt.legend()\n",
    "plt.grid(True)\n",
    "plt.show()\n",
    "\n",
    "\n",
    "# Plot training and validation accuracy\n",
    "plt.plot(history.history['accuracy'], label='Training Accuracy')\n",
    "plt.plot(history.history['val_accuracy'], label='Validation Accuracy')\n",
    "plt.title('Training vs Validation Accuracy')\n",
    "plt.xlabel('Epoch')\n",
    "plt.ylabel('Accuracy')\n",
    "plt.legend()\n",
    "plt.grid(True)\n",
    "plt.show()"
   ]
  },
  {
   "cell_type": "markdown",
   "id": "6619a5e4",
   "metadata": {},
   "source": [
    "##### Version 4\n",
    "\n",
    "In this next version I tried to add a third dense layer with 200 nodes to improve the networks ability to classify. I also added a 20% dropout layer before this third layer. This dropout layer was only20% because it is closest to the output layer, so I wanted the model to use more of the nodes to increase classification accuracy.\n",
    "\n",
    "This did not help increase the accuracy."
   ]
  },
  {
   "cell_type": "code",
   "execution_count": 30,
   "id": "ff2a008e",
   "metadata": {},
   "outputs": [
    {
     "name": "stdout",
     "output_type": "stream",
     "text": [
      "Epoch 1/80\n",
      "\u001b[1m63/63\u001b[0m \u001b[32m━━━━━━━━━━━━━━━━━━━━\u001b[0m\u001b[37m\u001b[0m \u001b[1m1s\u001b[0m 7ms/step - accuracy: 0.5664 - loss: 4.9928 - val_accuracy: 0.6043 - val_loss: 3.0469\n",
      "Epoch 2/80\n",
      "\u001b[1m63/63\u001b[0m \u001b[32m━━━━━━━━━━━━━━━━━━━━\u001b[0m\u001b[37m\u001b[0m \u001b[1m0s\u001b[0m 4ms/step - accuracy: 0.6112 - loss: 2.6352 - val_accuracy: 0.6043 - val_loss: 1.7170\n",
      "Epoch 3/80\n",
      "\u001b[1m63/63\u001b[0m \u001b[32m━━━━━━━━━━━━━━━━━━━━\u001b[0m\u001b[37m\u001b[0m \u001b[1m0s\u001b[0m 4ms/step - accuracy: 0.6202 - loss: 1.5573 - val_accuracy: 0.6043 - val_loss: 1.3093\n",
      "Epoch 4/80\n",
      "\u001b[1m63/63\u001b[0m \u001b[32m━━━━━━━━━━━━━━━━━━━━\u001b[0m\u001b[37m\u001b[0m \u001b[1m0s\u001b[0m 4ms/step - accuracy: 0.6049 - loss: 1.2951 - val_accuracy: 0.6043 - val_loss: 1.1982\n",
      "Epoch 5/80\n",
      "\u001b[1m63/63\u001b[0m \u001b[32m━━━━━━━━━━━━━━━━━━━━\u001b[0m\u001b[37m\u001b[0m \u001b[1m0s\u001b[0m 4ms/step - accuracy: 0.6223 - loss: 1.1725 - val_accuracy: 0.6043 - val_loss: 1.1351\n",
      "Epoch 6/80\n",
      "\u001b[1m63/63\u001b[0m \u001b[32m━━━━━━━━━━━━━━━━━━━━\u001b[0m\u001b[37m\u001b[0m \u001b[1m0s\u001b[0m 4ms/step - accuracy: 0.6144 - loss: 1.1298 - val_accuracy: 0.6071 - val_loss: 1.1038\n",
      "Epoch 7/80\n",
      "\u001b[1m63/63\u001b[0m \u001b[32m━━━━━━━━━━━━━━━━━━━━\u001b[0m\u001b[37m\u001b[0m \u001b[1m0s\u001b[0m 4ms/step - accuracy: 0.6181 - loss: 1.0895 - val_accuracy: 0.6043 - val_loss: 1.0818\n",
      "Epoch 8/80\n",
      "\u001b[1m63/63\u001b[0m \u001b[32m━━━━━━━━━━━━━━━━━━━━\u001b[0m\u001b[37m\u001b[0m \u001b[1m0s\u001b[0m 4ms/step - accuracy: 0.6103 - loss: 1.0834 - val_accuracy: 0.6071 - val_loss: 1.0677\n",
      "Epoch 9/80\n",
      "\u001b[1m63/63\u001b[0m \u001b[32m━━━━━━━━━━━━━━━━━━━━\u001b[0m\u001b[37m\u001b[0m \u001b[1m0s\u001b[0m 4ms/step - accuracy: 0.6119 - loss: 1.0758 - val_accuracy: 0.6043 - val_loss: 1.0574\n",
      "Epoch 10/80\n",
      "\u001b[1m63/63\u001b[0m \u001b[32m━━━━━━━━━━━━━━━━━━━━\u001b[0m\u001b[37m\u001b[0m \u001b[1m0s\u001b[0m 4ms/step - accuracy: 0.6078 - loss: 1.0609 - val_accuracy: 0.6043 - val_loss: 1.0440\n",
      "Epoch 11/80\n",
      "\u001b[1m63/63\u001b[0m \u001b[32m━━━━━━━━━━━━━━━━━━━━\u001b[0m\u001b[37m\u001b[0m \u001b[1m0s\u001b[0m 4ms/step - accuracy: 0.6109 - loss: 1.0572 - val_accuracy: 0.6043 - val_loss: 1.0385\n",
      "Epoch 12/80\n",
      "\u001b[1m63/63\u001b[0m \u001b[32m━━━━━━━━━━━━━━━━━━━━\u001b[0m\u001b[37m\u001b[0m \u001b[1m0s\u001b[0m 4ms/step - accuracy: 0.6157 - loss: 1.0418 - val_accuracy: 0.6043 - val_loss: 1.0303\n",
      "Epoch 13/80\n",
      "\u001b[1m63/63\u001b[0m \u001b[32m━━━━━━━━━━━━━━━━━━━━\u001b[0m\u001b[37m\u001b[0m \u001b[1m0s\u001b[0m 4ms/step - accuracy: 0.6092 - loss: 1.0470 - val_accuracy: 0.6043 - val_loss: 1.0281\n",
      "Epoch 14/80\n",
      "\u001b[1m63/63\u001b[0m \u001b[32m━━━━━━━━━━━━━━━━━━━━\u001b[0m\u001b[37m\u001b[0m \u001b[1m0s\u001b[0m 4ms/step - accuracy: 0.6213 - loss: 1.0220 - val_accuracy: 0.6043 - val_loss: 1.0232\n",
      "Epoch 15/80\n",
      "\u001b[1m63/63\u001b[0m \u001b[32m━━━━━━━━━━━━━━━━━━━━\u001b[0m\u001b[37m\u001b[0m \u001b[1m0s\u001b[0m 4ms/step - accuracy: 0.6138 - loss: 1.0326 - val_accuracy: 0.6043 - val_loss: 1.0196\n",
      "Epoch 16/80\n",
      "\u001b[1m63/63\u001b[0m \u001b[32m━━━━━━━━━━━━━━━━━━━━\u001b[0m\u001b[37m\u001b[0m \u001b[1m0s\u001b[0m 4ms/step - accuracy: 0.6025 - loss: 1.0474 - val_accuracy: 0.6043 - val_loss: 1.0197\n",
      "Epoch 17/80\n",
      "\u001b[1m63/63\u001b[0m \u001b[32m━━━━━━━━━━━━━━━━━━━━\u001b[0m\u001b[37m\u001b[0m \u001b[1m0s\u001b[0m 4ms/step - accuracy: 0.6093 - loss: 1.0366 - val_accuracy: 0.6043 - val_loss: 1.0148\n",
      "Epoch 18/80\n",
      "\u001b[1m63/63\u001b[0m \u001b[32m━━━━━━━━━━━━━━━━━━━━\u001b[0m\u001b[37m\u001b[0m \u001b[1m0s\u001b[0m 4ms/step - accuracy: 0.6214 - loss: 1.0121 - val_accuracy: 0.6086 - val_loss: 1.0135\n",
      "Epoch 19/80\n",
      "\u001b[1m63/63\u001b[0m \u001b[32m━━━━━━━━━━━━━━━━━━━━\u001b[0m\u001b[37m\u001b[0m \u001b[1m0s\u001b[0m 4ms/step - accuracy: 0.6176 - loss: 1.0345 - val_accuracy: 0.6029 - val_loss: 1.0099\n",
      "Epoch 20/80\n",
      "\u001b[1m63/63\u001b[0m \u001b[32m━━━━━━━━━━━━━━━━━━━━\u001b[0m\u001b[37m\u001b[0m \u001b[1m0s\u001b[0m 4ms/step - accuracy: 0.6131 - loss: 1.0451 - val_accuracy: 0.6043 - val_loss: 1.0125\n",
      "Epoch 21/80\n",
      "\u001b[1m63/63\u001b[0m \u001b[32m━━━━━━━━━━━━━━━━━━━━\u001b[0m\u001b[37m\u001b[0m \u001b[1m0s\u001b[0m 4ms/step - accuracy: 0.6155 - loss: 1.0332 - val_accuracy: 0.6043 - val_loss: 1.0075\n",
      "Epoch 22/80\n",
      "\u001b[1m63/63\u001b[0m \u001b[32m━━━━━━━━━━━━━━━━━━━━\u001b[0m\u001b[37m\u001b[0m \u001b[1m0s\u001b[0m 4ms/step - accuracy: 0.6189 - loss: 1.0316 - val_accuracy: 0.6100 - val_loss: 1.0069\n",
      "Epoch 23/80\n",
      "\u001b[1m63/63\u001b[0m \u001b[32m━━━━━━━━━━━━━━━━━━━━\u001b[0m\u001b[37m\u001b[0m \u001b[1m0s\u001b[0m 4ms/step - accuracy: 0.6284 - loss: 1.0086 - val_accuracy: 0.6171 - val_loss: 1.0080\n",
      "Epoch 24/80\n",
      "\u001b[1m63/63\u001b[0m \u001b[32m━━━━━━━━━━━━━━━━━━━━\u001b[0m\u001b[37m\u001b[0m \u001b[1m0s\u001b[0m 4ms/step - accuracy: 0.6153 - loss: 1.0381 - val_accuracy: 0.6086 - val_loss: 1.0091\n",
      "Epoch 25/80\n",
      "\u001b[1m63/63\u001b[0m \u001b[32m━━━━━━━━━━━━━━━━━━━━\u001b[0m\u001b[37m\u001b[0m \u001b[1m0s\u001b[0m 4ms/step - accuracy: 0.6320 - loss: 0.9980 - val_accuracy: 0.6200 - val_loss: 1.0070\n",
      "Epoch 26/80\n",
      "\u001b[1m63/63\u001b[0m \u001b[32m━━━━━━━━━━━━━━━━━━━━\u001b[0m\u001b[37m\u001b[0m \u001b[1m0s\u001b[0m 4ms/step - accuracy: 0.6213 - loss: 1.0205 - val_accuracy: 0.6186 - val_loss: 1.0043\n",
      "Epoch 27/80\n",
      "\u001b[1m63/63\u001b[0m \u001b[32m━━━━━━━━━━━━━━━━━━━━\u001b[0m\u001b[37m\u001b[0m \u001b[1m0s\u001b[0m 4ms/step - accuracy: 0.6284 - loss: 1.0178 - val_accuracy: 0.6171 - val_loss: 1.0018\n",
      "Epoch 28/80\n",
      "\u001b[1m63/63\u001b[0m \u001b[32m━━━━━━━━━━━━━━━━━━━━\u001b[0m\u001b[37m\u001b[0m \u001b[1m0s\u001b[0m 4ms/step - accuracy: 0.6198 - loss: 1.0236 - val_accuracy: 0.6086 - val_loss: 1.0061\n",
      "Epoch 29/80\n",
      "\u001b[1m63/63\u001b[0m \u001b[32m━━━━━━━━━━━━━━━━━━━━\u001b[0m\u001b[37m\u001b[0m \u001b[1m0s\u001b[0m 4ms/step - accuracy: 0.6239 - loss: 1.0122 - val_accuracy: 0.6143 - val_loss: 1.0004\n",
      "Epoch 30/80\n",
      "\u001b[1m63/63\u001b[0m \u001b[32m━━━━━━━━━━━━━━━━━━━━\u001b[0m\u001b[37m\u001b[0m \u001b[1m0s\u001b[0m 4ms/step - accuracy: 0.6136 - loss: 1.0421 - val_accuracy: 0.6186 - val_loss: 0.9990\n",
      "Epoch 31/80\n",
      "\u001b[1m63/63\u001b[0m \u001b[32m━━━━━━━━━━━━━━━━━━━━\u001b[0m\u001b[37m\u001b[0m \u001b[1m0s\u001b[0m 4ms/step - accuracy: 0.6213 - loss: 1.0096 - val_accuracy: 0.6186 - val_loss: 1.0002\n",
      "Epoch 32/80\n",
      "\u001b[1m63/63\u001b[0m \u001b[32m━━━━━━━━━━━━━━━━━━━━\u001b[0m\u001b[37m\u001b[0m \u001b[1m0s\u001b[0m 4ms/step - accuracy: 0.6225 - loss: 1.0165 - val_accuracy: 0.6214 - val_loss: 0.9984\n",
      "Epoch 33/80\n",
      "\u001b[1m63/63\u001b[0m \u001b[32m━━━━━━━━━━━━━━━━━━━━\u001b[0m\u001b[37m\u001b[0m \u001b[1m0s\u001b[0m 4ms/step - accuracy: 0.6225 - loss: 1.0131 - val_accuracy: 0.6186 - val_loss: 0.9998\n",
      "Epoch 34/80\n",
      "\u001b[1m63/63\u001b[0m \u001b[32m━━━━━━━━━━━━━━━━━━━━\u001b[0m\u001b[37m\u001b[0m \u001b[1m0s\u001b[0m 4ms/step - accuracy: 0.6252 - loss: 1.0120 - val_accuracy: 0.6186 - val_loss: 0.9988\n",
      "Epoch 35/80\n",
      "\u001b[1m63/63\u001b[0m \u001b[32m━━━━━━━━━━━━━━━━━━━━\u001b[0m\u001b[37m\u001b[0m \u001b[1m0s\u001b[0m 4ms/step - accuracy: 0.6222 - loss: 1.0199 - val_accuracy: 0.6171 - val_loss: 1.0003\n",
      "Epoch 36/80\n",
      "\u001b[1m63/63\u001b[0m \u001b[32m━━━━━━━━━━━━━━━━━━━━\u001b[0m\u001b[37m\u001b[0m \u001b[1m0s\u001b[0m 4ms/step - accuracy: 0.6274 - loss: 1.0014 - val_accuracy: 0.6329 - val_loss: 0.9962\n",
      "Epoch 37/80\n",
      "\u001b[1m63/63\u001b[0m \u001b[32m━━━━━━━━━━━━━━━━━━━━\u001b[0m\u001b[37m\u001b[0m \u001b[1m0s\u001b[0m 4ms/step - accuracy: 0.6293 - loss: 1.0015 - val_accuracy: 0.5957 - val_loss: 1.0013\n",
      "Epoch 38/80\n",
      "\u001b[1m63/63\u001b[0m \u001b[32m━━━━━━━━━━━━━━━━━━━━\u001b[0m\u001b[37m\u001b[0m \u001b[1m0s\u001b[0m 4ms/step - accuracy: 0.6286 - loss: 1.0028 - val_accuracy: 0.6229 - val_loss: 0.9968\n",
      "Epoch 39/80\n",
      "\u001b[1m63/63\u001b[0m \u001b[32m━━━━━━━━━━━━━━━━━━━━\u001b[0m\u001b[37m\u001b[0m \u001b[1m0s\u001b[0m 4ms/step - accuracy: 0.6338 - loss: 1.0033 - val_accuracy: 0.6300 - val_loss: 0.9995\n",
      "Epoch 40/80\n",
      "\u001b[1m63/63\u001b[0m \u001b[32m━━━━━━━━━━━━━━━━━━━━\u001b[0m\u001b[37m\u001b[0m \u001b[1m0s\u001b[0m 4ms/step - accuracy: 0.6205 - loss: 1.0059 - val_accuracy: 0.6286 - val_loss: 0.9975\n",
      "Epoch 41/80\n",
      "\u001b[1m63/63\u001b[0m \u001b[32m━━━━━━━━━━━━━━━━━━━━\u001b[0m\u001b[37m\u001b[0m \u001b[1m0s\u001b[0m 4ms/step - accuracy: 0.6366 - loss: 0.9943 - val_accuracy: 0.6243 - val_loss: 0.9944\n",
      "Epoch 42/80\n",
      "\u001b[1m63/63\u001b[0m \u001b[32m━━━━━━━━━━━━━━━━━━━━\u001b[0m\u001b[37m\u001b[0m \u001b[1m0s\u001b[0m 4ms/step - accuracy: 0.6397 - loss: 0.9808 - val_accuracy: 0.6257 - val_loss: 0.9966\n",
      "Epoch 43/80\n",
      "\u001b[1m63/63\u001b[0m \u001b[32m━━━━━━━━━━━━━━━━━━━━\u001b[0m\u001b[37m\u001b[0m \u001b[1m0s\u001b[0m 4ms/step - accuracy: 0.6307 - loss: 1.0095 - val_accuracy: 0.6229 - val_loss: 0.9948\n",
      "Epoch 44/80\n",
      "\u001b[1m63/63\u001b[0m \u001b[32m━━━━━━━━━━━━━━━━━━━━\u001b[0m\u001b[37m\u001b[0m \u001b[1m0s\u001b[0m 4ms/step - accuracy: 0.6283 - loss: 1.0042 - val_accuracy: 0.6286 - val_loss: 0.9957\n",
      "Epoch 45/80\n",
      "\u001b[1m63/63\u001b[0m \u001b[32m━━━━━━━━━━━━━━━━━━━━\u001b[0m\u001b[37m\u001b[0m \u001b[1m0s\u001b[0m 4ms/step - accuracy: 0.6331 - loss: 0.9918 - val_accuracy: 0.6271 - val_loss: 0.9932\n",
      "Epoch 46/80\n",
      "\u001b[1m63/63\u001b[0m \u001b[32m━━━━━━━━━━━━━━━━━━━━\u001b[0m\u001b[37m\u001b[0m \u001b[1m0s\u001b[0m 4ms/step - accuracy: 0.6275 - loss: 1.0127 - val_accuracy: 0.6271 - val_loss: 0.9950\n",
      "Epoch 47/80\n",
      "\u001b[1m63/63\u001b[0m \u001b[32m━━━━━━━━━━━━━━━━━━━━\u001b[0m\u001b[37m\u001b[0m \u001b[1m0s\u001b[0m 4ms/step - accuracy: 0.6296 - loss: 0.9969 - val_accuracy: 0.6271 - val_loss: 0.9942\n",
      "Epoch 48/80\n",
      "\u001b[1m63/63\u001b[0m \u001b[32m━━━━━━━━━━━━━━━━━━━━\u001b[0m\u001b[37m\u001b[0m \u001b[1m0s\u001b[0m 4ms/step - accuracy: 0.6410 - loss: 0.9691 - val_accuracy: 0.6314 - val_loss: 0.9909\n",
      "Epoch 49/80\n",
      "\u001b[1m63/63\u001b[0m \u001b[32m━━━━━━━━━━━━━━━━━━━━\u001b[0m\u001b[37m\u001b[0m \u001b[1m0s\u001b[0m 4ms/step - accuracy: 0.6215 - loss: 1.0058 - val_accuracy: 0.6243 - val_loss: 0.9918\n",
      "Epoch 50/80\n",
      "\u001b[1m63/63\u001b[0m \u001b[32m━━━━━━━━━━━━━━━━━━━━\u001b[0m\u001b[37m\u001b[0m \u001b[1m0s\u001b[0m 4ms/step - accuracy: 0.6316 - loss: 0.9870 - val_accuracy: 0.6257 - val_loss: 0.9924\n",
      "Epoch 51/80\n",
      "\u001b[1m63/63\u001b[0m \u001b[32m━━━━━━━━━━━━━━━━━━━━\u001b[0m\u001b[37m\u001b[0m \u001b[1m0s\u001b[0m 4ms/step - accuracy: 0.6339 - loss: 0.9911 - val_accuracy: 0.6257 - val_loss: 0.9914\n",
      "Epoch 52/80\n",
      "\u001b[1m63/63\u001b[0m \u001b[32m━━━━━━━━━━━━━━━━━━━━\u001b[0m\u001b[37m\u001b[0m \u001b[1m0s\u001b[0m 4ms/step - accuracy: 0.6309 - loss: 0.9905 - val_accuracy: 0.6271 - val_loss: 0.9928\n",
      "Epoch 53/80\n",
      "\u001b[1m63/63\u001b[0m \u001b[32m━━━━━━━━━━━━━━━━━━━━\u001b[0m\u001b[37m\u001b[0m \u001b[1m0s\u001b[0m 4ms/step - accuracy: 0.6394 - loss: 0.9821 - val_accuracy: 0.6300 - val_loss: 0.9922\n",
      "Epoch 54/80\n",
      "\u001b[1m63/63\u001b[0m \u001b[32m━━━━━━━━━━━━━━━━━━━━\u001b[0m\u001b[37m\u001b[0m \u001b[1m0s\u001b[0m 4ms/step - accuracy: 0.6272 - loss: 0.9958 - val_accuracy: 0.6214 - val_loss: 0.9939\n",
      "Epoch 55/80\n",
      "\u001b[1m63/63\u001b[0m \u001b[32m━━━━━━━━━━━━━━━━━━━━\u001b[0m\u001b[37m\u001b[0m \u001b[1m0s\u001b[0m 4ms/step - accuracy: 0.6349 - loss: 0.9839 - val_accuracy: 0.6286 - val_loss: 0.9932\n",
      "Epoch 56/80\n",
      "\u001b[1m63/63\u001b[0m \u001b[32m━━━━━━━━━━━━━━━━━━━━\u001b[0m\u001b[37m\u001b[0m \u001b[1m0s\u001b[0m 4ms/step - accuracy: 0.6256 - loss: 0.9945 - val_accuracy: 0.6257 - val_loss: 0.9911\n",
      "Epoch 57/80\n",
      "\u001b[1m63/63\u001b[0m \u001b[32m━━━━━━━━━━━━━━━━━━━━\u001b[0m\u001b[37m\u001b[0m \u001b[1m0s\u001b[0m 4ms/step - accuracy: 0.6336 - loss: 0.9877 - val_accuracy: 0.6300 - val_loss: 0.9922\n",
      "Epoch 58/80\n",
      "\u001b[1m63/63\u001b[0m \u001b[32m━━━━━━━━━━━━━━━━━━━━\u001b[0m\u001b[37m\u001b[0m \u001b[1m0s\u001b[0m 4ms/step - accuracy: 0.6262 - loss: 0.9854 - val_accuracy: 0.6286 - val_loss: 0.9928\n",
      "Epoch 59/80\n",
      "\u001b[1m63/63\u001b[0m \u001b[32m━━━━━━━━━━━━━━━━━━━━\u001b[0m\u001b[37m\u001b[0m \u001b[1m0s\u001b[0m 4ms/step - accuracy: 0.6322 - loss: 0.9905 - val_accuracy: 0.6300 - val_loss: 0.9936\n",
      "Epoch 60/80\n",
      "\u001b[1m63/63\u001b[0m \u001b[32m━━━━━━━━━━━━━━━━━━━━\u001b[0m\u001b[37m\u001b[0m \u001b[1m0s\u001b[0m 4ms/step - accuracy: 0.6270 - loss: 1.0162 - val_accuracy: 0.6229 - val_loss: 0.9948\n",
      "Epoch 61/80\n",
      "\u001b[1m63/63\u001b[0m \u001b[32m━━━━━━━━━━━━━━━━━━━━\u001b[0m\u001b[37m\u001b[0m \u001b[1m0s\u001b[0m 4ms/step - accuracy: 0.6386 - loss: 0.9831 - val_accuracy: 0.6300 - val_loss: 0.9921\n",
      "Epoch 62/80\n",
      "\u001b[1m63/63\u001b[0m \u001b[32m━━━━━━━━━━━━━━━━━━━━\u001b[0m\u001b[37m\u001b[0m \u001b[1m0s\u001b[0m 4ms/step - accuracy: 0.6296 - loss: 0.9990 - val_accuracy: 0.6286 - val_loss: 0.9964\n",
      "Epoch 63/80\n",
      "\u001b[1m63/63\u001b[0m \u001b[32m━━━━━━━━━━━━━━━━━━━━\u001b[0m\u001b[37m\u001b[0m \u001b[1m0s\u001b[0m 4ms/step - accuracy: 0.6318 - loss: 0.9781 - val_accuracy: 0.6300 - val_loss: 0.9959\n",
      "Epoch 64/80\n",
      "\u001b[1m63/63\u001b[0m \u001b[32m━━━━━━━━━━━━━━━━━━━━\u001b[0m\u001b[37m\u001b[0m \u001b[1m0s\u001b[0m 4ms/step - accuracy: 0.6263 - loss: 0.9949 - val_accuracy: 0.6314 - val_loss: 0.9968\n",
      "Epoch 65/80\n",
      "\u001b[1m63/63\u001b[0m \u001b[32m━━━━━━━━━━━━━━━━━━━━\u001b[0m\u001b[37m\u001b[0m \u001b[1m0s\u001b[0m 4ms/step - accuracy: 0.6267 - loss: 0.9994 - val_accuracy: 0.6300 - val_loss: 0.9966\n",
      "Epoch 66/80\n",
      "\u001b[1m63/63\u001b[0m \u001b[32m━━━━━━━━━━━━━━━━━━━━\u001b[0m\u001b[37m\u001b[0m \u001b[1m0s\u001b[0m 4ms/step - accuracy: 0.6290 - loss: 0.9880 - val_accuracy: 0.6271 - val_loss: 0.9938\n",
      "Epoch 67/80\n",
      "\u001b[1m63/63\u001b[0m \u001b[32m━━━━━━━━━━━━━━━━━━━━\u001b[0m\u001b[37m\u001b[0m \u001b[1m0s\u001b[0m 4ms/step - accuracy: 0.6193 - loss: 0.9995 - val_accuracy: 0.6214 - val_loss: 0.9946\n",
      "Epoch 68/80\n",
      "\u001b[1m63/63\u001b[0m \u001b[32m━━━━━━━━━━━━━━━━━━━━\u001b[0m\u001b[37m\u001b[0m \u001b[1m0s\u001b[0m 4ms/step - accuracy: 0.6256 - loss: 1.0000 - val_accuracy: 0.6343 - val_loss: 0.9922\n",
      "Epoch 69/80\n",
      "\u001b[1m63/63\u001b[0m \u001b[32m━━━━━━━━━━━━━━━━━━━━\u001b[0m\u001b[37m\u001b[0m \u001b[1m0s\u001b[0m 4ms/step - accuracy: 0.6266 - loss: 0.9968 - val_accuracy: 0.6329 - val_loss: 0.9942\n",
      "Epoch 70/80\n",
      "\u001b[1m63/63\u001b[0m \u001b[32m━━━━━━━━━━━━━━━━━━━━\u001b[0m\u001b[37m\u001b[0m \u001b[1m0s\u001b[0m 4ms/step - accuracy: 0.6338 - loss: 0.9907 - val_accuracy: 0.6229 - val_loss: 0.9940\n",
      "Epoch 71/80\n",
      "\u001b[1m63/63\u001b[0m \u001b[32m━━━━━━━━━━━━━━━━━━━━\u001b[0m\u001b[37m\u001b[0m \u001b[1m0s\u001b[0m 4ms/step - accuracy: 0.6365 - loss: 0.9997 - val_accuracy: 0.6229 - val_loss: 0.9960\n",
      "Epoch 72/80\n",
      "\u001b[1m63/63\u001b[0m \u001b[32m━━━━━━━━━━━━━━━━━━━━\u001b[0m\u001b[37m\u001b[0m \u001b[1m0s\u001b[0m 4ms/step - accuracy: 0.6265 - loss: 0.9986 - val_accuracy: 0.6343 - val_loss: 0.9931\n",
      "Epoch 73/80\n",
      "\u001b[1m63/63\u001b[0m \u001b[32m━━━━━━━━━━━━━━━━━━━━\u001b[0m\u001b[37m\u001b[0m \u001b[1m0s\u001b[0m 4ms/step - accuracy: 0.6139 - loss: 1.0136 - val_accuracy: 0.6314 - val_loss: 0.9952\n",
      "Epoch 74/80\n",
      "\u001b[1m63/63\u001b[0m \u001b[32m━━━━━━━━━━━━━━━━━━━━\u001b[0m\u001b[37m\u001b[0m \u001b[1m0s\u001b[0m 4ms/step - accuracy: 0.6362 - loss: 0.9932 - val_accuracy: 0.6329 - val_loss: 0.9918\n",
      "Epoch 75/80\n",
      "\u001b[1m63/63\u001b[0m \u001b[32m━━━━━━━━━━━━━━━━━━━━\u001b[0m\u001b[37m\u001b[0m \u001b[1m0s\u001b[0m 4ms/step - accuracy: 0.6272 - loss: 0.9951 - val_accuracy: 0.6314 - val_loss: 0.9927\n",
      "Epoch 76/80\n",
      "\u001b[1m63/63\u001b[0m \u001b[32m━━━━━━━━━━━━━━━━━━━━\u001b[0m\u001b[37m\u001b[0m \u001b[1m0s\u001b[0m 4ms/step - accuracy: 0.6365 - loss: 0.9799 - val_accuracy: 0.6286 - val_loss: 0.9928\n",
      "Epoch 77/80\n",
      "\u001b[1m63/63\u001b[0m \u001b[32m━━━━━━━━━━━━━━━━━━━━\u001b[0m\u001b[37m\u001b[0m \u001b[1m0s\u001b[0m 4ms/step - accuracy: 0.6332 - loss: 0.9839 - val_accuracy: 0.6171 - val_loss: 0.9950\n",
      "Epoch 78/80\n",
      "\u001b[1m63/63\u001b[0m \u001b[32m━━━━━━━━━━━━━━━━━━━━\u001b[0m\u001b[37m\u001b[0m \u001b[1m0s\u001b[0m 4ms/step - accuracy: 0.6454 - loss: 0.9744 - val_accuracy: 0.6229 - val_loss: 0.9945\n",
      "Epoch 79/80\n",
      "\u001b[1m63/63\u001b[0m \u001b[32m━━━━━━━━━━━━━━━━━━━━\u001b[0m\u001b[37m\u001b[0m \u001b[1m0s\u001b[0m 4ms/step - accuracy: 0.6342 - loss: 0.9905 - val_accuracy: 0.6229 - val_loss: 0.9948\n",
      "Epoch 80/80\n",
      "\u001b[1m63/63\u001b[0m \u001b[32m━━━━━━━━━━━━━━━━━━━━\u001b[0m\u001b[37m\u001b[0m \u001b[1m0s\u001b[0m 4ms/step - accuracy: 0.6265 - loss: 1.0057 - val_accuracy: 0.6229 - val_loss: 0.9953\n",
      "\u001b[1m94/94\u001b[0m \u001b[32m━━━━━━━━━━━━━━━━━━━━\u001b[0m\u001b[37m\u001b[0m \u001b[1m0s\u001b[0m 2ms/step - accuracy: 0.6359 - loss: 0.9987\n",
      "Test loss: 0.987\n",
      "Test accuracy: 0.63\n"
     ]
    },
    {
     "data": {
      "image/png": "[encoded data removed]",
      "text/plain": [
       "<Figure size 640x480 with 1 Axes>"
      ]
     },
     "metadata": {},
     "output_type": "display_data"
    },
    {
     "data": {
      "image/png": "[encoded data removed]",
      "text/plain": [
       "<Figure size 640x480 with 1 Axes>"
      ]
     },
     "metadata": {},
     "output_type": "display_data"
    }
   ],
   "source": [
    "\n",
    "# Make a fully connected network\n",
    "model = models.Sequential()\n",
    "\n",
    "# Create the hidden layer with sigmoid activations\n",
    "# to stop the model from overfitting add L1 regularization to the weights of the dense layers\n",
    "model.add(layers.Dense(units=100, kernel_regularizer=regularizers.L1(0.001),\n",
    "                     activation='relu', input_shape=(X_train.shape[1],)))\n",
    "\n",
    "\n",
    "# To further avoid overfitting add a dropout layer before the dense layers\n",
    "model.add(layers.Dropout(rate=0.4))\n",
    "model.add(layers.Dense(units=200, kernel_regularizer=regularizers.L1(0.001),\n",
    "                     activation='relu'))\n",
    "\n",
    "model.add(layers.Dropout(rate=0.2))\n",
    "model.add(layers.Dense(units=200, kernel_regularizer=regularizers.L1(0.001),\n",
    "                     activation='relu'))\n",
    "\n",
    "model.add(layers.Dense(units=5, activation='softmax'))\n",
    "\n",
    "# Compile the network with the appropriate loss function and keep track of accuracy\n",
    "model.compile(loss='categorical_crossentropy', metrics=['accuracy'])\n",
    "\n",
    "# Train model\n",
    "history = model.fit(X_train, y_train, batch_size=100, epochs=80, validation_split=.1)\n",
    "\n",
    "# See how the model scored\n",
    "loss, accuracy  = model.evaluate(X_test, y_test)\n",
    "\n",
    "print(f'Test loss: {loss:.3}')\n",
    "print(f'Test accuracy: {accuracy:.3}')\n",
    "\n",
    "# Plot training & validation loss\n",
    "plt.plot(history.history['loss'], label='Training Loss')\n",
    "plt.plot(history.history['val_loss'], label='Validation Loss')\n",
    "plt.title('Training vs Validation Loss')\n",
    "plt.xlabel('Epoch')\n",
    "plt.ylabel('Loss')\n",
    "plt.legend()\n",
    "plt.grid(True)\n",
    "plt.show()\n",
    "\n",
    "\n",
    "# Plot training and validation accuracy\n",
    "plt.plot(history.history['accuracy'], label='Training Accuracy')\n",
    "plt.plot(history.history['val_accuracy'], label='Validation Accuracy')\n",
    "plt.title('Training vs Validation Accuracy')\n",
    "plt.xlabel('Epoch')\n",
    "plt.ylabel('Accuracy')\n",
    "plt.legend()\n",
    "plt.grid(True)\n",
    "plt.show()"
   ]
  },
  {
   "cell_type": "markdown",
   "id": "a666881c",
   "metadata": {},
   "source": [
    "##### Version 5\n",
    "\n",
    "In this final version, I added batch normalization after every dense layer to attemps to improve prediciton accuracy. I hope that by shifting the mean and standard deviation of the standardised data, the model will better predict the testing data.\n",
    "\n",
    "The validation accuracy did not improve, but on the first epoch the validation accuracy was very high compared to previous versions."
   ]
  },
  {
   "cell_type": "code",
   "execution_count": 31,
   "id": "33e3c81f",
   "metadata": {},
   "outputs": [
    {
     "name": "stdout",
     "output_type": "stream",
     "text": [
      "Epoch 1/80\n",
      "\u001b[1m63/63\u001b[0m \u001b[32m━━━━━━━━━━━━━━━━━━━━\u001b[0m\u001b[37m\u001b[0m \u001b[1m2s\u001b[0m 8ms/step - accuracy: 0.3348 - loss: 6.3101 - val_accuracy: 0.6043 - val_loss: 5.3408\n",
      "Epoch 2/80\n",
      "\u001b[1m63/63\u001b[0m \u001b[32m━━━━━━━━━━━━━━━━━━━━\u001b[0m\u001b[37m\u001b[0m \u001b[1m0s\u001b[0m 4ms/step - accuracy: 0.5637 - loss: 5.2211 - val_accuracy: 0.6043 - val_loss: 4.7138\n",
      "Epoch 3/80\n",
      "\u001b[1m63/63\u001b[0m \u001b[32m━━━━━━━━━━━━━━━━━━━━\u001b[0m\u001b[37m\u001b[0m \u001b[1m0s\u001b[0m 5ms/step - accuracy: 0.5992 - loss: 4.5987 - val_accuracy: 0.6014 - val_loss: 4.2226\n",
      "Epoch 4/80\n",
      "\u001b[1m63/63\u001b[0m \u001b[32m━━━━━━━━━━━━━━━━━━━━\u001b[0m\u001b[37m\u001b[0m \u001b[1m0s\u001b[0m 5ms/step - accuracy: 0.6212 - loss: 4.1033 - val_accuracy: 0.6086 - val_loss: 3.7856\n",
      "Epoch 5/80\n",
      "\u001b[1m63/63\u001b[0m \u001b[32m━━━━━━━━━━━━━━━━━━━━\u001b[0m\u001b[37m\u001b[0m \u001b[1m0s\u001b[0m 5ms/step - accuracy: 0.6183 - loss: 3.6795 - val_accuracy: 0.6143 - val_loss: 3.4026\n",
      "Epoch 6/80\n",
      "\u001b[1m63/63\u001b[0m \u001b[32m━━━━━━━━━━━━━━━━━━━━\u001b[0m\u001b[37m\u001b[0m \u001b[1m0s\u001b[0m 5ms/step - accuracy: 0.6266 - loss: 3.2680 - val_accuracy: 0.6143 - val_loss: 3.0462\n",
      "Epoch 7/80\n",
      "\u001b[1m63/63\u001b[0m \u001b[32m━━━━━━━━━━━━━━━━━━━━\u001b[0m\u001b[37m\u001b[0m \u001b[1m0s\u001b[0m 5ms/step - accuracy: 0.6378 - loss: 2.9299 - val_accuracy: 0.6171 - val_loss: 2.7088\n",
      "Epoch 8/80\n",
      "\u001b[1m63/63\u001b[0m \u001b[32m━━━━━━━━━━━━━━━━━━━━\u001b[0m\u001b[37m\u001b[0m \u001b[1m0s\u001b[0m 5ms/step - accuracy: 0.6251 - loss: 2.6325 - val_accuracy: 0.6114 - val_loss: 2.4545\n",
      "Epoch 9/80\n",
      "\u001b[1m63/63\u001b[0m \u001b[32m━━━━━━━━━━━━━━━━━━━━\u001b[0m\u001b[37m\u001b[0m \u001b[1m0s\u001b[0m 5ms/step - accuracy: 0.6321 - loss: 2.3823 - val_accuracy: 0.6100 - val_loss: 2.2502\n",
      "Epoch 10/80\n",
      "\u001b[1m63/63\u001b[0m \u001b[32m━━━━━━━━━━━━━━━━━━━━\u001b[0m\u001b[37m\u001b[0m \u001b[1m0s\u001b[0m 5ms/step - accuracy: 0.6417 - loss: 2.1577 - val_accuracy: 0.6043 - val_loss: 2.0225\n",
      "Epoch 11/80\n",
      "\u001b[1m63/63\u001b[0m \u001b[32m━━━━━━━━━━━━━━━━━━━━\u001b[0m\u001b[37m\u001b[0m \u001b[1m0s\u001b[0m 5ms/step - accuracy: 0.6247 - loss: 1.9657 - val_accuracy: 0.6100 - val_loss: 1.8665\n",
      "Epoch 12/80\n",
      "\u001b[1m63/63\u001b[0m \u001b[32m━━━━━━━━━━━━━━━━━━━━\u001b[0m\u001b[37m\u001b[0m \u001b[1m0s\u001b[0m 5ms/step - accuracy: 0.6351 - loss: 1.8254 - val_accuracy: 0.6157 - val_loss: 1.7241\n",
      "Epoch 13/80\n",
      "\u001b[1m63/63\u001b[0m \u001b[32m━━━━━━━━━━━━━━━━━━━━\u001b[0m\u001b[37m\u001b[0m \u001b[1m0s\u001b[0m 5ms/step - accuracy: 0.6374 - loss: 1.6750 - val_accuracy: 0.6200 - val_loss: 1.5902\n",
      "Epoch 14/80\n",
      "\u001b[1m63/63\u001b[0m \u001b[32m━━━━━━━━━━━━━━━━━━━━\u001b[0m\u001b[37m\u001b[0m \u001b[1m0s\u001b[0m 5ms/step - accuracy: 0.6303 - loss: 1.5702 - val_accuracy: 0.6114 - val_loss: 1.5133\n",
      "Epoch 15/80\n",
      "\u001b[1m63/63\u001b[0m \u001b[32m━━━━━━━━━━━━━━━━━━━━\u001b[0m\u001b[37m\u001b[0m \u001b[1m0s\u001b[0m 5ms/step - accuracy: 0.6290 - loss: 1.4847 - val_accuracy: 0.6229 - val_loss: 1.4574\n",
      "Epoch 16/80\n",
      "\u001b[1m63/63\u001b[0m \u001b[32m━━━━━━━━━━━━━━━━━━━━\u001b[0m\u001b[37m\u001b[0m \u001b[1m0s\u001b[0m 5ms/step - accuracy: 0.6390 - loss: 1.4002 - val_accuracy: 0.6157 - val_loss: 1.3743\n",
      "Epoch 17/80\n",
      "\u001b[1m63/63\u001b[0m \u001b[32m━━━━━━━━━━━━━━━━━━━━\u001b[0m\u001b[37m\u001b[0m \u001b[1m0s\u001b[0m 4ms/step - accuracy: 0.6365 - loss: 1.3677 - val_accuracy: 0.6071 - val_loss: 1.3490\n",
      "Epoch 18/80\n",
      "\u001b[1m63/63\u001b[0m \u001b[32m━━━━━━━━━━━━━━━━━━━━\u001b[0m\u001b[37m\u001b[0m \u001b[1m0s\u001b[0m 5ms/step - accuracy: 0.6408 - loss: 1.2912 - val_accuracy: 0.6143 - val_loss: 1.3012\n",
      "Epoch 19/80\n",
      "\u001b[1m63/63\u001b[0m \u001b[32m━━━━━━━━━━━━━━━━━━━━\u001b[0m\u001b[37m\u001b[0m \u001b[1m0s\u001b[0m 5ms/step - accuracy: 0.6333 - loss: 1.2558 - val_accuracy: 0.6214 - val_loss: 1.2661\n",
      "Epoch 20/80\n",
      "\u001b[1m63/63\u001b[0m \u001b[32m━━━━━━━━━━━━━━━━━━━━\u001b[0m\u001b[37m\u001b[0m \u001b[1m0s\u001b[0m 5ms/step - accuracy: 0.6432 - loss: 1.2180 - val_accuracy: 0.6143 - val_loss: 1.2140\n",
      "Epoch 21/80\n",
      "\u001b[1m63/63\u001b[0m \u001b[32m━━━━━━━━━━━━━━━━━━━━\u001b[0m\u001b[37m\u001b[0m \u001b[1m0s\u001b[0m 5ms/step - accuracy: 0.6410 - loss: 1.2052 - val_accuracy: 0.6100 - val_loss: 1.2020\n",
      "Epoch 22/80\n",
      "\u001b[1m63/63\u001b[0m \u001b[32m━━━━━━━━━━━━━━━━━━━━\u001b[0m\u001b[37m\u001b[0m \u001b[1m0s\u001b[0m 4ms/step - accuracy: 0.6421 - loss: 1.1737 - val_accuracy: 0.6257 - val_loss: 1.1872\n",
      "Epoch 23/80\n",
      "\u001b[1m63/63\u001b[0m \u001b[32m━━━━━━━━━━━━━━━━━━━━\u001b[0m\u001b[37m\u001b[0m \u001b[1m0s\u001b[0m 5ms/step - accuracy: 0.6467 - loss: 1.1460 - val_accuracy: 0.6214 - val_loss: 1.1421\n",
      "Epoch 24/80\n",
      "\u001b[1m63/63\u001b[0m \u001b[32m━━━━━━━━━━━━━━━━━━━━\u001b[0m\u001b[37m\u001b[0m \u001b[1m0s\u001b[0m 5ms/step - accuracy: 0.6319 - loss: 1.1492 - val_accuracy: 0.6157 - val_loss: 1.1555\n",
      "Epoch 25/80\n",
      "\u001b[1m63/63\u001b[0m \u001b[32m━━━━━━━━━━━━━━━━━━━━\u001b[0m\u001b[37m\u001b[0m \u001b[1m0s\u001b[0m 5ms/step - accuracy: 0.6325 - loss: 1.1284 - val_accuracy: 0.6129 - val_loss: 1.1232\n",
      "Epoch 26/80\n",
      "\u001b[1m63/63\u001b[0m \u001b[32m━━━━━━━━━━━━━━━━━━━━\u001b[0m\u001b[37m\u001b[0m \u001b[1m0s\u001b[0m 5ms/step - accuracy: 0.6382 - loss: 1.1111 - val_accuracy: 0.6129 - val_loss: 1.1184\n",
      "Epoch 27/80\n",
      "\u001b[1m63/63\u001b[0m \u001b[32m━━━━━━━━━━━━━━━━━━━━\u001b[0m\u001b[37m\u001b[0m \u001b[1m0s\u001b[0m 5ms/step - accuracy: 0.6444 - loss: 1.0689 - val_accuracy: 0.6214 - val_loss: 1.0994\n",
      "Epoch 28/80\n",
      "\u001b[1m63/63\u001b[0m \u001b[32m━━━━━━━━━━━━━━━━━━━━\u001b[0m\u001b[37m\u001b[0m \u001b[1m0s\u001b[0m 5ms/step - accuracy: 0.6358 - loss: 1.0754 - val_accuracy: 0.6071 - val_loss: 1.0956\n",
      "Epoch 29/80\n",
      "\u001b[1m63/63\u001b[0m \u001b[32m━━━━━━━━━━━━━━━━━━━━\u001b[0m\u001b[37m\u001b[0m \u001b[1m0s\u001b[0m 5ms/step - accuracy: 0.6475 - loss: 1.0629 - val_accuracy: 0.6243 - val_loss: 1.0724\n",
      "Epoch 30/80\n",
      "\u001b[1m63/63\u001b[0m \u001b[32m━━━━━━━━━━━━━━━━━━━━\u001b[0m\u001b[37m\u001b[0m \u001b[1m0s\u001b[0m 5ms/step - accuracy: 0.6374 - loss: 1.0666 - val_accuracy: 0.5900 - val_loss: 1.0823\n",
      "Epoch 31/80\n",
      "\u001b[1m63/63\u001b[0m \u001b[32m━━━━━━━━━━━━━━━━━━━━\u001b[0m\u001b[37m\u001b[0m \u001b[1m0s\u001b[0m 5ms/step - accuracy: 0.6353 - loss: 1.0592 - val_accuracy: 0.6114 - val_loss: 1.0741\n",
      "Epoch 32/80\n",
      "\u001b[1m63/63\u001b[0m \u001b[32m━━━━━━━━━━━━━━━━━━━━\u001b[0m\u001b[37m\u001b[0m \u001b[1m0s\u001b[0m 5ms/step - accuracy: 0.6520 - loss: 1.0270 - val_accuracy: 0.5857 - val_loss: 1.0687\n",
      "Epoch 33/80\n",
      "\u001b[1m63/63\u001b[0m \u001b[32m━━━━━━━━━━━━━━━━━━━━\u001b[0m\u001b[37m\u001b[0m \u001b[1m0s\u001b[0m 5ms/step - accuracy: 0.6348 - loss: 1.0407 - val_accuracy: 0.6057 - val_loss: 1.0680\n",
      "Epoch 34/80\n",
      "\u001b[1m63/63\u001b[0m \u001b[32m━━━━━━━━━━━━━━━━━━━━\u001b[0m\u001b[37m\u001b[0m \u001b[1m0s\u001b[0m 5ms/step - accuracy: 0.6375 - loss: 1.0423 - val_accuracy: 0.6300 - val_loss: 1.0532\n",
      "Epoch 35/80\n",
      "\u001b[1m63/63\u001b[0m \u001b[32m━━━━━━━━━━━━━━━━━━━━\u001b[0m\u001b[37m\u001b[0m \u001b[1m0s\u001b[0m 5ms/step - accuracy: 0.6341 - loss: 1.0330 - val_accuracy: 0.5900 - val_loss: 1.0632\n",
      "Epoch 36/80\n",
      "\u001b[1m63/63\u001b[0m \u001b[32m━━━━━━━━━━━━━━━━━━━━\u001b[0m\u001b[37m\u001b[0m \u001b[1m0s\u001b[0m 5ms/step - accuracy: 0.6306 - loss: 1.0222 - val_accuracy: 0.6029 - val_loss: 1.0569\n",
      "Epoch 37/80\n",
      "\u001b[1m63/63\u001b[0m \u001b[32m━━━━━━━━━━━━━━━━━━━━\u001b[0m\u001b[37m\u001b[0m \u001b[1m0s\u001b[0m 4ms/step - accuracy: 0.6325 - loss: 1.0164 - val_accuracy: 0.6214 - val_loss: 1.0441\n",
      "Epoch 38/80\n",
      "\u001b[1m63/63\u001b[0m \u001b[32m━━━━━━━━━━━━━━━━━━━━\u001b[0m\u001b[37m\u001b[0m \u001b[1m0s\u001b[0m 6ms/step - accuracy: 0.6375 - loss: 1.0093 - val_accuracy: 0.6100 - val_loss: 1.0482\n",
      "Epoch 39/80\n",
      "\u001b[1m63/63\u001b[0m \u001b[32m━━━━━━━━━━━━━━━━━━━━\u001b[0m\u001b[37m\u001b[0m \u001b[1m0s\u001b[0m 5ms/step - accuracy: 0.6417 - loss: 1.0065 - val_accuracy: 0.6157 - val_loss: 1.0355\n",
      "Epoch 40/80\n",
      "\u001b[1m63/63\u001b[0m \u001b[32m━━━━━━━━━━━━━━━━━━━━\u001b[0m\u001b[37m\u001b[0m \u001b[1m0s\u001b[0m 5ms/step - accuracy: 0.6300 - loss: 0.9999 - val_accuracy: 0.6200 - val_loss: 1.0316\n",
      "Epoch 41/80\n",
      "\u001b[1m63/63\u001b[0m \u001b[32m━━━━━━━━━━━━━━━━━━━━\u001b[0m\u001b[37m\u001b[0m \u001b[1m0s\u001b[0m 5ms/step - accuracy: 0.6362 - loss: 1.0091 - val_accuracy: 0.6086 - val_loss: 1.0354\n",
      "Epoch 42/80\n",
      "\u001b[1m63/63\u001b[0m \u001b[32m━━━━━━━━━━━━━━━━━━━━\u001b[0m\u001b[37m\u001b[0m \u001b[1m0s\u001b[0m 5ms/step - accuracy: 0.6470 - loss: 0.9858 - val_accuracy: 0.6214 - val_loss: 1.0376\n",
      "Epoch 43/80\n",
      "\u001b[1m63/63\u001b[0m \u001b[32m━━━━━━━━━━━━━━━━━━━━\u001b[0m\u001b[37m\u001b[0m \u001b[1m0s\u001b[0m 4ms/step - accuracy: 0.6365 - loss: 0.9938 - val_accuracy: 0.6229 - val_loss: 1.0374\n",
      "Epoch 44/80\n",
      "\u001b[1m63/63\u001b[0m \u001b[32m━━━━━━━━━━━━━━━━━━━━\u001b[0m\u001b[37m\u001b[0m \u001b[1m0s\u001b[0m 5ms/step - accuracy: 0.6465 - loss: 0.9768 - val_accuracy: 0.6100 - val_loss: 1.0330\n",
      "Epoch 45/80\n",
      "\u001b[1m63/63\u001b[0m \u001b[32m━━━━━━━━━━━━━━━━━━━━\u001b[0m\u001b[37m\u001b[0m \u001b[1m0s\u001b[0m 5ms/step - accuracy: 0.6490 - loss: 0.9822 - val_accuracy: 0.5914 - val_loss: 1.0387\n",
      "Epoch 46/80\n",
      "\u001b[1m63/63\u001b[0m \u001b[32m━━━━━━━━━━━━━━━━━━━━\u001b[0m\u001b[37m\u001b[0m \u001b[1m0s\u001b[0m 5ms/step - accuracy: 0.6411 - loss: 0.9935 - val_accuracy: 0.6300 - val_loss: 1.0428\n",
      "Epoch 47/80\n",
      "\u001b[1m63/63\u001b[0m \u001b[32m━━━━━━━━━━━━━━━━━━━━\u001b[0m\u001b[37m\u001b[0m \u001b[1m0s\u001b[0m 5ms/step - accuracy: 0.6485 - loss: 0.9723 - val_accuracy: 0.6100 - val_loss: 1.0406\n",
      "Epoch 48/80\n",
      "\u001b[1m63/63\u001b[0m \u001b[32m━━━━━━━━━━━━━━━━━━━━\u001b[0m\u001b[37m\u001b[0m \u001b[1m0s\u001b[0m 5ms/step - accuracy: 0.6400 - loss: 0.9858 - val_accuracy: 0.6243 - val_loss: 1.0270\n",
      "Epoch 49/80\n",
      "\u001b[1m63/63\u001b[0m \u001b[32m━━━━━━━━━━━━━━━━━━━━\u001b[0m\u001b[37m\u001b[0m \u001b[1m0s\u001b[0m 5ms/step - accuracy: 0.6332 - loss: 0.9971 - val_accuracy: 0.6043 - val_loss: 1.0314\n",
      "Epoch 50/80\n",
      "\u001b[1m63/63\u001b[0m \u001b[32m━━━━━━━━━━━━━━━━━━━━\u001b[0m\u001b[37m\u001b[0m \u001b[1m0s\u001b[0m 5ms/step - accuracy: 0.6385 - loss: 0.9857 - val_accuracy: 0.6114 - val_loss: 1.0287\n",
      "Epoch 51/80\n",
      "\u001b[1m63/63\u001b[0m \u001b[32m━━━━━━━━━━━━━━━━━━━━\u001b[0m\u001b[37m\u001b[0m \u001b[1m0s\u001b[0m 4ms/step - accuracy: 0.6460 - loss: 0.9820 - val_accuracy: 0.6129 - val_loss: 1.0353\n",
      "Epoch 52/80\n",
      "\u001b[1m63/63\u001b[0m \u001b[32m━━━━━━━━━━━━━━━━━━━━\u001b[0m\u001b[37m\u001b[0m \u001b[1m0s\u001b[0m 5ms/step - accuracy: 0.6465 - loss: 0.9951 - val_accuracy: 0.6243 - val_loss: 1.0311\n",
      "Epoch 53/80\n",
      "\u001b[1m63/63\u001b[0m \u001b[32m━━━━━━━━━━━━━━━━━━━━\u001b[0m\u001b[37m\u001b[0m \u001b[1m0s\u001b[0m 4ms/step - accuracy: 0.6358 - loss: 0.9874 - val_accuracy: 0.6129 - val_loss: 1.0158\n",
      "Epoch 54/80\n",
      "\u001b[1m63/63\u001b[0m \u001b[32m━━━━━━━━━━━━━━━━━━━━\u001b[0m\u001b[37m\u001b[0m \u001b[1m0s\u001b[0m 5ms/step - accuracy: 0.6459 - loss: 0.9762 - val_accuracy: 0.6157 - val_loss: 1.0290\n",
      "Epoch 55/80\n",
      "\u001b[1m63/63\u001b[0m \u001b[32m━━━━━━━━━━━━━━━━━━━━\u001b[0m\u001b[37m\u001b[0m \u001b[1m0s\u001b[0m 5ms/step - accuracy: 0.6442 - loss: 0.9798 - val_accuracy: 0.6057 - val_loss: 1.0366\n",
      "Epoch 56/80\n",
      "\u001b[1m63/63\u001b[0m \u001b[32m━━━━━━━━━━━━━━━━━━━━\u001b[0m\u001b[37m\u001b[0m \u001b[1m0s\u001b[0m 5ms/step - accuracy: 0.6354 - loss: 0.9737 - val_accuracy: 0.6043 - val_loss: 1.0264\n",
      "Epoch 57/80\n",
      "\u001b[1m63/63\u001b[0m \u001b[32m━━━━━━━━━━━━━━━━━━━━\u001b[0m\u001b[37m\u001b[0m \u001b[1m0s\u001b[0m 5ms/step - accuracy: 0.6351 - loss: 0.9849 - val_accuracy: 0.6114 - val_loss: 1.0323\n",
      "Epoch 58/80\n",
      "\u001b[1m63/63\u001b[0m \u001b[32m━━━━━━━━━━━━━━━━━━━━\u001b[0m\u001b[37m\u001b[0m \u001b[1m0s\u001b[0m 5ms/step - accuracy: 0.6471 - loss: 0.9832 - val_accuracy: 0.6043 - val_loss: 1.0272\n",
      "Epoch 59/80\n",
      "\u001b[1m63/63\u001b[0m \u001b[32m━━━━━━━━━━━━━━━━━━━━\u001b[0m\u001b[37m\u001b[0m \u001b[1m0s\u001b[0m 5ms/step - accuracy: 0.6466 - loss: 0.9713 - val_accuracy: 0.5986 - val_loss: 1.0226\n",
      "Epoch 60/80\n",
      "\u001b[1m63/63\u001b[0m \u001b[32m━━━━━━━━━━━━━━━━━━━━\u001b[0m\u001b[37m\u001b[0m \u001b[1m0s\u001b[0m 5ms/step - accuracy: 0.6466 - loss: 0.9735 - val_accuracy: 0.6100 - val_loss: 1.0241\n",
      "Epoch 61/80\n",
      "\u001b[1m63/63\u001b[0m \u001b[32m━━━━━━━━━━━━━━━━━━━━\u001b[0m\u001b[37m\u001b[0m \u001b[1m0s\u001b[0m 5ms/step - accuracy: 0.6335 - loss: 0.9895 - val_accuracy: 0.6143 - val_loss: 1.0225\n",
      "Epoch 62/80\n",
      "\u001b[1m63/63\u001b[0m \u001b[32m━━━━━━━━━━━━━━━━━━━━\u001b[0m\u001b[37m\u001b[0m \u001b[1m0s\u001b[0m 4ms/step - accuracy: 0.6541 - loss: 0.9677 - val_accuracy: 0.5843 - val_loss: 1.0270\n",
      "Epoch 63/80\n",
      "\u001b[1m63/63\u001b[0m \u001b[32m━━━━━━━━━━━━━━━━━━━━\u001b[0m\u001b[37m\u001b[0m \u001b[1m0s\u001b[0m 5ms/step - accuracy: 0.6501 - loss: 0.9711 - val_accuracy: 0.6143 - val_loss: 1.0307\n",
      "Epoch 64/80\n",
      "\u001b[1m63/63\u001b[0m \u001b[32m━━━━━━━━━━━━━━━━━━━━\u001b[0m\u001b[37m\u001b[0m \u001b[1m0s\u001b[0m 5ms/step - accuracy: 0.6434 - loss: 0.9792 - val_accuracy: 0.6214 - val_loss: 1.0239\n",
      "Epoch 65/80\n",
      "\u001b[1m63/63\u001b[0m \u001b[32m━━━━━━━━━━━━━━━━━━━━\u001b[0m\u001b[37m\u001b[0m \u001b[1m0s\u001b[0m 5ms/step - accuracy: 0.6451 - loss: 0.9719 - val_accuracy: 0.5800 - val_loss: 1.0476\n",
      "Epoch 66/80\n",
      "\u001b[1m63/63\u001b[0m \u001b[32m━━━━━━━━━━━━━━━━━━━━\u001b[0m\u001b[37m\u001b[0m \u001b[1m0s\u001b[0m 5ms/step - accuracy: 0.6567 - loss: 0.9557 - val_accuracy: 0.5843 - val_loss: 1.0305\n",
      "Epoch 67/80\n",
      "\u001b[1m63/63\u001b[0m \u001b[32m━━━━━━━━━━━━━━━━━━━━\u001b[0m\u001b[37m\u001b[0m \u001b[1m0s\u001b[0m 5ms/step - accuracy: 0.6563 - loss: 0.9666 - val_accuracy: 0.6100 - val_loss: 1.0362\n",
      "Epoch 68/80\n",
      "\u001b[1m63/63\u001b[0m \u001b[32m━━━━━━━━━━━━━━━━━━━━\u001b[0m\u001b[37m\u001b[0m \u001b[1m0s\u001b[0m 5ms/step - accuracy: 0.6537 - loss: 0.9680 - val_accuracy: 0.6114 - val_loss: 1.0322\n",
      "Epoch 69/80\n",
      "\u001b[1m63/63\u001b[0m \u001b[32m━━━━━━━━━━━━━━━━━━━━\u001b[0m\u001b[37m\u001b[0m \u001b[1m0s\u001b[0m 5ms/step - accuracy: 0.6517 - loss: 0.9595 - val_accuracy: 0.6271 - val_loss: 1.0274\n",
      "Epoch 70/80\n",
      "\u001b[1m63/63\u001b[0m \u001b[32m━━━━━━━━━━━━━━━━━━━━\u001b[0m\u001b[37m\u001b[0m \u001b[1m0s\u001b[0m 5ms/step - accuracy: 0.6380 - loss: 0.9824 - val_accuracy: 0.6200 - val_loss: 1.0349\n",
      "Epoch 71/80\n",
      "\u001b[1m63/63\u001b[0m \u001b[32m━━━━━━━━━━━━━━━━━━━━\u001b[0m\u001b[37m\u001b[0m \u001b[1m0s\u001b[0m 5ms/step - accuracy: 0.6518 - loss: 0.9637 - val_accuracy: 0.6100 - val_loss: 1.0373\n",
      "Epoch 72/80\n",
      "\u001b[1m63/63\u001b[0m \u001b[32m━━━━━━━━━━━━━━━━━━━━\u001b[0m\u001b[37m\u001b[0m \u001b[1m0s\u001b[0m 5ms/step - accuracy: 0.6451 - loss: 0.9812 - val_accuracy: 0.6143 - val_loss: 1.0281\n",
      "Epoch 73/80\n",
      "\u001b[1m63/63\u001b[0m \u001b[32m━━━━━━━━━━━━━━━━━━━━\u001b[0m\u001b[37m\u001b[0m \u001b[1m0s\u001b[0m 5ms/step - accuracy: 0.6458 - loss: 0.9679 - val_accuracy: 0.6057 - val_loss: 1.0345\n",
      "Epoch 74/80\n",
      "\u001b[1m63/63\u001b[0m \u001b[32m━━━━━━━━━━━━━━━━━━━━\u001b[0m\u001b[37m\u001b[0m \u001b[1m0s\u001b[0m 5ms/step - accuracy: 0.6535 - loss: 0.9720 - val_accuracy: 0.6114 - val_loss: 1.0346\n",
      "Epoch 75/80\n",
      "\u001b[1m63/63\u001b[0m \u001b[32m━━━━━━━━━━━━━━━━━━━━\u001b[0m\u001b[37m\u001b[0m \u001b[1m0s\u001b[0m 5ms/step - accuracy: 0.6535 - loss: 0.9614 - val_accuracy: 0.6229 - val_loss: 1.0322\n",
      "Epoch 76/80\n",
      "\u001b[1m63/63\u001b[0m \u001b[32m━━━━━━━━━━━━━━━━━━━━\u001b[0m\u001b[37m\u001b[0m \u001b[1m0s\u001b[0m 5ms/step - accuracy: 0.6490 - loss: 0.9917 - val_accuracy: 0.6057 - val_loss: 1.0392\n",
      "Epoch 77/80\n",
      "\u001b[1m63/63\u001b[0m \u001b[32m━━━━━━━━━━━━━━━━━━━━\u001b[0m\u001b[37m\u001b[0m \u001b[1m0s\u001b[0m 5ms/step - accuracy: 0.6412 - loss: 0.9803 - val_accuracy: 0.5986 - val_loss: 1.0335\n",
      "Epoch 78/80\n",
      "\u001b[1m63/63\u001b[0m \u001b[32m━━━━━━━━━━━━━━━━━━━━\u001b[0m\u001b[37m\u001b[0m \u001b[1m0s\u001b[0m 5ms/step - accuracy: 0.6448 - loss: 0.9747 - val_accuracy: 0.6171 - val_loss: 1.0411\n",
      "Epoch 79/80\n",
      "\u001b[1m63/63\u001b[0m \u001b[32m━━━━━━━━━━━━━━━━━━━━\u001b[0m\u001b[37m\u001b[0m \u001b[1m0s\u001b[0m 5ms/step - accuracy: 0.6549 - loss: 0.9653 - val_accuracy: 0.6171 - val_loss: 1.0464\n",
      "Epoch 80/80\n",
      "\u001b[1m63/63\u001b[0m \u001b[32m━━━━━━━━━━━━━━━━━━━━\u001b[0m\u001b[37m\u001b[0m \u001b[1m0s\u001b[0m 5ms/step - accuracy: 0.6473 - loss: 0.9726 - val_accuracy: 0.6243 - val_loss: 1.0267\n",
      "\u001b[1m94/94\u001b[0m \u001b[32m━━━━━━━━━━━━━━━━━━━━\u001b[0m\u001b[37m\u001b[0m \u001b[1m0s\u001b[0m 2ms/step - accuracy: 0.6308 - loss: 1.0494\n",
      "Test loss: 1.02\n",
      "Test accuracy: 0.637\n"
     ]
    },
    {
     "data": {
      "image/png": "[encoded data removed]",
      "text/plain": [
       "<Figure size 640x480 with 1 Axes>"
      ]
     },
     "metadata": {},
     "output_type": "display_data"
    },
    {
     "data": {
      "image/png": "[encoded data removed]",
      "text/plain": [
       "<Figure size 640x480 with 1 Axes>"
      ]
     },
     "metadata": {},
     "output_type": "display_data"
    }
   ],
   "source": [
    "\n",
    "# Make a fully connected network\n",
    "model = models.Sequential()\n",
    "\n",
    "# Create the hidden layer with sigmoid activations\n",
    "# to stop the model from overfitting add L1 regularization to the weights of the dense layers\n",
    "model.add(layers.Dense(units=100, kernel_regularizer=regularizers.L1(0.001),\n",
    "                     activation='relu', input_shape=(X_train.shape[1],)))\n",
    "\n",
    "# add batch normalization after the dense layer to find the most optimal normalization for the data\n",
    "model.add(layers.BatchNormalization())\n",
    "\n",
    "# To further avoid overfitting add a dropout layer before the dense layers\n",
    "model.add(layers.Dropout(rate=0.4))\n",
    "model.add(layers.Dense(units=200, kernel_regularizer=regularizers.L1(0.001),\n",
    "                     activation='relu'))\n",
    "\n",
    "model.add(layers.BatchNormalization())\n",
    "model.add(layers.Dropout(rate=0.2))\n",
    "model.add(layers.Dense(units=200, kernel_regularizer=regularizers.L1(0.001),\n",
    "                     activation='relu'))\n",
    "model.add(layers.BatchNormalization())\n",
    "\n",
    "model.add(layers.Dense(units=5, activation='softmax'))\n",
    "\n",
    "# Compile the network with the appropriate loss function and keep track of accuracy\n",
    "model.compile(loss='categorical_crossentropy', metrics=['accuracy'])\n",
    "\n",
    "# Train model\n",
    "history = model.fit(X_train, y_train, batch_size=100, epochs=80, validation_split=.1)\n",
    "\n",
    "# See how the model scored\n",
    "loss, accuracy  = model.evaluate(X_test, y_test)\n",
    "\n",
    "print(f'Test loss: {loss:.3}')\n",
    "print(f'Test accuracy: {accuracy:.3}')\n",
    "\n",
    "# Plot training & validation loss\n",
    "plt.plot(history.history['loss'], label='Training Loss')\n",
    "plt.plot(history.history['val_loss'], label='Validation Loss')\n",
    "plt.title('Training vs Validation Loss')\n",
    "plt.xlabel('Epoch')\n",
    "plt.ylabel('Loss')\n",
    "plt.legend()\n",
    "plt.grid(True)\n",
    "plt.show()\n",
    "\n",
    "\n",
    "# Plot training and validation accuracy\n",
    "plt.plot(history.history['accuracy'], label='Training Accuracy')\n",
    "plt.plot(history.history['val_accuracy'], label='Validation Accuracy')\n",
    "plt.title('Training vs Validation Accuracy')\n",
    "plt.xlabel('Epoch')\n",
    "plt.ylabel('Accuracy')\n",
    "plt.legend()\n",
    "plt.grid(True)\n",
    "plt.show()"
   ]
  },
  {
   "cell_type": "markdown",
   "id": "ecfa9df5",
   "metadata": {},
   "source": [
    "##### Create a heat map \n",
    "\n",
    "The last step of this project will be creating a heat map to see how predicted classes compared to the real classes"
   ]
  },
  {
   "cell_type": "code",
   "execution_count": 32,
   "id": "64e010f4",
   "metadata": {},
   "outputs": [
    {
     "name": "stdout",
     "output_type": "stream",
     "text": [
      "\u001b[1m94/94\u001b[0m \u001b[32m━━━━━━━━━━━━━━━━━━━━\u001b[0m\u001b[37m\u001b[0m \u001b[1m0s\u001b[0m 2ms/step\n"
     ]
    },
    {
     "data": {
      "image/png": "[encoded data removed]",
      "text/plain": [
       "<Figure size 800x600 with 2 Axes>"
      ]
     },
     "metadata": {},
     "output_type": "display_data"
    }
   ],
   "source": [
    "\n",
    "# Convert one-hot encoded y_test to class labels\n",
    "y_true = tf.argmax(y_test, axis=1).numpy()\n",
    "\n",
    "# Get predictions from the model and convert to class labels\n",
    "y_pred_probs = model.predict(X_test)\n",
    "y_pred = tf.argmax(y_pred_probs, axis=1).numpy()\n",
    "\n",
    "# reassign class names\n",
    "classes = [\"fatal\", \"other injury\", \"pain\", \"property damamge only\", \"severe injury\"]\n",
    "\n",
    "# Compute the confusion matrix\n",
    "conf_matrix = confusion_matrix(y_true, y_pred)\n",
    "\n",
    "# Plot the heatmap\n",
    "plt.figure(figsize=(8, 6))\n",
    "ax = sns.heatmap(conf_matrix, annot=True, fmt='d', cmap='Blues', \n",
    "                 xticklabels=classes, yticklabels=classes)\n",
    "ax.set_xlabel('Predicted Class')\n",
    "ax.set_ylabel('Actual Class')\n",
    "ax.set_title('Confusion Matrix')\n",
    "plt.tight_layout()\n",
    "plt.show()\n",
    "\n"
   ]
  },
  {
   "cell_type": "markdown",
   "id": "23cd9c00",
   "metadata": {},
   "source": [
    "# Conclusion\n",
    "\n",
    "The final model achieved a validation accuracy of approximately 64%. While the addition of regularization effectively reduced overfitting, increasing the model's complexity did not lead to improvements in validation performance. The low validation accuracy could be due to mutliple reasons. Firstly, this suggests that the features used to predict collision severity may not have been sufficiently informative to accurately distinguish between all severity classes. Secondly, the dataset exhibited class imbalance, with \"property damage only\" being the most frequently occurring category, and fatality being the least occuring. This imbalance is reflected in the model’s predictions, as the \"property damage only\" class was predicted with the highest accuracy, but was also the most predicted class generally. Furthermore, fatality was the class with the least predictions overall."
   ]
  }
 ],
 "metadata": {
  "kernelspec": {
   "display_name": "SP",
   "language": "python",
   "name": "python3"
  },
  "language_info": {
   "codemirror_mode": {
    "name": "ipython",
    "version": 3
   },
   "file_extension": ".py",
   "mimetype": "text/x-python",
   "name": "python",
   "nbconvert_exporter": "python",
   "pygments_lexer": "ipython3",
   "version": "3.11.9"
  }
 },
 "nbformat": 4,
 "nbformat_minor": 5
}
