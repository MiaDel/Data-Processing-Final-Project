{
 "cells": [
  {
   "cell_type": "markdown",
   "id": "032b5144",
   "metadata": {},
   "source": [
    "# Final project"
   ]
  },
  {
   "cell_type": "code",
   "execution_count": 1,
   "id": "2d7796bb",
   "metadata": {},
   "outputs": [],
   "source": [
    "import sqlite3 as sql\n",
    "import pandas as pd\n",
    "import plotly.express as px\n",
    "import numpy as np\n",
    "from scipy.stats import zscore\n",
    "import plotly.io as pio\n",
    "from tensorflow import keras\n",
    "from tensorflow.keras import layers, models\n",
    "from keras import regularizers\n",
    "import seaborn as sns\n",
    "import tensorflow as tf\n",
    "from tensorflow import math as tfmath\n",
    "import matplotlib.pyplot as plt\n",
    "from sklearn.metrics import confusion_matrix"
   ]
  },
  {
   "cell_type": "markdown",
   "id": "e1d7fcc5",
   "metadata": {},
   "source": [
    "# Part 1\n",
    "### Graph the number of accidents across time\n",
    "##### Get the data using sqlite3 module\n",
    "\n",
    "Get the month, year, and count of collisions. Remove entries from 2021 because there is a lot of missing data."
   ]
  },
  {
   "cell_type": "code",
   "execution_count": 2,
   "id": "fb55510a",
   "metadata": {},
   "outputs": [],
   "source": [
    "# get the data with sqlite\n",
    "# remove entries from 2021 because there is a lot of missing data from that year\n",
    "con = sql.connect(\"switrs.sqlite\")\n",
    "cur = con.cursor()\n",
    "\n",
    "query1 = \"\"\"SELECT strftime('%Y-%m',collision_date) AS date, strftime('%Y', collision_date) as year, \n",
    "COUNT(collision_date) as count \n",
    "FROM collisions \n",
    "WHERE strftime('%Y', collision_date) != '2021' \n",
    "GROUP BY date \n",
    "ORDER BY date\"\"\"\n",
    "\n",
    "data = pd.read_sql(query1, con)"
   ]
  },
  {
   "cell_type": "markdown",
   "id": "3c58ba5a",
   "metadata": {},
   "source": [
    "##### Create the plot using plotly\n",
    "\n",
    "How to interact with the plot:\n",
    "- The plots shows collisions from 2001 to 2020. You can use the buttons to visualize collisions over the last 5 years, the last 1 year, or the last 6 month.\n",
    "- The slider under the graph can be used to vizualize any custom time range. To choose this custom time range, move the left and right sliders to your desired time frame.\n",
    "- You can hover over the data points in the graph with your cursor to see the month and year when those collisions occured."
   ]
  },
  {
   "cell_type": "code",
   "execution_count": 3,
   "id": "29b5a0ef",
   "metadata": {},
   "outputs": [
    {
     "data": {
      "application/vnd.plotly.v1+json": {
       "config": {
        "plotlyServerURL": "https://plot.ly"
       },
       "data": [
        {
         "hovertemplate": "%{x|%b %Y}",
         "legendgroup": "",
         "line": {
          "color": "#636efa",
          "dash": "solid"
         },
         "marker": {
          "symbol": "circle"
         },
         "mode": "lines",
         "name": "",
         "orientation": "v",
         "showlegend": false,
         "type": "scatter",
         "x": [
          "2001-01",
          "2001-02",
          "2001-03",
          "2001-04",
          "2001-05",
          "2001-06",
          "2001-07",
          "2001-08",
          "2001-09",
          "2001-10",
          "2001-11",
          "2001-12",
          "2002-01",
          "2002-02",
          "2002-03",
          "2002-04",
          "2002-05",
          "2002-06",
          "2002-07",
          "2002-08",
          "2002-09",
          "2002-10",
          "2002-11",
          "2002-12",
          "2003-01",
          "2003-02",
          "2003-03",
          "2003-04",
          "2003-05",
          "2003-06",
          "2003-07",
          "2003-08",
          "2003-09",
          "2003-10",
          "2003-11",
          "2003-12",
          "2004-01",
          "2004-02",
          "2004-03",
          "2004-04",
          "2004-05",
          "2004-06",
          "2004-07",
          "2004-08",
          "2004-09",
          "2004-10",
          "2004-11",
          "2004-12",
          "2005-01",
          "2005-02",
          "2005-03",
          "2005-04",
          "2005-05",
          "2005-06",
          "2005-07",
          "2005-08",
          "2005-09",
          "2005-10",
          "2005-11",
          "2005-12",
          "2006-01",
          "2006-02",
          "2006-03",
          "2006-04",
          "2006-05",
          "2006-06",
          "2006-07",
          "2006-08",
          "2006-09",
          "2006-10",
          "2006-11",
          "2006-12",
          "2007-01",
          "2007-02",
          "2007-03",
          "2007-04",
          "2007-05",
          "2007-06",
          "2007-07",
          "2007-08",
          "2007-09",
          "2007-10",
          "2007-11",
          "2007-12",
          "2008-01",
          "2008-02",
          "2008-03",
          "2008-04",
          "2008-05",
          "2008-06",
          "2008-07",
          "2008-08",
          "2008-09",
          "2008-10",
          "2008-11",
          "2008-12",
          "2009-01",
          "2009-02",
          "2009-03",
          "2009-04",
          "2009-05",
          "2009-06",
          "2009-07",
          "2009-08",
          "2009-09",
          "2009-10",
          "2009-11",
          "2009-12",
          "2010-01",
          "2010-02",
          "2010-03",
          "2010-04",
          "2010-05",
          "2010-06",
          "2010-07",
          "2010-08",
          "2010-09",
          "2010-10",
          "2010-11",
          "2010-12",
          "2011-01",
          "2011-02",
          "2011-03",
          "2011-04",
          "2011-05",
          "2011-06",
          "2011-07",
          "2011-08",
          "2011-09",
          "2011-10",
          "2011-11",
          "2011-12",
          "2012-01",
          "2012-02",
          "2012-03",
          "2012-04",
          "2012-05",
          "2012-06",
          "2012-07",
          "2012-08",
          "2012-09",
          "2012-10",
          "2012-11",
          "2012-12",
          "2013-01",
          "2013-02",
          "2013-03",
          "2013-04",
          "2013-05",
          "2013-06",
          "2013-07",
          "2013-08",
          "2013-09",
          "2013-10",
          "2013-11",
          "2013-12",
          "2014-01",
          "2014-02",
          "2014-03",
          "2014-04",
          "2014-05",
          "2014-06",
          "2014-07",
          "2014-08",
          "2014-09",
          "2014-10",
          "2014-11",
          "2014-12",
          "2015-01",
          "2015-02",
          "2015-03",
          "2015-04",
          "2015-05",
          "2015-06",
          "2015-07",
          "2015-08",
          "2015-09",
          "2015-10",
          "2015-11",
          "2015-12",
          "2016-01",
          "2016-02",
          "2016-03",
          "2016-04",
          "2016-05",
          "2016-06",
          "2016-07",
          "2016-08",
          "2016-09",
          "2016-10",
          "2016-11",
          "2016-12",
          "2017-01",
          "2017-02",
          "2017-03",
          "2017-04",
          "2017-05",
          "2017-06",
          "2017-07",
          "2017-08",
          "2017-09",
          "2017-10",
          "2017-11",
          "2017-12",
          "2018-01",
          "2018-02",
          "2018-03",
          "2018-04",
          "2018-05",
          "2018-06",
          "2018-07",
          "2018-08",
          "2018-09",
          "2018-10",
          "2018-11",
          "2018-12",
          "2019-01",
          "2019-02",
          "2019-03",
          "2019-04",
          "2019-05",
          "2019-06",
          "2019-07",
          "2019-08",
          "2019-09",
          "2019-10",
          "2019-11",
          "2019-12",
          "2020-01",
          "2020-02",
          "2020-03",
          "2020-04",
          "2020-05",
          "2020-06",
          "2020-07",
          "2020-08",
          "2020-09",
          "2020-10",
          "2020-11",
          "2020-12"
         ],
         "xaxis": "x",
         "y": {
          "bdata": "16cAAGqfAABbpwAAgaQAAO6lAABdqQAATKIAAI6vAADGpAAAt7UAAEGzAABCtwAABaoAADafAACytAAAc6oAAIO3AADarQAABq8AADazAAB8tgAAeLoAANq1AAAeuQAAIKMAAEydAADLqgAA4KoAAOqxAADqqQAAYK8AAAazAAD3sQAAb8EAAP6zAACVvQAAuKcAAGSrAAAysQAAr6oAABSuAABWqAAAE7AAAHexAABOsgAAursAADWqAACJtwAAPKgAALGhAAD8sAAAIakAAAivAAC+qQAAHa0AAAmxAACNrAAARbYAAE6vAADfswAAa6gAAPigAABrsAAA558AACWnAADkpAAAWJ8AALpuAAAImwAA5bMAAPisAADprAAAM50AAFSYAAB2qwAAsZ8AACCkAAAtpAAA3KIAAGSoAADPpAAAVKwAAEygAADqogAA05oAAJ2VAABQmAAAXpIAAAiWAADYigAAq4kAAH6PAAAljgAABpkAAFyRAABFmgAA9ogAALCGAAAojwAAp4kAADSQAACahQAAWYkAAMyGAADjigAAy5MAAAKHAADcjAAAfIAAAK58AADbiwAAcIYAAC6IAABXggAAbYMAADyHAACNiAAAaJIAAISKAADOkAAA0XwAABJ9AAA8hwAAunoAAJyCAAAwfQAAdIEAAImGAAA+hgAAp48AAEGHAADlhwAANX8AAI17AABDiQAANH8AAFuDAAD5ewAA03sAAAqDAACGfgAARokAAOWCAABifgAAUncAAFdwAAACgQAAxnkAABqCAACIewAAI3oAACGAAADtfwAA/IUAAOJ+AAA+fAAAE3gAANR3AABbfwAA4XsAAJCDAABAewAAr3sAAPOFAADdiAAAL5MAAM2GAABfigAAhYIAACyBAAD7jQAA64oAABOLAAB+hgAAFYkAABWQAACsjQAAWaEAACaZAAAcoAAA8ZEAAGmVAACMowAADJwAALaeAACTmwAA4p0AAL+kAAAypQAAtq0AAF6jAABBpgAABpsAAB6NAADoowAAiJkAAEuhAAC1nAAAEZsAAGqgAABfnwAAG60AAIyiAAALngAAiJgAAHKRAAA6pQAAmZYAACicAADVmQAALpcAAJWgAAC8ngAAV6wAANehAACBmwAApZYAAAmPAAAjnAAAtZAAAIeYAAD0kQAAQZQAALagAABEnAAAT6YAAGaeAABfmgAAOIwAACiKAAAmcwAAEU4AAApiAABAawAA+HUAAKR9AAB8fQAArIgAAMd+AADleQAA",
          "dtype": "i4"
         },
         "yaxis": "y"
        }
       ],
       "layout": {
        "legend": {
         "tracegroupgap": 0
        },
        "template": {
         "data": {
          "bar": [
           {
            "error_x": {
             "color": "#2a3f5f"
            },
            "error_y": {
             "color": "#2a3f5f"
            },
            "marker": {
             "line": {
              "color": "#E5ECF6",
              "width": 0.5
             },
             "pattern": {
              "fillmode": "overlay",
              "size": 10,
              "solidity": 0.2
             }
            },
            "type": "bar"
           }
          ],
          "barpolar": [
           {
            "marker": {
             "line": {
              "color": "#E5ECF6",
              "width": 0.5
             },
             "pattern": {
              "fillmode": "overlay",
              "size": 10,
              "solidity": 0.2
             }
            },
            "type": "barpolar"
           }
          ],
          "carpet": [
           {
            "aaxis": {
             "endlinecolor": "#2a3f5f",
             "gridcolor": "white",
             "linecolor": "white",
             "minorgridcolor": "white",
             "startlinecolor": "#2a3f5f"
            },
            "baxis": {
             "endlinecolor": "#2a3f5f",
             "gridcolor": "white",
             "linecolor": "white",
             "minorgridcolor": "white",
             "startlinecolor": "#2a3f5f"
            },
            "type": "carpet"
           }
          ],
          "choropleth": [
           {
            "colorbar": {
             "outlinewidth": 0,
             "ticks": ""
            },
            "type": "choropleth"
           }
          ],
          "contour": [
           {
            "colorbar": {
             "outlinewidth": 0,
             "ticks": ""
            },
            "colorscale": [
             [
              0,
              "#0d0887"
             ],
             [
              0.1111111111111111,
              "#46039f"
             ],
             [
              0.2222222222222222,
              "#7201a8"
             ],
             [
              0.3333333333333333,
              "#9c179e"
             ],
             [
              0.4444444444444444,
              "#bd3786"
             ],
             [
              0.5555555555555556,
              "#d8576b"
             ],
             [
              0.6666666666666666,
              "#ed7953"
             ],
             [
              0.7777777777777778,
              "#fb9f3a"
             ],
             [
              0.8888888888888888,
              "#fdca26"
             ],
             [
              1,
              "#f0f921"
             ]
            ],
            "type": "contour"
           }
          ],
          "contourcarpet": [
           {
            "colorbar": {
             "outlinewidth": 0,
             "ticks": ""
            },
            "type": "contourcarpet"
           }
          ],
          "heatmap": [
           {
            "colorbar": {
             "outlinewidth": 0,
             "ticks": ""
            },
            "colorscale": [
             [
              0,
              "#0d0887"
             ],
             [
              0.1111111111111111,
              "#46039f"
             ],
             [
              0.2222222222222222,
              "#7201a8"
             ],
             [
              0.3333333333333333,
              "#9c179e"
             ],
             [
              0.4444444444444444,
              "#bd3786"
             ],
             [
              0.5555555555555556,
              "#d8576b"
             ],
             [
              0.6666666666666666,
              "#ed7953"
             ],
             [
              0.7777777777777778,
              "#fb9f3a"
             ],
             [
              0.8888888888888888,
              "#fdca26"
             ],
             [
              1,
              "#f0f921"
             ]
            ],
            "type": "heatmap"
           }
          ],
          "histogram": [
           {
            "marker": {
             "pattern": {
              "fillmode": "overlay",
              "size": 10,
              "solidity": 0.2
             }
            },
            "type": "histogram"
           }
          ],
          "histogram2d": [
           {
            "colorbar": {
             "outlinewidth": 0,
             "ticks": ""
            },
            "colorscale": [
             [
              0,
              "#0d0887"
             ],
             [
              0.1111111111111111,
              "#46039f"
             ],
             [
              0.2222222222222222,
              "#7201a8"
             ],
             [
              0.3333333333333333,
              "#9c179e"
             ],
             [
              0.4444444444444444,
              "#bd3786"
             ],
             [
              0.5555555555555556,
              "#d8576b"
             ],
             [
              0.6666666666666666,
              "#ed7953"
             ],
             [
              0.7777777777777778,
              "#fb9f3a"
             ],
             [
              0.8888888888888888,
              "#fdca26"
             ],
             [
              1,
              "#f0f921"
             ]
            ],
            "type": "histogram2d"
           }
          ],
          "histogram2dcontour": [
           {
            "colorbar": {
             "outlinewidth": 0,
             "ticks": ""
            },
            "colorscale": [
             [
              0,
              "#0d0887"
             ],
             [
              0.1111111111111111,
              "#46039f"
             ],
             [
              0.2222222222222222,
              "#7201a8"
             ],
             [
              0.3333333333333333,
              "#9c179e"
             ],
             [
              0.4444444444444444,
              "#bd3786"
             ],
             [
              0.5555555555555556,
              "#d8576b"
             ],
             [
              0.6666666666666666,
              "#ed7953"
             ],
             [
              0.7777777777777778,
              "#fb9f3a"
             ],
             [
              0.8888888888888888,
              "#fdca26"
             ],
             [
              1,
              "#f0f921"
             ]
            ],
            "type": "histogram2dcontour"
           }
          ],
          "mesh3d": [
           {
            "colorbar": {
             "outlinewidth": 0,
             "ticks": ""
            },
            "type": "mesh3d"
           }
          ],
          "parcoords": [
           {
            "line": {
             "colorbar": {
              "outlinewidth": 0,
              "ticks": ""
             }
            },
            "type": "parcoords"
           }
          ],
          "pie": [
           {
            "automargin": true,
            "type": "pie"
           }
          ],
          "scatter": [
           {
            "fillpattern": {
             "fillmode": "overlay",
             "size": 10,
             "solidity": 0.2
            },
            "type": "scatter"
           }
          ],
          "scatter3d": [
           {
            "line": {
             "colorbar": {
              "outlinewidth": 0,
              "ticks": ""
             }
            },
            "marker": {
             "colorbar": {
              "outlinewidth": 0,
              "ticks": ""
             }
            },
            "type": "scatter3d"
           }
          ],
          "scattercarpet": [
           {
            "marker": {
             "colorbar": {
              "outlinewidth": 0,
              "ticks": ""
             }
            },
            "type": "scattercarpet"
           }
          ],
          "scattergeo": [
           {
            "marker": {
             "colorbar": {
              "outlinewidth": 0,
              "ticks": ""
             }
            },
            "type": "scattergeo"
           }
          ],
          "scattergl": [
           {
            "marker": {
             "colorbar": {
              "outlinewidth": 0,
              "ticks": ""
             }
            },
            "type": "scattergl"
           }
          ],
          "scattermap": [
           {
            "marker": {
             "colorbar": {
              "outlinewidth": 0,
              "ticks": ""
             }
            },
            "type": "scattermap"
           }
          ],
          "scattermapbox": [
           {
            "marker": {
             "colorbar": {
              "outlinewidth": 0,
              "ticks": ""
             }
            },
            "type": "scattermapbox"
           }
          ],
          "scatterpolar": [
           {
            "marker": {
             "colorbar": {
              "outlinewidth": 0,
              "ticks": ""
             }
            },
            "type": "scatterpolar"
           }
          ],
          "scatterpolargl": [
           {
            "marker": {
             "colorbar": {
              "outlinewidth": 0,
              "ticks": ""
             }
            },
            "type": "scatterpolargl"
           }
          ],
          "scatterternary": [
           {
            "marker": {
             "colorbar": {
              "outlinewidth": 0,
              "ticks": ""
             }
            },
            "type": "scatterternary"
           }
          ],
          "surface": [
           {
            "colorbar": {
             "outlinewidth": 0,
             "ticks": ""
            },
            "colorscale": [
             [
              0,
              "#0d0887"
             ],
             [
              0.1111111111111111,
              "#46039f"
             ],
             [
              0.2222222222222222,
              "#7201a8"
             ],
             [
              0.3333333333333333,
              "#9c179e"
             ],
             [
              0.4444444444444444,
              "#bd3786"
             ],
             [
              0.5555555555555556,
              "#d8576b"
             ],
             [
              0.6666666666666666,
              "#ed7953"
             ],
             [
              0.7777777777777778,
              "#fb9f3a"
             ],
             [
              0.8888888888888888,
              "#fdca26"
             ],
             [
              1,
              "#f0f921"
             ]
            ],
            "type": "surface"
           }
          ],
          "table": [
           {
            "cells": {
             "fill": {
              "color": "#EBF0F8"
             },
             "line": {
              "color": "white"
             }
            },
            "header": {
             "fill": {
              "color": "#C8D4E3"
             },
             "line": {
              "color": "white"
             }
            },
            "type": "table"
           }
          ]
         },
         "layout": {
          "annotationdefaults": {
           "arrowcolor": "#2a3f5f",
           "arrowhead": 0,
           "arrowwidth": 1
          },
          "autotypenumbers": "strict",
          "coloraxis": {
           "colorbar": {
            "outlinewidth": 0,
            "ticks": ""
           }
          },
          "colorscale": {
           "diverging": [
            [
             0,
             "#8e0152"
            ],
            [
             0.1,
             "#c51b7d"
            ],
            [
             0.2,
             "#de77ae"
            ],
            [
             0.3,
             "#f1b6da"
            ],
            [
             0.4,
             "#fde0ef"
            ],
            [
             0.5,
             "#f7f7f7"
            ],
            [
             0.6,
             "#e6f5d0"
            ],
            [
             0.7,
             "#b8e186"
            ],
            [
             0.8,
             "#7fbc41"
            ],
            [
             0.9,
             "#4d9221"
            ],
            [
             1,
             "#276419"
            ]
           ],
           "sequential": [
            [
             0,
             "#0d0887"
            ],
            [
             0.1111111111111111,
             "#46039f"
            ],
            [
             0.2222222222222222,
             "#7201a8"
            ],
            [
             0.3333333333333333,
             "#9c179e"
            ],
            [
             0.4444444444444444,
             "#bd3786"
            ],
            [
             0.5555555555555556,
             "#d8576b"
            ],
            [
             0.6666666666666666,
             "#ed7953"
            ],
            [
             0.7777777777777778,
             "#fb9f3a"
            ],
            [
             0.8888888888888888,
             "#fdca26"
            ],
            [
             1,
             "#f0f921"
            ]
           ],
           "sequentialminus": [
            [
             0,
             "#0d0887"
            ],
            [
             0.1111111111111111,
             "#46039f"
            ],
            [
             0.2222222222222222,
             "#7201a8"
            ],
            [
             0.3333333333333333,
             "#9c179e"
            ],
            [
             0.4444444444444444,
             "#bd3786"
            ],
            [
             0.5555555555555556,
             "#d8576b"
            ],
            [
             0.6666666666666666,
             "#ed7953"
            ],
            [
             0.7777777777777778,
             "#fb9f3a"
            ],
            [
             0.8888888888888888,
             "#fdca26"
            ],
            [
             1,
             "#f0f921"
            ]
           ]
          },
          "colorway": [
           "#636efa",
           "#EF553B",
           "#00cc96",
           "#ab63fa",
           "#FFA15A",
           "#19d3f3",
           "#FF6692",
           "#B6E880",
           "#FF97FF",
           "#FECB52"
          ],
          "font": {
           "color": "#2a3f5f"
          },
          "geo": {
           "bgcolor": "white",
           "lakecolor": "white",
           "landcolor": "#E5ECF6",
           "showlakes": true,
           "showland": true,
           "subunitcolor": "white"
          },
          "hoverlabel": {
           "align": "left"
          },
          "hovermode": "closest",
          "mapbox": {
           "style": "light"
          },
          "paper_bgcolor": "white",
          "plot_bgcolor": "#E5ECF6",
          "polar": {
           "angularaxis": {
            "gridcolor": "white",
            "linecolor": "white",
            "ticks": ""
           },
           "bgcolor": "#E5ECF6",
           "radialaxis": {
            "gridcolor": "white",
            "linecolor": "white",
            "ticks": ""
           }
          },
          "scene": {
           "xaxis": {
            "backgroundcolor": "#E5ECF6",
            "gridcolor": "white",
            "gridwidth": 2,
            "linecolor": "white",
            "showbackground": true,
            "ticks": "",
            "zerolinecolor": "white"
           },
           "yaxis": {
            "backgroundcolor": "#E5ECF6",
            "gridcolor": "white",
            "gridwidth": 2,
            "linecolor": "white",
            "showbackground": true,
            "ticks": "",
            "zerolinecolor": "white"
           },
           "zaxis": {
            "backgroundcolor": "#E5ECF6",
            "gridcolor": "white",
            "gridwidth": 2,
            "linecolor": "white",
            "showbackground": true,
            "ticks": "",
            "zerolinecolor": "white"
           }
          },
          "shapedefaults": {
           "line": {
            "color": "#2a3f5f"
           }
          },
          "ternary": {
           "aaxis": {
            "gridcolor": "white",
            "linecolor": "white",
            "ticks": ""
           },
           "baxis": {
            "gridcolor": "white",
            "linecolor": "white",
            "ticks": ""
           },
           "bgcolor": "#E5ECF6",
           "caxis": {
            "gridcolor": "white",
            "linecolor": "white",
            "ticks": ""
           }
          },
          "title": {
           "x": 0.05
          },
          "xaxis": {
           "automargin": true,
           "gridcolor": "white",
           "linecolor": "white",
           "ticks": "",
           "title": {
            "standoff": 15
           },
           "zerolinecolor": "white",
           "zerolinewidth": 2
          },
          "yaxis": {
           "automargin": true,
           "gridcolor": "white",
           "linecolor": "white",
           "ticks": "",
           "title": {
            "standoff": 15
           },
           "zerolinecolor": "white",
           "zerolinewidth": 2
          }
         }
        },
        "title": {
         "text": "Accidents in California from 2001 to 2020"
        },
        "xaxis": {
         "anchor": "y",
         "domain": [
          0,
          1
         ],
         "rangeselector": {
          "buttons": [
           {
            "count": 6,
            "label": "6 months",
            "step": "month",
            "stepmode": "backward"
           },
           {
            "count": 1,
            "label": "1 year",
            "step": "year",
            "stepmode": "backward"
           },
           {
            "count": 5,
            "label": "5 years",
            "step": "year",
            "stepmode": "backward"
           },
           {
            "step": "all"
           }
          ]
         },
         "rangeslider": {
          "visible": true
         },
         "tickmode": "array",
         "ticktext": [
          "2001",
          "2002",
          "2003",
          "2004",
          "2005",
          "2006",
          "2007",
          "2008",
          "2009",
          "2010",
          "2011",
          "2012",
          "2013",
          "2014",
          "2015",
          "2016",
          "2017",
          "2018",
          "2019",
          "2020"
         ],
         "tickvals": [
          "2001-01",
          "2002-01",
          "2003-01",
          "2004-01",
          "2005-01",
          "2006-01",
          "2007-01",
          "2008-01",
          "2009-01",
          "2010-01",
          "2011-01",
          "2012-01",
          "2013-01",
          "2014-01",
          "2015-01",
          "2016-01",
          "2017-01",
          "2018-01",
          "2019-01",
          "2020-01"
         ],
         "title": {
          "text": "month and year of accident"
         }
        },
        "yaxis": {
         "anchor": "x",
         "domain": [
          0,
          1
         ],
         "title": {
          "text": "accident frequency"
         }
        }
       }
      }
     },
     "metadata": {},
     "output_type": "display_data"
    }
   ],
   "source": [
    "fig = px.line(data, x=\"date\", y =\"count\", title=\"Accidents in California from 2001 to 2020\",\n",
    "              labels={\n",
    "                  \"date\":\"month and year of accident\",\n",
    "                  \"count\":\"accident frequency\"\n",
    "              })\n",
    "\n",
    "# Change the xsticks with years\n",
    "fig.update_layout(xaxis=dict(tickmode=\"array\", tickvals=data['date'][::12], ticktext=data['year'][::12]))\n",
    "fig.update_traces(hovertemplate=\"%{x|%b %Y}\")\n",
    "\n",
    "# add a slider and buttons\n",
    "fig.update_xaxes(\n",
    "    rangeslider_visible=True,\n",
    "    rangeselector=dict(\n",
    "        buttons=list([\n",
    "                      dict(count=6, step=\"month\", label=\"6 months\", stepmode=\"backward\"),\n",
    "                      dict(count=1, step=\"year\", label=\"1 year\", stepmode=\"backward\"),\n",
    "                      dict(count=5, step=\"year\", label=\"5 years\", stepmode=\"backward\"),\n",
    "                      dict(step=\"all\")\n",
    "                      \n",
    "                      ])\n",
    "    )\n",
    ")\n",
    "fig.show()"
   ]
  },
  {
   "cell_type": "markdown",
   "id": "bd36b514",
   "metadata": {},
   "source": [
    "The plot shows us that there have been oscilations with periods of more (e.g., 2004) and less (e.g., 2012) accidents across time."
   ]
  },
  {
   "cell_type": "markdown",
   "id": "aa20fa02",
   "metadata": {},
   "source": [
    "### Graph the frequency of collision severity\n",
    "##### Get the data using sqlite\n",
    "\n",
    "Select the year, and count of the different collision severity classes"
   ]
  },
  {
   "cell_type": "code",
   "execution_count": 4,
   "id": "a60c32ae",
   "metadata": {},
   "outputs": [],
   "source": [
    "query2 = \"\"\"\n",
    "SELECT strftime('%Y', collision_date) as year, collision_severity, \n",
    "COUNT(collision_severity) as severity_count \n",
    "FROM collisions \n",
    "WHERE strftime('%Y',collision_date) != '2021' \n",
    "AND collision_severity != 'N' \n",
    "GROUP BY year, collision_severity\n",
    "\"\"\"\n",
    "\n",
    "data2 = pd.read_sql(query2,con)\n",
    "pd.options.display.max_rows=10\n"
   ]
  },
  {
   "cell_type": "markdown",
   "id": "19347459",
   "metadata": {},
   "source": [
    "##### Create the histogram using plotly\n",
    "\n",
    "How to interact with this graph:\n",
    "- The legend contains the different collision severity levels. You can click any category in the legend to remove it from the histogram\n",
    "- You can hover over the histogram bar and see the category, year and frequency of that collison severity type"
   ]
  },
  {
   "cell_type": "code",
   "execution_count": 5,
   "id": "9bab1b9f",
   "metadata": {},
   "outputs": [
    {
     "data": {
      "application/vnd.plotly.v1+json": {
       "config": {
        "plotlyServerURL": "https://plot.ly"
       },
       "data": [
        {
         "alignmentgroup": "True",
         "bingroup": "x",
         "histfunc": "sum",
         "hovertemplate": "Collision Severity=fatal<br>Year=%{x}<br>sum of Frequency=%{y}<extra></extra>",
         "legendgroup": "fatal",
         "marker": {
          "color": "#636efa",
          "pattern": {
           "shape": ""
          }
         },
         "name": "fatal",
         "offsetgroup": "fatal",
         "orientation": "v",
         "showlegend": true,
         "type": "histogram",
         "x": [
          "2001",
          "2002",
          "2003",
          "2004",
          "2005",
          "2006",
          "2007",
          "2008",
          "2009",
          "2010",
          "2011",
          "2012",
          "2013",
          "2014",
          "2015",
          "2016",
          "2017",
          "2018",
          "2019",
          "2020"
         ],
         "xaxis": "x",
         "y": {
          "bdata": "vQ1CDo4OdQ7uDh0O5Q0pDPUK2AlECsYKJQtCC2IM5g3+DZcNbQ1bDQ==",
          "dtype": "i2"
         },
         "yaxis": "y"
        },
        {
         "alignmentgroup": "True",
         "bingroup": "x",
         "histfunc": "sum",
         "hovertemplate": "Collision Severity=other injury<br>Year=%{x}<br>sum of Frequency=%{y}<extra></extra>",
         "legendgroup": "other injury",
         "marker": {
          "color": "#EF553B",
          "pattern": {
           "shape": ""
          }
         },
         "name": "other injury",
         "offsetgroup": "other injury",
         "orientation": "v",
         "showlegend": true,
         "type": "histogram",
         "x": [
          "2001",
          "2002",
          "2003",
          "2004",
          "2005",
          "2006",
          "2007",
          "2008",
          "2009",
          "2010",
          "2011",
          "2012",
          "2013",
          "2014",
          "2015",
          "2016",
          "2017",
          "2018",
          "2019",
          "2020"
         ],
         "xaxis": "x",
         "y": {
          "bdata": "pBEBAMcPAQAGDgEAogUBAPn+AABU5gAAauIAAJ7TAADUxgAAg8AAAMG9AACFwQAAy7sAAInDAADh0gAAb90AAHvkAABZ7wAA0OcAAKW8AAA=",
          "dtype": "i4"
         },
         "yaxis": "y"
        },
        {
         "alignmentgroup": "True",
         "bingroup": "x",
         "histfunc": "sum",
         "hovertemplate": "Collision Severity=pain<br>Year=%{x}<br>sum of Frequency=%{y}<extra></extra>",
         "legendgroup": "pain",
         "marker": {
          "color": "#00cc96",
          "pattern": {
           "shape": ""
          }
         },
         "name": "pain",
         "offsetgroup": "pain",
         "orientation": "v",
         "showlegend": true,
         "type": "histogram",
         "x": [
          "2001",
          "2002",
          "2003",
          "2004",
          "2005",
          "2006",
          "2007",
          "2008",
          "2009",
          "2010",
          "2011",
          "2012",
          "2013",
          "2014",
          "2015",
          "2016",
          "2017",
          "2018",
          "2019",
          "2020"
         ],
         "xaxis": "x",
         "y": {
          "bdata": "rNcBANvmAQCl5QEA+OgBAGreAQBuuAEAG8UBALCeAQBnkwEA3JEBAP2LAQCbiQEATYUBAPSSAQDXvgEA/vABAOHfAQBDyAEAULwBAB4/AQA=",
          "dtype": "i4"
         },
         "yaxis": "y"
        },
        {
         "alignmentgroup": "True",
         "bingroup": "x",
         "histfunc": "sum",
         "hovertemplate": "Collision Severity=property damage only<br>Year=%{x}<br>sum of Frequency=%{y}<extra></extra>",
         "legendgroup": "property damage only",
         "marker": {
          "color": "#ab63fa",
          "pattern": {
           "shape": ""
          }
         },
         "name": "property damage only",
         "offsetgroup": "property damage only",
         "orientation": "v",
         "showlegend": true,
         "type": "histogram",
         "x": [
          "2001",
          "2002",
          "2003",
          "2004",
          "2005",
          "2006",
          "2007",
          "2008",
          "2009",
          "2010",
          "2011",
          "2012",
          "2013",
          "2014",
          "2015",
          "2016",
          "2017",
          "2018",
          "2019",
          "2020"
         ],
         "xaxis": "x",
         "y": {
          "bdata": "f9gEAP0fBQAvDQUAyA0FANMJBQD1xgQADcgEAMpBBAA79wMAzNsDAN6wAwDnjwMATmsDANWRAwDc6AMAWHcEAAVqBAB6YAQA6kQEAOFaAwA=",
          "dtype": "i4"
         },
         "yaxis": "y"
        },
        {
         "alignmentgroup": "True",
         "bingroup": "x",
         "histfunc": "sum",
         "hovertemplate": "Collision Severity=severe injury<br>Year=%{x}<br>sum of Frequency=%{y}<extra></extra>",
         "legendgroup": "severe injury",
         "marker": {
          "color": "#FFA15A",
          "pattern": {
           "shape": ""
          }
         },
         "name": "severe injury",
         "offsetgroup": "severe injury",
         "orientation": "v",
         "showlegend": true,
         "type": "histogram",
         "x": [
          "2001",
          "2002",
          "2003",
          "2004",
          "2005",
          "2006",
          "2007",
          "2008",
          "2009",
          "2010",
          "2011",
          "2012",
          "2013",
          "2014",
          "2015",
          "2016",
          "2017",
          "2018",
          "2019",
          "2020"
         ],
         "xaxis": "x",
         "y": {
          "bdata": "tikEK+Ip4CvRKsooHSuyJ4kk5yLNI7Ak1SM5JaMouCzBL0o22TZSMw==",
          "dtype": "i2"
         },
         "yaxis": "y"
        }
       ],
       "layout": {
        "barmode": "group",
        "legend": {
         "title": {
          "text": "Collision Severity"
         },
         "tracegroupgap": 0
        },
        "template": {
         "data": {
          "bar": [
           {
            "error_x": {
             "color": "#2a3f5f"
            },
            "error_y": {
             "color": "#2a3f5f"
            },
            "marker": {
             "line": {
              "color": "#E5ECF6",
              "width": 0.5
             },
             "pattern": {
              "fillmode": "overlay",
              "size": 10,
              "solidity": 0.2
             }
            },
            "type": "bar"
           }
          ],
          "barpolar": [
           {
            "marker": {
             "line": {
              "color": "#E5ECF6",
              "width": 0.5
             },
             "pattern": {
              "fillmode": "overlay",
              "size": 10,
              "solidity": 0.2
             }
            },
            "type": "barpolar"
           }
          ],
          "carpet": [
           {
            "aaxis": {
             "endlinecolor": "#2a3f5f",
             "gridcolor": "white",
             "linecolor": "white",
             "minorgridcolor": "white",
             "startlinecolor": "#2a3f5f"
            },
            "baxis": {
             "endlinecolor": "#2a3f5f",
             "gridcolor": "white",
             "linecolor": "white",
             "minorgridcolor": "white",
             "startlinecolor": "#2a3f5f"
            },
            "type": "carpet"
           }
          ],
          "choropleth": [
           {
            "colorbar": {
             "outlinewidth": 0,
             "ticks": ""
            },
            "type": "choropleth"
           }
          ],
          "contour": [
           {
            "colorbar": {
             "outlinewidth": 0,
             "ticks": ""
            },
            "colorscale": [
             [
              0,
              "#0d0887"
             ],
             [
              0.1111111111111111,
              "#46039f"
             ],
             [
              0.2222222222222222,
              "#7201a8"
             ],
             [
              0.3333333333333333,
              "#9c179e"
             ],
             [
              0.4444444444444444,
              "#bd3786"
             ],
             [
              0.5555555555555556,
              "#d8576b"
             ],
             [
              0.6666666666666666,
              "#ed7953"
             ],
             [
              0.7777777777777778,
              "#fb9f3a"
             ],
             [
              0.8888888888888888,
              "#fdca26"
             ],
             [
              1,
              "#f0f921"
             ]
            ],
            "type": "contour"
           }
          ],
          "contourcarpet": [
           {
            "colorbar": {
             "outlinewidth": 0,
             "ticks": ""
            },
            "type": "contourcarpet"
           }
          ],
          "heatmap": [
           {
            "colorbar": {
             "outlinewidth": 0,
             "ticks": ""
            },
            "colorscale": [
             [
              0,
              "#0d0887"
             ],
             [
              0.1111111111111111,
              "#46039f"
             ],
             [
              0.2222222222222222,
              "#7201a8"
             ],
             [
              0.3333333333333333,
              "#9c179e"
             ],
             [
              0.4444444444444444,
              "#bd3786"
             ],
             [
              0.5555555555555556,
              "#d8576b"
             ],
             [
              0.6666666666666666,
              "#ed7953"
             ],
             [
              0.7777777777777778,
              "#fb9f3a"
             ],
             [
              0.8888888888888888,
              "#fdca26"
             ],
             [
              1,
              "#f0f921"
             ]
            ],
            "type": "heatmap"
           }
          ],
          "histogram": [
           {
            "marker": {
             "pattern": {
              "fillmode": "overlay",
              "size": 10,
              "solidity": 0.2
             }
            },
            "type": "histogram"
           }
          ],
          "histogram2d": [
           {
            "colorbar": {
             "outlinewidth": 0,
             "ticks": ""
            },
            "colorscale": [
             [
              0,
              "#0d0887"
             ],
             [
              0.1111111111111111,
              "#46039f"
             ],
             [
              0.2222222222222222,
              "#7201a8"
             ],
             [
              0.3333333333333333,
              "#9c179e"
             ],
             [
              0.4444444444444444,
              "#bd3786"
             ],
             [
              0.5555555555555556,
              "#d8576b"
             ],
             [
              0.6666666666666666,
              "#ed7953"
             ],
             [
              0.7777777777777778,
              "#fb9f3a"
             ],
             [
              0.8888888888888888,
              "#fdca26"
             ],
             [
              1,
              "#f0f921"
             ]
            ],
            "type": "histogram2d"
           }
          ],
          "histogram2dcontour": [
           {
            "colorbar": {
             "outlinewidth": 0,
             "ticks": ""
            },
            "colorscale": [
             [
              0,
              "#0d0887"
             ],
             [
              0.1111111111111111,
              "#46039f"
             ],
             [
              0.2222222222222222,
              "#7201a8"
             ],
             [
              0.3333333333333333,
              "#9c179e"
             ],
             [
              0.4444444444444444,
              "#bd3786"
             ],
             [
              0.5555555555555556,
              "#d8576b"
             ],
             [
              0.6666666666666666,
              "#ed7953"
             ],
             [
              0.7777777777777778,
              "#fb9f3a"
             ],
             [
              0.8888888888888888,
              "#fdca26"
             ],
             [
              1,
              "#f0f921"
             ]
            ],
            "type": "histogram2dcontour"
           }
          ],
          "mesh3d": [
           {
            "colorbar": {
             "outlinewidth": 0,
             "ticks": ""
            },
            "type": "mesh3d"
           }
          ],
          "parcoords": [
           {
            "line": {
             "colorbar": {
              "outlinewidth": 0,
              "ticks": ""
             }
            },
            "type": "parcoords"
           }
          ],
          "pie": [
           {
            "automargin": true,
            "type": "pie"
           }
          ],
          "scatter": [
           {
            "fillpattern": {
             "fillmode": "overlay",
             "size": 10,
             "solidity": 0.2
            },
            "type": "scatter"
           }
          ],
          "scatter3d": [
           {
            "line": {
             "colorbar": {
              "outlinewidth": 0,
              "ticks": ""
             }
            },
            "marker": {
             "colorbar": {
              "outlinewidth": 0,
              "ticks": ""
             }
            },
            "type": "scatter3d"
           }
          ],
          "scattercarpet": [
           {
            "marker": {
             "colorbar": {
              "outlinewidth": 0,
              "ticks": ""
             }
            },
            "type": "scattercarpet"
           }
          ],
          "scattergeo": [
           {
            "marker": {
             "colorbar": {
              "outlinewidth": 0,
              "ticks": ""
             }
            },
            "type": "scattergeo"
           }
          ],
          "scattergl": [
           {
            "marker": {
             "colorbar": {
              "outlinewidth": 0,
              "ticks": ""
             }
            },
            "type": "scattergl"
           }
          ],
          "scattermap": [
           {
            "marker": {
             "colorbar": {
              "outlinewidth": 0,
              "ticks": ""
             }
            },
            "type": "scattermap"
           }
          ],
          "scattermapbox": [
           {
            "marker": {
             "colorbar": {
              "outlinewidth": 0,
              "ticks": ""
             }
            },
            "type": "scattermapbox"
           }
          ],
          "scatterpolar": [
           {
            "marker": {
             "colorbar": {
              "outlinewidth": 0,
              "ticks": ""
             }
            },
            "type": "scatterpolar"
           }
          ],
          "scatterpolargl": [
           {
            "marker": {
             "colorbar": {
              "outlinewidth": 0,
              "ticks": ""
             }
            },
            "type": "scatterpolargl"
           }
          ],
          "scatterternary": [
           {
            "marker": {
             "colorbar": {
              "outlinewidth": 0,
              "ticks": ""
             }
            },
            "type": "scatterternary"
           }
          ],
          "surface": [
           {
            "colorbar": {
             "outlinewidth": 0,
             "ticks": ""
            },
            "colorscale": [
             [
              0,
              "#0d0887"
             ],
             [
              0.1111111111111111,
              "#46039f"
             ],
             [
              0.2222222222222222,
              "#7201a8"
             ],
             [
              0.3333333333333333,
              "#9c179e"
             ],
             [
              0.4444444444444444,
              "#bd3786"
             ],
             [
              0.5555555555555556,
              "#d8576b"
             ],
             [
              0.6666666666666666,
              "#ed7953"
             ],
             [
              0.7777777777777778,
              "#fb9f3a"
             ],
             [
              0.8888888888888888,
              "#fdca26"
             ],
             [
              1,
              "#f0f921"
             ]
            ],
            "type": "surface"
           }
          ],
          "table": [
           {
            "cells": {
             "fill": {
              "color": "#EBF0F8"
             },
             "line": {
              "color": "white"
             }
            },
            "header": {
             "fill": {
              "color": "#C8D4E3"
             },
             "line": {
              "color": "white"
             }
            },
            "type": "table"
           }
          ]
         },
         "layout": {
          "annotationdefaults": {
           "arrowcolor": "#2a3f5f",
           "arrowhead": 0,
           "arrowwidth": 1
          },
          "autotypenumbers": "strict",
          "coloraxis": {
           "colorbar": {
            "outlinewidth": 0,
            "ticks": ""
           }
          },
          "colorscale": {
           "diverging": [
            [
             0,
             "#8e0152"
            ],
            [
             0.1,
             "#c51b7d"
            ],
            [
             0.2,
             "#de77ae"
            ],
            [
             0.3,
             "#f1b6da"
            ],
            [
             0.4,
             "#fde0ef"
            ],
            [
             0.5,
             "#f7f7f7"
            ],
            [
             0.6,
             "#e6f5d0"
            ],
            [
             0.7,
             "#b8e186"
            ],
            [
             0.8,
             "#7fbc41"
            ],
            [
             0.9,
             "#4d9221"
            ],
            [
             1,
             "#276419"
            ]
           ],
           "sequential": [
            [
             0,
             "#0d0887"
            ],
            [
             0.1111111111111111,
             "#46039f"
            ],
            [
             0.2222222222222222,
             "#7201a8"
            ],
            [
             0.3333333333333333,
             "#9c179e"
            ],
            [
             0.4444444444444444,
             "#bd3786"
            ],
            [
             0.5555555555555556,
             "#d8576b"
            ],
            [
             0.6666666666666666,
             "#ed7953"
            ],
            [
             0.7777777777777778,
             "#fb9f3a"
            ],
            [
             0.8888888888888888,
             "#fdca26"
            ],
            [
             1,
             "#f0f921"
            ]
           ],
           "sequentialminus": [
            [
             0,
             "#0d0887"
            ],
            [
             0.1111111111111111,
             "#46039f"
            ],
            [
             0.2222222222222222,
             "#7201a8"
            ],
            [
             0.3333333333333333,
             "#9c179e"
            ],
            [
             0.4444444444444444,
             "#bd3786"
            ],
            [
             0.5555555555555556,
             "#d8576b"
            ],
            [
             0.6666666666666666,
             "#ed7953"
            ],
            [
             0.7777777777777778,
             "#fb9f3a"
            ],
            [
             0.8888888888888888,
             "#fdca26"
            ],
            [
             1,
             "#f0f921"
            ]
           ]
          },
          "colorway": [
           "#636efa",
           "#EF553B",
           "#00cc96",
           "#ab63fa",
           "#FFA15A",
           "#19d3f3",
           "#FF6692",
           "#B6E880",
           "#FF97FF",
           "#FECB52"
          ],
          "font": {
           "color": "#2a3f5f"
          },
          "geo": {
           "bgcolor": "white",
           "lakecolor": "white",
           "landcolor": "#E5ECF6",
           "showlakes": true,
           "showland": true,
           "subunitcolor": "white"
          },
          "hoverlabel": {
           "align": "left"
          },
          "hovermode": "closest",
          "mapbox": {
           "style": "light"
          },
          "paper_bgcolor": "white",
          "plot_bgcolor": "#E5ECF6",
          "polar": {
           "angularaxis": {
            "gridcolor": "white",
            "linecolor": "white",
            "ticks": ""
           },
           "bgcolor": "#E5ECF6",
           "radialaxis": {
            "gridcolor": "white",
            "linecolor": "white",
            "ticks": ""
           }
          },
          "scene": {
           "xaxis": {
            "backgroundcolor": "#E5ECF6",
            "gridcolor": "white",
            "gridwidth": 2,
            "linecolor": "white",
            "showbackground": true,
            "ticks": "",
            "zerolinecolor": "white"
           },
           "yaxis": {
            "backgroundcolor": "#E5ECF6",
            "gridcolor": "white",
            "gridwidth": 2,
            "linecolor": "white",
            "showbackground": true,
            "ticks": "",
            "zerolinecolor": "white"
           },
           "zaxis": {
            "backgroundcolor": "#E5ECF6",
            "gridcolor": "white",
            "gridwidth": 2,
            "linecolor": "white",
            "showbackground": true,
            "ticks": "",
            "zerolinecolor": "white"
           }
          },
          "shapedefaults": {
           "line": {
            "color": "#2a3f5f"
           }
          },
          "ternary": {
           "aaxis": {
            "gridcolor": "white",
            "linecolor": "white",
            "ticks": ""
           },
           "baxis": {
            "gridcolor": "white",
            "linecolor": "white",
            "ticks": ""
           },
           "bgcolor": "#E5ECF6",
           "caxis": {
            "gridcolor": "white",
            "linecolor": "white",
            "ticks": ""
           }
          },
          "title": {
           "x": 0.05
          },
          "xaxis": {
           "automargin": true,
           "gridcolor": "white",
           "linecolor": "white",
           "ticks": "",
           "title": {
            "standoff": 15
           },
           "zerolinecolor": "white",
           "zerolinewidth": 2
          },
          "yaxis": {
           "automargin": true,
           "gridcolor": "white",
           "linecolor": "white",
           "ticks": "",
           "title": {
            "standoff": 15
           },
           "zerolinecolor": "white",
           "zerolinewidth": 2
          }
         }
        },
        "title": {
         "text": "Severity of accidents from 2001 to 2020"
        },
        "xaxis": {
         "anchor": "y",
         "domain": [
          0,
          1
         ],
         "title": {
          "text": "Year"
         }
        },
        "yaxis": {
         "anchor": "x",
         "domain": [
          0,
          1
         ],
         "title": {
          "text": "sum of Frequency"
         }
        }
       }
      }
     },
     "metadata": {},
     "output_type": "display_data"
    }
   ],
   "source": [
    "fig2 = px.histogram(data2, x='year', y='severity_count', barmode=\"group\",\n",
    "              color='collision_severity', \n",
    "              title=\"Severity of accidents from 2001 to 2020\",\n",
    "              labels= {\n",
    "                  'year': 'Year',\n",
    "                  'severity_count': 'Frequency',\n",
    "                  'collision_severity': 'Collision Severity'\n",
    "              })\n",
    "fig2.show()"
   ]
  },
  {
   "cell_type": "markdown",
   "id": "0a576a68",
   "metadata": {},
   "source": [
    "From the graph displaying the severity of accidents we can see that accidents where there is only damage of property are by far the most common accidents. The second most common is accidents resulting in pain. The third most common are accidents resulting in non severe injury (called other injury in the data). The fourth most commno is severe injusry and the fifth is fatal collisions."
   ]
  },
  {
   "cell_type": "markdown",
   "id": "d4683749",
   "metadata": {},
   "source": [
    "# Part 2\n",
    "### Build neural network that predicts accident severity\n",
    "\n",
    "The next part of this assignment will be about building a neural network which can predict collision severity type.\n",
    "\n",
    "Included features:\n",
    "- collision_time: Time crash occured (only used hour of day, processed as numerical)\n",
    "- year: Year accident took place (categorical)\n",
    "-month: Month the accident took place (categorical)\n",
    "- chp_beat_type: Location of crash (categorical)\n",
    "- distance: Distance of the crash from the intersection with secondary road (numerical)\n",
    "- direction: Direction of the crash from the intersection with the secondary roadway (categorical)\n",
    "- weather1: Weather condition at the time of the crash (categorical)\n",
    "- party_count: Number of vehicles involved in crash (numerical)\n",
    "- primary_coll_factor: Primary collision factor (categorical)\n",
    "- type_of_collision: The general type of crash (categorical)\n",
    "- motor_vehicle_involved_with: Describes what, in conjunction with a motor vehicle in-transport, produced the first injury or damage-causing event, on or off the road (categorical)\n",
    "- road_surface: Roadway surface condition at the time of the crash (categorical)\n",
    "- road_cond_1: Roadway condition at the time of the crash (categorical)\n",
    "- lighting: Lighting conditions at the crash location and the time of the crash (categorical)\n",
    "- bicycle_accident: Indicates whether the crash involved a bicycle (binary)\n",
    "- motorcycle_accident: Indicates whether the crash involved a motorcycle (binary)\n",
    "- truck_accident: \tIndicates whether the crash involved a big truck (binary)\n",
    "\n",
    "##### Get the data using sqlite\n"
   ]
  },
  {
   "cell_type": "code",
   "execution_count": 6,
   "id": "92601514",
   "metadata": {},
   "outputs": [
    {
     "data": {
      "text/html": [
       "<div>\n",
       "<style scoped>\n",
       "    .dataframe tbody tr th:only-of-type {\n",
       "        vertical-align: middle;\n",
       "    }\n",
       "\n",
       "    .dataframe tbody tr th {\n",
       "        vertical-align: top;\n",
       "    }\n",
       "\n",
       "    .dataframe thead th {\n",
       "        text-align: right;\n",
       "    }\n",
       "</style>\n",
       "<table border=\"1\" class=\"dataframe\">\n",
       "  <thead>\n",
       "    <tr style=\"text-align: right;\">\n",
       "      <th></th>\n",
       "      <th>collision_severity</th>\n",
       "      <th>collision_time</th>\n",
       "      <th>year</th>\n",
       "      <th>month</th>\n",
       "      <th>chp_beat_type</th>\n",
       "      <th>distance</th>\n",
       "      <th>weather_1</th>\n",
       "      <th>party_count</th>\n",
       "      <th>primary_collision_factor</th>\n",
       "      <th>type_of_collision</th>\n",
       "      <th>motor_vehicle_involved_with</th>\n",
       "      <th>road_surface</th>\n",
       "      <th>road_condition_1</th>\n",
       "      <th>lighting</th>\n",
       "      <th>bicycle_collision</th>\n",
       "      <th>motorcycle_collision</th>\n",
       "      <th>truck_collision</th>\n",
       "    </tr>\n",
       "  </thead>\n",
       "  <tbody>\n",
       "    <tr>\n",
       "      <th>0</th>\n",
       "      <td>other injury</td>\n",
       "      <td>19:00:00</td>\n",
       "      <td>2019</td>\n",
       "      <td>09</td>\n",
       "      <td>not chp</td>\n",
       "      <td>0.0</td>\n",
       "      <td>clear</td>\n",
       "      <td>2</td>\n",
       "      <td>vehicle code violation</td>\n",
       "      <td>rear end</td>\n",
       "      <td>bicycle</td>\n",
       "      <td>dry</td>\n",
       "      <td>normal</td>\n",
       "      <td>dark with street lights</td>\n",
       "      <td>1</td>\n",
       "      <td>0</td>\n",
       "      <td>0</td>\n",
       "    </tr>\n",
       "    <tr>\n",
       "      <th>1</th>\n",
       "      <td>property damage only</td>\n",
       "      <td>17:40:00</td>\n",
       "      <td>2018</td>\n",
       "      <td>04</td>\n",
       "      <td>interstate</td>\n",
       "      <td>1000.0</td>\n",
       "      <td>clear</td>\n",
       "      <td>2</td>\n",
       "      <td>vehicle code violation</td>\n",
       "      <td>sideswipe</td>\n",
       "      <td>other motor vehicle</td>\n",
       "      <td>dry</td>\n",
       "      <td>normal</td>\n",
       "      <td>daylight</td>\n",
       "      <td>0</td>\n",
       "      <td>0</td>\n",
       "      <td>1</td>\n",
       "    </tr>\n",
       "    <tr>\n",
       "      <th>2</th>\n",
       "      <td>property damage only</td>\n",
       "      <td>12:30:00</td>\n",
       "      <td>2015</td>\n",
       "      <td>05</td>\n",
       "      <td>interstate</td>\n",
       "      <td>200.0</td>\n",
       "      <td>clear</td>\n",
       "      <td>1</td>\n",
       "      <td>other than driver</td>\n",
       "      <td>hit object</td>\n",
       "      <td>other object</td>\n",
       "      <td>dry</td>\n",
       "      <td>normal</td>\n",
       "      <td>daylight</td>\n",
       "      <td>0</td>\n",
       "      <td>0</td>\n",
       "      <td>0</td>\n",
       "    </tr>\n",
       "    <tr>\n",
       "      <th>3</th>\n",
       "      <td>property damage only</td>\n",
       "      <td>00:46:00</td>\n",
       "      <td>2007</td>\n",
       "      <td>01</td>\n",
       "      <td>not chp</td>\n",
       "      <td>0.0</td>\n",
       "      <td>clear</td>\n",
       "      <td>1</td>\n",
       "      <td>vehicle code violation</td>\n",
       "      <td>hit object</td>\n",
       "      <td>fixed object</td>\n",
       "      <td>dry</td>\n",
       "      <td>normal</td>\n",
       "      <td>dark with street lights</td>\n",
       "      <td>0</td>\n",
       "      <td>0</td>\n",
       "      <td>0</td>\n",
       "    </tr>\n",
       "    <tr>\n",
       "      <th>4</th>\n",
       "      <td>severe injury</td>\n",
       "      <td>17:32:00</td>\n",
       "      <td>2018</td>\n",
       "      <td>12</td>\n",
       "      <td>not chp</td>\n",
       "      <td>102.0</td>\n",
       "      <td>clear</td>\n",
       "      <td>2</td>\n",
       "      <td>vehicle code violation</td>\n",
       "      <td>pedestrian</td>\n",
       "      <td>pedestrian</td>\n",
       "      <td>dry</td>\n",
       "      <td>normal</td>\n",
       "      <td>dark with street lights</td>\n",
       "      <td>0</td>\n",
       "      <td>0</td>\n",
       "      <td>0</td>\n",
       "    </tr>\n",
       "    <tr>\n",
       "      <th>5</th>\n",
       "      <td>property damage only</td>\n",
       "      <td>23:10:00</td>\n",
       "      <td>2003</td>\n",
       "      <td>09</td>\n",
       "      <td>county road area</td>\n",
       "      <td>22.0</td>\n",
       "      <td>clear</td>\n",
       "      <td>2</td>\n",
       "      <td>vehicle code violation</td>\n",
       "      <td>rear end</td>\n",
       "      <td>other motor vehicle</td>\n",
       "      <td>dry</td>\n",
       "      <td>normal</td>\n",
       "      <td>dark with no street lights</td>\n",
       "      <td>0</td>\n",
       "      <td>0</td>\n",
       "      <td>0</td>\n",
       "    </tr>\n",
       "    <tr>\n",
       "      <th>6</th>\n",
       "      <td>property damage only</td>\n",
       "      <td>13:43:00</td>\n",
       "      <td>2002</td>\n",
       "      <td>11</td>\n",
       "      <td>not chp</td>\n",
       "      <td>15.0</td>\n",
       "      <td>clear</td>\n",
       "      <td>2</td>\n",
       "      <td>vehicle code violation</td>\n",
       "      <td>rear end</td>\n",
       "      <td>other motor vehicle</td>\n",
       "      <td>dry</td>\n",
       "      <td>normal</td>\n",
       "      <td>daylight</td>\n",
       "      <td>0</td>\n",
       "      <td>0</td>\n",
       "      <td>0</td>\n",
       "    </tr>\n",
       "    <tr>\n",
       "      <th>7</th>\n",
       "      <td>property damage only</td>\n",
       "      <td>10:39:00</td>\n",
       "      <td>2006</td>\n",
       "      <td>01</td>\n",
       "      <td>county road area</td>\n",
       "      <td>60.0</td>\n",
       "      <td>cloudy</td>\n",
       "      <td>2</td>\n",
       "      <td>vehicle code violation</td>\n",
       "      <td>rear end</td>\n",
       "      <td>other motor vehicle</td>\n",
       "      <td>wet</td>\n",
       "      <td>normal</td>\n",
       "      <td>daylight</td>\n",
       "      <td>0</td>\n",
       "      <td>0</td>\n",
       "      <td>0</td>\n",
       "    </tr>\n",
       "    <tr>\n",
       "      <th>8</th>\n",
       "      <td>property damage only</td>\n",
       "      <td>21:10:00</td>\n",
       "      <td>2005</td>\n",
       "      <td>02</td>\n",
       "      <td>state route</td>\n",
       "      <td>100.0</td>\n",
       "      <td>cloudy</td>\n",
       "      <td>3</td>\n",
       "      <td>vehicle code violation</td>\n",
       "      <td>rear end</td>\n",
       "      <td>other motor vehicle</td>\n",
       "      <td>wet</td>\n",
       "      <td>normal</td>\n",
       "      <td>dark with street lights</td>\n",
       "      <td>0</td>\n",
       "      <td>0</td>\n",
       "      <td>0</td>\n",
       "    </tr>\n",
       "    <tr>\n",
       "      <th>9</th>\n",
       "      <td>property damage only</td>\n",
       "      <td>08:30:00</td>\n",
       "      <td>2002</td>\n",
       "      <td>02</td>\n",
       "      <td>safety services program</td>\n",
       "      <td>0.0</td>\n",
       "      <td>clear</td>\n",
       "      <td>2</td>\n",
       "      <td>other improper driving</td>\n",
       "      <td>sideswipe</td>\n",
       "      <td>other motor vehicle</td>\n",
       "      <td>dry</td>\n",
       "      <td>normal</td>\n",
       "      <td>daylight</td>\n",
       "      <td>0</td>\n",
       "      <td>0</td>\n",
       "      <td>0</td>\n",
       "    </tr>\n",
       "  </tbody>\n",
       "</table>\n",
       "</div>"
      ],
      "text/plain": [
       "     collision_severity collision_time  year month            chp_beat_type  \\\n",
       "0          other injury       19:00:00  2019    09                  not chp   \n",
       "1  property damage only       17:40:00  2018    04               interstate   \n",
       "2  property damage only       12:30:00  2015    05               interstate   \n",
       "3  property damage only       00:46:00  2007    01                  not chp   \n",
       "4         severe injury       17:32:00  2018    12                  not chp   \n",
       "5  property damage only       23:10:00  2003    09         county road area   \n",
       "6  property damage only       13:43:00  2002    11                  not chp   \n",
       "7  property damage only       10:39:00  2006    01         county road area   \n",
       "8  property damage only       21:10:00  2005    02              state route   \n",
       "9  property damage only       08:30:00  2002    02  safety services program   \n",
       "\n",
       "   distance weather_1  party_count primary_collision_factor type_of_collision  \\\n",
       "0       0.0     clear            2   vehicle code violation          rear end   \n",
       "1    1000.0     clear            2   vehicle code violation         sideswipe   \n",
       "2     200.0     clear            1        other than driver        hit object   \n",
       "3       0.0     clear            1   vehicle code violation        hit object   \n",
       "4     102.0     clear            2   vehicle code violation        pedestrian   \n",
       "5      22.0     clear            2   vehicle code violation          rear end   \n",
       "6      15.0     clear            2   vehicle code violation          rear end   \n",
       "7      60.0    cloudy            2   vehicle code violation          rear end   \n",
       "8     100.0    cloudy            3   vehicle code violation          rear end   \n",
       "9       0.0     clear            2   other improper driving         sideswipe   \n",
       "\n",
       "  motor_vehicle_involved_with road_surface road_condition_1  \\\n",
       "0                     bicycle          dry           normal   \n",
       "1         other motor vehicle          dry           normal   \n",
       "2                other object          dry           normal   \n",
       "3                fixed object          dry           normal   \n",
       "4                  pedestrian          dry           normal   \n",
       "5         other motor vehicle          dry           normal   \n",
       "6         other motor vehicle          dry           normal   \n",
       "7         other motor vehicle          wet           normal   \n",
       "8         other motor vehicle          wet           normal   \n",
       "9         other motor vehicle          dry           normal   \n",
       "\n",
       "                     lighting  bicycle_collision  motorcycle_collision  \\\n",
       "0     dark with street lights                  1                     0   \n",
       "1                    daylight                  0                     0   \n",
       "2                    daylight                  0                     0   \n",
       "3     dark with street lights                  0                     0   \n",
       "4     dark with street lights                  0                     0   \n",
       "5  dark with no street lights                  0                     0   \n",
       "6                    daylight                  0                     0   \n",
       "7                    daylight                  0                     0   \n",
       "8     dark with street lights                  0                     0   \n",
       "9                    daylight                  0                     0   \n",
       "\n",
       "   truck_collision  \n",
       "0                0  \n",
       "1                1  \n",
       "2                0  \n",
       "3                0  \n",
       "4                0  \n",
       "5                0  \n",
       "6                0  \n",
       "7                0  \n",
       "8                0  \n",
       "9                0  "
      ]
     },
     "metadata": {},
     "output_type": "display_data"
    }
   ],
   "source": [
    "# select all columns, randomly order the data and select 10,000 data points (using all data points is too much to process)\n",
    "queryNN = \"\"\"\n",
    "SELECT collision_severity,\n",
    "collision_time,\n",
    "strftime('%Y', collision_date) as year,\n",
    "strftime('%m', collision_date)as month,\n",
    "chp_beat_type,\n",
    "distance,\n",
    "weather_1,\n",
    "party_count,\n",
    "primary_collision_factor,\n",
    "type_of_collision,\n",
    "motor_vehicle_involved_with,\n",
    "road_surface,\n",
    "road_condition_1,\n",
    "lighting,\n",
    "bicycle_collision,\n",
    "motorcycle_collision,\n",
    "truck_collision\n",
    "FROM collisions\n",
    "ORDER BY RANDOM()\n",
    "LIMIT 10000\n",
    "\"\"\"\n",
    "\n",
    "dataNN = pd.read_sql(queryNN,con)\n",
    "display(dataNN.iloc[:10])"
   ]
  },
  {
   "cell_type": "markdown",
   "id": "d14bd0cd",
   "metadata": {},
   "source": [
    "### Clean the data\n",
    "##### Get the hour of the day and transform to float"
   ]
  },
  {
   "cell_type": "code",
   "execution_count": 7,
   "id": "2b366965",
   "metadata": {},
   "outputs": [],
   "source": [
    "# get hour of day from the time column\n",
    "dataNN[\"collision_time\"] = dataNN[\"collision_time\"].str.split(\":\").str[0].astype(float)"
   ]
  },
  {
   "cell_type": "markdown",
   "id": "b4c43a65",
   "metadata": {},
   "source": [
    "##### One hot encode categorical variables"
   ]
  },
  {
   "cell_type": "code",
   "execution_count": 8,
   "id": "18ef7757",
   "metadata": {},
   "outputs": [],
   "source": [
    "# one hot encode variables\n",
    "data_rows_encode = [\"year\",\"month\",\"chp_beat_type\", \"weather_1\",\"primary_collision_factor\", \n",
    "               \"type_of_collision\", \"motor_vehicle_involved_with\", \"road_surface\",\n",
    "               \"road_condition_1\",\"lighting\"]\n",
    "\n",
    "\n",
    "data_dummies = pd.get_dummies(dataNN[data_rows_encode])\n",
    "label_dummies = pd.get_dummies(dataNN[\"collision_severity\"])\n",
    "\n",
    "#display(data_dummies)\n",
    "#display(label_dummies)\n"
   ]
  },
  {
   "cell_type": "markdown",
   "id": "de9bf2af",
   "metadata": {},
   "source": [
    "##### Create df with the data to use in the neural network and transform into a numpy array"
   ]
  },
  {
   "cell_type": "code",
   "execution_count": 9,
   "id": "68801c89",
   "metadata": {},
   "outputs": [
    {
     "name": "stdout",
     "output_type": "stream",
     "text": [
      "(10000, 5)\n",
      "(10000, 96)\n"
     ]
    }
   ],
   "source": [
    "# drop rows that were one hot encoded and the labels and merge df with dummie variables\n",
    "final_data = dataNN.drop(data_rows_encode + [\"collision_severity\"],axis=1).merge(data_dummies,left_index=True, right_index=True)\n",
    "\n",
    "# fill na's for collision time with the mean collision time\n",
    "final_data[\"collision_time\"] = final_data[\"collision_time\"].fillna(value=np.mean(final_data[\"collision_time\"]))\n",
    "\n",
    "# normalize the numeric variables (collision_time, distance, party_count)\n",
    "numerical = [\"collision_time\", \"distance\", \"party_count\"]\n",
    "final_data[numerical] = final_data[numerical].apply(zscore)\n",
    "\n",
    "# transform df to array\n",
    "data_array_NN = final_data.to_numpy()\n",
    "labels_array_NN = label_dummies.to_numpy()\n",
    "print(labels_array_NN.shape)\n",
    "print(data_array_NN.shape)"
   ]
  },
  {
   "cell_type": "markdown",
   "id": "5dbce099",
   "metadata": {},
   "source": [
    "##### Build neural network"
   ]
  },
  {
   "cell_type": "code",
   "execution_count": 10,
   "id": "49ff44e2",
   "metadata": {},
   "outputs": [],
   "source": [
    "# get testing and training set\n",
    "from sklearn.model_selection import train_test_split\n",
    "\n",
    "# Make sure all numbers in the array are floats\n",
    "data_array_NN = np.array(data_array_NN).astype(np.float32)\n",
    "labels_array_NN = np.array(labels_array_NN).astype(np.float32)\n",
    "\n",
    "# split the data using train_test_split with a training set of 70% of the data and a testing set containing 30%\n",
    "X_train, X_test, y_train, y_test = train_test_split(data_array_NN, labels_array_NN, train_size=0.7)\n"
   ]
  },
  {
   "cell_type": "markdown",
   "id": "dcf25561",
   "metadata": {},
   "source": [
    "##### Version 1\n",
    "This model contains two dense layers which use a ReLu activation function, the first containing 100 nodes and the second with 200 nodes. The model contains an output layer using a softmax activation function.\n",
    "\n",
    "From the plots showing the loss and the accuracy between the training and testing data we can see that the model is overfitting the training data."
   ]
  },
  {
   "cell_type": "code",
   "execution_count": 11,
   "id": "f0b4d779",
   "metadata": {},
   "outputs": [
    {
     "name": "stderr",
     "output_type": "stream",
     "text": [
      "c:\\Users\\miade\\miniconda3\\envs\\SP\\Lib\\site-packages\\keras\\src\\layers\\core\\dense.py:93: UserWarning:\n",
      "\n",
      "Do not pass an `input_shape`/`input_dim` argument to a layer. When using Sequential models, prefer using an `Input(shape)` object as the first layer in the model instead.\n",
      "\n"
     ]
    },
    {
     "name": "stdout",
     "output_type": "stream",
     "text": [
      "Epoch 1/80\n",
      "\u001b[1m63/63\u001b[0m \u001b[32m━━━━━━━━━━━━━━━━━━━━\u001b[0m\u001b[37m\u001b[0m \u001b[1m3s\u001b[0m 11ms/step - accuracy: 0.5730 - loss: 1.0943 - val_accuracy: 0.6357 - val_loss: 0.9372\n",
      "Epoch 2/80\n",
      "\u001b[1m63/63\u001b[0m \u001b[32m━━━━━━━━━━━━━━━━━━━━\u001b[0m\u001b[37m\u001b[0m \u001b[1m0s\u001b[0m 6ms/step - accuracy: 0.6467 - loss: 0.8840 - val_accuracy: 0.6543 - val_loss: 0.9129\n",
      "Epoch 3/80\n",
      "\u001b[1m63/63\u001b[0m \u001b[32m━━━━━━━━━━━━━━━━━━━━\u001b[0m\u001b[37m\u001b[0m \u001b[1m0s\u001b[0m 6ms/step - accuracy: 0.6405 - loss: 0.8673 - val_accuracy: 0.6443 - val_loss: 0.9230\n",
      "Epoch 4/80\n",
      "\u001b[1m63/63\u001b[0m \u001b[32m━━━━━━━━━━━━━━━━━━━━\u001b[0m\u001b[37m\u001b[0m \u001b[1m0s\u001b[0m 6ms/step - accuracy: 0.6534 - loss: 0.8487 - val_accuracy: 0.6471 - val_loss: 0.9021\n",
      "Epoch 5/80\n",
      "\u001b[1m63/63\u001b[0m \u001b[32m━━━━━━━━━━━━━━━━━━━━\u001b[0m\u001b[37m\u001b[0m \u001b[1m0s\u001b[0m 6ms/step - accuracy: 0.6572 - loss: 0.8360 - val_accuracy: 0.6500 - val_loss: 0.9116\n",
      "Epoch 6/80\n",
      "\u001b[1m63/63\u001b[0m \u001b[32m━━━━━━━━━━━━━━━━━━━━\u001b[0m\u001b[37m\u001b[0m \u001b[1m0s\u001b[0m 6ms/step - accuracy: 0.6584 - loss: 0.8326 - val_accuracy: 0.6171 - val_loss: 0.9238\n",
      "Epoch 7/80\n",
      "\u001b[1m63/63\u001b[0m \u001b[32m━━━━━━━━━━━━━━━━━━━━\u001b[0m\u001b[37m\u001b[0m \u001b[1m0s\u001b[0m 6ms/step - accuracy: 0.6555 - loss: 0.8297 - val_accuracy: 0.6357 - val_loss: 0.9067\n",
      "Epoch 8/80\n",
      "\u001b[1m63/63\u001b[0m \u001b[32m━━━━━━━━━━━━━━━━━━━━\u001b[0m\u001b[37m\u001b[0m \u001b[1m0s\u001b[0m 6ms/step - accuracy: 0.6682 - loss: 0.8017 - val_accuracy: 0.6429 - val_loss: 0.9101\n",
      "Epoch 9/80\n",
      "\u001b[1m63/63\u001b[0m \u001b[32m━━━━━━━━━━━━━━━━━━━━\u001b[0m\u001b[37m\u001b[0m \u001b[1m0s\u001b[0m 6ms/step - accuracy: 0.6649 - loss: 0.8153 - val_accuracy: 0.6100 - val_loss: 0.9237\n",
      "Epoch 10/80\n",
      "\u001b[1m63/63\u001b[0m \u001b[32m━━━━━━━━━━━━━━━━━━━━\u001b[0m\u001b[37m\u001b[0m \u001b[1m0s\u001b[0m 7ms/step - accuracy: 0.6873 - loss: 0.7789 - val_accuracy: 0.5900 - val_loss: 0.9492\n",
      "Epoch 11/80\n",
      "\u001b[1m63/63\u001b[0m \u001b[32m━━━━━━━━━━━━━━━━━━━━\u001b[0m\u001b[37m\u001b[0m \u001b[1m0s\u001b[0m 6ms/step - accuracy: 0.6763 - loss: 0.7966 - val_accuracy: 0.6400 - val_loss: 0.9084\n",
      "Epoch 12/80\n",
      "\u001b[1m63/63\u001b[0m \u001b[32m━━━━━━━━━━━━━━━━━━━━\u001b[0m\u001b[37m\u001b[0m \u001b[1m0s\u001b[0m 6ms/step - accuracy: 0.6838 - loss: 0.7816 - val_accuracy: 0.6186 - val_loss: 0.9228\n",
      "Epoch 13/80\n",
      "\u001b[1m63/63\u001b[0m \u001b[32m━━━━━━━━━━━━━━━━━━━━\u001b[0m\u001b[37m\u001b[0m \u001b[1m0s\u001b[0m 6ms/step - accuracy: 0.6862 - loss: 0.7753 - val_accuracy: 0.6429 - val_loss: 0.9355\n",
      "Epoch 14/80\n",
      "\u001b[1m63/63\u001b[0m \u001b[32m━━━━━━━━━━━━━━━━━━━━\u001b[0m\u001b[37m\u001b[0m \u001b[1m0s\u001b[0m 6ms/step - accuracy: 0.6892 - loss: 0.7567 - val_accuracy: 0.6071 - val_loss: 0.9387\n",
      "Epoch 15/80\n",
      "\u001b[1m63/63\u001b[0m \u001b[32m━━━━━━━━━━━━━━━━━━━━\u001b[0m\u001b[37m\u001b[0m \u001b[1m0s\u001b[0m 6ms/step - accuracy: 0.7082 - loss: 0.7454 - val_accuracy: 0.6243 - val_loss: 0.9543\n",
      "Epoch 16/80\n",
      "\u001b[1m63/63\u001b[0m \u001b[32m━━━━━━━━━━━━━━━━━━━━\u001b[0m\u001b[37m\u001b[0m \u001b[1m0s\u001b[0m 6ms/step - accuracy: 0.6911 - loss: 0.7596 - val_accuracy: 0.6057 - val_loss: 0.9557\n",
      "Epoch 17/80\n",
      "\u001b[1m63/63\u001b[0m \u001b[32m━━━━━━━━━━━━━━━━━━━━\u001b[0m\u001b[37m\u001b[0m \u001b[1m0s\u001b[0m 6ms/step - accuracy: 0.6986 - loss: 0.7359 - val_accuracy: 0.6114 - val_loss: 0.9485\n",
      "Epoch 18/80\n",
      "\u001b[1m63/63\u001b[0m \u001b[32m━━━━━━━━━━━━━━━━━━━━\u001b[0m\u001b[37m\u001b[0m \u001b[1m0s\u001b[0m 7ms/step - accuracy: 0.7086 - loss: 0.7298 - val_accuracy: 0.5843 - val_loss: 0.9788\n",
      "Epoch 19/80\n",
      "\u001b[1m63/63\u001b[0m \u001b[32m━━━━━━━━━━━━━━━━━━━━\u001b[0m\u001b[37m\u001b[0m \u001b[1m0s\u001b[0m 6ms/step - accuracy: 0.7119 - loss: 0.7162 - val_accuracy: 0.5929 - val_loss: 0.9606\n",
      "Epoch 20/80\n",
      "\u001b[1m63/63\u001b[0m \u001b[32m━━━━━━━━━━━━━━━━━━━━\u001b[0m\u001b[37m\u001b[0m \u001b[1m0s\u001b[0m 5ms/step - accuracy: 0.7206 - loss: 0.6906 - val_accuracy: 0.6186 - val_loss: 0.9727\n",
      "Epoch 21/80\n",
      "\u001b[1m63/63\u001b[0m \u001b[32m━━━━━━━━━━━━━━━━━━━━\u001b[0m\u001b[37m\u001b[0m \u001b[1m0s\u001b[0m 5ms/step - accuracy: 0.7236 - loss: 0.6842 - val_accuracy: 0.6143 - val_loss: 0.9887\n",
      "Epoch 22/80\n",
      "\u001b[1m63/63\u001b[0m \u001b[32m━━━━━━━━━━━━━━━━━━━━\u001b[0m\u001b[37m\u001b[0m \u001b[1m0s\u001b[0m 6ms/step - accuracy: 0.7274 - loss: 0.6721 - val_accuracy: 0.5914 - val_loss: 0.9832\n",
      "Epoch 23/80\n",
      "\u001b[1m63/63\u001b[0m \u001b[32m━━━━━━━━━━━━━━━━━━━━\u001b[0m\u001b[37m\u001b[0m \u001b[1m0s\u001b[0m 6ms/step - accuracy: 0.7353 - loss: 0.6667 - val_accuracy: 0.6057 - val_loss: 0.9921\n",
      "Epoch 24/80\n",
      "\u001b[1m63/63\u001b[0m \u001b[32m━━━━━━━━━━━━━━━━━━━━\u001b[0m\u001b[37m\u001b[0m \u001b[1m0s\u001b[0m 6ms/step - accuracy: 0.7377 - loss: 0.6621 - val_accuracy: 0.5629 - val_loss: 1.0137\n",
      "Epoch 25/80\n",
      "\u001b[1m63/63\u001b[0m \u001b[32m━━━━━━━━━━━━━━━━━━━━\u001b[0m\u001b[37m\u001b[0m \u001b[1m0s\u001b[0m 6ms/step - accuracy: 0.7423 - loss: 0.6382 - val_accuracy: 0.5900 - val_loss: 1.0250\n",
      "Epoch 26/80\n",
      "\u001b[1m63/63\u001b[0m \u001b[32m━━━━━━━━━━━━━━━━━━━━\u001b[0m\u001b[37m\u001b[0m \u001b[1m0s\u001b[0m 6ms/step - accuracy: 0.7498 - loss: 0.6297 - val_accuracy: 0.5471 - val_loss: 1.0433\n",
      "Epoch 27/80\n",
      "\u001b[1m63/63\u001b[0m \u001b[32m━━━━━━━━━━━━━━━━━━━━\u001b[0m\u001b[37m\u001b[0m \u001b[1m0s\u001b[0m 6ms/step - accuracy: 0.7494 - loss: 0.6287 - val_accuracy: 0.5529 - val_loss: 1.0633\n",
      "Epoch 28/80\n",
      "\u001b[1m63/63\u001b[0m \u001b[32m━━━━━━━━━━━━━━━━━━━━\u001b[0m\u001b[37m\u001b[0m \u001b[1m0s\u001b[0m 6ms/step - accuracy: 0.7701 - loss: 0.5854 - val_accuracy: 0.5886 - val_loss: 1.0407\n",
      "Epoch 29/80\n",
      "\u001b[1m63/63\u001b[0m \u001b[32m━━━━━━━━━━━━━━━━━━━━\u001b[0m\u001b[37m\u001b[0m \u001b[1m0s\u001b[0m 7ms/step - accuracy: 0.7677 - loss: 0.5908 - val_accuracy: 0.6086 - val_loss: 1.0532\n",
      "Epoch 30/80\n",
      "\u001b[1m63/63\u001b[0m \u001b[32m━━━━━━━━━━━━━━━━━━━━\u001b[0m\u001b[37m\u001b[0m \u001b[1m0s\u001b[0m 6ms/step - accuracy: 0.7683 - loss: 0.5941 - val_accuracy: 0.5929 - val_loss: 1.0560\n",
      "Epoch 31/80\n",
      "\u001b[1m63/63\u001b[0m \u001b[32m━━━━━━━━━━━━━━━━━━━━\u001b[0m\u001b[37m\u001b[0m \u001b[1m0s\u001b[0m 6ms/step - accuracy: 0.7710 - loss: 0.5889 - val_accuracy: 0.6057 - val_loss: 1.0800\n",
      "Epoch 32/80\n",
      "\u001b[1m63/63\u001b[0m \u001b[32m━━━━━━━━━━━━━━━━━━━━\u001b[0m\u001b[37m\u001b[0m \u001b[1m0s\u001b[0m 6ms/step - accuracy: 0.7685 - loss: 0.5792 - val_accuracy: 0.5914 - val_loss: 1.0824\n",
      "Epoch 33/80\n",
      "\u001b[1m63/63\u001b[0m \u001b[32m━━━━━━━━━━━━━━━━━━━━\u001b[0m\u001b[37m\u001b[0m \u001b[1m0s\u001b[0m 6ms/step - accuracy: 0.7852 - loss: 0.5589 - val_accuracy: 0.5500 - val_loss: 1.1197\n",
      "Epoch 34/80\n",
      "\u001b[1m63/63\u001b[0m \u001b[32m━━━━━━━━━━━━━━━━━━━━\u001b[0m\u001b[37m\u001b[0m \u001b[1m0s\u001b[0m 6ms/step - accuracy: 0.7940 - loss: 0.5351 - val_accuracy: 0.6100 - val_loss: 1.1240\n",
      "Epoch 35/80\n",
      "\u001b[1m63/63\u001b[0m \u001b[32m━━━━━━━━━━━━━━━━━━━━\u001b[0m\u001b[37m\u001b[0m \u001b[1m0s\u001b[0m 6ms/step - accuracy: 0.7887 - loss: 0.5351 - val_accuracy: 0.5900 - val_loss: 1.1264\n",
      "Epoch 36/80\n",
      "\u001b[1m63/63\u001b[0m \u001b[32m━━━━━━━━━━━━━━━━━━━━\u001b[0m\u001b[37m\u001b[0m \u001b[1m0s\u001b[0m 6ms/step - accuracy: 0.7984 - loss: 0.5253 - val_accuracy: 0.5886 - val_loss: 1.1356\n",
      "Epoch 37/80\n",
      "\u001b[1m63/63\u001b[0m \u001b[32m━━━━━━━━━━━━━━━━━━━━\u001b[0m\u001b[37m\u001b[0m \u001b[1m0s\u001b[0m 6ms/step - accuracy: 0.8034 - loss: 0.5069 - val_accuracy: 0.5600 - val_loss: 1.1545\n",
      "Epoch 38/80\n",
      "\u001b[1m63/63\u001b[0m \u001b[32m━━━━━━━━━━━━━━━━━━━━\u001b[0m\u001b[37m\u001b[0m \u001b[1m0s\u001b[0m 6ms/step - accuracy: 0.8046 - loss: 0.4993 - val_accuracy: 0.5057 - val_loss: 1.2061\n",
      "Epoch 39/80\n",
      "\u001b[1m63/63\u001b[0m \u001b[32m━━━━━━━━━━━━━━━━━━━━\u001b[0m\u001b[37m\u001b[0m \u001b[1m0s\u001b[0m 6ms/step - accuracy: 0.7991 - loss: 0.5071 - val_accuracy: 0.5514 - val_loss: 1.1862\n",
      "Epoch 40/80\n",
      "\u001b[1m63/63\u001b[0m \u001b[32m━━━━━━━━━━━━━━━━━━━━\u001b[0m\u001b[37m\u001b[0m \u001b[1m0s\u001b[0m 6ms/step - accuracy: 0.8092 - loss: 0.4852 - val_accuracy: 0.5871 - val_loss: 1.2058\n",
      "Epoch 41/80\n",
      "\u001b[1m63/63\u001b[0m \u001b[32m━━━━━━━━━━━━━━━━━━━━\u001b[0m\u001b[37m\u001b[0m \u001b[1m0s\u001b[0m 6ms/step - accuracy: 0.8144 - loss: 0.4767 - val_accuracy: 0.4957 - val_loss: 1.2664\n",
      "Epoch 42/80\n",
      "\u001b[1m63/63\u001b[0m \u001b[32m━━━━━━━━━━━━━━━━━━━━\u001b[0m\u001b[37m\u001b[0m \u001b[1m1s\u001b[0m 7ms/step - accuracy: 0.8193 - loss: 0.4710 - val_accuracy: 0.5829 - val_loss: 1.2356\n",
      "Epoch 43/80\n",
      "\u001b[1m63/63\u001b[0m \u001b[32m━━━━━━━━━━━━━━━━━━━━\u001b[0m\u001b[37m\u001b[0m \u001b[1m0s\u001b[0m 6ms/step - accuracy: 0.8167 - loss: 0.4673 - val_accuracy: 0.5886 - val_loss: 1.2097\n",
      "Epoch 44/80\n",
      "\u001b[1m63/63\u001b[0m \u001b[32m━━━━━━━━━━━━━━━━━━━━\u001b[0m\u001b[37m\u001b[0m \u001b[1m0s\u001b[0m 6ms/step - accuracy: 0.8124 - loss: 0.4670 - val_accuracy: 0.5629 - val_loss: 1.2352\n",
      "Epoch 45/80\n",
      "\u001b[1m63/63\u001b[0m \u001b[32m━━━━━━━━━━━━━━━━━━━━\u001b[0m\u001b[37m\u001b[0m \u001b[1m0s\u001b[0m 6ms/step - accuracy: 0.8323 - loss: 0.4463 - val_accuracy: 0.5471 - val_loss: 1.2742\n",
      "Epoch 46/80\n",
      "\u001b[1m63/63\u001b[0m \u001b[32m━━━━━━━━━━━━━━━━━━━━\u001b[0m\u001b[37m\u001b[0m \u001b[1m0s\u001b[0m 6ms/step - accuracy: 0.8242 - loss: 0.4551 - val_accuracy: 0.5414 - val_loss: 1.2827\n",
      "Epoch 47/80\n",
      "\u001b[1m63/63\u001b[0m \u001b[32m━━━━━━━━━━━━━━━━━━━━\u001b[0m\u001b[37m\u001b[0m \u001b[1m0s\u001b[0m 6ms/step - accuracy: 0.8390 - loss: 0.4400 - val_accuracy: 0.5443 - val_loss: 1.2901\n",
      "Epoch 48/80\n",
      "\u001b[1m63/63\u001b[0m \u001b[32m━━━━━━━━━━━━━━━━━━━━\u001b[0m\u001b[37m\u001b[0m \u001b[1m0s\u001b[0m 6ms/step - accuracy: 0.8343 - loss: 0.4332 - val_accuracy: 0.5243 - val_loss: 1.3357\n",
      "Epoch 49/80\n",
      "\u001b[1m63/63\u001b[0m \u001b[32m━━━━━━━━━━━━━━━━━━━━\u001b[0m\u001b[37m\u001b[0m \u001b[1m0s\u001b[0m 6ms/step - accuracy: 0.8395 - loss: 0.4252 - val_accuracy: 0.5471 - val_loss: 1.3315\n",
      "Epoch 50/80\n",
      "\u001b[1m63/63\u001b[0m \u001b[32m━━━━━━━━━━━━━━━━━━━━\u001b[0m\u001b[37m\u001b[0m \u001b[1m0s\u001b[0m 6ms/step - accuracy: 0.8438 - loss: 0.4066 - val_accuracy: 0.5829 - val_loss: 1.3437\n",
      "Epoch 51/80\n",
      "\u001b[1m63/63\u001b[0m \u001b[32m━━━━━━━━━━━━━━━━━━━━\u001b[0m\u001b[37m\u001b[0m \u001b[1m0s\u001b[0m 6ms/step - accuracy: 0.8474 - loss: 0.4098 - val_accuracy: 0.5971 - val_loss: 1.3445\n",
      "Epoch 52/80\n",
      "\u001b[1m63/63\u001b[0m \u001b[32m━━━━━━━━━━━━━━━━━━━━\u001b[0m\u001b[37m\u001b[0m \u001b[1m0s\u001b[0m 6ms/step - accuracy: 0.8491 - loss: 0.3984 - val_accuracy: 0.5371 - val_loss: 1.3700\n",
      "Epoch 53/80\n",
      "\u001b[1m63/63\u001b[0m \u001b[32m━━━━━━━━━━━━━━━━━━━━\u001b[0m\u001b[37m\u001b[0m \u001b[1m0s\u001b[0m 6ms/step - accuracy: 0.8636 - loss: 0.3805 - val_accuracy: 0.5086 - val_loss: 1.3818\n",
      "Epoch 54/80\n",
      "\u001b[1m63/63\u001b[0m \u001b[32m━━━━━━━━━━━━━━━━━━━━\u001b[0m\u001b[37m\u001b[0m \u001b[1m0s\u001b[0m 6ms/step - accuracy: 0.8545 - loss: 0.3820 - val_accuracy: 0.5800 - val_loss: 1.4038\n",
      "Epoch 55/80\n",
      "\u001b[1m63/63\u001b[0m \u001b[32m━━━━━━━━━━━━━━━━━━━━\u001b[0m\u001b[37m\u001b[0m \u001b[1m0s\u001b[0m 6ms/step - accuracy: 0.8614 - loss: 0.3768 - val_accuracy: 0.5714 - val_loss: 1.4229\n",
      "Epoch 56/80\n",
      "\u001b[1m63/63\u001b[0m \u001b[32m━━━━━━━━━━━━━━━━━━━━\u001b[0m\u001b[37m\u001b[0m \u001b[1m0s\u001b[0m 6ms/step - accuracy: 0.8617 - loss: 0.3793 - val_accuracy: 0.5057 - val_loss: 1.4643\n",
      "Epoch 57/80\n",
      "\u001b[1m63/63\u001b[0m \u001b[32m━━━━━━━━━━━━━━━━━━━━\u001b[0m\u001b[37m\u001b[0m \u001b[1m0s\u001b[0m 6ms/step - accuracy: 0.8650 - loss: 0.3676 - val_accuracy: 0.5757 - val_loss: 1.4457\n",
      "Epoch 58/80\n",
      "\u001b[1m63/63\u001b[0m \u001b[32m━━━━━━━━━━━━━━━━━━━━\u001b[0m\u001b[37m\u001b[0m \u001b[1m0s\u001b[0m 6ms/step - accuracy: 0.8791 - loss: 0.3485 - val_accuracy: 0.4786 - val_loss: 1.5342\n",
      "Epoch 59/80\n",
      "\u001b[1m63/63\u001b[0m \u001b[32m━━━━━━━━━━━━━━━━━━━━\u001b[0m\u001b[37m\u001b[0m \u001b[1m0s\u001b[0m 6ms/step - accuracy: 0.8726 - loss: 0.3512 - val_accuracy: 0.5071 - val_loss: 1.4725\n",
      "Epoch 60/80\n",
      "\u001b[1m63/63\u001b[0m \u001b[32m━━━━━━━━━━━━━━━━━━━━\u001b[0m\u001b[37m\u001b[0m \u001b[1m0s\u001b[0m 6ms/step - accuracy: 0.8827 - loss: 0.3343 - val_accuracy: 0.5571 - val_loss: 1.4914\n",
      "Epoch 61/80\n",
      "\u001b[1m63/63\u001b[0m \u001b[32m━━━━━━━━━━━━━━━━━━━━\u001b[0m\u001b[37m\u001b[0m \u001b[1m0s\u001b[0m 6ms/step - accuracy: 0.8780 - loss: 0.3328 - val_accuracy: 0.5143 - val_loss: 1.5642\n",
      "Epoch 62/80\n",
      "\u001b[1m63/63\u001b[0m \u001b[32m━━━━━━━━━━━━━━━━━━━━\u001b[0m\u001b[37m\u001b[0m \u001b[1m0s\u001b[0m 6ms/step - accuracy: 0.8791 - loss: 0.3257 - val_accuracy: 0.5214 - val_loss: 1.5570\n",
      "Epoch 63/80\n",
      "\u001b[1m63/63\u001b[0m \u001b[32m━━━━━━━━━━━━━━━━━━━━\u001b[0m\u001b[37m\u001b[0m \u001b[1m0s\u001b[0m 6ms/step - accuracy: 0.8862 - loss: 0.3216 - val_accuracy: 0.5200 - val_loss: 1.5813\n",
      "Epoch 64/80\n",
      "\u001b[1m63/63\u001b[0m \u001b[32m━━━━━━━━━━━━━━━━━━━━\u001b[0m\u001b[37m\u001b[0m \u001b[1m0s\u001b[0m 6ms/step - accuracy: 0.8748 - loss: 0.3291 - val_accuracy: 0.5614 - val_loss: 1.5744\n",
      "Epoch 65/80\n",
      "\u001b[1m63/63\u001b[0m \u001b[32m━━━━━━━━━━━━━━━━━━━━\u001b[0m\u001b[37m\u001b[0m \u001b[1m0s\u001b[0m 6ms/step - accuracy: 0.8871 - loss: 0.3100 - val_accuracy: 0.5200 - val_loss: 1.5803\n",
      "Epoch 66/80\n",
      "\u001b[1m63/63\u001b[0m \u001b[32m━━━━━━━━━━━━━━━━━━━━\u001b[0m\u001b[37m\u001b[0m \u001b[1m0s\u001b[0m 7ms/step - accuracy: 0.8815 - loss: 0.3133 - val_accuracy: 0.5657 - val_loss: 1.6270\n",
      "Epoch 67/80\n",
      "\u001b[1m63/63\u001b[0m \u001b[32m━━━━━━━━━━━━━━━━━━━━\u001b[0m\u001b[37m\u001b[0m \u001b[1m0s\u001b[0m 6ms/step - accuracy: 0.8973 - loss: 0.2884 - val_accuracy: 0.5343 - val_loss: 1.6177\n",
      "Epoch 68/80\n",
      "\u001b[1m63/63\u001b[0m \u001b[32m━━━━━━━━━━━━━━━━━━━━\u001b[0m\u001b[37m\u001b[0m \u001b[1m0s\u001b[0m 6ms/step - accuracy: 0.8934 - loss: 0.2932 - val_accuracy: 0.4643 - val_loss: 1.7635\n",
      "Epoch 69/80\n",
      "\u001b[1m63/63\u001b[0m \u001b[32m━━━━━━━━━━━━━━━━━━━━\u001b[0m\u001b[37m\u001b[0m \u001b[1m0s\u001b[0m 6ms/step - accuracy: 0.8907 - loss: 0.2976 - val_accuracy: 0.5671 - val_loss: 1.6651\n",
      "Epoch 70/80\n",
      "\u001b[1m63/63\u001b[0m \u001b[32m━━━━━━━━━━━━━━━━━━━━\u001b[0m\u001b[37m\u001b[0m \u001b[1m0s\u001b[0m 6ms/step - accuracy: 0.9032 - loss: 0.2814 - val_accuracy: 0.5257 - val_loss: 1.6918\n",
      "Epoch 71/80\n",
      "\u001b[1m63/63\u001b[0m \u001b[32m━━━━━━━━━━━━━━━━━━━━\u001b[0m\u001b[37m\u001b[0m \u001b[1m0s\u001b[0m 6ms/step - accuracy: 0.9024 - loss: 0.2710 - val_accuracy: 0.5786 - val_loss: 1.7467\n",
      "Epoch 72/80\n",
      "\u001b[1m63/63\u001b[0m \u001b[32m━━━━━━━━━━━━━━━━━━━━\u001b[0m\u001b[37m\u001b[0m \u001b[1m0s\u001b[0m 6ms/step - accuracy: 0.9008 - loss: 0.2681 - val_accuracy: 0.5129 - val_loss: 1.7604\n",
      "Epoch 73/80\n",
      "\u001b[1m63/63\u001b[0m \u001b[32m━━━━━━━━━━━━━━━━━━━━\u001b[0m\u001b[37m\u001b[0m \u001b[1m0s\u001b[0m 6ms/step - accuracy: 0.8981 - loss: 0.2647 - val_accuracy: 0.4971 - val_loss: 1.8016\n",
      "Epoch 74/80\n",
      "\u001b[1m63/63\u001b[0m \u001b[32m━━━━━━━━━━━━━━━━━━━━\u001b[0m\u001b[37m\u001b[0m \u001b[1m0s\u001b[0m 6ms/step - accuracy: 0.9039 - loss: 0.2629 - val_accuracy: 0.5300 - val_loss: 1.7921\n",
      "Epoch 75/80\n",
      "\u001b[1m63/63\u001b[0m \u001b[32m━━━━━━━━━━━━━━━━━━━━\u001b[0m\u001b[37m\u001b[0m \u001b[1m0s\u001b[0m 6ms/step - accuracy: 0.9120 - loss: 0.2502 - val_accuracy: 0.5271 - val_loss: 1.7942\n",
      "Epoch 76/80\n",
      "\u001b[1m63/63\u001b[0m \u001b[32m━━━━━━━━━━━━━━━━━━━━\u001b[0m\u001b[37m\u001b[0m \u001b[1m0s\u001b[0m 6ms/step - accuracy: 0.9063 - loss: 0.2544 - val_accuracy: 0.5471 - val_loss: 1.8016\n",
      "Epoch 77/80\n",
      "\u001b[1m63/63\u001b[0m \u001b[32m━━━━━━━━━━━━━━━━━━━━\u001b[0m\u001b[37m\u001b[0m \u001b[1m0s\u001b[0m 6ms/step - accuracy: 0.9114 - loss: 0.2489 - val_accuracy: 0.5286 - val_loss: 1.8432\n",
      "Epoch 78/80\n",
      "\u001b[1m63/63\u001b[0m \u001b[32m━━━━━━━━━━━━━━━━━━━━\u001b[0m\u001b[37m\u001b[0m \u001b[1m0s\u001b[0m 6ms/step - accuracy: 0.9194 - loss: 0.2384 - val_accuracy: 0.5057 - val_loss: 1.8496\n",
      "Epoch 79/80\n",
      "\u001b[1m63/63\u001b[0m \u001b[32m━━━━━━━━━━━━━━━━━━━━\u001b[0m\u001b[37m\u001b[0m \u001b[1m0s\u001b[0m 6ms/step - accuracy: 0.9194 - loss: 0.2350 - val_accuracy: 0.5586 - val_loss: 1.8699\n",
      "Epoch 80/80\n",
      "\u001b[1m63/63\u001b[0m \u001b[32m━━━━━━━━━━━━━━━━━━━━\u001b[0m\u001b[37m\u001b[0m \u001b[1m0s\u001b[0m 6ms/step - accuracy: 0.9189 - loss: 0.2310 - val_accuracy: 0.5800 - val_loss: 1.9133\n",
      "\u001b[1m94/94\u001b[0m \u001b[32m━━━━━━━━━━━━━━━━━━━━\u001b[0m\u001b[37m\u001b[0m \u001b[1m1s\u001b[0m 4ms/step - accuracy: 0.5819 - loss: 1.9933\n",
      "Test loss: 2.09\n",
      "Test accuracy: 0.574\n"
     ]
    },
    {
     "data": {
      "image/png": "[encoded data removed]",
      "text/plain": [
       "<Figure size 640x480 with 1 Axes>"
      ]
     },
     "metadata": {},
     "output_type": "display_data"
    },
    {
     "data": {
      "image/png": "[encoded data removed]",
      "text/plain": [
       "<Figure size 640x480 with 1 Axes>"
      ]
     },
     "metadata": {},
     "output_type": "display_data"
    }
   ],
   "source": [
    "\n",
    "# Make a fully connected network\n",
    "model = models.Sequential()\n",
    "\n",
    "# Create the hidden layer with relu activations\n",
    "model.add(layers.Dense(units=100, activation='relu', input_shape=(X_train.shape[1],)))\n",
    "\n",
    "model.add(layers.Dense(units=200, activation='relu'))\n",
    "\n",
    "model.add(layers.Dense(units=5, activation='softmax'))\n",
    "\n",
    "# Compile the network with the appropriate loss function and keep track of accuracy\n",
    "model.compile(loss='categorical_crossentropy', metrics=['accuracy'])\n",
    "\n",
    "# Train model\n",
    "history = model.fit(X_train, y_train, batch_size=100, epochs=80, validation_split=.1)\n",
    "\n",
    "# See how the model scored\n",
    "loss, accuracy  = model.evaluate(X_test, y_test)\n",
    "\n",
    "print(f'Test loss: {loss:.3}')\n",
    "print(f'Test accuracy: {accuracy:.3}')\n",
    "\n",
    "# Plot training & validation loss\n",
    "plt.plot(history.history['loss'], label='Training Loss')\n",
    "plt.plot(history.history['val_loss'], label='Validation Loss')\n",
    "plt.title('Training vs Validation Loss')\n",
    "plt.xlabel('Epoch')\n",
    "plt.ylabel('Loss')\n",
    "plt.legend()\n",
    "plt.grid(True)\n",
    "plt.show()\n",
    "\n",
    "\n",
    "# Plot training and validation accuracy\n",
    "plt.plot(history.history['accuracy'], label='Training Accuracy')\n",
    "plt.plot(history.history['val_accuracy'], label='Validation Accuracy')\n",
    "plt.title('Training vs Validation Accuracy')\n",
    "plt.xlabel('Epoch')\n",
    "plt.ylabel('Accuracy')\n",
    "plt.legend()\n",
    "plt.grid(True)\n",
    "plt.show()"
   ]
  },
  {
   "cell_type": "markdown",
   "id": "e97b4e66",
   "metadata": {},
   "source": [
    "##### Version 2\n",
    "\n",
    "In the second version, to reduce the amount of overfitting from the model I added a dropout layer of 40% before the second dense layer. \n",
    "\n",
    "After this implmentation the model still overfit but after more iterrations than in the first model."
   ]
  },
  {
   "cell_type": "code",
   "execution_count": 12,
   "id": "ff3cd5b2",
   "metadata": {},
   "outputs": [
    {
     "name": "stdout",
     "output_type": "stream",
     "text": [
      "Epoch 1/80\n",
      "\u001b[1m63/63\u001b[0m \u001b[32m━━━━━━━━━━━━━━━━━━━━\u001b[0m\u001b[37m\u001b[0m \u001b[1m2s\u001b[0m 12ms/step - accuracy: 0.5678 - loss: 1.1223 - val_accuracy: 0.6314 - val_loss: 0.9530\n",
      "Epoch 2/80\n",
      "\u001b[1m63/63\u001b[0m \u001b[32m━━━━━━━━━━━━━━━━━━━━\u001b[0m\u001b[37m\u001b[0m \u001b[1m0s\u001b[0m 6ms/step - accuracy: 0.6190 - loss: 0.9423 - val_accuracy: 0.6329 - val_loss: 0.9299\n",
      "Epoch 3/80\n",
      "\u001b[1m63/63\u001b[0m \u001b[32m━━━━━━━━━━━━━━━━━━━━\u001b[0m\u001b[37m\u001b[0m \u001b[1m0s\u001b[0m 6ms/step - accuracy: 0.6336 - loss: 0.9257 - val_accuracy: 0.6529 - val_loss: 0.9119\n",
      "Epoch 4/80\n",
      "\u001b[1m63/63\u001b[0m \u001b[32m━━━━━━━━━━━━━━━━━━━━\u001b[0m\u001b[37m\u001b[0m \u001b[1m0s\u001b[0m 7ms/step - accuracy: 0.6450 - loss: 0.9100 - val_accuracy: 0.6229 - val_loss: 0.9268\n",
      "Epoch 5/80\n",
      "\u001b[1m63/63\u001b[0m \u001b[32m━━━━━━━━━━━━━━━━━━━━\u001b[0m\u001b[37m\u001b[0m \u001b[1m0s\u001b[0m 6ms/step - accuracy: 0.6424 - loss: 0.8845 - val_accuracy: 0.6486 - val_loss: 0.8996\n",
      "Epoch 6/80\n",
      "\u001b[1m63/63\u001b[0m \u001b[32m━━━━━━━━━━━━━━━━━━━━\u001b[0m\u001b[37m\u001b[0m \u001b[1m0s\u001b[0m 6ms/step - accuracy: 0.6435 - loss: 0.8693 - val_accuracy: 0.6514 - val_loss: 0.9001\n",
      "Epoch 7/80\n",
      "\u001b[1m63/63\u001b[0m \u001b[32m━━━━━━━━━━━━━━━━━━━━\u001b[0m\u001b[37m\u001b[0m \u001b[1m0s\u001b[0m 6ms/step - accuracy: 0.6556 - loss: 0.8518 - val_accuracy: 0.6471 - val_loss: 0.8989\n",
      "Epoch 8/80\n",
      "\u001b[1m63/63\u001b[0m \u001b[32m━━━━━━━━━━━━━━━━━━━━\u001b[0m\u001b[37m\u001b[0m \u001b[1m0s\u001b[0m 7ms/step - accuracy: 0.6332 - loss: 0.8900 - val_accuracy: 0.6443 - val_loss: 0.9054\n",
      "Epoch 9/80\n",
      "\u001b[1m63/63\u001b[0m \u001b[32m━━━━━━━━━━━━━━━━━━━━\u001b[0m\u001b[37m\u001b[0m \u001b[1m0s\u001b[0m 6ms/step - accuracy: 0.6453 - loss: 0.8723 - val_accuracy: 0.6486 - val_loss: 0.8968\n",
      "Epoch 10/80\n",
      "\u001b[1m63/63\u001b[0m \u001b[32m━━━━━━━━━━━━━━━━━━━━\u001b[0m\u001b[37m\u001b[0m \u001b[1m0s\u001b[0m 6ms/step - accuracy: 0.6553 - loss: 0.8485 - val_accuracy: 0.6457 - val_loss: 0.8958\n",
      "Epoch 11/80\n",
      "\u001b[1m63/63\u001b[0m \u001b[32m━━━━━━━━━━━━━━━━━━━━\u001b[0m\u001b[37m\u001b[0m \u001b[1m0s\u001b[0m 6ms/step - accuracy: 0.6482 - loss: 0.8581 - val_accuracy: 0.6171 - val_loss: 0.9095\n",
      "Epoch 12/80\n",
      "\u001b[1m63/63\u001b[0m \u001b[32m━━━━━━━━━━━━━━━━━━━━\u001b[0m\u001b[37m\u001b[0m \u001b[1m0s\u001b[0m 6ms/step - accuracy: 0.6553 - loss: 0.8428 - val_accuracy: 0.6457 - val_loss: 0.8970\n",
      "Epoch 13/80\n",
      "\u001b[1m63/63\u001b[0m \u001b[32m━━━━━━━━━━━━━━━━━━━━\u001b[0m\u001b[37m\u001b[0m \u001b[1m0s\u001b[0m 6ms/step - accuracy: 0.6540 - loss: 0.8474 - val_accuracy: 0.6471 - val_loss: 0.9026\n",
      "Epoch 14/80\n",
      "\u001b[1m63/63\u001b[0m \u001b[32m━━━━━━━━━━━━━━━━━━━━\u001b[0m\u001b[37m\u001b[0m \u001b[1m0s\u001b[0m 6ms/step - accuracy: 0.6634 - loss: 0.8350 - val_accuracy: 0.6471 - val_loss: 0.8954\n",
      "Epoch 15/80\n",
      "\u001b[1m63/63\u001b[0m \u001b[32m━━━━━━━━━━━━━━━━━━━━\u001b[0m\u001b[37m\u001b[0m \u001b[1m0s\u001b[0m 6ms/step - accuracy: 0.6613 - loss: 0.8375 - val_accuracy: 0.6429 - val_loss: 0.8960\n",
      "Epoch 16/80\n",
      "\u001b[1m63/63\u001b[0m \u001b[32m━━━━━━━━━━━━━━━━━━━━\u001b[0m\u001b[37m\u001b[0m \u001b[1m0s\u001b[0m 7ms/step - accuracy: 0.6625 - loss: 0.8372 - val_accuracy: 0.6429 - val_loss: 0.9020\n",
      "Epoch 17/80\n",
      "\u001b[1m63/63\u001b[0m \u001b[32m━━━━━━━━━━━━━━━━━━━━\u001b[0m\u001b[37m\u001b[0m \u001b[1m0s\u001b[0m 6ms/step - accuracy: 0.6538 - loss: 0.8420 - val_accuracy: 0.6500 - val_loss: 0.8938\n",
      "Epoch 18/80\n",
      "\u001b[1m63/63\u001b[0m \u001b[32m━━━━━━━━━━━━━━━━━━━━\u001b[0m\u001b[37m\u001b[0m \u001b[1m0s\u001b[0m 6ms/step - accuracy: 0.6654 - loss: 0.8279 - val_accuracy: 0.6471 - val_loss: 0.8962\n",
      "Epoch 19/80\n",
      "\u001b[1m63/63\u001b[0m \u001b[32m━━━━━━━━━━━━━━━━━━━━\u001b[0m\u001b[37m\u001b[0m \u001b[1m0s\u001b[0m 6ms/step - accuracy: 0.6766 - loss: 0.8084 - val_accuracy: 0.6271 - val_loss: 0.9093\n",
      "Epoch 20/80\n",
      "\u001b[1m63/63\u001b[0m \u001b[32m━━━━━━━━━━━━━━━━━━━━\u001b[0m\u001b[37m\u001b[0m \u001b[1m0s\u001b[0m 7ms/step - accuracy: 0.6669 - loss: 0.8295 - val_accuracy: 0.6414 - val_loss: 0.9129\n",
      "Epoch 21/80\n",
      "\u001b[1m63/63\u001b[0m \u001b[32m━━━━━━━━━━━━━━━━━━━━\u001b[0m\u001b[37m\u001b[0m \u001b[1m0s\u001b[0m 6ms/step - accuracy: 0.6776 - loss: 0.8150 - val_accuracy: 0.6471 - val_loss: 0.9042\n",
      "Epoch 22/80\n",
      "\u001b[1m63/63\u001b[0m \u001b[32m━━━━━━━━━━━━━━━━━━━━\u001b[0m\u001b[37m\u001b[0m \u001b[1m0s\u001b[0m 6ms/step - accuracy: 0.6710 - loss: 0.8129 - val_accuracy: 0.6571 - val_loss: 0.9024\n",
      "Epoch 23/80\n",
      "\u001b[1m63/63\u001b[0m \u001b[32m━━━━━━━━━━━━━━━━━━━━\u001b[0m\u001b[37m\u001b[0m \u001b[1m0s\u001b[0m 6ms/step - accuracy: 0.6814 - loss: 0.7823 - val_accuracy: 0.6514 - val_loss: 0.8996\n",
      "Epoch 24/80\n",
      "\u001b[1m63/63\u001b[0m \u001b[32m━━━━━━━━━━━━━━━━━━━━\u001b[0m\u001b[37m\u001b[0m \u001b[1m0s\u001b[0m 6ms/step - accuracy: 0.6787 - loss: 0.7925 - val_accuracy: 0.6271 - val_loss: 0.9064\n",
      "Epoch 25/80\n",
      "\u001b[1m63/63\u001b[0m \u001b[32m━━━━━━━━━━━━━━━━━━━━\u001b[0m\u001b[37m\u001b[0m \u001b[1m0s\u001b[0m 6ms/step - accuracy: 0.6726 - loss: 0.8025 - val_accuracy: 0.6329 - val_loss: 0.9085\n",
      "Epoch 26/80\n",
      "\u001b[1m63/63\u001b[0m \u001b[32m━━━━━━━━━━━━━━━━━━━━\u001b[0m\u001b[37m\u001b[0m \u001b[1m0s\u001b[0m 6ms/step - accuracy: 0.6744 - loss: 0.8015 - val_accuracy: 0.6386 - val_loss: 0.9017\n",
      "Epoch 27/80\n",
      "\u001b[1m63/63\u001b[0m \u001b[32m━━━━━━━━━━━━━━━━━━━━\u001b[0m\u001b[37m\u001b[0m \u001b[1m0s\u001b[0m 7ms/step - accuracy: 0.6746 - loss: 0.7950 - val_accuracy: 0.6471 - val_loss: 0.9034\n",
      "Epoch 28/80\n",
      "\u001b[1m63/63\u001b[0m \u001b[32m━━━━━━━━━━━━━━━━━━━━\u001b[0m\u001b[37m\u001b[0m \u001b[1m0s\u001b[0m 6ms/step - accuracy: 0.6793 - loss: 0.7903 - val_accuracy: 0.6500 - val_loss: 0.9005\n",
      "Epoch 29/80\n",
      "\u001b[1m63/63\u001b[0m \u001b[32m━━━━━━━━━━━━━━━━━━━━\u001b[0m\u001b[37m\u001b[0m \u001b[1m0s\u001b[0m 6ms/step - accuracy: 0.6849 - loss: 0.7897 - val_accuracy: 0.6457 - val_loss: 0.9027\n",
      "Epoch 30/80\n",
      "\u001b[1m63/63\u001b[0m \u001b[32m━━━━━━━━━━━━━━━━━━━━\u001b[0m\u001b[37m\u001b[0m \u001b[1m0s\u001b[0m 6ms/step - accuracy: 0.6872 - loss: 0.7848 - val_accuracy: 0.6386 - val_loss: 0.9065\n",
      "Epoch 31/80\n",
      "\u001b[1m63/63\u001b[0m \u001b[32m━━━━━━━━━━━━━━━━━━━━\u001b[0m\u001b[37m\u001b[0m \u001b[1m0s\u001b[0m 6ms/step - accuracy: 0.6726 - loss: 0.7818 - val_accuracy: 0.6429 - val_loss: 0.9086\n",
      "Epoch 32/80\n",
      "\u001b[1m63/63\u001b[0m \u001b[32m━━━━━━━━━━━━━━━━━━━━\u001b[0m\u001b[37m\u001b[0m \u001b[1m0s\u001b[0m 6ms/step - accuracy: 0.6804 - loss: 0.7762 - val_accuracy: 0.6300 - val_loss: 0.9186\n",
      "Epoch 33/80\n",
      "\u001b[1m63/63\u001b[0m \u001b[32m━━━━━━━━━━━━━━━━━━━━\u001b[0m\u001b[37m\u001b[0m \u001b[1m0s\u001b[0m 7ms/step - accuracy: 0.6913 - loss: 0.7595 - val_accuracy: 0.6214 - val_loss: 0.9241\n",
      "Epoch 34/80\n",
      "\u001b[1m63/63\u001b[0m \u001b[32m━━━━━━━━━━━━━━━━━━━━\u001b[0m\u001b[37m\u001b[0m \u001b[1m0s\u001b[0m 6ms/step - accuracy: 0.6829 - loss: 0.7675 - val_accuracy: 0.6357 - val_loss: 0.9124\n",
      "Epoch 35/80\n",
      "\u001b[1m63/63\u001b[0m \u001b[32m━━━━━━━━━━━━━━━━━━━━\u001b[0m\u001b[37m\u001b[0m \u001b[1m0s\u001b[0m 6ms/step - accuracy: 0.6912 - loss: 0.7473 - val_accuracy: 0.6429 - val_loss: 0.9149\n",
      "Epoch 36/80\n",
      "\u001b[1m63/63\u001b[0m \u001b[32m━━━━━━━━━━━━━━━━━━━━\u001b[0m\u001b[37m\u001b[0m \u001b[1m0s\u001b[0m 6ms/step - accuracy: 0.6982 - loss: 0.7547 - val_accuracy: 0.6457 - val_loss: 0.9211\n",
      "Epoch 37/80\n",
      "\u001b[1m63/63\u001b[0m \u001b[32m━━━━━━━━━━━━━━━━━━━━\u001b[0m\u001b[37m\u001b[0m \u001b[1m0s\u001b[0m 6ms/step - accuracy: 0.6927 - loss: 0.7449 - val_accuracy: 0.6300 - val_loss: 0.9202\n",
      "Epoch 38/80\n",
      "\u001b[1m63/63\u001b[0m \u001b[32m━━━━━━━━━━━━━━━━━━━━\u001b[0m\u001b[37m\u001b[0m \u001b[1m0s\u001b[0m 6ms/step - accuracy: 0.6912 - loss: 0.7654 - val_accuracy: 0.6357 - val_loss: 0.9298\n",
      "Epoch 39/80\n",
      "\u001b[1m63/63\u001b[0m \u001b[32m━━━━━━━━━━━━━━━━━━━━\u001b[0m\u001b[37m\u001b[0m \u001b[1m0s\u001b[0m 6ms/step - accuracy: 0.6896 - loss: 0.7656 - val_accuracy: 0.6400 - val_loss: 0.9137\n",
      "Epoch 40/80\n",
      "\u001b[1m63/63\u001b[0m \u001b[32m━━━━━━━━━━━━━━━━━━━━\u001b[0m\u001b[37m\u001b[0m \u001b[1m0s\u001b[0m 6ms/step - accuracy: 0.6948 - loss: 0.7516 - val_accuracy: 0.6314 - val_loss: 0.9218\n",
      "Epoch 41/80\n",
      "\u001b[1m63/63\u001b[0m \u001b[32m━━━━━━━━━━━━━━━━━━━━\u001b[0m\u001b[37m\u001b[0m \u001b[1m0s\u001b[0m 6ms/step - accuracy: 0.6906 - loss: 0.7428 - val_accuracy: 0.6386 - val_loss: 0.9225\n",
      "Epoch 42/80\n",
      "\u001b[1m63/63\u001b[0m \u001b[32m━━━━━━━━━━━━━━━━━━━━\u001b[0m\u001b[37m\u001b[0m \u001b[1m0s\u001b[0m 6ms/step - accuracy: 0.6976 - loss: 0.7243 - val_accuracy: 0.6357 - val_loss: 0.9233\n",
      "Epoch 43/80\n",
      "\u001b[1m63/63\u001b[0m \u001b[32m━━━━━━━━━━━━━━━━━━━━\u001b[0m\u001b[37m\u001b[0m \u001b[1m0s\u001b[0m 6ms/step - accuracy: 0.7024 - loss: 0.7404 - val_accuracy: 0.6300 - val_loss: 0.9260\n",
      "Epoch 44/80\n",
      "\u001b[1m63/63\u001b[0m \u001b[32m━━━━━━━━━━━━━━━━━━━━\u001b[0m\u001b[37m\u001b[0m \u001b[1m0s\u001b[0m 6ms/step - accuracy: 0.7020 - loss: 0.7367 - val_accuracy: 0.6171 - val_loss: 0.9219\n",
      "Epoch 45/80\n",
      "\u001b[1m63/63\u001b[0m \u001b[32m━━━━━━━━━━━━━━━━━━━━\u001b[0m\u001b[37m\u001b[0m \u001b[1m0s\u001b[0m 6ms/step - accuracy: 0.6860 - loss: 0.7491 - val_accuracy: 0.6400 - val_loss: 0.9351\n",
      "Epoch 46/80\n",
      "\u001b[1m63/63\u001b[0m \u001b[32m━━━━━━━━━━━━━━━━━━━━\u001b[0m\u001b[37m\u001b[0m \u001b[1m0s\u001b[0m 6ms/step - accuracy: 0.7109 - loss: 0.7170 - val_accuracy: 0.6386 - val_loss: 0.9250\n",
      "Epoch 47/80\n",
      "\u001b[1m63/63\u001b[0m \u001b[32m━━━━━━━━━━━━━━━━━━━━\u001b[0m\u001b[37m\u001b[0m \u001b[1m0s\u001b[0m 6ms/step - accuracy: 0.6996 - loss: 0.7317 - val_accuracy: 0.6243 - val_loss: 0.9340\n",
      "Epoch 48/80\n",
      "\u001b[1m63/63\u001b[0m \u001b[32m━━━━━━━━━━━━━━━━━━━━\u001b[0m\u001b[37m\u001b[0m \u001b[1m0s\u001b[0m 6ms/step - accuracy: 0.7017 - loss: 0.7338 - val_accuracy: 0.6200 - val_loss: 0.9435\n",
      "Epoch 49/80\n",
      "\u001b[1m63/63\u001b[0m \u001b[32m━━━━━━━━━━━━━━━━━━━━\u001b[0m\u001b[37m\u001b[0m \u001b[1m0s\u001b[0m 6ms/step - accuracy: 0.6908 - loss: 0.7491 - val_accuracy: 0.6243 - val_loss: 0.9437\n",
      "Epoch 50/80\n",
      "\u001b[1m63/63\u001b[0m \u001b[32m━━━━━━━━━━━━━━━━━━━━\u001b[0m\u001b[37m\u001b[0m \u001b[1m0s\u001b[0m 6ms/step - accuracy: 0.7085 - loss: 0.7255 - val_accuracy: 0.6429 - val_loss: 0.9540\n",
      "Epoch 51/80\n",
      "\u001b[1m63/63\u001b[0m \u001b[32m━━━━━━━━━━━━━━━━━━━━\u001b[0m\u001b[37m\u001b[0m \u001b[1m0s\u001b[0m 6ms/step - accuracy: 0.7078 - loss: 0.7209 - val_accuracy: 0.6414 - val_loss: 0.9381\n",
      "Epoch 52/80\n",
      "\u001b[1m63/63\u001b[0m \u001b[32m━━━━━━━━━━━━━━━━━━━━\u001b[0m\u001b[37m\u001b[0m \u001b[1m0s\u001b[0m 6ms/step - accuracy: 0.7089 - loss: 0.7198 - val_accuracy: 0.6300 - val_loss: 0.9418\n",
      "Epoch 53/80\n",
      "\u001b[1m63/63\u001b[0m \u001b[32m━━━━━━━━━━━━━━━━━━━━\u001b[0m\u001b[37m\u001b[0m \u001b[1m0s\u001b[0m 6ms/step - accuracy: 0.7099 - loss: 0.7121 - val_accuracy: 0.6314 - val_loss: 0.9402\n",
      "Epoch 54/80\n",
      "\u001b[1m63/63\u001b[0m \u001b[32m━━━━━━━━━━━━━━━━━━━━\u001b[0m\u001b[37m\u001b[0m \u001b[1m0s\u001b[0m 6ms/step - accuracy: 0.7057 - loss: 0.7267 - val_accuracy: 0.6371 - val_loss: 0.9607\n",
      "Epoch 55/80\n",
      "\u001b[1m63/63\u001b[0m \u001b[32m━━━━━━━━━━━━━━━━━━━━\u001b[0m\u001b[37m\u001b[0m \u001b[1m0s\u001b[0m 6ms/step - accuracy: 0.7191 - loss: 0.6869 - val_accuracy: 0.6429 - val_loss: 0.9550\n",
      "Epoch 56/80\n",
      "\u001b[1m63/63\u001b[0m \u001b[32m━━━━━━━━━━━━━━━━━━━━\u001b[0m\u001b[37m\u001b[0m \u001b[1m0s\u001b[0m 7ms/step - accuracy: 0.7100 - loss: 0.6929 - val_accuracy: 0.6229 - val_loss: 0.9436\n",
      "Epoch 57/80\n",
      "\u001b[1m63/63\u001b[0m \u001b[32m━━━━━━━━━━━━━━━━━━━━\u001b[0m\u001b[37m\u001b[0m \u001b[1m0s\u001b[0m 6ms/step - accuracy: 0.7126 - loss: 0.7100 - val_accuracy: 0.6229 - val_loss: 0.9435\n",
      "Epoch 58/80\n",
      "\u001b[1m63/63\u001b[0m \u001b[32m━━━━━━━━━━━━━━━━━━━━\u001b[0m\u001b[37m\u001b[0m \u001b[1m0s\u001b[0m 6ms/step - accuracy: 0.7170 - loss: 0.6822 - val_accuracy: 0.6257 - val_loss: 0.9551\n",
      "Epoch 59/80\n",
      "\u001b[1m63/63\u001b[0m \u001b[32m━━━━━━━━━━━━━━━━━━━━\u001b[0m\u001b[37m\u001b[0m \u001b[1m0s\u001b[0m 6ms/step - accuracy: 0.7065 - loss: 0.7050 - val_accuracy: 0.6314 - val_loss: 0.9603\n",
      "Epoch 60/80\n",
      "\u001b[1m63/63\u001b[0m \u001b[32m━━━━━━━━━━━━━━━━━━━━\u001b[0m\u001b[37m\u001b[0m \u001b[1m0s\u001b[0m 6ms/step - accuracy: 0.7181 - loss: 0.6948 - val_accuracy: 0.6200 - val_loss: 0.9641\n",
      "Epoch 61/80\n",
      "\u001b[1m63/63\u001b[0m \u001b[32m━━━━━━━━━━━━━━━━━━━━\u001b[0m\u001b[37m\u001b[0m \u001b[1m0s\u001b[0m 6ms/step - accuracy: 0.7185 - loss: 0.7019 - val_accuracy: 0.6386 - val_loss: 0.9796\n",
      "Epoch 62/80\n",
      "\u001b[1m63/63\u001b[0m \u001b[32m━━━━━━━━━━━━━━━━━━━━\u001b[0m\u001b[37m\u001b[0m \u001b[1m0s\u001b[0m 6ms/step - accuracy: 0.7245 - loss: 0.6802 - val_accuracy: 0.6314 - val_loss: 0.9539\n",
      "Epoch 63/80\n",
      "\u001b[1m63/63\u001b[0m \u001b[32m━━━━━━━━━━━━━━━━━━━━\u001b[0m\u001b[37m\u001b[0m \u001b[1m0s\u001b[0m 7ms/step - accuracy: 0.7251 - loss: 0.6660 - val_accuracy: 0.6343 - val_loss: 0.9648\n",
      "Epoch 64/80\n",
      "\u001b[1m63/63\u001b[0m \u001b[32m━━━━━━━━━━━━━━━━━━━━\u001b[0m\u001b[37m\u001b[0m \u001b[1m0s\u001b[0m 6ms/step - accuracy: 0.7171 - loss: 0.6912 - val_accuracy: 0.6257 - val_loss: 0.9660\n",
      "Epoch 65/80\n",
      "\u001b[1m63/63\u001b[0m \u001b[32m━━━━━━━━━━━━━━━━━━━━\u001b[0m\u001b[37m\u001b[0m \u001b[1m0s\u001b[0m 6ms/step - accuracy: 0.7356 - loss: 0.6776 - val_accuracy: 0.6386 - val_loss: 0.9713\n",
      "Epoch 66/80\n",
      "\u001b[1m63/63\u001b[0m \u001b[32m━━━━━━━━━━━━━━━━━━━━\u001b[0m\u001b[37m\u001b[0m \u001b[1m0s\u001b[0m 6ms/step - accuracy: 0.7294 - loss: 0.6883 - val_accuracy: 0.6371 - val_loss: 0.9738\n",
      "Epoch 67/80\n",
      "\u001b[1m63/63\u001b[0m \u001b[32m━━━━━━━━━━━━━━━━━━━━\u001b[0m\u001b[37m\u001b[0m \u001b[1m0s\u001b[0m 6ms/step - accuracy: 0.7298 - loss: 0.6624 - val_accuracy: 0.6186 - val_loss: 0.9692\n",
      "Epoch 68/80\n",
      "\u001b[1m63/63\u001b[0m \u001b[32m━━━━━━━━━━━━━━━━━━━━\u001b[0m\u001b[37m\u001b[0m \u001b[1m0s\u001b[0m 6ms/step - accuracy: 0.7356 - loss: 0.6644 - val_accuracy: 0.6171 - val_loss: 0.9670\n",
      "Epoch 69/80\n",
      "\u001b[1m63/63\u001b[0m \u001b[32m━━━━━━━━━━━━━━━━━━━━\u001b[0m\u001b[37m\u001b[0m \u001b[1m0s\u001b[0m 6ms/step - accuracy: 0.7277 - loss: 0.6766 - val_accuracy: 0.6286 - val_loss: 0.9797\n",
      "Epoch 70/80\n",
      "\u001b[1m63/63\u001b[0m \u001b[32m━━━━━━━━━━━━━━━━━━━━\u001b[0m\u001b[37m\u001b[0m \u001b[1m0s\u001b[0m 6ms/step - accuracy: 0.7303 - loss: 0.6589 - val_accuracy: 0.6343 - val_loss: 0.9718\n",
      "Epoch 71/80\n",
      "\u001b[1m63/63\u001b[0m \u001b[32m━━━━━━━━━━━━━━━━━━━━\u001b[0m\u001b[37m\u001b[0m \u001b[1m0s\u001b[0m 6ms/step - accuracy: 0.7359 - loss: 0.6510 - val_accuracy: 0.6300 - val_loss: 0.9759\n",
      "Epoch 72/80\n",
      "\u001b[1m63/63\u001b[0m \u001b[32m━━━━━━━━━━━━━━━━━━━━\u001b[0m\u001b[37m\u001b[0m \u001b[1m0s\u001b[0m 6ms/step - accuracy: 0.7336 - loss: 0.6684 - val_accuracy: 0.6343 - val_loss: 0.9802\n",
      "Epoch 73/80\n",
      "\u001b[1m63/63\u001b[0m \u001b[32m━━━━━━━━━━━━━━━━━━━━\u001b[0m\u001b[37m\u001b[0m \u001b[1m0s\u001b[0m 6ms/step - accuracy: 0.7217 - loss: 0.6701 - val_accuracy: 0.6386 - val_loss: 1.0053\n",
      "Epoch 74/80\n",
      "\u001b[1m63/63\u001b[0m \u001b[32m━━━━━━━━━━━━━━━━━━━━\u001b[0m\u001b[37m\u001b[0m \u001b[1m0s\u001b[0m 6ms/step - accuracy: 0.7421 - loss: 0.6362 - val_accuracy: 0.6314 - val_loss: 0.9837\n",
      "Epoch 75/80\n",
      "\u001b[1m63/63\u001b[0m \u001b[32m━━━━━━━━━━━━━━━━━━━━\u001b[0m\u001b[37m\u001b[0m \u001b[1m0s\u001b[0m 6ms/step - accuracy: 0.7320 - loss: 0.6517 - val_accuracy: 0.6243 - val_loss: 0.9878\n",
      "Epoch 76/80\n",
      "\u001b[1m63/63\u001b[0m \u001b[32m━━━━━━━━━━━━━━━━━━━━\u001b[0m\u001b[37m\u001b[0m \u001b[1m0s\u001b[0m 6ms/step - accuracy: 0.7377 - loss: 0.6616 - val_accuracy: 0.6243 - val_loss: 0.9951\n",
      "Epoch 77/80\n",
      "\u001b[1m63/63\u001b[0m \u001b[32m━━━━━━━━━━━━━━━━━━━━\u001b[0m\u001b[37m\u001b[0m \u001b[1m0s\u001b[0m 6ms/step - accuracy: 0.7320 - loss: 0.6694 - val_accuracy: 0.6371 - val_loss: 1.0007\n",
      "Epoch 78/80\n",
      "\u001b[1m63/63\u001b[0m \u001b[32m━━━━━━━━━━━━━━━━━━━━\u001b[0m\u001b[37m\u001b[0m \u001b[1m0s\u001b[0m 6ms/step - accuracy: 0.7248 - loss: 0.6696 - val_accuracy: 0.6443 - val_loss: 0.9945\n",
      "Epoch 79/80\n",
      "\u001b[1m63/63\u001b[0m \u001b[32m━━━━━━━━━━━━━━━━━━━━\u001b[0m\u001b[37m\u001b[0m \u001b[1m0s\u001b[0m 6ms/step - accuracy: 0.7356 - loss: 0.6415 - val_accuracy: 0.6300 - val_loss: 0.9875\n",
      "Epoch 80/80\n",
      "\u001b[1m63/63\u001b[0m \u001b[32m━━━━━━━━━━━━━━━━━━━━\u001b[0m\u001b[37m\u001b[0m \u001b[1m0s\u001b[0m 6ms/step - accuracy: 0.7490 - loss: 0.6319 - val_accuracy: 0.6243 - val_loss: 1.0034\n",
      "\u001b[1m94/94\u001b[0m \u001b[32m━━━━━━━━━━━━━━━━━━━━\u001b[0m\u001b[37m\u001b[0m \u001b[1m1s\u001b[0m 4ms/step - accuracy: 0.6087 - loss: 1.2376\n",
      "Test loss: 1.18\n",
      "Test accuracy: 0.602\n"
     ]
    },
    {
     "data": {
      "image/png": "[encoded data removed]",
      "text/plain": [
       "<Figure size 640x480 with 1 Axes>"
      ]
     },
     "metadata": {},
     "output_type": "display_data"
    },
    {
     "data": {
      "image/png": "[encoded data removed]",
      "text/plain": [
       "<Figure size 640x480 with 1 Axes>"
      ]
     },
     "metadata": {},
     "output_type": "display_data"
    }
   ],
   "source": [
    "\n",
    "# Make a fully connected network\n",
    "model = models.Sequential()\n",
    "\n",
    "# Create the hidden layer with relu activations\n",
    "model.add(layers.Dense(units=100, activation='relu', input_shape=(X_train.shape[1],)))\n",
    "\n",
    "# To further avoid overfitting add a dropout layer before the dense layers\n",
    "model.add(layers.Dropout(rate=0.4))\n",
    "\n",
    "model.add(layers.Dense(units=200, activation='relu'))\n",
    "\n",
    "model.add(layers.Dense(units=5, activation='softmax'))\n",
    "\n",
    "# Compile the network with the appropriate loss function and keep track of accuracy\n",
    "model.compile(loss='categorical_crossentropy', metrics=['accuracy'])\n",
    "\n",
    "# Train model\n",
    "history = model.fit(X_train, y_train, batch_size=100, epochs=80, validation_split=.1)\n",
    "\n",
    "# See how the model scored\n",
    "loss, accuracy  = model.evaluate(X_test, y_test)\n",
    "\n",
    "print(f'Test loss: {loss:.3}')\n",
    "print(f'Test accuracy: {accuracy:.3}')\n",
    "\n",
    "# Plot training & validation loss\n",
    "plt.plot(history.history['loss'], label='Training Loss')\n",
    "plt.plot(history.history['val_loss'], label='Validation Loss')\n",
    "plt.title('Training vs Validation Loss')\n",
    "plt.xlabel('Epoch')\n",
    "plt.ylabel('Loss')\n",
    "plt.legend()\n",
    "plt.grid(True)\n",
    "plt.show()\n",
    "\n",
    "\n",
    "# Plot training and validation accuracy\n",
    "plt.plot(history.history['accuracy'], label='Training Accuracy')\n",
    "plt.plot(history.history['val_accuracy'], label='Validation Accuracy')\n",
    "plt.title('Training vs Validation Accuracy')\n",
    "plt.xlabel('Epoch')\n",
    "plt.ylabel('Accuracy')\n",
    "plt.legend()\n",
    "plt.grid(True)\n",
    "plt.show()"
   ]
  },
  {
   "cell_type": "markdown",
   "id": "e2986737",
   "metadata": {},
   "source": [
    "##### Version 3\n",
    "\n",
    "To further reduce overfitting, I added L1 regulariszation to the weights in the dense layer.\n",
    "\n",
    "This greatly reduced overfitting in the model."
   ]
  },
  {
   "cell_type": "code",
   "execution_count": 13,
   "id": "9a4b51a0",
   "metadata": {},
   "outputs": [
    {
     "name": "stdout",
     "output_type": "stream",
     "text": [
      "Epoch 1/80\n",
      "\u001b[1m63/63\u001b[0m \u001b[32m━━━━━━━━━━━━━━━━━━━━\u001b[0m\u001b[37m\u001b[0m \u001b[1m2s\u001b[0m 13ms/step - accuracy: 0.5322 - loss: 3.1122 - val_accuracy: 0.6171 - val_loss: 2.1949\n",
      "Epoch 2/80\n",
      "\u001b[1m63/63\u001b[0m \u001b[32m━━━━━━━━━━━━━━━━━━━━\u001b[0m\u001b[37m\u001b[0m \u001b[1m0s\u001b[0m 6ms/step - accuracy: 0.6145 - loss: 2.0037 - val_accuracy: 0.6200 - val_loss: 1.5891\n",
      "Epoch 3/80\n",
      "\u001b[1m63/63\u001b[0m \u001b[32m━━━━━━━━━━━━━━━━━━━━\u001b[0m\u001b[37m\u001b[0m \u001b[1m0s\u001b[0m 6ms/step - accuracy: 0.6244 - loss: 1.4803 - val_accuracy: 0.6171 - val_loss: 1.3342\n",
      "Epoch 4/80\n",
      "\u001b[1m63/63\u001b[0m \u001b[32m━━━━━━━━━━━━━━━━━━━━\u001b[0m\u001b[37m\u001b[0m \u001b[1m0s\u001b[0m 6ms/step - accuracy: 0.6263 - loss: 1.2715 - val_accuracy: 0.6386 - val_loss: 1.1961\n",
      "Epoch 5/80\n",
      "\u001b[1m63/63\u001b[0m \u001b[32m━━━━━━━━━━━━━━━━━━━━\u001b[0m\u001b[37m\u001b[0m \u001b[1m0s\u001b[0m 6ms/step - accuracy: 0.6238 - loss: 1.1743 - val_accuracy: 0.6429 - val_loss: 1.1429\n",
      "Epoch 6/80\n",
      "\u001b[1m63/63\u001b[0m \u001b[32m━━━━━━━━━━━━━━━━━━━━\u001b[0m\u001b[37m\u001b[0m \u001b[1m0s\u001b[0m 6ms/step - accuracy: 0.6247 - loss: 1.1127 - val_accuracy: 0.6386 - val_loss: 1.0930\n",
      "Epoch 7/80\n",
      "\u001b[1m63/63\u001b[0m \u001b[32m━━━━━━━━━━━━━━━━━━━━\u001b[0m\u001b[37m\u001b[0m \u001b[1m0s\u001b[0m 6ms/step - accuracy: 0.6256 - loss: 1.0945 - val_accuracy: 0.6429 - val_loss: 1.0682\n",
      "Epoch 8/80\n",
      "\u001b[1m63/63\u001b[0m \u001b[32m━━━━━━━━━━━━━━━━━━━━\u001b[0m\u001b[37m\u001b[0m \u001b[1m0s\u001b[0m 6ms/step - accuracy: 0.6301 - loss: 1.0534 - val_accuracy: 0.6429 - val_loss: 1.0502\n",
      "Epoch 9/80\n",
      "\u001b[1m63/63\u001b[0m \u001b[32m━━━━━━━━━━━━━━━━━━━━\u001b[0m\u001b[37m\u001b[0m \u001b[1m0s\u001b[0m 6ms/step - accuracy: 0.6354 - loss: 1.0353 - val_accuracy: 0.6500 - val_loss: 1.0376\n",
      "Epoch 10/80\n",
      "\u001b[1m63/63\u001b[0m \u001b[32m━━━━━━━━━━━━━━━━━━━━\u001b[0m\u001b[37m\u001b[0m \u001b[1m0s\u001b[0m 6ms/step - accuracy: 0.6203 - loss: 1.0348 - val_accuracy: 0.6429 - val_loss: 1.0314\n",
      "Epoch 11/80\n",
      "\u001b[1m63/63\u001b[0m \u001b[32m━━━━━━━━━━━━━━━━━━━━\u001b[0m\u001b[37m\u001b[0m \u001b[1m0s\u001b[0m 6ms/step - accuracy: 0.6351 - loss: 1.0065 - val_accuracy: 0.6443 - val_loss: 1.0244\n",
      "Epoch 12/80\n",
      "\u001b[1m63/63\u001b[0m \u001b[32m━━━━━━━━━━━━━━━━━━━━\u001b[0m\u001b[37m\u001b[0m \u001b[1m0s\u001b[0m 6ms/step - accuracy: 0.6236 - loss: 1.0194 - val_accuracy: 0.6471 - val_loss: 1.0135\n",
      "Epoch 13/80\n",
      "\u001b[1m63/63\u001b[0m \u001b[32m━━━━━━━━━━━━━━━━━━━━\u001b[0m\u001b[37m\u001b[0m \u001b[1m0s\u001b[0m 6ms/step - accuracy: 0.6298 - loss: 1.0112 - val_accuracy: 0.6443 - val_loss: 1.0072\n",
      "Epoch 14/80\n",
      "\u001b[1m63/63\u001b[0m \u001b[32m━━━━━━━━━━━━━━━━━━━━\u001b[0m\u001b[37m\u001b[0m \u001b[1m0s\u001b[0m 6ms/step - accuracy: 0.6263 - loss: 1.0061 - val_accuracy: 0.6457 - val_loss: 1.0065\n",
      "Epoch 15/80\n",
      "\u001b[1m63/63\u001b[0m \u001b[32m━━━━━━━━━━━━━━━━━━━━\u001b[0m\u001b[37m\u001b[0m \u001b[1m0s\u001b[0m 7ms/step - accuracy: 0.6370 - loss: 0.9769 - val_accuracy: 0.6500 - val_loss: 0.9993\n",
      "Epoch 16/80\n",
      "\u001b[1m63/63\u001b[0m \u001b[32m━━━━━━━━━━━━━━━━━━━━\u001b[0m\u001b[37m\u001b[0m \u001b[1m0s\u001b[0m 6ms/step - accuracy: 0.6220 - loss: 0.9996 - val_accuracy: 0.6457 - val_loss: 0.9962\n",
      "Epoch 17/80\n",
      "\u001b[1m63/63\u001b[0m \u001b[32m━━━━━━━━━━━━━━━━━━━━\u001b[0m\u001b[37m\u001b[0m \u001b[1m0s\u001b[0m 6ms/step - accuracy: 0.6372 - loss: 0.9762 - val_accuracy: 0.6529 - val_loss: 0.9936\n",
      "Epoch 18/80\n",
      "\u001b[1m63/63\u001b[0m \u001b[32m━━━━━━━━━━━━━━━━━━━━\u001b[0m\u001b[37m\u001b[0m \u001b[1m0s\u001b[0m 6ms/step - accuracy: 0.6142 - loss: 0.9978 - val_accuracy: 0.6500 - val_loss: 0.9925\n",
      "Epoch 19/80\n",
      "\u001b[1m63/63\u001b[0m \u001b[32m━━━━━━━━━━━━━━━━━━━━\u001b[0m\u001b[37m\u001b[0m \u001b[1m0s\u001b[0m 6ms/step - accuracy: 0.6289 - loss: 0.9762 - val_accuracy: 0.6443 - val_loss: 0.9974\n",
      "Epoch 20/80\n",
      "\u001b[1m63/63\u001b[0m \u001b[32m━━━━━━━━━━━━━━━━━━━━\u001b[0m\u001b[37m\u001b[0m \u001b[1m0s\u001b[0m 6ms/step - accuracy: 0.6508 - loss: 0.9572 - val_accuracy: 0.6486 - val_loss: 0.9842\n",
      "Epoch 21/80\n",
      "\u001b[1m63/63\u001b[0m \u001b[32m━━━━━━━━━━━━━━━━━━━━\u001b[0m\u001b[37m\u001b[0m \u001b[1m0s\u001b[0m 6ms/step - accuracy: 0.6469 - loss: 0.9549 - val_accuracy: 0.6614 - val_loss: 0.9885\n",
      "Epoch 22/80\n",
      "\u001b[1m63/63\u001b[0m \u001b[32m━━━━━━━━━━━━━━━━━━━━\u001b[0m\u001b[37m\u001b[0m \u001b[1m0s\u001b[0m 6ms/step - accuracy: 0.6298 - loss: 0.9857 - val_accuracy: 0.6543 - val_loss: 0.9801\n",
      "Epoch 23/80\n",
      "\u001b[1m63/63\u001b[0m \u001b[32m━━━━━━━━━━━━━━━━━━━━\u001b[0m\u001b[37m\u001b[0m \u001b[1m0s\u001b[0m 6ms/step - accuracy: 0.6426 - loss: 0.9648 - val_accuracy: 0.6529 - val_loss: 0.9823\n",
      "Epoch 24/80\n",
      "\u001b[1m63/63\u001b[0m \u001b[32m━━━━━━━━━━━━━━━━━━━━\u001b[0m\u001b[37m\u001b[0m \u001b[1m0s\u001b[0m 6ms/step - accuracy: 0.6411 - loss: 0.9578 - val_accuracy: 0.6557 - val_loss: 0.9857\n",
      "Epoch 25/80\n",
      "\u001b[1m63/63\u001b[0m \u001b[32m━━━━━━━━━━━━━━━━━━━━\u001b[0m\u001b[37m\u001b[0m \u001b[1m0s\u001b[0m 6ms/step - accuracy: 0.6299 - loss: 0.9720 - val_accuracy: 0.6586 - val_loss: 0.9779\n",
      "Epoch 26/80\n",
      "\u001b[1m63/63\u001b[0m \u001b[32m━━━━━━━━━━━━━━━━━━━━\u001b[0m\u001b[37m\u001b[0m \u001b[1m0s\u001b[0m 6ms/step - accuracy: 0.6332 - loss: 0.9693 - val_accuracy: 0.6386 - val_loss: 0.9823\n",
      "Epoch 27/80\n",
      "\u001b[1m63/63\u001b[0m \u001b[32m━━━━━━━━━━━━━━━━━━━━\u001b[0m\u001b[37m\u001b[0m \u001b[1m0s\u001b[0m 6ms/step - accuracy: 0.6278 - loss: 0.9623 - val_accuracy: 0.6471 - val_loss: 0.9780\n",
      "Epoch 28/80\n",
      "\u001b[1m63/63\u001b[0m \u001b[32m━━━━━━━━━━━━━━━━━━━━\u001b[0m\u001b[37m\u001b[0m \u001b[1m0s\u001b[0m 6ms/step - accuracy: 0.6300 - loss: 0.9608 - val_accuracy: 0.6586 - val_loss: 0.9725\n",
      "Epoch 29/80\n",
      "\u001b[1m63/63\u001b[0m \u001b[32m━━━━━━━━━━━━━━━━━━━━\u001b[0m\u001b[37m\u001b[0m \u001b[1m0s\u001b[0m 6ms/step - accuracy: 0.6409 - loss: 0.9566 - val_accuracy: 0.6486 - val_loss: 0.9778\n",
      "Epoch 30/80\n",
      "\u001b[1m63/63\u001b[0m \u001b[32m━━━━━━━━━━━━━━━━━━━━\u001b[0m\u001b[37m\u001b[0m \u001b[1m0s\u001b[0m 6ms/step - accuracy: 0.6283 - loss: 0.9626 - val_accuracy: 0.6514 - val_loss: 0.9764\n",
      "Epoch 31/80\n",
      "\u001b[1m63/63\u001b[0m \u001b[32m━━━━━━━━━━━━━━━━━━━━\u001b[0m\u001b[37m\u001b[0m \u001b[1m0s\u001b[0m 6ms/step - accuracy: 0.6437 - loss: 0.9472 - val_accuracy: 0.6543 - val_loss: 0.9747\n",
      "Epoch 32/80\n",
      "\u001b[1m63/63\u001b[0m \u001b[32m━━━━━━━━━━━━━━━━━━━━\u001b[0m\u001b[37m\u001b[0m \u001b[1m0s\u001b[0m 6ms/step - accuracy: 0.6438 - loss: 0.9525 - val_accuracy: 0.6529 - val_loss: 0.9694\n",
      "Epoch 33/80\n",
      "\u001b[1m63/63\u001b[0m \u001b[32m━━━━━━━━━━━━━━━━━━━━\u001b[0m\u001b[37m\u001b[0m \u001b[1m0s\u001b[0m 7ms/step - accuracy: 0.6439 - loss: 0.9518 - val_accuracy: 0.6571 - val_loss: 0.9754\n",
      "Epoch 34/80\n",
      "\u001b[1m63/63\u001b[0m \u001b[32m━━━━━━━━━━━━━━━━━━━━\u001b[0m\u001b[37m\u001b[0m \u001b[1m0s\u001b[0m 6ms/step - accuracy: 0.6340 - loss: 0.9642 - val_accuracy: 0.6614 - val_loss: 0.9723\n",
      "Epoch 35/80\n",
      "\u001b[1m63/63\u001b[0m \u001b[32m━━━━━━━━━━━━━━━━━━━━\u001b[0m\u001b[37m\u001b[0m \u001b[1m0s\u001b[0m 6ms/step - accuracy: 0.6311 - loss: 0.9525 - val_accuracy: 0.6500 - val_loss: 0.9712\n",
      "Epoch 36/80\n",
      "\u001b[1m63/63\u001b[0m \u001b[32m━━━━━━━━━━━━━━━━━━━━\u001b[0m\u001b[37m\u001b[0m \u001b[1m0s\u001b[0m 6ms/step - accuracy: 0.6239 - loss: 0.9765 - val_accuracy: 0.6543 - val_loss: 0.9672\n",
      "Epoch 37/80\n",
      "\u001b[1m63/63\u001b[0m \u001b[32m━━━━━━━━━━━━━━━━━━━━\u001b[0m\u001b[37m\u001b[0m \u001b[1m0s\u001b[0m 6ms/step - accuracy: 0.6449 - loss: 0.9328 - val_accuracy: 0.6471 - val_loss: 0.9734\n",
      "Epoch 38/80\n",
      "\u001b[1m63/63\u001b[0m \u001b[32m━━━━━━━━━━━━━━━━━━━━\u001b[0m\u001b[37m\u001b[0m \u001b[1m0s\u001b[0m 6ms/step - accuracy: 0.6321 - loss: 0.9668 - val_accuracy: 0.6571 - val_loss: 0.9734\n",
      "Epoch 39/80\n",
      "\u001b[1m63/63\u001b[0m \u001b[32m━━━━━━━━━━━━━━━━━━━━\u001b[0m\u001b[37m\u001b[0m \u001b[1m0s\u001b[0m 6ms/step - accuracy: 0.6413 - loss: 0.9502 - val_accuracy: 0.6514 - val_loss: 0.9724\n",
      "Epoch 40/80\n",
      "\u001b[1m63/63\u001b[0m \u001b[32m━━━━━━━━━━━━━━━━━━━━\u001b[0m\u001b[37m\u001b[0m \u001b[1m0s\u001b[0m 6ms/step - accuracy: 0.6196 - loss: 0.9724 - val_accuracy: 0.6514 - val_loss: 0.9715\n",
      "Epoch 41/80\n",
      "\u001b[1m63/63\u001b[0m \u001b[32m━━━━━━━━━━━━━━━━━━━━\u001b[0m\u001b[37m\u001b[0m \u001b[1m0s\u001b[0m 6ms/step - accuracy: 0.6399 - loss: 0.9412 - val_accuracy: 0.6543 - val_loss: 0.9690\n",
      "Epoch 42/80\n",
      "\u001b[1m63/63\u001b[0m \u001b[32m━━━━━━━━━━━━━━━━━━━━\u001b[0m\u001b[37m\u001b[0m \u001b[1m0s\u001b[0m 6ms/step - accuracy: 0.6371 - loss: 0.9626 - val_accuracy: 0.6514 - val_loss: 0.9704\n",
      "Epoch 43/80\n",
      "\u001b[1m63/63\u001b[0m \u001b[32m━━━━━━━━━━━━━━━━━━━━\u001b[0m\u001b[37m\u001b[0m \u001b[1m0s\u001b[0m 6ms/step - accuracy: 0.6395 - loss: 0.9643 - val_accuracy: 0.6557 - val_loss: 0.9698\n",
      "Epoch 44/80\n",
      "\u001b[1m63/63\u001b[0m \u001b[32m━━━━━━━━━━━━━━━━━━━━\u001b[0m\u001b[37m\u001b[0m \u001b[1m0s\u001b[0m 6ms/step - accuracy: 0.6330 - loss: 0.9531 - val_accuracy: 0.6671 - val_loss: 0.9651\n",
      "Epoch 45/80\n",
      "\u001b[1m63/63\u001b[0m \u001b[32m━━━━━━━━━━━━━━━━━━━━\u001b[0m\u001b[37m\u001b[0m \u001b[1m0s\u001b[0m 6ms/step - accuracy: 0.6377 - loss: 0.9466 - val_accuracy: 0.6514 - val_loss: 0.9708\n",
      "Epoch 46/80\n",
      "\u001b[1m63/63\u001b[0m \u001b[32m━━━━━━━━━━━━━━━━━━━━\u001b[0m\u001b[37m\u001b[0m \u001b[1m0s\u001b[0m 6ms/step - accuracy: 0.6372 - loss: 0.9513 - val_accuracy: 0.6443 - val_loss: 0.9671\n",
      "Epoch 47/80\n",
      "\u001b[1m63/63\u001b[0m \u001b[32m━━━━━━━━━━━━━━━━━━━━\u001b[0m\u001b[37m\u001b[0m \u001b[1m0s\u001b[0m 6ms/step - accuracy: 0.6541 - loss: 0.9398 - val_accuracy: 0.6486 - val_loss: 0.9661\n",
      "Epoch 48/80\n",
      "\u001b[1m63/63\u001b[0m \u001b[32m━━━━━━━━━━━━━━━━━━━━\u001b[0m\u001b[37m\u001b[0m \u001b[1m0s\u001b[0m 6ms/step - accuracy: 0.6310 - loss: 0.9565 - val_accuracy: 0.6500 - val_loss: 0.9658\n",
      "Epoch 49/80\n",
      "\u001b[1m63/63\u001b[0m \u001b[32m━━━━━━━━━━━━━━━━━━━━\u001b[0m\u001b[37m\u001b[0m \u001b[1m0s\u001b[0m 6ms/step - accuracy: 0.6386 - loss: 0.9445 - val_accuracy: 0.6471 - val_loss: 0.9726\n",
      "Epoch 50/80\n",
      "\u001b[1m63/63\u001b[0m \u001b[32m━━━━━━━━━━━━━━━━━━━━\u001b[0m\u001b[37m\u001b[0m \u001b[1m0s\u001b[0m 6ms/step - accuracy: 0.6414 - loss: 0.9409 - val_accuracy: 0.6529 - val_loss: 0.9643\n",
      "Epoch 51/80\n",
      "\u001b[1m63/63\u001b[0m \u001b[32m━━━━━━━━━━━━━━━━━━━━\u001b[0m\u001b[37m\u001b[0m \u001b[1m0s\u001b[0m 6ms/step - accuracy: 0.6323 - loss: 0.9599 - val_accuracy: 0.6471 - val_loss: 0.9825\n",
      "Epoch 52/80\n",
      "\u001b[1m63/63\u001b[0m \u001b[32m━━━━━━━━━━━━━━━━━━━━\u001b[0m\u001b[37m\u001b[0m \u001b[1m0s\u001b[0m 6ms/step - accuracy: 0.6340 - loss: 0.9584 - val_accuracy: 0.6586 - val_loss: 0.9680\n",
      "Epoch 53/80\n",
      "\u001b[1m63/63\u001b[0m \u001b[32m━━━━━━━━━━━━━━━━━━━━\u001b[0m\u001b[37m\u001b[0m \u001b[1m0s\u001b[0m 6ms/step - accuracy: 0.6364 - loss: 0.9514 - val_accuracy: 0.6557 - val_loss: 0.9640\n",
      "Epoch 54/80\n",
      "\u001b[1m63/63\u001b[0m \u001b[32m━━━━━━━━━━━━━━━━━━━━\u001b[0m\u001b[37m\u001b[0m \u001b[1m0s\u001b[0m 6ms/step - accuracy: 0.6371 - loss: 0.9543 - val_accuracy: 0.6471 - val_loss: 0.9633\n",
      "Epoch 55/80\n",
      "\u001b[1m63/63\u001b[0m \u001b[32m━━━━━━━━━━━━━━━━━━━━\u001b[0m\u001b[37m\u001b[0m \u001b[1m0s\u001b[0m 6ms/step - accuracy: 0.6284 - loss: 0.9562 - val_accuracy: 0.6529 - val_loss: 0.9604\n",
      "Epoch 56/80\n",
      "\u001b[1m63/63\u001b[0m \u001b[32m━━━━━━━━━━━━━━━━━━━━\u001b[0m\u001b[37m\u001b[0m \u001b[1m0s\u001b[0m 7ms/step - accuracy: 0.6339 - loss: 0.9580 - val_accuracy: 0.6500 - val_loss: 0.9649\n",
      "Epoch 57/80\n",
      "\u001b[1m63/63\u001b[0m \u001b[32m━━━━━━━━━━━━━━━━━━━━\u001b[0m\u001b[37m\u001b[0m \u001b[1m0s\u001b[0m 6ms/step - accuracy: 0.6411 - loss: 0.9317 - val_accuracy: 0.6514 - val_loss: 0.9709\n",
      "Epoch 58/80\n",
      "\u001b[1m63/63\u001b[0m \u001b[32m━━━━━━━━━━━━━━━━━━━━\u001b[0m\u001b[37m\u001b[0m \u001b[1m0s\u001b[0m 6ms/step - accuracy: 0.6330 - loss: 0.9446 - val_accuracy: 0.6443 - val_loss: 0.9646\n",
      "Epoch 59/80\n",
      "\u001b[1m63/63\u001b[0m \u001b[32m━━━━━━━━━━━━━━━━━━━━\u001b[0m\u001b[37m\u001b[0m \u001b[1m0s\u001b[0m 5ms/step - accuracy: 0.6345 - loss: 0.9481 - val_accuracy: 0.6529 - val_loss: 0.9612\n",
      "Epoch 60/80\n",
      "\u001b[1m63/63\u001b[0m \u001b[32m━━━━━━━━━━━━━━━━━━━━\u001b[0m\u001b[37m\u001b[0m \u001b[1m0s\u001b[0m 6ms/step - accuracy: 0.6396 - loss: 0.9445 - val_accuracy: 0.6543 - val_loss: 0.9599\n",
      "Epoch 61/80\n",
      "\u001b[1m63/63\u001b[0m \u001b[32m━━━━━━━━━━━━━━━━━━━━\u001b[0m\u001b[37m\u001b[0m \u001b[1m0s\u001b[0m 6ms/step - accuracy: 0.6357 - loss: 0.9596 - val_accuracy: 0.6471 - val_loss: 0.9647\n",
      "Epoch 62/80\n",
      "\u001b[1m63/63\u001b[0m \u001b[32m━━━━━━━━━━━━━━━━━━━━\u001b[0m\u001b[37m\u001b[0m \u001b[1m0s\u001b[0m 6ms/step - accuracy: 0.6471 - loss: 0.9416 - val_accuracy: 0.6443 - val_loss: 0.9711\n",
      "Epoch 63/80\n",
      "\u001b[1m63/63\u001b[0m \u001b[32m━━━━━━━━━━━━━━━━━━━━\u001b[0m\u001b[37m\u001b[0m \u001b[1m0s\u001b[0m 7ms/step - accuracy: 0.6382 - loss: 0.9245 - val_accuracy: 0.6457 - val_loss: 0.9701\n",
      "Epoch 64/80\n",
      "\u001b[1m63/63\u001b[0m \u001b[32m━━━━━━━━━━━━━━━━━━━━\u001b[0m\u001b[37m\u001b[0m \u001b[1m0s\u001b[0m 6ms/step - accuracy: 0.6372 - loss: 0.9423 - val_accuracy: 0.6443 - val_loss: 0.9635\n",
      "Epoch 65/80\n",
      "\u001b[1m63/63\u001b[0m \u001b[32m━━━━━━━━━━━━━━━━━━━━\u001b[0m\u001b[37m\u001b[0m \u001b[1m0s\u001b[0m 6ms/step - accuracy: 0.6305 - loss: 0.9670 - val_accuracy: 0.6500 - val_loss: 0.9627\n",
      "Epoch 66/80\n",
      "\u001b[1m63/63\u001b[0m \u001b[32m━━━━━━━━━━━━━━━━━━━━\u001b[0m\u001b[37m\u001b[0m \u001b[1m0s\u001b[0m 6ms/step - accuracy: 0.6327 - loss: 0.9574 - val_accuracy: 0.6514 - val_loss: 0.9613\n",
      "Epoch 67/80\n",
      "\u001b[1m63/63\u001b[0m \u001b[32m━━━━━━━━━━━━━━━━━━━━\u001b[0m\u001b[37m\u001b[0m \u001b[1m0s\u001b[0m 6ms/step - accuracy: 0.6420 - loss: 0.9388 - val_accuracy: 0.6514 - val_loss: 0.9635\n",
      "Epoch 68/80\n",
      "\u001b[1m63/63\u001b[0m \u001b[32m━━━━━━━━━━━━━━━━━━━━\u001b[0m\u001b[37m\u001b[0m \u001b[1m0s\u001b[0m 6ms/step - accuracy: 0.6438 - loss: 0.9322 - val_accuracy: 0.6414 - val_loss: 0.9713\n",
      "Epoch 69/80\n",
      "\u001b[1m63/63\u001b[0m \u001b[32m━━━━━━━━━━━━━━━━━━━━\u001b[0m\u001b[37m\u001b[0m \u001b[1m0s\u001b[0m 6ms/step - accuracy: 0.6440 - loss: 0.9391 - val_accuracy: 0.6614 - val_loss: 0.9624\n",
      "Epoch 70/80\n",
      "\u001b[1m63/63\u001b[0m \u001b[32m━━━━━━━━━━━━━━━━━━━━\u001b[0m\u001b[37m\u001b[0m \u001b[1m0s\u001b[0m 6ms/step - accuracy: 0.6411 - loss: 0.9462 - val_accuracy: 0.6614 - val_loss: 0.9581\n",
      "Epoch 71/80\n",
      "\u001b[1m63/63\u001b[0m \u001b[32m━━━━━━━━━━━━━━━━━━━━\u001b[0m\u001b[37m\u001b[0m \u001b[1m0s\u001b[0m 6ms/step - accuracy: 0.6413 - loss: 0.9468 - val_accuracy: 0.6529 - val_loss: 0.9641\n",
      "Epoch 72/80\n",
      "\u001b[1m63/63\u001b[0m \u001b[32m━━━━━━━━━━━━━━━━━━━━\u001b[0m\u001b[37m\u001b[0m \u001b[1m0s\u001b[0m 6ms/step - accuracy: 0.6472 - loss: 0.9290 - val_accuracy: 0.6529 - val_loss: 0.9613\n",
      "Epoch 73/80\n",
      "\u001b[1m63/63\u001b[0m \u001b[32m━━━━━━━━━━━━━━━━━━━━\u001b[0m\u001b[37m\u001b[0m \u001b[1m0s\u001b[0m 6ms/step - accuracy: 0.6397 - loss: 0.9501 - val_accuracy: 0.6514 - val_loss: 0.9636\n",
      "Epoch 74/80\n",
      "\u001b[1m63/63\u001b[0m \u001b[32m━━━━━━━━━━━━━━━━━━━━\u001b[0m\u001b[37m\u001b[0m \u001b[1m0s\u001b[0m 6ms/step - accuracy: 0.6418 - loss: 0.9267 - val_accuracy: 0.6514 - val_loss: 0.9623\n",
      "Epoch 75/80\n",
      "\u001b[1m63/63\u001b[0m \u001b[32m━━━━━━━━━━━━━━━━━━━━\u001b[0m\u001b[37m\u001b[0m \u001b[1m0s\u001b[0m 6ms/step - accuracy: 0.6453 - loss: 0.9194 - val_accuracy: 0.6571 - val_loss: 0.9593\n",
      "Epoch 76/80\n",
      "\u001b[1m63/63\u001b[0m \u001b[32m━━━━━━━━━━━━━━━━━━━━\u001b[0m\u001b[37m\u001b[0m \u001b[1m0s\u001b[0m 7ms/step - accuracy: 0.6384 - loss: 0.9455 - val_accuracy: 0.6571 - val_loss: 0.9582\n",
      "Epoch 77/80\n",
      "\u001b[1m63/63\u001b[0m \u001b[32m━━━━━━━━━━━━━━━━━━━━\u001b[0m\u001b[37m\u001b[0m \u001b[1m0s\u001b[0m 6ms/step - accuracy: 0.6413 - loss: 0.9399 - val_accuracy: 0.6571 - val_loss: 0.9621\n",
      "Epoch 78/80\n",
      "\u001b[1m63/63\u001b[0m \u001b[32m━━━━━━━━━━━━━━━━━━━━\u001b[0m\u001b[37m\u001b[0m \u001b[1m0s\u001b[0m 6ms/step - accuracy: 0.6211 - loss: 0.9505 - val_accuracy: 0.6486 - val_loss: 0.9591\n",
      "Epoch 79/80\n",
      "\u001b[1m63/63\u001b[0m \u001b[32m━━━━━━━━━━━━━━━━━━━━\u001b[0m\u001b[37m\u001b[0m \u001b[1m0s\u001b[0m 6ms/step - accuracy: 0.6318 - loss: 0.9447 - val_accuracy: 0.6543 - val_loss: 0.9632\n",
      "Epoch 80/80\n",
      "\u001b[1m63/63\u001b[0m \u001b[32m━━━━━━━━━━━━━━━━━━━━\u001b[0m\u001b[37m\u001b[0m \u001b[1m0s\u001b[0m 6ms/step - accuracy: 0.6337 - loss: 0.9528 - val_accuracy: 0.6514 - val_loss: 0.9594\n",
      "\u001b[1m94/94\u001b[0m \u001b[32m━━━━━━━━━━━━━━━━━━━━\u001b[0m\u001b[37m\u001b[0m \u001b[1m1s\u001b[0m 4ms/step - accuracy: 0.6239 - loss: 1.0205\n",
      "Test loss: 1.01\n",
      "Test accuracy: 0.62\n"
     ]
    },
    {
     "data": {
      "image/png": "[encoded data removed]",
      "text/plain": [
       "<Figure size 640x480 with 1 Axes>"
      ]
     },
     "metadata": {},
     "output_type": "display_data"
    },
    {
     "data": {
      "image/png": "[encoded data removed]",
      "text/plain": [
       "<Figure size 640x480 with 1 Axes>"
      ]
     },
     "metadata": {},
     "output_type": "display_data"
    }
   ],
   "source": [
    "\n",
    "# Make a fully connected network\n",
    "model = models.Sequential()\n",
    "\n",
    "# Create the hidden layer with sigmoid activations\n",
    "# to stop the model from overfitting add L1 regularization to the weights of the dense layers\n",
    "model.add(layers.Dense(units=100, kernel_regularizer=regularizers.L1(0.001),\n",
    "                     activation='relu', input_shape=(X_train.shape[1],)))\n",
    "\n",
    "# To further avoid overfitting add a dropout layer before the dense layers\n",
    "model.add(layers.Dropout(rate=0.4))\n",
    "model.add(layers.Dense(units=200, kernel_regularizer=regularizers.L1(0.001),\n",
    "                     activation='relu'))\n",
    "\n",
    "model.add(layers.Dense(units=5, activation='softmax'))\n",
    "\n",
    "# Compile the network with the appropriate loss function and keep track of accuracy\n",
    "model.compile(loss='categorical_crossentropy', metrics=['accuracy'])\n",
    "\n",
    "# Train model\n",
    "history = model.fit(X_train, y_train, batch_size=100, epochs=80, validation_split=.1)\n",
    "\n",
    "# See how the model scored\n",
    "loss, accuracy  = model.evaluate(X_test, y_test)\n",
    "\n",
    "print(f'Test loss: {loss:.3}')\n",
    "print(f'Test accuracy: {accuracy:.3}')\n",
    "\n",
    "# Plot training & validation loss\n",
    "plt.plot(history.history['loss'], label='Training Loss')\n",
    "plt.plot(history.history['val_loss'], label='Validation Loss')\n",
    "plt.title('Training vs Validation Loss')\n",
    "plt.xlabel('Epoch')\n",
    "plt.ylabel('Loss')\n",
    "plt.legend()\n",
    "plt.grid(True)\n",
    "plt.show()\n",
    "\n",
    "\n",
    "# Plot training and validation accuracy\n",
    "plt.plot(history.history['accuracy'], label='Training Accuracy')\n",
    "plt.plot(history.history['val_accuracy'], label='Validation Accuracy')\n",
    "plt.title('Training vs Validation Accuracy')\n",
    "plt.xlabel('Epoch')\n",
    "plt.ylabel('Accuracy')\n",
    "plt.legend()\n",
    "plt.grid(True)\n",
    "plt.show()"
   ]
  },
  {
   "cell_type": "markdown",
   "id": "6619a5e4",
   "metadata": {},
   "source": [
    "##### Version 4\n",
    "\n",
    "In this next version I tried to add a third dense layer with 200 nodes to improve the networks ability to classify. I also added a 20% dropout layer before this third layer. This dropout layer was only20% because it is closest to the output layer, so I wanted the model to use more of the nodes to increase classification accuracy.\n",
    "\n",
    "This did not help increase the accuracy."
   ]
  },
  {
   "cell_type": "code",
   "execution_count": 14,
   "id": "ff2a008e",
   "metadata": {},
   "outputs": [
    {
     "name": "stdout",
     "output_type": "stream",
     "text": [
      "Epoch 1/80\n",
      "\u001b[1m63/63\u001b[0m \u001b[32m━━━━━━━━━━━━━━━━━━━━\u001b[0m\u001b[37m\u001b[0m \u001b[1m3s\u001b[0m 14ms/step - accuracy: 0.5883 - loss: 4.9698 - val_accuracy: 0.6186 - val_loss: 3.0683\n",
      "Epoch 2/80\n",
      "\u001b[1m63/63\u001b[0m \u001b[32m━━━━━━━━━━━━━━━━━━━━\u001b[0m\u001b[37m\u001b[0m \u001b[1m0s\u001b[0m 7ms/step - accuracy: 0.6160 - loss: 2.6581 - val_accuracy: 0.6200 - val_loss: 1.7525\n",
      "Epoch 3/80\n",
      "\u001b[1m63/63\u001b[0m \u001b[32m━━━━━━━━━━━━━━━━━━━━\u001b[0m\u001b[37m\u001b[0m \u001b[1m1s\u001b[0m 7ms/step - accuracy: 0.6106 - loss: 1.6158 - val_accuracy: 0.6171 - val_loss: 1.3432\n",
      "Epoch 4/80\n",
      "\u001b[1m63/63\u001b[0m \u001b[32m━━━━━━━━━━━━━━━━━━━━\u001b[0m\u001b[37m\u001b[0m \u001b[1m0s\u001b[0m 7ms/step - accuracy: 0.6077 - loss: 1.3082 - val_accuracy: 0.6229 - val_loss: 1.2149\n",
      "Epoch 5/80\n",
      "\u001b[1m63/63\u001b[0m \u001b[32m━━━━━━━━━━━━━━━━━━━━\u001b[0m\u001b[37m\u001b[0m \u001b[1m1s\u001b[0m 7ms/step - accuracy: 0.6271 - loss: 1.1895 - val_accuracy: 0.6314 - val_loss: 1.1580\n",
      "Epoch 6/80\n",
      "\u001b[1m63/63\u001b[0m \u001b[32m━━━━━━━━━━━━━━━━━━━━\u001b[0m\u001b[37m\u001b[0m \u001b[1m0s\u001b[0m 7ms/step - accuracy: 0.6290 - loss: 1.1229 - val_accuracy: 0.6343 - val_loss: 1.1195\n",
      "Epoch 7/80\n",
      "\u001b[1m63/63\u001b[0m \u001b[32m━━━━━━━━━━━━━━━━━━━━\u001b[0m\u001b[37m\u001b[0m \u001b[1m0s\u001b[0m 7ms/step - accuracy: 0.6277 - loss: 1.1041 - val_accuracy: 0.6357 - val_loss: 1.0917\n",
      "Epoch 8/80\n",
      "\u001b[1m63/63\u001b[0m \u001b[32m━━━━━━━━━━━━━━━━━━━━\u001b[0m\u001b[37m\u001b[0m \u001b[1m0s\u001b[0m 6ms/step - accuracy: 0.6271 - loss: 1.0705 - val_accuracy: 0.6386 - val_loss: 1.0891\n",
      "Epoch 9/80\n",
      "\u001b[1m63/63\u001b[0m \u001b[32m━━━━━━━━━━━━━━━━━━━━\u001b[0m\u001b[37m\u001b[0m \u001b[1m0s\u001b[0m 7ms/step - accuracy: 0.6298 - loss: 1.0555 - val_accuracy: 0.6243 - val_loss: 1.0762\n",
      "Epoch 10/80\n",
      "\u001b[1m63/63\u001b[0m \u001b[32m━━━━━━━━━━━━━━━━━━━━\u001b[0m\u001b[37m\u001b[0m \u001b[1m0s\u001b[0m 7ms/step - accuracy: 0.6153 - loss: 1.0829 - val_accuracy: 0.6386 - val_loss: 1.0630\n",
      "Epoch 11/80\n",
      "\u001b[1m63/63\u001b[0m \u001b[32m━━━━━━━━━━━━━━━━━━━━\u001b[0m\u001b[37m\u001b[0m \u001b[1m0s\u001b[0m 7ms/step - accuracy: 0.6263 - loss: 1.0527 - val_accuracy: 0.6357 - val_loss: 1.0702\n",
      "Epoch 12/80\n",
      "\u001b[1m63/63\u001b[0m \u001b[32m━━━━━━━━━━━━━━━━━━━━\u001b[0m\u001b[37m\u001b[0m \u001b[1m0s\u001b[0m 6ms/step - accuracy: 0.6318 - loss: 1.0475 - val_accuracy: 0.6429 - val_loss: 1.0540\n",
      "Epoch 13/80\n",
      "\u001b[1m63/63\u001b[0m \u001b[32m━━━━━━━━━━━━━━━━━━━━\u001b[0m\u001b[37m\u001b[0m \u001b[1m1s\u001b[0m 7ms/step - accuracy: 0.6285 - loss: 1.0306 - val_accuracy: 0.6329 - val_loss: 1.0496\n",
      "Epoch 14/80\n",
      "\u001b[1m63/63\u001b[0m \u001b[32m━━━━━━━━━━━━━━━━━━━━\u001b[0m\u001b[37m\u001b[0m \u001b[1m0s\u001b[0m 7ms/step - accuracy: 0.6301 - loss: 1.0296 - val_accuracy: 0.6514 - val_loss: 1.0384\n",
      "Epoch 15/80\n",
      "\u001b[1m63/63\u001b[0m \u001b[32m━━━━━━━━━━━━━━━━━━━━\u001b[0m\u001b[37m\u001b[0m \u001b[1m0s\u001b[0m 7ms/step - accuracy: 0.6278 - loss: 1.0381 - val_accuracy: 0.6457 - val_loss: 1.0408\n",
      "Epoch 16/80\n",
      "\u001b[1m63/63\u001b[0m \u001b[32m━━━━━━━━━━━━━━━━━━━━\u001b[0m\u001b[37m\u001b[0m \u001b[1m0s\u001b[0m 7ms/step - accuracy: 0.6386 - loss: 1.0212 - val_accuracy: 0.6414 - val_loss: 1.0376\n",
      "Epoch 17/80\n",
      "\u001b[1m63/63\u001b[0m \u001b[32m━━━━━━━━━━━━━━━━━━━━\u001b[0m\u001b[37m\u001b[0m \u001b[1m0s\u001b[0m 7ms/step - accuracy: 0.6105 - loss: 1.0429 - val_accuracy: 0.6486 - val_loss: 1.0349\n",
      "Epoch 18/80\n",
      "\u001b[1m63/63\u001b[0m \u001b[32m━━━━━━━━━━━━━━━━━━━━\u001b[0m\u001b[37m\u001b[0m \u001b[1m0s\u001b[0m 6ms/step - accuracy: 0.6278 - loss: 1.0290 - val_accuracy: 0.6571 - val_loss: 1.0345\n",
      "Epoch 19/80\n",
      "\u001b[1m63/63\u001b[0m \u001b[32m━━━━━━━━━━━━━━━━━━━━\u001b[0m\u001b[37m\u001b[0m \u001b[1m0s\u001b[0m 7ms/step - accuracy: 0.6268 - loss: 1.0226 - val_accuracy: 0.6471 - val_loss: 1.0286\n",
      "Epoch 20/80\n",
      "\u001b[1m63/63\u001b[0m \u001b[32m━━━━━━━━━━━━━━━━━━━━\u001b[0m\u001b[37m\u001b[0m \u001b[1m1s\u001b[0m 8ms/step - accuracy: 0.6328 - loss: 1.0051 - val_accuracy: 0.6529 - val_loss: 1.0324\n",
      "Epoch 21/80\n",
      "\u001b[1m63/63\u001b[0m \u001b[32m━━━━━━━━━━━━━━━━━━━━\u001b[0m\u001b[37m\u001b[0m \u001b[1m0s\u001b[0m 6ms/step - accuracy: 0.6363 - loss: 1.0056 - val_accuracy: 0.6529 - val_loss: 1.0240\n",
      "Epoch 22/80\n",
      "\u001b[1m63/63\u001b[0m \u001b[32m━━━━━━━━━━━━━━━━━━━━\u001b[0m\u001b[37m\u001b[0m \u001b[1m0s\u001b[0m 7ms/step - accuracy: 0.6184 - loss: 1.0293 - val_accuracy: 0.6557 - val_loss: 1.0199\n",
      "Epoch 23/80\n",
      "\u001b[1m63/63\u001b[0m \u001b[32m━━━━━━━━━━━━━━━━━━━━\u001b[0m\u001b[37m\u001b[0m \u001b[1m0s\u001b[0m 7ms/step - accuracy: 0.6260 - loss: 1.0169 - val_accuracy: 0.6443 - val_loss: 1.0228\n",
      "Epoch 24/80\n",
      "\u001b[1m63/63\u001b[0m \u001b[32m━━━━━━━━━━━━━━━━━━━━\u001b[0m\u001b[37m\u001b[0m \u001b[1m0s\u001b[0m 7ms/step - accuracy: 0.6293 - loss: 1.0161 - val_accuracy: 0.6571 - val_loss: 1.0160\n",
      "Epoch 25/80\n",
      "\u001b[1m63/63\u001b[0m \u001b[32m━━━━━━━━━━━━━━━━━━━━\u001b[0m\u001b[37m\u001b[0m \u001b[1m0s\u001b[0m 7ms/step - accuracy: 0.6206 - loss: 1.0310 - val_accuracy: 0.6443 - val_loss: 1.0215\n",
      "Epoch 26/80\n",
      "\u001b[1m63/63\u001b[0m \u001b[32m━━━━━━━━━━━━━━━━━━━━\u001b[0m\u001b[37m\u001b[0m \u001b[1m0s\u001b[0m 7ms/step - accuracy: 0.6278 - loss: 1.0023 - val_accuracy: 0.6586 - val_loss: 1.0163\n",
      "Epoch 27/80\n",
      "\u001b[1m63/63\u001b[0m \u001b[32m━━━━━━━━━━━━━━━━━━━━\u001b[0m\u001b[37m\u001b[0m \u001b[1m0s\u001b[0m 7ms/step - accuracy: 0.6357 - loss: 1.0041 - val_accuracy: 0.6600 - val_loss: 1.0131\n",
      "Epoch 28/80\n",
      "\u001b[1m63/63\u001b[0m \u001b[32m━━━━━━━━━━━━━━━━━━━━\u001b[0m\u001b[37m\u001b[0m \u001b[1m1s\u001b[0m 7ms/step - accuracy: 0.6306 - loss: 0.9956 - val_accuracy: 0.6543 - val_loss: 1.0122\n",
      "Epoch 29/80\n",
      "\u001b[1m63/63\u001b[0m \u001b[32m━━━━━━━━━━━━━━━━━━━━\u001b[0m\u001b[37m\u001b[0m \u001b[1m0s\u001b[0m 6ms/step - accuracy: 0.6361 - loss: 1.0050 - val_accuracy: 0.6614 - val_loss: 1.0118\n",
      "Epoch 30/80\n",
      "\u001b[1m63/63\u001b[0m \u001b[32m━━━━━━━━━━━━━━━━━━━━\u001b[0m\u001b[37m\u001b[0m \u001b[1m0s\u001b[0m 7ms/step - accuracy: 0.6291 - loss: 1.0061 - val_accuracy: 0.6514 - val_loss: 1.0122\n",
      "Epoch 31/80\n",
      "\u001b[1m63/63\u001b[0m \u001b[32m━━━━━━━━━━━━━━━━━━━━\u001b[0m\u001b[37m\u001b[0m \u001b[1m0s\u001b[0m 7ms/step - accuracy: 0.6254 - loss: 1.0180 - val_accuracy: 0.6571 - val_loss: 1.0092\n",
      "Epoch 32/80\n",
      "\u001b[1m63/63\u001b[0m \u001b[32m━━━━━━━━━━━━━━━━━━━━\u001b[0m\u001b[37m\u001b[0m \u001b[1m0s\u001b[0m 6ms/step - accuracy: 0.6188 - loss: 0.9991 - val_accuracy: 0.6457 - val_loss: 1.0091\n",
      "Epoch 33/80\n",
      "\u001b[1m63/63\u001b[0m \u001b[32m━━━━━━━━━━━━━━━━━━━━\u001b[0m\u001b[37m\u001b[0m \u001b[1m0s\u001b[0m 7ms/step - accuracy: 0.6265 - loss: 0.9990 - val_accuracy: 0.6571 - val_loss: 1.0091\n",
      "Epoch 34/80\n",
      "\u001b[1m63/63\u001b[0m \u001b[32m━━━━━━━━━━━━━━━━━━━━\u001b[0m\u001b[37m\u001b[0m \u001b[1m0s\u001b[0m 7ms/step - accuracy: 0.6273 - loss: 1.0076 - val_accuracy: 0.6486 - val_loss: 1.0132\n",
      "Epoch 35/80\n",
      "\u001b[1m63/63\u001b[0m \u001b[32m━━━━━━━━━━━━━━━━━━━━\u001b[0m\u001b[37m\u001b[0m \u001b[1m0s\u001b[0m 7ms/step - accuracy: 0.6194 - loss: 1.0124 - val_accuracy: 0.6571 - val_loss: 1.0079\n",
      "Epoch 36/80\n",
      "\u001b[1m63/63\u001b[0m \u001b[32m━━━━━━━━━━━━━━━━━━━━\u001b[0m\u001b[37m\u001b[0m \u001b[1m0s\u001b[0m 7ms/step - accuracy: 0.6280 - loss: 0.9938 - val_accuracy: 0.6557 - val_loss: 1.0040\n",
      "Epoch 37/80\n",
      "\u001b[1m63/63\u001b[0m \u001b[32m━━━━━━━━━━━━━━━━━━━━\u001b[0m\u001b[37m\u001b[0m \u001b[1m0s\u001b[0m 7ms/step - accuracy: 0.6237 - loss: 1.0004 - val_accuracy: 0.6600 - val_loss: 1.0061\n",
      "Epoch 38/80\n",
      "\u001b[1m63/63\u001b[0m \u001b[32m━━━━━━━━━━━━━━━━━━━━\u001b[0m\u001b[37m\u001b[0m \u001b[1m0s\u001b[0m 7ms/step - accuracy: 0.6237 - loss: 1.0088 - val_accuracy: 0.6571 - val_loss: 1.0044\n",
      "Epoch 39/80\n",
      "\u001b[1m63/63\u001b[0m \u001b[32m━━━━━━━━━━━━━━━━━━━━\u001b[0m\u001b[37m\u001b[0m \u001b[1m0s\u001b[0m 7ms/step - accuracy: 0.6231 - loss: 1.0103 - val_accuracy: 0.6500 - val_loss: 1.0103\n",
      "Epoch 40/80\n",
      "\u001b[1m63/63\u001b[0m \u001b[32m━━━━━━━━━━━━━━━━━━━━\u001b[0m\u001b[37m\u001b[0m \u001b[1m0s\u001b[0m 7ms/step - accuracy: 0.6281 - loss: 0.9934 - val_accuracy: 0.6500 - val_loss: 1.0046\n",
      "Epoch 41/80\n",
      "\u001b[1m63/63\u001b[0m \u001b[32m━━━━━━━━━━━━━━━━━━━━\u001b[0m\u001b[37m\u001b[0m \u001b[1m0s\u001b[0m 6ms/step - accuracy: 0.6290 - loss: 1.0041 - val_accuracy: 0.6543 - val_loss: 1.0097\n",
      "Epoch 42/80\n",
      "\u001b[1m63/63\u001b[0m \u001b[32m━━━━━━━━━━━━━━━━━━━━\u001b[0m\u001b[37m\u001b[0m \u001b[1m0s\u001b[0m 7ms/step - accuracy: 0.6336 - loss: 0.9956 - val_accuracy: 0.6557 - val_loss: 1.0027\n",
      "Epoch 43/80\n",
      "\u001b[1m63/63\u001b[0m \u001b[32m━━━━━━━━━━━━━━━━━━━━\u001b[0m\u001b[37m\u001b[0m \u001b[1m0s\u001b[0m 6ms/step - accuracy: 0.6198 - loss: 1.0117 - val_accuracy: 0.6443 - val_loss: 1.0026\n",
      "Epoch 44/80\n",
      "\u001b[1m63/63\u001b[0m \u001b[32m━━━━━━━━━━━━━━━━━━━━\u001b[0m\u001b[37m\u001b[0m \u001b[1m0s\u001b[0m 7ms/step - accuracy: 0.6300 - loss: 1.0075 - val_accuracy: 0.6614 - val_loss: 1.0027\n",
      "Epoch 45/80\n",
      "\u001b[1m63/63\u001b[0m \u001b[32m━━━━━━━━━━━━━━━━━━━━\u001b[0m\u001b[37m\u001b[0m \u001b[1m0s\u001b[0m 7ms/step - accuracy: 0.6343 - loss: 0.9997 - val_accuracy: 0.6557 - val_loss: 1.0043\n",
      "Epoch 46/80\n",
      "\u001b[1m63/63\u001b[0m \u001b[32m━━━━━━━━━━━━━━━━━━━━\u001b[0m\u001b[37m\u001b[0m \u001b[1m0s\u001b[0m 7ms/step - accuracy: 0.6275 - loss: 0.9912 - val_accuracy: 0.6614 - val_loss: 1.0075\n",
      "Epoch 47/80\n",
      "\u001b[1m63/63\u001b[0m \u001b[32m━━━━━━━━━━━━━━━━━━━━\u001b[0m\u001b[37m\u001b[0m \u001b[1m0s\u001b[0m 7ms/step - accuracy: 0.6200 - loss: 1.0128 - val_accuracy: 0.6443 - val_loss: 1.0074\n",
      "Epoch 48/80\n",
      "\u001b[1m63/63\u001b[0m \u001b[32m━━━━━━━━━━━━━━━━━━━━\u001b[0m\u001b[37m\u001b[0m \u001b[1m0s\u001b[0m 7ms/step - accuracy: 0.6236 - loss: 1.0152 - val_accuracy: 0.6514 - val_loss: 1.0010\n",
      "Epoch 49/80\n",
      "\u001b[1m63/63\u001b[0m \u001b[32m━━━━━━━━━━━━━━━━━━━━\u001b[0m\u001b[37m\u001b[0m \u001b[1m0s\u001b[0m 6ms/step - accuracy: 0.6276 - loss: 1.0057 - val_accuracy: 0.6486 - val_loss: 1.0037\n",
      "Epoch 50/80\n",
      "\u001b[1m63/63\u001b[0m \u001b[32m━━━━━━━━━━━━━━━━━━━━\u001b[0m\u001b[37m\u001b[0m \u001b[1m0s\u001b[0m 7ms/step - accuracy: 0.6275 - loss: 0.9995 - val_accuracy: 0.6600 - val_loss: 1.0016\n",
      "Epoch 51/80\n",
      "\u001b[1m63/63\u001b[0m \u001b[32m━━━━━━━━━━━━━━━━━━━━\u001b[0m\u001b[37m\u001b[0m \u001b[1m0s\u001b[0m 7ms/step - accuracy: 0.6238 - loss: 1.0056 - val_accuracy: 0.6600 - val_loss: 1.0035\n",
      "Epoch 52/80\n",
      "\u001b[1m63/63\u001b[0m \u001b[32m━━━━━━━━━━━━━━━━━━━━\u001b[0m\u001b[37m\u001b[0m \u001b[1m0s\u001b[0m 7ms/step - accuracy: 0.6345 - loss: 1.0029 - val_accuracy: 0.6686 - val_loss: 1.0013\n",
      "Epoch 53/80\n",
      "\u001b[1m63/63\u001b[0m \u001b[32m━━━━━━━━━━━━━━━━━━━━\u001b[0m\u001b[37m\u001b[0m \u001b[1m0s\u001b[0m 7ms/step - accuracy: 0.6241 - loss: 0.9989 - val_accuracy: 0.6443 - val_loss: 1.0054\n",
      "Epoch 54/80\n",
      "\u001b[1m63/63\u001b[0m \u001b[32m━━━━━━━━━━━━━━━━━━━━\u001b[0m\u001b[37m\u001b[0m \u001b[1m1s\u001b[0m 7ms/step - accuracy: 0.6240 - loss: 1.0013 - val_accuracy: 0.6557 - val_loss: 0.9970\n",
      "Epoch 55/80\n",
      "\u001b[1m63/63\u001b[0m \u001b[32m━━━━━━━━━━━━━━━━━━━━\u001b[0m\u001b[37m\u001b[0m \u001b[1m1s\u001b[0m 7ms/step - accuracy: 0.6273 - loss: 0.9914 - val_accuracy: 0.6471 - val_loss: 1.0014\n",
      "Epoch 56/80\n",
      "\u001b[1m63/63\u001b[0m \u001b[32m━━━━━━━━━━━━━━━━━━━━\u001b[0m\u001b[37m\u001b[0m \u001b[1m0s\u001b[0m 7ms/step - accuracy: 0.6305 - loss: 0.9920 - val_accuracy: 0.6586 - val_loss: 0.9984\n",
      "Epoch 57/80\n",
      "\u001b[1m63/63\u001b[0m \u001b[32m━━━━━━━━━━━━━━━━━━━━\u001b[0m\u001b[37m\u001b[0m \u001b[1m0s\u001b[0m 7ms/step - accuracy: 0.6383 - loss: 0.9837 - val_accuracy: 0.6486 - val_loss: 0.9984\n",
      "Epoch 58/80\n",
      "\u001b[1m63/63\u001b[0m \u001b[32m━━━━━━━━━━━━━━━━━━━━\u001b[0m\u001b[37m\u001b[0m \u001b[1m0s\u001b[0m 7ms/step - accuracy: 0.6315 - loss: 0.9929 - val_accuracy: 0.6600 - val_loss: 0.9993\n",
      "Epoch 59/80\n",
      "\u001b[1m63/63\u001b[0m \u001b[32m━━━━━━━━━━━━━━━━━━━━\u001b[0m\u001b[37m\u001b[0m \u001b[1m0s\u001b[0m 7ms/step - accuracy: 0.6301 - loss: 0.9913 - val_accuracy: 0.6571 - val_loss: 0.9975\n",
      "Epoch 60/80\n",
      "\u001b[1m63/63\u001b[0m \u001b[32m━━━━━━━━━━━━━━━━━━━━\u001b[0m\u001b[37m\u001b[0m \u001b[1m0s\u001b[0m 7ms/step - accuracy: 0.6223 - loss: 1.0035 - val_accuracy: 0.6429 - val_loss: 1.0077\n",
      "Epoch 61/80\n",
      "\u001b[1m63/63\u001b[0m \u001b[32m━━━━━━━━━━━━━━━━━━━━\u001b[0m\u001b[37m\u001b[0m \u001b[1m0s\u001b[0m 7ms/step - accuracy: 0.6334 - loss: 0.9853 - val_accuracy: 0.6600 - val_loss: 1.0026\n",
      "Epoch 62/80\n",
      "\u001b[1m63/63\u001b[0m \u001b[32m━━━━━━━━━━━━━━━━━━━━\u001b[0m\u001b[37m\u001b[0m \u001b[1m0s\u001b[0m 7ms/step - accuracy: 0.6227 - loss: 1.0033 - val_accuracy: 0.6514 - val_loss: 0.9969\n",
      "Epoch 63/80\n",
      "\u001b[1m63/63\u001b[0m \u001b[32m━━━━━━━━━━━━━━━━━━━━\u001b[0m\u001b[37m\u001b[0m \u001b[1m0s\u001b[0m 7ms/step - accuracy: 0.6282 - loss: 0.9877 - val_accuracy: 0.6600 - val_loss: 1.0007\n",
      "Epoch 64/80\n",
      "\u001b[1m63/63\u001b[0m \u001b[32m━━━━━━━━━━━━━━━━━━━━\u001b[0m\u001b[37m\u001b[0m \u001b[1m0s\u001b[0m 7ms/step - accuracy: 0.6275 - loss: 1.0026 - val_accuracy: 0.6600 - val_loss: 0.9978\n",
      "Epoch 65/80\n",
      "\u001b[1m63/63\u001b[0m \u001b[32m━━━━━━━━━━━━━━━━━━━━\u001b[0m\u001b[37m\u001b[0m \u001b[1m0s\u001b[0m 7ms/step - accuracy: 0.6253 - loss: 0.9900 - val_accuracy: 0.6571 - val_loss: 1.0006\n",
      "Epoch 66/80\n",
      "\u001b[1m63/63\u001b[0m \u001b[32m━━━━━━━━━━━━━━━━━━━━\u001b[0m\u001b[37m\u001b[0m \u001b[1m0s\u001b[0m 6ms/step - accuracy: 0.6301 - loss: 0.9871 - val_accuracy: 0.6500 - val_loss: 1.0053\n",
      "Epoch 67/80\n",
      "\u001b[1m63/63\u001b[0m \u001b[32m━━━━━━━━━━━━━━━━━━━━\u001b[0m\u001b[37m\u001b[0m \u001b[1m0s\u001b[0m 7ms/step - accuracy: 0.6352 - loss: 0.9864 - val_accuracy: 0.6586 - val_loss: 0.9992\n",
      "Epoch 68/80\n",
      "\u001b[1m63/63\u001b[0m \u001b[32m━━━━━━━━━━━━━━━━━━━━\u001b[0m\u001b[37m\u001b[0m \u001b[1m0s\u001b[0m 7ms/step - accuracy: 0.6228 - loss: 0.9893 - val_accuracy: 0.6500 - val_loss: 1.0002\n",
      "Epoch 69/80\n",
      "\u001b[1m63/63\u001b[0m \u001b[32m━━━━━━━━━━━━━━━━━━━━\u001b[0m\u001b[37m\u001b[0m \u001b[1m0s\u001b[0m 7ms/step - accuracy: 0.6193 - loss: 1.0023 - val_accuracy: 0.6471 - val_loss: 0.9971\n",
      "Epoch 70/80\n",
      "\u001b[1m63/63\u001b[0m \u001b[32m━━━━━━━━━━━━━━━━━━━━\u001b[0m\u001b[37m\u001b[0m \u001b[1m0s\u001b[0m 7ms/step - accuracy: 0.6457 - loss: 0.9744 - val_accuracy: 0.6657 - val_loss: 0.9984\n",
      "Epoch 71/80\n",
      "\u001b[1m63/63\u001b[0m \u001b[32m━━━━━━━━━━━━━━━━━━━━\u001b[0m\u001b[37m\u001b[0m \u001b[1m0s\u001b[0m 7ms/step - accuracy: 0.6327 - loss: 0.9910 - val_accuracy: 0.6486 - val_loss: 0.9981\n",
      "Epoch 72/80\n",
      "\u001b[1m63/63\u001b[0m \u001b[32m━━━━━━━━━━━━━━━━━━━━\u001b[0m\u001b[37m\u001b[0m \u001b[1m0s\u001b[0m 7ms/step - accuracy: 0.6274 - loss: 0.9884 - val_accuracy: 0.6471 - val_loss: 1.0011\n",
      "Epoch 73/80\n",
      "\u001b[1m63/63\u001b[0m \u001b[32m━━━━━━━━━━━━━━━━━━━━\u001b[0m\u001b[37m\u001b[0m \u001b[1m0s\u001b[0m 7ms/step - accuracy: 0.6266 - loss: 1.0049 - val_accuracy: 0.6600 - val_loss: 0.9987\n",
      "Epoch 74/80\n",
      "\u001b[1m63/63\u001b[0m \u001b[32m━━━━━━━━━━━━━━━━━━━━\u001b[0m\u001b[37m\u001b[0m \u001b[1m1s\u001b[0m 7ms/step - accuracy: 0.6395 - loss: 0.9835 - val_accuracy: 0.6557 - val_loss: 0.9989\n",
      "Epoch 75/80\n",
      "\u001b[1m63/63\u001b[0m \u001b[32m━━━━━━━━━━━━━━━━━━━━\u001b[0m\u001b[37m\u001b[0m \u001b[1m0s\u001b[0m 7ms/step - accuracy: 0.6315 - loss: 0.9804 - val_accuracy: 0.6557 - val_loss: 1.0005\n",
      "Epoch 76/80\n",
      "\u001b[1m63/63\u001b[0m \u001b[32m━━━━━━━━━━━━━━━━━━━━\u001b[0m\u001b[37m\u001b[0m \u001b[1m0s\u001b[0m 7ms/step - accuracy: 0.6259 - loss: 1.0007 - val_accuracy: 0.6457 - val_loss: 0.9978\n",
      "Epoch 77/80\n",
      "\u001b[1m63/63\u001b[0m \u001b[32m━━━━━━━━━━━━━━━━━━━━\u001b[0m\u001b[37m\u001b[0m \u001b[1m0s\u001b[0m 7ms/step - accuracy: 0.6282 - loss: 0.9907 - val_accuracy: 0.6629 - val_loss: 0.9957\n",
      "Epoch 78/80\n",
      "\u001b[1m63/63\u001b[0m \u001b[32m━━━━━━━━━━━━━━━━━━━━\u001b[0m\u001b[37m\u001b[0m \u001b[1m0s\u001b[0m 7ms/step - accuracy: 0.6328 - loss: 1.0030 - val_accuracy: 0.6629 - val_loss: 1.0004\n",
      "Epoch 79/80\n",
      "\u001b[1m63/63\u001b[0m \u001b[32m━━━━━━━━━━━━━━━━━━━━\u001b[0m\u001b[37m\u001b[0m \u001b[1m0s\u001b[0m 7ms/step - accuracy: 0.6257 - loss: 0.9963 - val_accuracy: 0.6486 - val_loss: 0.9991\n",
      "Epoch 80/80\n",
      "\u001b[1m63/63\u001b[0m \u001b[32m━━━━━━━━━━━━━━━━━━━━\u001b[0m\u001b[37m\u001b[0m \u001b[1m0s\u001b[0m 7ms/step - accuracy: 0.6306 - loss: 0.9752 - val_accuracy: 0.6571 - val_loss: 0.9966\n",
      "\u001b[1m94/94\u001b[0m \u001b[32m━━━━━━━━━━━━━━━━━━━━\u001b[0m\u001b[37m\u001b[0m \u001b[1m1s\u001b[0m 4ms/step - accuracy: 0.6157 - loss: 1.0400\n",
      "Test loss: 1.03\n",
      "Test accuracy: 0.615\n"
     ]
    },
    {
     "data": {
      "image/png": "[encoded data removed]",
      "text/plain": [
       "<Figure size 640x480 with 1 Axes>"
      ]
     },
     "metadata": {},
     "output_type": "display_data"
    },
    {
     "data": {
      "image/png": "[encoded data removed]",
      "text/plain": [
       "<Figure size 640x480 with 1 Axes>"
      ]
     },
     "metadata": {},
     "output_type": "display_data"
    }
   ],
   "source": [
    "\n",
    "# Make a fully connected network\n",
    "model = models.Sequential()\n",
    "\n",
    "# Create the hidden layer with sigmoid activations\n",
    "# to stop the model from overfitting add L1 regularization to the weights of the dense layers\n",
    "model.add(layers.Dense(units=100, kernel_regularizer=regularizers.L1(0.001),\n",
    "                     activation='relu', input_shape=(X_train.shape[1],)))\n",
    "\n",
    "\n",
    "# To further avoid overfitting add a dropout layer before the dense layers\n",
    "model.add(layers.Dropout(rate=0.4))\n",
    "model.add(layers.Dense(units=200, kernel_regularizer=regularizers.L1(0.001),\n",
    "                     activation='relu'))\n",
    "\n",
    "model.add(layers.Dropout(rate=0.2))\n",
    "model.add(layers.Dense(units=200, kernel_regularizer=regularizers.L1(0.001),\n",
    "                     activation='relu'))\n",
    "\n",
    "model.add(layers.Dense(units=5, activation='softmax'))\n",
    "\n",
    "# Compile the network with the appropriate loss function and keep track of accuracy\n",
    "model.compile(loss='categorical_crossentropy', metrics=['accuracy'])\n",
    "\n",
    "# Train model\n",
    "history = model.fit(X_train, y_train, batch_size=100, epochs=80, validation_split=.1)\n",
    "\n",
    "# See how the model scored\n",
    "loss, accuracy  = model.evaluate(X_test, y_test)\n",
    "\n",
    "print(f'Test loss: {loss:.3}')\n",
    "print(f'Test accuracy: {accuracy:.3}')\n",
    "\n",
    "# Plot training & validation loss\n",
    "plt.plot(history.history['loss'], label='Training Loss')\n",
    "plt.plot(history.history['val_loss'], label='Validation Loss')\n",
    "plt.title('Training vs Validation Loss')\n",
    "plt.xlabel('Epoch')\n",
    "plt.ylabel('Loss')\n",
    "plt.legend()\n",
    "plt.grid(True)\n",
    "plt.show()\n",
    "\n",
    "\n",
    "# Plot training and validation accuracy\n",
    "plt.plot(history.history['accuracy'], label='Training Accuracy')\n",
    "plt.plot(history.history['val_accuracy'], label='Validation Accuracy')\n",
    "plt.title('Training vs Validation Accuracy')\n",
    "plt.xlabel('Epoch')\n",
    "plt.ylabel('Accuracy')\n",
    "plt.legend()\n",
    "plt.grid(True)\n",
    "plt.show()"
   ]
  },
  {
   "cell_type": "markdown",
   "id": "a666881c",
   "metadata": {},
   "source": [
    "##### Version 5\n",
    "\n",
    "In this final version, I added batch normalization after every dense layer to attemps to improve prediciton accuracy. I hope that by shifting the mean and standard deviation of the standardised data, the model will better predict the testing data.\n",
    "\n",
    "The validation accuracy did not improve, but on the first epoch the validation accuracy was very high compared to previous versions."
   ]
  },
  {
   "cell_type": "code",
   "execution_count": 15,
   "id": "33e3c81f",
   "metadata": {},
   "outputs": [
    {
     "name": "stdout",
     "output_type": "stream",
     "text": [
      "Epoch 1/80\n",
      "\u001b[1m63/63\u001b[0m \u001b[32m━━━━━━━━━━━━━━━━━━━━\u001b[0m\u001b[37m\u001b[0m \u001b[1m4s\u001b[0m 18ms/step - accuracy: 0.3399 - loss: 6.2842 - val_accuracy: 0.6100 - val_loss: 5.3061\n",
      "Epoch 2/80\n",
      "\u001b[1m63/63\u001b[0m \u001b[32m━━━━━━━━━━━━━━━━━━━━\u001b[0m\u001b[37m\u001b[0m \u001b[1m1s\u001b[0m 9ms/step - accuracy: 0.5656 - loss: 5.1865 - val_accuracy: 0.6100 - val_loss: 4.6849\n",
      "Epoch 3/80\n",
      "\u001b[1m63/63\u001b[0m \u001b[32m━━━━━━━━━━━━━━━━━━━━\u001b[0m\u001b[37m\u001b[0m \u001b[1m1s\u001b[0m 9ms/step - accuracy: 0.6225 - loss: 4.5175 - val_accuracy: 0.6114 - val_loss: 4.1963\n",
      "Epoch 4/80\n",
      "\u001b[1m63/63\u001b[0m \u001b[32m━━━━━━━━━━━━━━━━━━━━\u001b[0m\u001b[37m\u001b[0m \u001b[1m1s\u001b[0m 8ms/step - accuracy: 0.6094 - loss: 4.0537 - val_accuracy: 0.6214 - val_loss: 3.7368\n",
      "Epoch 5/80\n",
      "\u001b[1m63/63\u001b[0m \u001b[32m━━━━━━━━━━━━━━━━━━━━\u001b[0m\u001b[37m\u001b[0m \u001b[1m1s\u001b[0m 8ms/step - accuracy: 0.6358 - loss: 3.5796 - val_accuracy: 0.6271 - val_loss: 3.3465\n",
      "Epoch 6/80\n",
      "\u001b[1m63/63\u001b[0m \u001b[32m━━━━━━━━━━━━━━━━━━━━\u001b[0m\u001b[37m\u001b[0m \u001b[1m1s\u001b[0m 8ms/step - accuracy: 0.6244 - loss: 3.2514 - val_accuracy: 0.6314 - val_loss: 2.9931\n",
      "Epoch 7/80\n",
      "\u001b[1m63/63\u001b[0m \u001b[32m━━━━━━━━━━━━━━━━━━━━\u001b[0m\u001b[37m\u001b[0m \u001b[1m1s\u001b[0m 8ms/step - accuracy: 0.6204 - loss: 2.8767 - val_accuracy: 0.6371 - val_loss: 2.6916\n",
      "Epoch 8/80\n",
      "\u001b[1m63/63\u001b[0m \u001b[32m━━━━━━━━━━━━━━━━━━━━\u001b[0m\u001b[37m\u001b[0m \u001b[1m1s\u001b[0m 8ms/step - accuracy: 0.6376 - loss: 2.5889 - val_accuracy: 0.6414 - val_loss: 2.4121\n",
      "Epoch 9/80\n",
      "\u001b[1m63/63\u001b[0m \u001b[32m━━━━━━━━━━━━━━━━━━━━\u001b[0m\u001b[37m\u001b[0m \u001b[1m1s\u001b[0m 8ms/step - accuracy: 0.6335 - loss: 2.3180 - val_accuracy: 0.6229 - val_loss: 2.1854\n",
      "Epoch 10/80\n",
      "\u001b[1m63/63\u001b[0m \u001b[32m━━━━━━━━━━━━━━━━━━━━\u001b[0m\u001b[37m\u001b[0m \u001b[1m1s\u001b[0m 8ms/step - accuracy: 0.6212 - loss: 2.0854 - val_accuracy: 0.6343 - val_loss: 1.9987\n",
      "Epoch 11/80\n",
      "\u001b[1m63/63\u001b[0m \u001b[32m━━━━━━━━━━━━━━━━━━━━\u001b[0m\u001b[37m\u001b[0m \u001b[1m1s\u001b[0m 8ms/step - accuracy: 0.6324 - loss: 1.8887 - val_accuracy: 0.6257 - val_loss: 1.8288\n",
      "Epoch 12/80\n",
      "\u001b[1m63/63\u001b[0m \u001b[32m━━━━━━━━━━━━━━━━━━━━\u001b[0m\u001b[37m\u001b[0m \u001b[1m1s\u001b[0m 8ms/step - accuracy: 0.6315 - loss: 1.7352 - val_accuracy: 0.6329 - val_loss: 1.6793\n",
      "Epoch 13/80\n",
      "\u001b[1m63/63\u001b[0m \u001b[32m━━━━━━━━━━━━━━━━━━━━\u001b[0m\u001b[37m\u001b[0m \u001b[1m1s\u001b[0m 8ms/step - accuracy: 0.6289 - loss: 1.6257 - val_accuracy: 0.6471 - val_loss: 1.5665\n",
      "Epoch 14/80\n",
      "\u001b[1m63/63\u001b[0m \u001b[32m━━━━━━━━━━━━━━━━━━━━\u001b[0m\u001b[37m\u001b[0m \u001b[1m1s\u001b[0m 8ms/step - accuracy: 0.6533 - loss: 1.4957 - val_accuracy: 0.6243 - val_loss: 1.5026\n",
      "Epoch 15/80\n",
      "\u001b[1m63/63\u001b[0m \u001b[32m━━━━━━━━━━━━━━━━━━━━\u001b[0m\u001b[37m\u001b[0m \u001b[1m1s\u001b[0m 8ms/step - accuracy: 0.6345 - loss: 1.4106 - val_accuracy: 0.6371 - val_loss: 1.4165\n",
      "Epoch 16/80\n",
      "\u001b[1m63/63\u001b[0m \u001b[32m━━━━━━━━━━━━━━━━━━━━\u001b[0m\u001b[37m\u001b[0m \u001b[1m1s\u001b[0m 8ms/step - accuracy: 0.6367 - loss: 1.3671 - val_accuracy: 0.6443 - val_loss: 1.3580\n",
      "Epoch 17/80\n",
      "\u001b[1m63/63\u001b[0m \u001b[32m━━━━━━━━━━━━━━━━━━━━\u001b[0m\u001b[37m\u001b[0m \u001b[1m1s\u001b[0m 8ms/step - accuracy: 0.6449 - loss: 1.3085 - val_accuracy: 0.6257 - val_loss: 1.3333\n",
      "Epoch 18/80\n",
      "\u001b[1m63/63\u001b[0m \u001b[32m━━━━━━━━━━━━━━━━━━━━\u001b[0m\u001b[37m\u001b[0m \u001b[1m1s\u001b[0m 8ms/step - accuracy: 0.6424 - loss: 1.2732 - val_accuracy: 0.6529 - val_loss: 1.2894\n",
      "Epoch 19/80\n",
      "\u001b[1m63/63\u001b[0m \u001b[32m━━━━━━━━━━━━━━━━━━━━\u001b[0m\u001b[37m\u001b[0m \u001b[1m1s\u001b[0m 8ms/step - accuracy: 0.6402 - loss: 1.2302 - val_accuracy: 0.6500 - val_loss: 1.2810\n",
      "Epoch 20/80\n",
      "\u001b[1m63/63\u001b[0m \u001b[32m━━━━━━━━━━━━━━━━━━━━\u001b[0m\u001b[37m\u001b[0m \u001b[1m1s\u001b[0m 8ms/step - accuracy: 0.6357 - loss: 1.2048 - val_accuracy: 0.6471 - val_loss: 1.2250\n",
      "Epoch 21/80\n",
      "\u001b[1m63/63\u001b[0m \u001b[32m━━━━━━━━━━━━━━━━━━━━\u001b[0m\u001b[37m\u001b[0m \u001b[1m1s\u001b[0m 8ms/step - accuracy: 0.6432 - loss: 1.1782 - val_accuracy: 0.6357 - val_loss: 1.2007\n",
      "Epoch 22/80\n",
      "\u001b[1m63/63\u001b[0m \u001b[32m━━━━━━━━━━━━━━━━━━━━\u001b[0m\u001b[37m\u001b[0m \u001b[1m1s\u001b[0m 9ms/step - accuracy: 0.6398 - loss: 1.1612 - val_accuracy: 0.6357 - val_loss: 1.1812\n",
      "Epoch 23/80\n",
      "\u001b[1m63/63\u001b[0m \u001b[32m━━━━━━━━━━━━━━━━━━━━\u001b[0m\u001b[37m\u001b[0m \u001b[1m1s\u001b[0m 8ms/step - accuracy: 0.6443 - loss: 1.1402 - val_accuracy: 0.6414 - val_loss: 1.1900\n",
      "Epoch 24/80\n",
      "\u001b[1m63/63\u001b[0m \u001b[32m━━━━━━━━━━━━━━━━━━━━\u001b[0m\u001b[37m\u001b[0m \u001b[1m1s\u001b[0m 8ms/step - accuracy: 0.6273 - loss: 1.1491 - val_accuracy: 0.6414 - val_loss: 1.1879\n",
      "Epoch 25/80\n",
      "\u001b[1m63/63\u001b[0m \u001b[32m━━━━━━━━━━━━━━━━━━━━\u001b[0m\u001b[37m\u001b[0m \u001b[1m1s\u001b[0m 8ms/step - accuracy: 0.6318 - loss: 1.1358 - val_accuracy: 0.6471 - val_loss: 1.1594\n",
      "Epoch 26/80\n",
      "\u001b[1m63/63\u001b[0m \u001b[32m━━━━━━━━━━━━━━━━━━━━\u001b[0m\u001b[37m\u001b[0m \u001b[1m1s\u001b[0m 8ms/step - accuracy: 0.6366 - loss: 1.1261 - val_accuracy: 0.6386 - val_loss: 1.1387\n",
      "Epoch 27/80\n",
      "\u001b[1m63/63\u001b[0m \u001b[32m━━━━━━━━━━━━━━━━━━━━\u001b[0m\u001b[37m\u001b[0m \u001b[1m1s\u001b[0m 8ms/step - accuracy: 0.6510 - loss: 1.0936 - val_accuracy: 0.6514 - val_loss: 1.1406\n",
      "Epoch 28/80\n",
      "\u001b[1m63/63\u001b[0m \u001b[32m━━━━━━━━━━━━━━━━━━━━\u001b[0m\u001b[37m\u001b[0m \u001b[1m1s\u001b[0m 8ms/step - accuracy: 0.6361 - loss: 1.1066 - val_accuracy: 0.6543 - val_loss: 1.1016\n",
      "Epoch 29/80\n",
      "\u001b[1m63/63\u001b[0m \u001b[32m━━━━━━━━━━━━━━━━━━━━\u001b[0m\u001b[37m\u001b[0m \u001b[1m1s\u001b[0m 8ms/step - accuracy: 0.6491 - loss: 1.0768 - val_accuracy: 0.6486 - val_loss: 1.1128\n",
      "Epoch 30/80\n",
      "\u001b[1m63/63\u001b[0m \u001b[32m━━━━━━━━━━━━━━━━━━━━\u001b[0m\u001b[37m\u001b[0m \u001b[1m1s\u001b[0m 8ms/step - accuracy: 0.6415 - loss: 1.0889 - val_accuracy: 0.6443 - val_loss: 1.1299\n",
      "Epoch 31/80\n",
      "\u001b[1m63/63\u001b[0m \u001b[32m━━━━━━━━━━━━━━━━━━━━\u001b[0m\u001b[37m\u001b[0m \u001b[1m1s\u001b[0m 8ms/step - accuracy: 0.6313 - loss: 1.0804 - val_accuracy: 0.6486 - val_loss: 1.1087\n",
      "Epoch 32/80\n",
      "\u001b[1m63/63\u001b[0m \u001b[32m━━━━━━━━━━━━━━━━━━━━\u001b[0m\u001b[37m\u001b[0m \u001b[1m1s\u001b[0m 8ms/step - accuracy: 0.6463 - loss: 1.0511 - val_accuracy: 0.6471 - val_loss: 1.0885\n",
      "Epoch 33/80\n",
      "\u001b[1m63/63\u001b[0m \u001b[32m━━━━━━━━━━━━━━━━━━━━\u001b[0m\u001b[37m\u001b[0m \u001b[1m1s\u001b[0m 8ms/step - accuracy: 0.6414 - loss: 1.0529 - val_accuracy: 0.6614 - val_loss: 1.0703\n",
      "Epoch 34/80\n",
      "\u001b[1m63/63\u001b[0m \u001b[32m━━━━━━━━━━━━━━━━━━━━\u001b[0m\u001b[37m\u001b[0m \u001b[1m1s\u001b[0m 8ms/step - accuracy: 0.6550 - loss: 1.0115 - val_accuracy: 0.6471 - val_loss: 1.0624\n",
      "Epoch 35/80\n",
      "\u001b[1m63/63\u001b[0m \u001b[32m━━━━━━━━━━━━━━━━━━━━\u001b[0m\u001b[37m\u001b[0m \u001b[1m1s\u001b[0m 8ms/step - accuracy: 0.6445 - loss: 1.0167 - val_accuracy: 0.6343 - val_loss: 1.0985\n",
      "Epoch 36/80\n",
      "\u001b[1m63/63\u001b[0m \u001b[32m━━━━━━━━━━━━━━━━━━━━\u001b[0m\u001b[37m\u001b[0m \u001b[1m1s\u001b[0m 8ms/step - accuracy: 0.6480 - loss: 1.0072 - val_accuracy: 0.6529 - val_loss: 1.0455\n",
      "Epoch 37/80\n",
      "\u001b[1m63/63\u001b[0m \u001b[32m━━━━━━━━━━━━━━━━━━━━\u001b[0m\u001b[37m\u001b[0m \u001b[1m1s\u001b[0m 8ms/step - accuracy: 0.6362 - loss: 1.0076 - val_accuracy: 0.6529 - val_loss: 1.0525\n",
      "Epoch 38/80\n",
      "\u001b[1m63/63\u001b[0m \u001b[32m━━━━━━━━━━━━━━━━━━━━\u001b[0m\u001b[37m\u001b[0m \u001b[1m1s\u001b[0m 8ms/step - accuracy: 0.6494 - loss: 1.0107 - val_accuracy: 0.6386 - val_loss: 1.0473\n",
      "Epoch 39/80\n",
      "\u001b[1m63/63\u001b[0m \u001b[32m━━━━━━━━━━━━━━━━━━━━\u001b[0m\u001b[37m\u001b[0m \u001b[1m1s\u001b[0m 8ms/step - accuracy: 0.6380 - loss: 1.0064 - val_accuracy: 0.6400 - val_loss: 1.0382\n",
      "Epoch 40/80\n",
      "\u001b[1m63/63\u001b[0m \u001b[32m━━━━━━━━━━━━━━━━━━━━\u001b[0m\u001b[37m\u001b[0m \u001b[1m1s\u001b[0m 8ms/step - accuracy: 0.6467 - loss: 0.9782 - val_accuracy: 0.6514 - val_loss: 1.0291\n",
      "Epoch 41/80\n",
      "\u001b[1m63/63\u001b[0m \u001b[32m━━━━━━━━━━━━━━━━━━━━\u001b[0m\u001b[37m\u001b[0m \u001b[1m1s\u001b[0m 8ms/step - accuracy: 0.6384 - loss: 0.9992 - val_accuracy: 0.6443 - val_loss: 1.0481\n",
      "Epoch 42/80\n",
      "\u001b[1m63/63\u001b[0m \u001b[32m━━━━━━━━━━━━━━━━━━━━\u001b[0m\u001b[37m\u001b[0m \u001b[1m1s\u001b[0m 8ms/step - accuracy: 0.6427 - loss: 0.9847 - val_accuracy: 0.6443 - val_loss: 1.0448\n",
      "Epoch 43/80\n",
      "\u001b[1m63/63\u001b[0m \u001b[32m━━━━━━━━━━━━━━━━━━━━\u001b[0m\u001b[37m\u001b[0m \u001b[1m1s\u001b[0m 8ms/step - accuracy: 0.6532 - loss: 0.9626 - val_accuracy: 0.6486 - val_loss: 1.0306\n",
      "Epoch 44/80\n",
      "\u001b[1m63/63\u001b[0m \u001b[32m━━━━━━━━━━━━━━━━━━━━\u001b[0m\u001b[37m\u001b[0m \u001b[1m1s\u001b[0m 8ms/step - accuracy: 0.6521 - loss: 0.9661 - val_accuracy: 0.6529 - val_loss: 1.0388\n",
      "Epoch 45/80\n",
      "\u001b[1m63/63\u001b[0m \u001b[32m━━━━━━━━━━━━━━━━━━━━\u001b[0m\u001b[37m\u001b[0m \u001b[1m1s\u001b[0m 8ms/step - accuracy: 0.6526 - loss: 0.9712 - val_accuracy: 0.6500 - val_loss: 1.0419\n",
      "Epoch 46/80\n",
      "\u001b[1m63/63\u001b[0m \u001b[32m━━━━━━━━━━━━━━━━━━━━\u001b[0m\u001b[37m\u001b[0m \u001b[1m1s\u001b[0m 8ms/step - accuracy: 0.6496 - loss: 0.9790 - val_accuracy: 0.6486 - val_loss: 1.0455\n",
      "Epoch 47/80\n",
      "\u001b[1m63/63\u001b[0m \u001b[32m━━━━━━━━━━━━━━━━━━━━\u001b[0m\u001b[37m\u001b[0m \u001b[1m1s\u001b[0m 8ms/step - accuracy: 0.6527 - loss: 0.9810 - val_accuracy: 0.6500 - val_loss: 1.0330\n",
      "Epoch 48/80\n",
      "\u001b[1m63/63\u001b[0m \u001b[32m━━━━━━━━━━━━━━━━━━━━\u001b[0m\u001b[37m\u001b[0m \u001b[1m1s\u001b[0m 8ms/step - accuracy: 0.6573 - loss: 0.9717 - val_accuracy: 0.6457 - val_loss: 1.0289\n",
      "Epoch 49/80\n",
      "\u001b[1m63/63\u001b[0m \u001b[32m━━━━━━━━━━━━━━━━━━━━\u001b[0m\u001b[37m\u001b[0m \u001b[1m1s\u001b[0m 8ms/step - accuracy: 0.6544 - loss: 0.9655 - val_accuracy: 0.6429 - val_loss: 1.0288\n",
      "Epoch 50/80\n",
      "\u001b[1m63/63\u001b[0m \u001b[32m━━━━━━━━━━━━━━━━━━━━\u001b[0m\u001b[37m\u001b[0m \u001b[1m1s\u001b[0m 8ms/step - accuracy: 0.6516 - loss: 0.9715 - val_accuracy: 0.6529 - val_loss: 1.0301\n",
      "Epoch 51/80\n",
      "\u001b[1m63/63\u001b[0m \u001b[32m━━━━━━━━━━━━━━━━━━━━\u001b[0m\u001b[37m\u001b[0m \u001b[1m1s\u001b[0m 8ms/step - accuracy: 0.6582 - loss: 0.9487 - val_accuracy: 0.6243 - val_loss: 1.0593\n",
      "Epoch 52/80\n",
      "\u001b[1m63/63\u001b[0m \u001b[32m━━━━━━━━━━━━━━━━━━━━\u001b[0m\u001b[37m\u001b[0m \u001b[1m1s\u001b[0m 8ms/step - accuracy: 0.6524 - loss: 0.9748 - val_accuracy: 0.6543 - val_loss: 1.0265\n",
      "Epoch 53/80\n",
      "\u001b[1m63/63\u001b[0m \u001b[32m━━━━━━━━━━━━━━━━━━━━\u001b[0m\u001b[37m\u001b[0m \u001b[1m1s\u001b[0m 8ms/step - accuracy: 0.6538 - loss: 0.9569 - val_accuracy: 0.6343 - val_loss: 1.0408\n",
      "Epoch 54/80\n",
      "\u001b[1m63/63\u001b[0m \u001b[32m━━━━━━━━━━━━━━━━━━━━\u001b[0m\u001b[37m\u001b[0m \u001b[1m1s\u001b[0m 8ms/step - accuracy: 0.6440 - loss: 0.9788 - val_accuracy: 0.6514 - val_loss: 1.0450\n",
      "Epoch 55/80\n",
      "\u001b[1m63/63\u001b[0m \u001b[32m━━━━━━━━━━━━━━━━━━━━\u001b[0m\u001b[37m\u001b[0m \u001b[1m1s\u001b[0m 8ms/step - accuracy: 0.6462 - loss: 0.9754 - val_accuracy: 0.6514 - val_loss: 1.0272\n",
      "Epoch 56/80\n",
      "\u001b[1m63/63\u001b[0m \u001b[32m━━━━━━━━━━━━━━━━━━━━\u001b[0m\u001b[37m\u001b[0m \u001b[1m1s\u001b[0m 8ms/step - accuracy: 0.6538 - loss: 0.9645 - val_accuracy: 0.6443 - val_loss: 1.0289\n",
      "Epoch 57/80\n",
      "\u001b[1m63/63\u001b[0m \u001b[32m━━━━━━━━━━━━━━━━━━━━\u001b[0m\u001b[37m\u001b[0m \u001b[1m1s\u001b[0m 8ms/step - accuracy: 0.6469 - loss: 0.9736 - val_accuracy: 0.6500 - val_loss: 1.0322\n",
      "Epoch 58/80\n",
      "\u001b[1m63/63\u001b[0m \u001b[32m━━━━━━━━━━━━━━━━━━━━\u001b[0m\u001b[37m\u001b[0m \u001b[1m1s\u001b[0m 8ms/step - accuracy: 0.6503 - loss: 0.9621 - val_accuracy: 0.6529 - val_loss: 1.0276\n",
      "Epoch 59/80\n",
      "\u001b[1m63/63\u001b[0m \u001b[32m━━━━━━━━━━━━━━━━━━━━\u001b[0m\u001b[37m\u001b[0m \u001b[1m1s\u001b[0m 8ms/step - accuracy: 0.6504 - loss: 0.9603 - val_accuracy: 0.6457 - val_loss: 1.0373\n",
      "Epoch 60/80\n",
      "\u001b[1m63/63\u001b[0m \u001b[32m━━━━━━━━━━━━━━━━━━━━\u001b[0m\u001b[37m\u001b[0m \u001b[1m1s\u001b[0m 8ms/step - accuracy: 0.6461 - loss: 0.9608 - val_accuracy: 0.6443 - val_loss: 1.0461\n",
      "Epoch 61/80\n",
      "\u001b[1m63/63\u001b[0m \u001b[32m━━━━━━━━━━━━━━━━━━━━\u001b[0m\u001b[37m\u001b[0m \u001b[1m1s\u001b[0m 8ms/step - accuracy: 0.6528 - loss: 0.9609 - val_accuracy: 0.6414 - val_loss: 1.0286\n",
      "Epoch 62/80\n",
      "\u001b[1m63/63\u001b[0m \u001b[32m━━━━━━━━━━━━━━━━━━━━\u001b[0m\u001b[37m\u001b[0m \u001b[1m1s\u001b[0m 9ms/step - accuracy: 0.6590 - loss: 0.9436 - val_accuracy: 0.6414 - val_loss: 1.0300\n",
      "Epoch 63/80\n",
      "\u001b[1m63/63\u001b[0m \u001b[32m━━━━━━━━━━━━━━━━━━━━\u001b[0m\u001b[37m\u001b[0m \u001b[1m1s\u001b[0m 8ms/step - accuracy: 0.6504 - loss: 0.9643 - val_accuracy: 0.6329 - val_loss: 1.0347\n",
      "Epoch 64/80\n",
      "\u001b[1m63/63\u001b[0m \u001b[32m━━━━━━━━━━━━━━━━━━━━\u001b[0m\u001b[37m\u001b[0m \u001b[1m1s\u001b[0m 8ms/step - accuracy: 0.6600 - loss: 0.9437 - val_accuracy: 0.6386 - val_loss: 1.0505\n",
      "Epoch 65/80\n",
      "\u001b[1m63/63\u001b[0m \u001b[32m━━━━━━━━━━━━━━━━━━━━\u001b[0m\u001b[37m\u001b[0m \u001b[1m1s\u001b[0m 8ms/step - accuracy: 0.6413 - loss: 0.9831 - val_accuracy: 0.6571 - val_loss: 1.0402\n",
      "Epoch 66/80\n",
      "\u001b[1m63/63\u001b[0m \u001b[32m━━━━━━━━━━━━━━━━━━━━\u001b[0m\u001b[37m\u001b[0m \u001b[1m1s\u001b[0m 8ms/step - accuracy: 0.6369 - loss: 0.9808 - val_accuracy: 0.6543 - val_loss: 1.0496\n",
      "Epoch 67/80\n",
      "\u001b[1m63/63\u001b[0m \u001b[32m━━━━━━━━━━━━━━━━━━━━\u001b[0m\u001b[37m\u001b[0m \u001b[1m1s\u001b[0m 8ms/step - accuracy: 0.6442 - loss: 0.9778 - val_accuracy: 0.6443 - val_loss: 1.0367\n",
      "Epoch 68/80\n",
      "\u001b[1m63/63\u001b[0m \u001b[32m━━━━━━━━━━━━━━━━━━━━\u001b[0m\u001b[37m\u001b[0m \u001b[1m1s\u001b[0m 8ms/step - accuracy: 0.6554 - loss: 0.9571 - val_accuracy: 0.6543 - val_loss: 1.0404\n",
      "Epoch 69/80\n",
      "\u001b[1m63/63\u001b[0m \u001b[32m━━━━━━━━━━━━━━━━━━━━\u001b[0m\u001b[37m\u001b[0m \u001b[1m1s\u001b[0m 8ms/step - accuracy: 0.6531 - loss: 0.9567 - val_accuracy: 0.6400 - val_loss: 1.0434\n",
      "Epoch 70/80\n",
      "\u001b[1m63/63\u001b[0m \u001b[32m━━━━━━━━━━━━━━━━━━━━\u001b[0m\u001b[37m\u001b[0m \u001b[1m1s\u001b[0m 8ms/step - accuracy: 0.6471 - loss: 0.9592 - val_accuracy: 0.6071 - val_loss: 1.0391\n",
      "Epoch 71/80\n",
      "\u001b[1m63/63\u001b[0m \u001b[32m━━━━━━━━━━━━━━━━━━━━\u001b[0m\u001b[37m\u001b[0m \u001b[1m1s\u001b[0m 8ms/step - accuracy: 0.6572 - loss: 0.9585 - val_accuracy: 0.6457 - val_loss: 1.0409\n",
      "Epoch 72/80\n",
      "\u001b[1m63/63\u001b[0m \u001b[32m━━━━━━━━━━━━━━━━━━━━\u001b[0m\u001b[37m\u001b[0m \u001b[1m1s\u001b[0m 8ms/step - accuracy: 0.6541 - loss: 0.9717 - val_accuracy: 0.6500 - val_loss: 1.0372\n",
      "Epoch 73/80\n",
      "\u001b[1m63/63\u001b[0m \u001b[32m━━━━━━━━━━━━━━━━━━━━\u001b[0m\u001b[37m\u001b[0m \u001b[1m1s\u001b[0m 8ms/step - accuracy: 0.6581 - loss: 0.9649 - val_accuracy: 0.6271 - val_loss: 1.0549\n",
      "Epoch 74/80\n",
      "\u001b[1m63/63\u001b[0m \u001b[32m━━━━━━━━━━━━━━━━━━━━\u001b[0m\u001b[37m\u001b[0m \u001b[1m1s\u001b[0m 8ms/step - accuracy: 0.6455 - loss: 0.9458 - val_accuracy: 0.6471 - val_loss: 1.0471\n",
      "Epoch 75/80\n",
      "\u001b[1m63/63\u001b[0m \u001b[32m━━━━━━━━━━━━━━━━━━━━\u001b[0m\u001b[37m\u001b[0m \u001b[1m1s\u001b[0m 8ms/step - accuracy: 0.6619 - loss: 0.9426 - val_accuracy: 0.6186 - val_loss: 1.0472\n",
      "Epoch 76/80\n",
      "\u001b[1m63/63\u001b[0m \u001b[32m━━━━━━━━━━━━━━━━━━━━\u001b[0m\u001b[37m\u001b[0m \u001b[1m1s\u001b[0m 8ms/step - accuracy: 0.6520 - loss: 0.9557 - val_accuracy: 0.6371 - val_loss: 1.0489\n",
      "Epoch 77/80\n",
      "\u001b[1m63/63\u001b[0m \u001b[32m━━━━━━━━━━━━━━━━━━━━\u001b[0m\u001b[37m\u001b[0m \u001b[1m1s\u001b[0m 8ms/step - accuracy: 0.6470 - loss: 0.9569 - val_accuracy: 0.6643 - val_loss: 1.0395\n",
      "Epoch 78/80\n",
      "\u001b[1m63/63\u001b[0m \u001b[32m━━━━━━━━━━━━━━━━━━━━\u001b[0m\u001b[37m\u001b[0m \u001b[1m1s\u001b[0m 8ms/step - accuracy: 0.6528 - loss: 0.9651 - val_accuracy: 0.6357 - val_loss: 1.0472\n",
      "Epoch 79/80\n",
      "\u001b[1m63/63\u001b[0m \u001b[32m━━━━━━━━━━━━━━━━━━━━\u001b[0m\u001b[37m\u001b[0m \u001b[1m1s\u001b[0m 9ms/step - accuracy: 0.6558 - loss: 0.9352 - val_accuracy: 0.6529 - val_loss: 1.0484\n",
      "Epoch 80/80\n",
      "\u001b[1m63/63\u001b[0m \u001b[32m━━━━━━━━━━━━━━━━━━━━\u001b[0m\u001b[37m\u001b[0m \u001b[1m1s\u001b[0m 8ms/step - accuracy: 0.6598 - loss: 0.9624 - val_accuracy: 0.5986 - val_loss: 1.0646\n",
      "\u001b[1m94/94\u001b[0m \u001b[32m━━━━━━━━━━━━━━━━━━━━\u001b[0m\u001b[37m\u001b[0m \u001b[1m1s\u001b[0m 4ms/step - accuracy: 0.5883 - loss: 1.1245\n",
      "Test loss: 1.11\n",
      "Test accuracy: 0.584\n"
     ]
    },
    {
     "data": {
      "image/png": "[encoded data removed]",
      "text/plain": [
       "<Figure size 640x480 with 1 Axes>"
      ]
     },
     "metadata": {},
     "output_type": "display_data"
    },
    {
     "data": {
      "image/png": "[encoded data removed]",
      "text/plain": [
       "<Figure size 640x480 with 1 Axes>"
      ]
     },
     "metadata": {},
     "output_type": "display_data"
    }
   ],
   "source": [
    "\n",
    "# Make a fully connected network\n",
    "model = models.Sequential()\n",
    "\n",
    "# Create the hidden layer with sigmoid activations\n",
    "# to stop the model from overfitting add L1 regularization to the weights of the dense layers\n",
    "model.add(layers.Dense(units=100, kernel_regularizer=regularizers.L1(0.001),\n",
    "                     activation='relu', input_shape=(X_train.shape[1],)))\n",
    "\n",
    "# add batch normalization after the dense layer to find the most optimal normalization for the data\n",
    "model.add(layers.BatchNormalization())\n",
    "\n",
    "# To further avoid overfitting add a dropout layer before the dense layers\n",
    "model.add(layers.Dropout(rate=0.4))\n",
    "model.add(layers.Dense(units=200, kernel_regularizer=regularizers.L1(0.001),\n",
    "                     activation='relu'))\n",
    "\n",
    "model.add(layers.BatchNormalization())\n",
    "model.add(layers.Dropout(rate=0.2))\n",
    "model.add(layers.Dense(units=200, kernel_regularizer=regularizers.L1(0.001),\n",
    "                     activation='relu'))\n",
    "model.add(layers.BatchNormalization())\n",
    "\n",
    "model.add(layers.Dense(units=5, activation='softmax'))\n",
    "\n",
    "# Compile the network with the appropriate loss function and keep track of accuracy\n",
    "model.compile(loss='categorical_crossentropy', metrics=['accuracy'])\n",
    "\n",
    "# Train model\n",
    "history = model.fit(X_train, y_train, batch_size=100, epochs=80, validation_split=.1)\n",
    "\n",
    "# See how the model scored\n",
    "loss, accuracy  = model.evaluate(X_test, y_test)\n",
    "\n",
    "print(f'Test loss: {loss:.3}')\n",
    "print(f'Test accuracy: {accuracy:.3}')\n",
    "\n",
    "# Plot training & validation loss\n",
    "plt.plot(history.history['loss'], label='Training Loss')\n",
    "plt.plot(history.history['val_loss'], label='Validation Loss')\n",
    "plt.title('Training vs Validation Loss')\n",
    "plt.xlabel('Epoch')\n",
    "plt.ylabel('Loss')\n",
    "plt.legend()\n",
    "plt.grid(True)\n",
    "plt.show()\n",
    "\n",
    "\n",
    "# Plot training and validation accuracy\n",
    "plt.plot(history.history['accuracy'], label='Training Accuracy')\n",
    "plt.plot(history.history['val_accuracy'], label='Validation Accuracy')\n",
    "plt.title('Training vs Validation Accuracy')\n",
    "plt.xlabel('Epoch')\n",
    "plt.ylabel('Accuracy')\n",
    "plt.legend()\n",
    "plt.grid(True)\n",
    "plt.show()"
   ]
  },
  {
   "cell_type": "markdown",
   "id": "ecfa9df5",
   "metadata": {},
   "source": [
    "##### Create a heat map \n",
    "\n",
    "The last step of this project will be creating a heat map to see how predicted classes compared to the real classes"
   ]
  },
  {
   "cell_type": "code",
   "execution_count": 16,
   "id": "64e010f4",
   "metadata": {},
   "outputs": [
    {
     "name": "stdout",
     "output_type": "stream",
     "text": [
      "\u001b[1m94/94\u001b[0m \u001b[32m━━━━━━━━━━━━━━━━━━━━\u001b[0m\u001b[37m\u001b[0m \u001b[1m1s\u001b[0m 4ms/step\n"
     ]
    },
    {
     "data": {
      "image/png": "[encoded data removed]",
      "text/plain": [
       "<Figure size 800x600 with 2 Axes>"
      ]
     },
     "metadata": {},
     "output_type": "display_data"
    }
   ],
   "source": [
    "\n",
    "# Convert one-hot encoded y_test to class labels\n",
    "y_true = tf.argmax(y_test, axis=1).numpy()\n",
    "\n",
    "# Get predictions from the model and convert to class labels\n",
    "y_pred_probs = model.predict(X_test)\n",
    "y_pred = tf.argmax(y_pred_probs, axis=1).numpy()\n",
    "\n",
    "# reassign class names\n",
    "classes = [\"fatal\", \"other injury\", \"pain\", \"property damamge only\", \"severe injury\"]\n",
    "\n",
    "# Compute the confusion matrix\n",
    "conf_matrix = confusion_matrix(y_true, y_pred)\n",
    "\n",
    "# Plot the heatmap\n",
    "plt.figure(figsize=(8, 6))\n",
    "ax = sns.heatmap(conf_matrix, annot=True, fmt='d', cmap='Blues', \n",
    "                 xticklabels=classes, yticklabels=classes)\n",
    "ax.set_xlabel('Predicted Class')\n",
    "ax.set_ylabel('Actual Class')\n",
    "ax.set_title('Confusion Matrix')\n",
    "plt.tight_layout()\n",
    "plt.show()\n",
    "\n"
   ]
  },
  {
   "cell_type": "markdown",
   "id": "23cd9c00",
   "metadata": {},
   "source": [
    "# Conclusion\n",
    "\n",
    "The final model achieved a validation accuracy of approximately 64%. While the addition of regularization effectively reduced overfitting, increasing the model's complexity did not lead to improvements in validation performance. The low validation accuracy could be due to mutliple reasons. Firstly, this suggests that the features used to predict collision severity may not have been sufficiently informative to accurately distinguish between all severity classes. Secondly, the dataset exhibited class imbalance, with \"property damage only\" being the most frequently occurring category, and fatality being the least occuring. This imbalance is reflected in the model’s predictions, as the \"property damage only\" class was predicted with the highest accuracy, but was also the most predicted class generally. Furthermore, fatality was the class with the least predictions overall."
   ]
  }
 ],
 "metadata": {
  "kernelspec": {
   "display_name": "SP",
   "language": "python",
   "name": "python3"
  },
  "language_info": {
   "codemirror_mode": {
    "name": "ipython",
    "version": 3
   },
   "file_extension": ".py",
   "mimetype": "text/x-python",
   "name": "python",
   "nbconvert_exporter": "python",
   "pygments_lexer": "ipython3",
   "version": "3.11.9"
  }
 },
 "nbformat": 4,
 "nbformat_minor": 5
}
